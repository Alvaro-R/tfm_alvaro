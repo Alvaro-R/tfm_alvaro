{
 "cells": [
  {
   "cell_type": "code",
   "execution_count": 1,
   "id": "5f4bed29",
   "metadata": {},
   "outputs": [
    {
     "name": "stderr",
     "output_type": "stream",
     "text": [
      "/var/folders/3s/vv1d0lmn7g134m4psncn2_q80000gn/T/ipykernel_13447/1023205354.py:20: DeprecationWarning: `set_matplotlib_formats` is deprecated since IPython 7.23, directly use `matplotlib_inline.backend_inline.set_matplotlib_formats()`\n",
      "  set_matplotlib_formats(fig_format)\n"
     ]
    },
    {
     "name": "stdout",
     "output_type": "stream",
     "text": [
      "{\"/Users/alvaroromangomez/.pyenv/versions/3.10.10/Library/Frameworks/Python.framework/Versions/3.10/lib/python3.10/importlib/_bootstrap.py\": 1685228246.3990028, \"/Users/alvaroromangomez/.pyenv/versions/3.10.10/Library/Frameworks/Python.framework/Versions/3.10/lib/python3.10/importlib/_bootstrap_external.py\": 1685228246.4039905, \"/Users/alvaroromangomez/.pyenv/versions/3.10.10/Library/Frameworks/Python.framework/Versions/3.10/lib/python3.10/codecs.py\": 1685228243.6488864, \"/Users/alvaroromangomez/.pyenv/versions/3.10.10/Library/Frameworks/Python.framework/Versions/3.10/lib/python3.10/encodings/aliases.py\": 1685228245.1487875, \"/Users/alvaroromangomez/.pyenv/versions/3.10.10/Library/Frameworks/Python.framework/Versions/3.10/lib/python3.10/encodings/__init__.py\": 1685228245.143839, \"/Users/alvaroromangomez/.pyenv/versions/3.10.10/Library/Frameworks/Python.framework/Versions/3.10/lib/python3.10/encodings/utf_8.py\": 1685228245.728661, \"/Users/alvaroromangomez/.pyenv/versions/3.10.10/Library/Frameworks/Python.framework/Versions/3.10/lib/python3.10/abc.py\": 1685228243.5542626, \"/Users/alvaroromangomez/.pyenv/versions/3.10.10/Library/Frameworks/Python.framework/Versions/3.10/lib/python3.10/io.py\": 1685228243.8463633, \"/Users/alvaroromangomez/.pyenv/versions/3.10.10/Library/Frameworks/Python.framework/Versions/3.10/lib/python3.10/stat.py\": 1685228244.1670334, \"/Users/alvaroromangomez/.pyenv/versions/3.10.10/Library/Frameworks/Python.framework/Versions/3.10/lib/python3.10/_collections_abc.py\": 1685228243.49718, \"/Users/alvaroromangomez/.pyenv/versions/3.10.10/Library/Frameworks/Python.framework/Versions/3.10/lib/python3.10/genericpath.py\": 1685228243.7768524, \"/Users/alvaroromangomez/.pyenv/versions/3.10.10/Library/Frameworks/Python.framework/Versions/3.10/lib/python3.10/posixpath.py\": 1685228244.0123796, \"/Users/alvaroromangomez/.pyenv/versions/3.10.10/Library/Frameworks/Python.framework/Versions/3.10/lib/python3.10/os.py\": 1685228243.9533803, \"/Users/alvaroromangomez/.pyenv/versions/3.10.10/Library/Frameworks/Python.framework/Versions/3.10/lib/python3.10/_sitebuiltins.py\": 1685228243.5349329, \"/Users/alvaroromangomez/.local/share/virtualenvs/tfm_alvaro-vnpVahGc/lib/python3.10/site-packages/_virtualenv.py\": 1685260664.9879127, \"/Users/alvaroromangomez/.local/share/virtualenvs/tfm_alvaro-vnpVahGc/lib/python3.10/site-packages/_distutils_hack/__init__.py\": 1685261852.963037, \"/Users/alvaroromangomez/.pyenv/versions/3.10.10/Library/Frameworks/Python.framework/Versions/3.10/lib/python3.10/types.py\": 1685228244.2831256, \"/Users/alvaroromangomez/.pyenv/versions/3.10.10/Library/Frameworks/Python.framework/Versions/3.10/lib/python3.10/warnings.py\": 1685228244.3019352, \"/Users/alvaroromangomez/.pyenv/versions/3.10.10/Library/Frameworks/Python.framework/Versions/3.10/lib/python3.10/importlib/__init__.py\": 1685228246.3840797, \"/Users/alvaroromangomez/.pyenv/versions/3.10.10/Library/Frameworks/Python.framework/Versions/3.10/lib/python3.10/importlib/_abc.py\": 1685228246.388961, \"/Users/alvaroromangomez/.pyenv/versions/3.10.10/Library/Frameworks/Python.framework/Versions/3.10/lib/python3.10/keyword.py\": 1685228243.856984, \"/Users/alvaroromangomez/.pyenv/versions/3.10.10/Library/Frameworks/Python.framework/Versions/3.10/lib/python3.10/operator.py\": 1685228243.9424443, \"/Users/alvaroromangomez/.pyenv/versions/3.10.10/Library/Frameworks/Python.framework/Versions/3.10/lib/python3.10/reprlib.py\": 1685228244.0754561, \"/Users/alvaroromangomez/.pyenv/versions/3.10.10/Library/Frameworks/Python.framework/Versions/3.10/lib/python3.10/collections/__init__.py\": 1685228244.5151427, \"/Users/alvaroromangomez/.pyenv/versions/3.10.10/Library/Frameworks/Python.framework/Versions/3.10/lib/python3.10/functools.py\": 1685228243.7707174, \"/Users/alvaroromangomez/.pyenv/versions/3.10.10/Library/Frameworks/Python.framework/Versions/3.10/lib/python3.10/contextlib.py\": 1685228243.676149, \"/Users/alvaroromangomez/.pyenv/versions/3.10.10/Library/Frameworks/Python.framework/Versions/3.10/lib/python3.10/importlib/util.py\": 1685228246.4329362, \"/Users/alvaroromangomez/.pyenv/versions/3.10.10/Library/Frameworks/Python.framework/Versions/3.10/lib/python3.10/importlib/machinery.py\": 1685228246.418556, \"/Users/alvaroromangomez/.pyenv/versions/3.10.10/Library/Frameworks/Python.framework/Versions/3.10/lib/python3.10/site.py\": 1685228244.122583, \"/Users/alvaroromangomez/.pyenv/versions/3.10.10/Library/Frameworks/Python.framework/Versions/3.10/lib/python3.10/runpy.py\": 1685228244.0849493, \"/Users/alvaroromangomez/.pyenv/versions/3.10.10/Library/Frameworks/Python.framework/Versions/3.10/lib/python3.10/enum.py\": 1685228243.7408607, \"/Users/alvaroromangomez/.pyenv/versions/3.10.10/Library/Frameworks/Python.framework/Versions/3.10/lib/python3.10/sre_constants.py\": 1685228244.1541498, \"/Users/alvaroromangomez/.pyenv/versions/3.10.10/Library/Frameworks/Python.framework/Versions/3.10/lib/python3.10/sre_parse.py\": 1685228244.1583729, \"/Users/alvaroromangomez/.pyenv/versions/3.10.10/Library/Frameworks/Python.framework/Versions/3.10/lib/python3.10/sre_compile.py\": 1685228244.14994, \"/Users/alvaroromangomez/.pyenv/versions/3.10.10/Library/Frameworks/Python.framework/Versions/3.10/lib/python3.10/copyreg.py\": 1685228243.6941714, \"/Users/alvaroromangomez/.pyenv/versions/3.10.10/Library/Frameworks/Python.framework/Versions/3.10/lib/python3.10/re.py\": 1685228244.0707934, \"/Users/alvaroromangomez/.pyenv/versions/3.10.10/Library/Frameworks/Python.framework/Versions/3.10/lib/python3.10/collections/abc.py\": 1685228244.519908, \"/Users/alvaroromangomez/.pyenv/versions/3.10.10/Library/Frameworks/Python.framework/Versions/3.10/lib/python3.10/typing.py\": 1685228244.2879562, \"/Users/alvaroromangomez/.local/share/virtualenvs/tfm_alvaro-vnpVahGc/lib/python3.10/site-packages/ipykernel/_version.py\": 1685260770.8584847, \"/Users/alvaroromangomez/.pyenv/versions/3.10.10/lib/python3.10/lib-dynload/_json.cpython-310-darwin.so\": 1685228206.0, \"/Users/alvaroromangomez/.pyenv/versions/3.10.10/Library/Frameworks/Python.framework/Versions/3.10/lib/python3.10/json/scanner.py\": 1685228246.5032218, \"/Users/alvaroromangomez/.pyenv/versions/3.10.10/Library/Frameworks/Python.framework/Versions/3.10/lib/python3.10/json/decoder.py\": 1685228246.4936938, \"/Users/alvaroromangomez/.pyenv/versions/3.10.10/Library/Frameworks/Python.framework/Versions/3.10/lib/python3.10/json/encoder.py\": 1685228246.4985707, \"/Users/alvaroromangomez/.pyenv/versions/3.10.10/Library/Frameworks/Python.framework/Versions/3.10/lib/python3.10/json/__init__.py\": 1685228246.4887588, \"/Users/alvaroromangomez/.pyenv/versions/3.10.10/Library/Frameworks/Python.framework/Versions/3.10/lib/python3.10/signal.py\": 1685228244.1180258, \"/Users/alvaroromangomez/.pyenv/versions/3.10.10/Library/Frameworks/Python.framework/Versions/3.10/lib/python3.10/_weakrefset.py\": 1685228243.5495439, \"/Users/alvaroromangomez/.pyenv/versions/3.10.10/Library/Frameworks/Python.framework/Versions/3.10/lib/python3.10/threading.py\": 1685228244.2393703, \"/Users/alvaroromangomez/.pyenv/versions/3.10.10/lib/python3.10/lib-dynload/fcntl.cpython-310-darwin.so\": 1685228205.0, \"/Users/alvaroromangomez/.pyenv/versions/3.10.10/lib/python3.10/lib-dynload/_posixsubprocess.cpython-310-darwin.so\": 1685228206.0, \"/Users/alvaroromangomez/.pyenv/versions/3.10.10/lib/python3.10/lib-dynload/select.cpython-310-darwin.so\": 1685228206.0, \"/Users/alvaroromangomez/.pyenv/versions/3.10.10/lib/python3.10/lib-dynload/math.cpython-310-darwin.so\": 1685228205.0, \"/Users/alvaroromangomez/.pyenv/versions/3.10.10/Library/Frameworks/Python.framework/Versions/3.10/lib/python3.10/selectors.py\": 1685228244.0993192, \"/Users/alvaroromangomez/.pyenv/versions/3.10.10/Library/Frameworks/Python.framework/Versions/3.10/lib/python3.10/subprocess.py\": 1685228244.1902127, \"/Users/alvaroromangomez/.local/share/virtualenvs/tfm_alvaro-vnpVahGc/lib/python3.10/site-packages/jupyter_client/_version.py\": 1685260769.937965, \"/Users/alvaroromangomez/.pyenv/versions/3.10.10/Library/Frameworks/Python.framework/Versions/3.10/lib/python3.10/platform.py\": 1685228243.9948845, \"/Users/alvaroromangomez/.pyenv/versions/3.10.10/lib/python3.10/lib-dynload/_ctypes.cpython-310-darwin.so\": 1685228218.0, \"/Users/alvaroromangomez/.pyenv/versions/3.10.10/lib/python3.10/lib-dynload/_struct.cpython-310-darwin.so\": 1685228205.0, \"/Users/alvaroromangomez/.pyenv/versions/3.10.10/Library/Frameworks/Python.framework/Versions/3.10/lib/python3.10/struct.py\": 1685228244.1853526, \"/Users/alvaroromangomez/.pyenv/versions/3.10.10/Library/Frameworks/Python.framework/Versions/3.10/lib/python3.10/ctypes/_endian.py\": 1685228244.5806632, \"/Users/alvaroromangomez/.pyenv/versions/3.10.10/Library/Frameworks/Python.framework/Versions/3.10/lib/python3.10/ctypes/__init__.py\": 1685228244.5712116, \"/Users/alvaroromangomez/.local/share/virtualenvs/tfm_alvaro-vnpVahGc/lib/python3.10/site-packages/zmq/backend/select.py\": 1685260765.2614508, \"/Users/alvaroromangomez/.local/share/virtualenvs/tfm_alvaro-vnpVahGc/lib/python3.10/site-packages/zmq/error.py\": 1685260765.222245, \"/Users/alvaroromangomez/.local/share/virtualenvs/tfm_alvaro-vnpVahGc/lib/python3.10/site-packages/zmq/backend/cython/context.cpython-310-darwin.so\": 1685260765.2830145, \"/Users/alvaroromangomez/.pyenv/versions/3.10.10/Library/Frameworks/Python.framework/Versions/3.10/lib/python3.10/weakref.py\": 1685228244.3120637, \"/Users/alvaroromangomez/.local/share/virtualenvs/tfm_alvaro-vnpVahGc/lib/python3.10/site-packages/zmq/backend/cython/message.cpython-310-darwin.so\": 1685260765.27486, \"/Users/alvaroromangomez/.pyenv/versions/3.10.10/Library/Frameworks/Python.framework/Versions/3.10/lib/python3.10/copy.py\": 1685228243.6884272, \"/Users/alvaroromangomez/.pyenv/versions/3.10.10/lib/python3.10/lib-dynload/_bisect.cpython-310-darwin.so\": 1685228204.0, \"/Users/alvaroromangomez/.pyenv/versions/3.10.10/Library/Frameworks/Python.framework/Versions/3.10/lib/python3.10/bisect.py\": 1685228243.6102338, \"/Users/alvaroromangomez/.pyenv/versions/3.10.10/lib/python3.10/lib-dynload/_random.cpython-310-darwin.so\": 1685228204.0, \"/Users/alvaroromangomez/.pyenv/versions/3.10.10/lib/python3.10/lib-dynload/_sha512.cpython-310-darwin.so\": 1685228210.0, \"/Users/alvaroromangomez/.pyenv/versions/3.10.10/Library/Frameworks/Python.framework/Versions/3.10/lib/python3.10/random.py\": 1685228244.065561, \"/Users/alvaroromangomez/.pyenv/versions/3.10.10/Library/Frameworks/Python.framework/Versions/3.10/lib/python3.10/_compat_pickle.py\": 1685228243.5014126, \"/Users/alvaroromangomez/.pyenv/versions/3.10.10/lib/python3.10/lib-dynload/_pickle.cpython-310-darwin.so\": 1685228212.0, \"/Users/alvaroromangomez/.pyenv/versions/3.10.10/Library/Frameworks/Python.framework/Versions/3.10/lib/python3.10/pickle.py\": 1685228243.9701462, \"/Users/alvaroromangomez/.local/share/virtualenvs/tfm_alvaro-vnpVahGc/lib/python3.10/site-packages/zmq/constants.py\": 1685260765.2247832, \"/Users/alvaroromangomez/.local/share/virtualenvs/tfm_alvaro-vnpVahGc/lib/python3.10/site-packages/zmq/backend/cython/socket.cpython-310-darwin.so\": 1685260765.2800667, \"/Users/alvaroromangomez/.local/share/virtualenvs/tfm_alvaro-vnpVahGc/lib/python3.10/site-packages/zmq/backend/cython/_device.cpython-310-darwin.so\": 1685260765.2680762, \"/Users/alvaroromangomez/.local/share/virtualenvs/tfm_alvaro-vnpVahGc/lib/python3.10/site-packages/zmq/backend/cython/_poll.cpython-310-darwin.so\": 1685260765.2729142, \"/Users/alvaroromangomez/.local/share/virtualenvs/tfm_alvaro-vnpVahGc/lib/python3.10/site-packages/zmq/backend/cython/_proxy_steerable.cpython-310-darwin.so\": 1685260765.2666745, \"/Users/alvaroromangomez/.local/share/virtualenvs/tfm_alvaro-vnpVahGc/lib/python3.10/site-packages/zmq/backend/cython/_version.cpython-310-darwin.so\": 1685260765.2700207, \"/Users/alvaroromangomez/.local/share/virtualenvs/tfm_alvaro-vnpVahGc/lib/python3.10/site-packages/zmq/backend/cython/error.cpython-310-darwin.so\": 1685260765.2767859, \"/Users/alvaroromangomez/.local/share/virtualenvs/tfm_alvaro-vnpVahGc/lib/python3.10/site-packages/zmq/backend/cython/utils.cpython-310-darwin.so\": 1685260765.2814827, \"/Users/alvaroromangomez/.local/share/virtualenvs/tfm_alvaro-vnpVahGc/lib/python3.10/site-packages/zmq/backend/cython/__init__.py\": 1685260765.2757933, \"/Users/alvaroromangomez/.local/share/virtualenvs/tfm_alvaro-vnpVahGc/lib/python3.10/site-packages/zmq/backend/__init__.py\": 1685260765.2610247, \"/Users/alvaroromangomez/.local/share/virtualenvs/tfm_alvaro-vnpVahGc/lib/python3.10/site-packages/zmq/utils/__init__.py\": 1685260765.2564075, \"/Users/alvaroromangomez/.local/share/virtualenvs/tfm_alvaro-vnpVahGc/lib/python3.10/site-packages/zmq/utils/interop.py\": 1685260765.2576656, \"/Users/alvaroromangomez/.local/share/virtualenvs/tfm_alvaro-vnpVahGc/lib/python3.10/site-packages/zmq/sugar/attrsettr.py\": 1685260765.2301702, \"/Users/alvaroromangomez/.local/share/virtualenvs/tfm_alvaro-vnpVahGc/lib/python3.10/site-packages/zmq/_typing.py\": 1685260765.2217896, \"/Users/alvaroromangomez/.local/share/virtualenvs/tfm_alvaro-vnpVahGc/lib/python3.10/site-packages/zmq/utils/jsonapi.py\": 1685260765.2580967, \"/Users/alvaroromangomez/.local/share/virtualenvs/tfm_alvaro-vnpVahGc/lib/python3.10/site-packages/zmq/sugar/poll.py\": 1685260765.2328336, \"/Users/alvaroromangomez/.local/share/virtualenvs/tfm_alvaro-vnpVahGc/lib/python3.10/site-packages/zmq/sugar/socket.py\": 1685260765.233344, \"/Users/alvaroromangomez/.local/share/virtualenvs/tfm_alvaro-vnpVahGc/lib/python3.10/site-packages/zmq/sugar/context.py\": 1685260765.2314494, \"/Users/alvaroromangomez/.local/share/virtualenvs/tfm_alvaro-vnpVahGc/lib/python3.10/site-packages/zmq/sugar/frame.py\": 1685260765.2318969, \"/Users/alvaroromangomez/.local/share/virtualenvs/tfm_alvaro-vnpVahGc/lib/python3.10/site-packages/zmq/sugar/tracker.py\": 1685260765.2324035, \"/Users/alvaroromangomez/.local/share/virtualenvs/tfm_alvaro-vnpVahGc/lib/python3.10/site-packages/zmq/sugar/version.py\": 1685260765.2293823, \"/Users/alvaroromangomez/.local/share/virtualenvs/tfm_alvaro-vnpVahGc/lib/python3.10/site-packages/zmq/sugar/stopwatch.py\": 1685260765.2309546, \"/Users/alvaroromangomez/.local/share/virtualenvs/tfm_alvaro-vnpVahGc/lib/python3.10/site-packages/zmq/sugar/__init__.py\": 1685260765.2305393, \"/Users/alvaroromangomez/.local/share/virtualenvs/tfm_alvaro-vnpVahGc/lib/python3.10/site-packages/zmq/__init__.py\": 1685260765.2252426, \"/Users/alvaroromangomez/.pyenv/versions/3.10.10/Library/Frameworks/Python.framework/Versions/3.10/lib/python3.10/concurrent/__init__.py\": 1685228244.5313935, \"/Users/alvaroromangomez/.pyenv/versions/3.10.10/Library/Frameworks/Python.framework/Versions/3.10/lib/python3.10/token.py\": 1685228244.248555, \"/Users/alvaroromangomez/.pyenv/versions/3.10.10/Library/Frameworks/Python.framework/Versions/3.10/lib/python3.10/tokenize.py\": 1685228244.2534852, \"/Users/alvaroromangomez/.pyenv/versions/3.10.10/Library/Frameworks/Python.framework/Versions/3.10/lib/python3.10/linecache.py\": 1685228243.8621626, \"/Users/alvaroromangomez/.pyenv/versions/3.10.10/Library/Frameworks/Python.framework/Versions/3.10/lib/python3.10/traceback.py\": 1685228244.263671, \"/Users/alvaroromangomez/.pyenv/versions/3.10.10/Library/Frameworks/Python.framework/Versions/3.10/lib/python3.10/string.py\": 1685228244.1765769, \"/Users/alvaroromangomez/.pyenv/versions/3.10.10/Library/Frameworks/Python.framework/Versions/3.10/lib/python3.10/logging/__init__.py\": 1685228246.9374185, \"/Users/alvaroromangomez/.pyenv/versions/3.10.10/Library/Frameworks/Python.framework/Versions/3.10/lib/python3.10/concurrent/futures/_base.py\": 1685228244.549093, \"/Users/alvaroromangomez/.pyenv/versions/3.10.10/Library/Frameworks/Python.framework/Versions/3.10/lib/python3.10/concurrent/futures/__init__.py\": 1685228244.5433087, \"/Users/alvaroromangomez/.pyenv/versions/3.10.10/lib/python3.10/lib-dynload/_heapq.cpython-310-darwin.so\": 1685228204.0, \"/Users/alvaroromangomez/.pyenv/versions/3.10.10/Library/Frameworks/Python.framework/Versions/3.10/lib/python3.10/heapq.py\": 1685228243.81506, \"/Users/alvaroromangomez/.pyenv/versions/3.10.10/lib/python3.10/lib-dynload/_socket.cpython-310-darwin.so\": 1685228211.0, \"/Users/alvaroromangomez/.pyenv/versions/3.10.10/lib/python3.10/lib-dynload/array.cpython-310-darwin.so\": 1685228205.0, \"/Users/alvaroromangomez/.pyenv/versions/3.10.10/Library/Frameworks/Python.framework/Versions/3.10/lib/python3.10/socket.py\": 1685228244.1410506, \"/Users/alvaroromangomez/.pyenv/versions/3.10.10/lib/python3.10/lib-dynload/_ssl.cpython-310-darwin.so\": 1685228213.0, \"/Users/alvaroromangomez/.pyenv/versions/3.10.10/lib/python3.10/lib-dynload/binascii.cpython-310-darwin.so\": 1685228212.0, \"/Users/alvaroromangomez/.pyenv/versions/3.10.10/Library/Frameworks/Python.framework/Versions/3.10/lib/python3.10/base64.py\": 1685228243.5953746, \"/Users/alvaroromangomez/.pyenv/versions/3.10.10/Library/Frameworks/Python.framework/Versions/3.10/lib/python3.10/ssl.py\": 1685228244.1626697, \"/Users/alvaroromangomez/.pyenv/versions/3.10.10/Library/Frameworks/Python.framework/Versions/3.10/lib/python3.10/asyncio/constants.py\": 1685228244.392665, \"/Users/alvaroromangomez/.pyenv/versions/3.10.10/Library/Frameworks/Python.framework/Versions/3.10/lib/python3.10/ast.py\": 1685228243.5781355, \"/Users/alvaroromangomez/.pyenv/versions/3.10.10/lib/python3.10/lib-dynload/_opcode.cpython-310-darwin.so\": 1685228204.0, \"/Users/alvaroromangomez/.pyenv/versions/3.10.10/Library/Frameworks/Python.framework/Versions/3.10/lib/python3.10/opcode.py\": 1685228243.937107, \"/Users/alvaroromangomez/.pyenv/versions/3.10.10/Library/Frameworks/Python.framework/Versions/3.10/lib/python3.10/dis.py\": 1685228243.7317033, \"/Users/alvaroromangomez/.pyenv/versions/3.10.10/Library/Frameworks/Python.framework/Versions/3.10/lib/python3.10/inspect.py\": 1685228243.8404849, \"/Users/alvaroromangomez/.pyenv/versions/3.10.10/Library/Frameworks/Python.framework/Versions/3.10/lib/python3.10/asyncio/format_helpers.py\": 1685228244.4124436, \"/Users/alvaroromangomez/.pyenv/versions/3.10.10/Library/Frameworks/Python.framework/Versions/3.10/lib/python3.10/asyncio/base_futures.py\": 1685228244.3776174, \"/Users/alvaroromangomez/.pyenv/versions/3.10.10/Library/Frameworks/Python.framework/Versions/3.10/lib/python3.10/asyncio/log.py\": 1685228244.4257631, \"/Users/alvaroromangomez/.pyenv/versions/3.10.10/Library/Frameworks/Python.framework/Versions/3.10/lib/python3.10/asyncio/coroutines.py\": 1685228244.398174, \"/Users/alvaroromangomez/.pyenv/versions/3.10.10/lib/python3.10/lib-dynload/_contextvars.cpython-310-darwin.so\": 1685228203.0, \"/Users/alvaroromangomez/.pyenv/versions/3.10.10/Library/Frameworks/Python.framework/Versions/3.10/lib/python3.10/contextvars.py\": 1685228243.6822245, \"/Users/alvaroromangomez/.pyenv/versions/3.10.10/Library/Frameworks/Python.framework/Versions/3.10/lib/python3.10/asyncio/exceptions.py\": 1685228244.4079108, \"/Users/alvaroromangomez/.pyenv/versions/3.10.10/Library/Frameworks/Python.framework/Versions/3.10/lib/python3.10/asyncio/base_tasks.py\": 1685228244.3878741, \"/Users/alvaroromangomez/.pyenv/versions/3.10.10/lib/python3.10/lib-dynload/_asyncio.cpython-310-darwin.so\": 1685228206.0, \"/Users/alvaroromangomez/.pyenv/versions/3.10.10/Library/Frameworks/Python.framework/Versions/3.10/lib/python3.10/asyncio/events.py\": 1685228244.4030454, \"/Users/alvaroromangomez/.pyenv/versions/3.10.10/Library/Frameworks/Python.framework/Versions/3.10/lib/python3.10/asyncio/futures.py\": 1685228244.4168746, \"/Users/alvaroromangomez/.pyenv/versions/3.10.10/Library/Frameworks/Python.framework/Versions/3.10/lib/python3.10/asyncio/protocols.py\": 1685228244.4392736, \"/Users/alvaroromangomez/.pyenv/versions/3.10.10/Library/Frameworks/Python.framework/Versions/3.10/lib/python3.10/asyncio/transports.py\": 1685228244.483978, \"/Users/alvaroromangomez/.pyenv/versions/3.10.10/Library/Frameworks/Python.framework/Versions/3.10/lib/python3.10/asyncio/sslproto.py\": 1685228244.4567661, \"/Users/alvaroromangomez/.pyenv/versions/3.10.10/Library/Frameworks/Python.framework/Versions/3.10/lib/python3.10/asyncio/mixins.py\": 1685228244.430186, \"/Users/alvaroromangomez/.pyenv/versions/3.10.10/Library/Frameworks/Python.framework/Versions/3.10/lib/python3.10/asyncio/tasks.py\": 1685228244.4750245, \"/Users/alvaroromangomez/.pyenv/versions/3.10.10/Library/Frameworks/Python.framework/Versions/3.10/lib/python3.10/asyncio/locks.py\": 1685228244.4212925, \"/Users/alvaroromangomez/.pyenv/versions/3.10.10/Library/Frameworks/Python.framework/Versions/3.10/lib/python3.10/asyncio/staggered.py\": 1685228244.461077, \"/Users/alvaroromangomez/.pyenv/versions/3.10.10/Library/Frameworks/Python.framework/Versions/3.10/lib/python3.10/asyncio/trsock.py\": 1685228244.4886992, \"/Users/alvaroromangomez/.pyenv/versions/3.10.10/Library/Frameworks/Python.framework/Versions/3.10/lib/python3.10/asyncio/base_events.py\": 1685228244.3717878, \"/Users/alvaroromangomez/.pyenv/versions/3.10.10/Library/Frameworks/Python.framework/Versions/3.10/lib/python3.10/asyncio/runners.py\": 1685228244.4478939, \"/Users/alvaroromangomez/.pyenv/versions/3.10.10/Library/Frameworks/Python.framework/Versions/3.10/lib/python3.10/asyncio/queues.py\": 1685228244.443619, \"/Users/alvaroromangomez/.pyenv/versions/3.10.10/Library/Frameworks/Python.framework/Versions/3.10/lib/python3.10/asyncio/streams.py\": 1685228244.465563, \"/Users/alvaroromangomez/.pyenv/versions/3.10.10/Library/Frameworks/Python.framework/Versions/3.10/lib/python3.10/asyncio/subprocess.py\": 1685228244.470327, \"/Users/alvaroromangomez/.pyenv/versions/3.10.10/Library/Frameworks/Python.framework/Versions/3.10/lib/python3.10/asyncio/threads.py\": 1685228244.4795282, \"/Users/alvaroromangomez/.pyenv/versions/3.10.10/Library/Frameworks/Python.framework/Versions/3.10/lib/python3.10/asyncio/base_subprocess.py\": 1685228244.3831966, \"/Users/alvaroromangomez/.pyenv/versions/3.10.10/Library/Frameworks/Python.framework/Versions/3.10/lib/python3.10/asyncio/selector_events.py\": 1685228244.4522564, \"/Users/alvaroromangomez/.pyenv/versions/3.10.10/Library/Frameworks/Python.framework/Versions/3.10/lib/python3.10/asyncio/unix_events.py\": 1685228244.4934657, \"/Users/alvaroromangomez/.pyenv/versions/3.10.10/Library/Frameworks/Python.framework/Versions/3.10/lib/python3.10/asyncio/__init__.py\": 1685228244.3615394, \"/Users/alvaroromangomez/.local/share/virtualenvs/tfm_alvaro-vnpVahGc/lib/python3.10/site-packages/zmq/_future.py\": 1685260765.223287, \"/Users/alvaroromangomez/.local/share/virtualenvs/tfm_alvaro-vnpVahGc/lib/python3.10/site-packages/zmq/asyncio.py\": 1685260765.224229, \"/Users/alvaroromangomez/.pyenv/versions/3.10.10/Library/Frameworks/Python.framework/Versions/3.10/lib/python3.10/fnmatch.py\": 1685228243.7547572, \"/Users/alvaroromangomez/.pyenv/versions/3.10.10/Library/Frameworks/Python.framework/Versions/3.10/lib/python3.10/ntpath.py\": 1685228243.9190257, \"/Users/alvaroromangomez/.pyenv/versions/3.10.10/Library/Frameworks/Python.framework/Versions/3.10/lib/python3.10/urllib/__init__.py\": 1685228247.449327, \"/Users/alvaroromangomez/.pyenv/versions/3.10.10/Library/Frameworks/Python.framework/Versions/3.10/lib/python3.10/urllib/parse.py\": 1685228247.4591658, \"/Users/alvaroromangomez/.pyenv/versions/3.10.10/Library/Frameworks/Python.framework/Versions/3.10/lib/python3.10/pathlib.py\": 1685228243.9592326, \"/Users/alvaroromangomez/.local/share/virtualenvs/tfm_alvaro-vnpVahGc/lib/python3.10/site-packages/traitlets/utils/__init__.py\": 1685260764.6869555, \"/Users/alvaroromangomez/.local/share/virtualenvs/tfm_alvaro-vnpVahGc/lib/python3.10/site-packages/traitlets/utils/bunch.py\": 1685260764.687345, \"/Users/alvaroromangomez/.local/share/virtualenvs/tfm_alvaro-vnpVahGc/lib/python3.10/site-packages/traitlets/utils/descriptions.py\": 1685260764.6882675, \"/Users/alvaroromangomez/.local/share/virtualenvs/tfm_alvaro-vnpVahGc/lib/python3.10/site-packages/traitlets/utils/getargspec.py\": 1685260764.6886997, \"/Users/alvaroromangomez/.local/share/virtualenvs/tfm_alvaro-vnpVahGc/lib/python3.10/site-packages/traitlets/utils/importstring.py\": 1685260764.6891382, \"/Users/alvaroromangomez/.local/share/virtualenvs/tfm_alvaro-vnpVahGc/lib/python3.10/site-packages/traitlets/utils/sentinel.py\": 1685260764.6899827, \"/Users/alvaroromangomez/.local/share/virtualenvs/tfm_alvaro-vnpVahGc/lib/python3.10/site-packages/traitlets/traitlets.py\": 1685260764.6778138, \"/Users/alvaroromangomez/.local/share/virtualenvs/tfm_alvaro-vnpVahGc/lib/python3.10/site-packages/traitlets/_version.py\": 1685260764.6761239, \"/Users/alvaroromangomez/.local/share/virtualenvs/tfm_alvaro-vnpVahGc/lib/python3.10/site-packages/traitlets/utils/decorators.py\": 1685260764.6878178, \"/Users/alvaroromangomez/.local/share/virtualenvs/tfm_alvaro-vnpVahGc/lib/python3.10/site-packages/traitlets/__init__.py\": 1685260764.6756911, \"/Users/alvaroromangomez/.pyenv/versions/3.10.10/lib/python3.10/lib-dynload/_queue.cpython-310-darwin.so\": 1685228205.0, \"/Users/alvaroromangomez/.pyenv/versions/3.10.10/Library/Frameworks/Python.framework/Versions/3.10/lib/python3.10/queue.py\": 1685228244.0558755, \"/Users/alvaroromangomez/.local/share/virtualenvs/tfm_alvaro-vnpVahGc/lib/python3.10/site-packages/jupyter_core/version.py\": 1685260768.56317, \"/Users/alvaroromangomez/.local/share/virtualenvs/tfm_alvaro-vnpVahGc/lib/python3.10/site-packages/jupyter_core/__init__.py\": 1685260768.5595853, \"/Users/alvaroromangomez/.local/share/virtualenvs/tfm_alvaro-vnpVahGc/lib/python3.10/site-packages/jupyter_core/utils/__init__.py\": 1685260768.5742204, \"/Users/alvaroromangomez/.local/share/virtualenvs/tfm_alvaro-vnpVahGc/lib/python3.10/site-packages/jupyter_client/channelsabc.py\": 1685260769.9395537, \"/Users/alvaroromangomez/.pyenv/versions/3.10.10/lib/python3.10/lib-dynload/_hashlib.cpython-310-darwin.so\": 1685228210.0, \"/Users/alvaroromangomez/.pyenv/versions/3.10.10/lib/python3.10/lib-dynload/_blake2.cpython-310-darwin.so\": 1685228212.0, \"/Users/alvaroromangomez/.pyenv/versions/3.10.10/Library/Frameworks/Python.framework/Versions/3.10/lib/python3.10/hashlib.py\": 1685228243.8101969, \"/Users/alvaroromangomez/.pyenv/versions/3.10.10/Library/Frameworks/Python.framework/Versions/3.10/lib/python3.10/hmac.py\": 1685228243.819832, \"/Users/alvaroromangomez/.pyenv/versions/3.10.10/Library/Frameworks/Python.framework/Versions/3.10/lib/python3.10/dataclasses.py\": 1685228243.7127366, \"/Users/alvaroromangomez/.pyenv/versions/3.10.10/Library/Frameworks/Python.framework/Versions/3.10/lib/python3.10/pprint.py\": 1685228244.0185492, \"/Users/alvaroromangomez/.pyenv/versions/3.10.10/lib/python3.10/lib-dynload/_datetime.cpython-310-darwin.so\": 1685228208.0, \"/Users/alvaroromangomez/.pyenv/versions/3.10.10/Library/Frameworks/Python.framework/Versions/3.10/lib/python3.10/datetime.py\": 1685228243.717228, \"/Users/alvaroromangomez/.local/share/virtualenvs/tfm_alvaro-vnpVahGc/lib/python3.10/site-packages/tornado/__init__.py\": 1685260764.8382678, \"/Users/alvaroromangomez/.pyenv/versions/3.10.10/Library/Frameworks/Python.framework/Versions/3.10/lib/python3.10/numbers.py\": 1685228243.9307232, \"/Users/alvaroromangomez/.pyenv/versions/3.10.10/Library/Frameworks/Python.framework/Versions/3.10/lib/python3.10/logging/handlers.py\": 1685228246.9485881, \"/Users/alvaroromangomez/.pyenv/versions/3.10.10/Library/Frameworks/Python.framework/Versions/3.10/lib/python3.10/html/entities.py\": 1685228245.8110142, \"/Users/alvaroromangomez/.pyenv/versions/3.10.10/Library/Frameworks/Python.framework/Versions/3.10/lib/python3.10/html/__init__.py\": 1685228245.8057032, \"/Users/alvaroromangomez/.pyenv/versions/3.10.10/lib/python3.10/lib-dynload/zlib.cpython-310-darwin.so\": 1685228213.0, \"/Users/alvaroromangomez/.local/share/virtualenvs/tfm_alvaro-vnpVahGc/lib/python3.10/site-packages/tornado/speedups.abi3.so\": 1685260764.8464239, \"/Users/alvaroromangomez/.local/share/virtualenvs/tfm_alvaro-vnpVahGc/lib/python3.10/site-packages/tornado/util.py\": 1685260764.8367674, \"/Users/alvaroromangomez/.local/share/virtualenvs/tfm_alvaro-vnpVahGc/lib/python3.10/site-packages/tornado/escape.py\": 1685260764.831772, \"/Users/alvaroromangomez/.pyenv/versions/3.10.10/lib/python3.10/lib-dynload/_curses.cpython-310-darwin.so\": 1685228212.0, \"/Users/alvaroromangomez/.pyenv/versions/3.10.10/Library/Frameworks/Python.framework/Versions/3.10/lib/python3.10/curses/__init__.py\": 1685228244.6431658, \"/Users/alvaroromangomez/.local/share/virtualenvs/tfm_alvaro-vnpVahGc/lib/python3.10/site-packages/tornado/log.py\": 1685260764.8362198, \"/Users/alvaroromangomez/.local/share/virtualenvs/tfm_alvaro-vnpVahGc/lib/python3.10/site-packages/tornado/concurrent.py\": 1685260764.8313055, \"/Users/alvaroromangomez/.local/share/virtualenvs/tfm_alvaro-vnpVahGc/lib/python3.10/site-packages/tornado/ioloop.py\": 1685260764.840275, \"/Users/alvaroromangomez/.pyenv/versions/3.10.10/Library/Frameworks/Python.framework/Versions/3.10/lib/python3.10/socketserver.py\": 1685228244.14565, \"/Users/alvaroromangomez/.pyenv/versions/3.10.10/Library/Frameworks/Python.framework/Versions/3.10/lib/python3.10/logging/config.py\": 1685228246.9427195, \"/Users/alvaroromangomez/.pyenv/versions/3.10.10/Library/Frameworks/Python.framework/Versions/3.10/lib/python3.10/textwrap.py\": 1685228244.2298305, \"/Users/alvaroromangomez/.local/share/virtualenvs/tfm_alvaro-vnpVahGc/lib/python3.10/site-packages/traitlets/utils/text.py\": 1685260764.6903985, \"/Users/alvaroromangomez/.pyenv/versions/3.10.10/Library/Frameworks/Python.framework/Versions/3.10/lib/python3.10/gettext.py\": 1685228243.7911904, \"/Users/alvaroromangomez/.pyenv/versions/3.10.10/Library/Frameworks/Python.framework/Versions/3.10/lib/python3.10/argparse.py\": 1685228243.573236, \"/Users/alvaroromangomez/.local/share/virtualenvs/tfm_alvaro-vnpVahGc/lib/python3.10/site-packages/traitlets/config/loader.py\": 1685260764.680637, \"/Users/alvaroromangomez/.local/share/virtualenvs/tfm_alvaro-vnpVahGc/lib/python3.10/site-packages/traitlets/config/configurable.py\": 1685260764.6800857, \"/Users/alvaroromangomez/.local/share/virtualenvs/tfm_alvaro-vnpVahGc/lib/python3.10/site-packages/traitlets/utils/nested_update.py\": 1685260764.6895676, \"/Users/alvaroromangomez/.local/share/virtualenvs/tfm_alvaro-vnpVahGc/lib/python3.10/site-packages/traitlets/config/application.py\": 1685260764.6790578, \"/Users/alvaroromangomez/.local/share/virtualenvs/tfm_alvaro-vnpVahGc/lib/python3.10/site-packages/traitlets/config/__init__.py\": 1685260764.6783736, \"/Users/alvaroromangomez/.local/share/virtualenvs/tfm_alvaro-vnpVahGc/lib/python3.10/site-packages/traitlets/log.py\": 1685260764.676506, \"/Users/alvaroromangomez/.local/share/virtualenvs/tfm_alvaro-vnpVahGc/lib/python3.10/site-packages/zmq/eventloop/__init__.py\": 1685260765.3065, \"/Users/alvaroromangomez/.local/share/virtualenvs/tfm_alvaro-vnpVahGc/lib/python3.10/site-packages/zmq/eventloop/zmqstream.py\": 1685260765.3077848, \"/Users/alvaroromangomez/.local/share/virtualenvs/tfm_alvaro-vnpVahGc/lib/python3.10/site-packages/jupyter_client/adapter.py\": 1685260769.9385812, \"/Users/alvaroromangomez/.local/share/virtualenvs/tfm_alvaro-vnpVahGc/lib/python3.10/site-packages/dateutil/_version.py\": 1685260768.4748898, \"/Users/alvaroromangomez/.local/share/virtualenvs/tfm_alvaro-vnpVahGc/lib/python3.10/site-packages/dateutil/__init__.py\": 1685260768.4739795, \"/Users/alvaroromangomez/.pyenv/versions/3.10.10/Library/Frameworks/Python.framework/Versions/3.10/lib/python3.10/__future__.py\": 1685228243.4787323, \"/Users/alvaroromangomez/.pyenv/versions/3.10.10/Library/Frameworks/Python.framework/Versions/3.10/lib/python3.10/locale.py\": 1685228243.8681016, \"/Users/alvaroromangomez/.pyenv/versions/3.10.10/Library/Frameworks/Python.framework/Versions/3.10/lib/python3.10/calendar.py\": 1685228243.624015, \"/Users/alvaroromangomez/.local/share/virtualenvs/tfm_alvaro-vnpVahGc/lib/python3.10/site-packages/six.py\": 1685260765.2018008, \"/Users/alvaroromangomez/.pyenv/versions/3.10.10/lib/python3.10/lib-dynload/_decimal.cpython-310-darwin.so\": 1685228224.0, \"/Users/alvaroromangomez/.pyenv/versions/3.10.10/Library/Frameworks/Python.framework/Versions/3.10/lib/python3.10/decimal.py\": 1685228243.7222276, \"/Users/alvaroromangomez/.local/share/virtualenvs/tfm_alvaro-vnpVahGc/lib/python3.10/site-packages/dateutil/_common.py\": 1685260768.4744966, \"/Users/alvaroromangomez/.local/share/virtualenvs/tfm_alvaro-vnpVahGc/lib/python3.10/site-packages/dateutil/relativedelta.py\": 1685260768.475749, \"/Users/alvaroromangomez/.local/share/virtualenvs/tfm_alvaro-vnpVahGc/lib/python3.10/site-packages/dateutil/tz/_common.py\": 1685260768.4797177, \"/Users/alvaroromangomez/.local/share/virtualenvs/tfm_alvaro-vnpVahGc/lib/python3.10/site-packages/dateutil/tz/_factories.py\": 1685260768.4801555, \"/Users/alvaroromangomez/.local/share/virtualenvs/tfm_alvaro-vnpVahGc/lib/python3.10/site-packages/dateutil/tz/tz.py\": 1685260768.4807932, \"/Users/alvaroromangomez/.local/share/virtualenvs/tfm_alvaro-vnpVahGc/lib/python3.10/site-packages/dateutil/tz/__init__.py\": 1685260768.4792945, \"/Users/alvaroromangomez/.local/share/virtualenvs/tfm_alvaro-vnpVahGc/lib/python3.10/site-packages/dateutil/parser/_parser.py\": 1685260768.4783826, \"/Users/alvaroromangomez/.local/share/virtualenvs/tfm_alvaro-vnpVahGc/lib/python3.10/site-packages/dateutil/parser/isoparser.py\": 1685260768.4788272, \"/Users/alvaroromangomez/.local/share/virtualenvs/tfm_alvaro-vnpVahGc/lib/python3.10/site-packages/dateutil/parser/__init__.py\": 1685260768.4777882, \"/Users/alvaroromangomez/.pyenv/versions/3.10.10/Library/Frameworks/Python.framework/Versions/3.10/lib/python3.10/_strptime.py\": 1685228243.539971, \"/Users/alvaroromangomez/.local/share/virtualenvs/tfm_alvaro-vnpVahGc/lib/python3.10/site-packages/jupyter_client/jsonutil.py\": 1685260769.942181, \"/Users/alvaroromangomez/.local/share/virtualenvs/tfm_alvaro-vnpVahGc/lib/python3.10/site-packages/jupyter_client/session.py\": 1685260769.9475873, \"/Users/alvaroromangomez/.local/share/virtualenvs/tfm_alvaro-vnpVahGc/lib/python3.10/site-packages/jupyter_client/channels.py\": 1685260769.9391458, \"/Users/alvaroromangomez/.pyenv/versions/3.10.10/lib/python3.10/lib-dynload/termios.cpython-310-darwin.so\": 1685228210.0, \"/Users/alvaroromangomez/.pyenv/versions/3.10.10/Library/Frameworks/Python.framework/Versions/3.10/lib/python3.10/getpass.py\": 1685228243.786244, \"/Users/alvaroromangomez/.local/share/virtualenvs/tfm_alvaro-vnpVahGc/lib/python3.10/site-packages/jupyter_client/clientabc.py\": 1685260769.9405754, \"/Users/alvaroromangomez/.pyenv/versions/3.10.10/Library/Frameworks/Python.framework/Versions/3.10/lib/python3.10/glob.py\": 1685228243.7957067, \"/Users/alvaroromangomez/.pyenv/versions/3.10.10/Library/Frameworks/Python.framework/Versions/3.10/lib/python3.10/_compression.py\": 1685228243.5060658, \"/Users/alvaroromangomez/.pyenv/versions/3.10.10/lib/python3.10/lib-dynload/_bz2.cpython-310-darwin.so\": 1685228212.0, \"/Users/alvaroromangomez/.pyenv/versions/3.10.10/Library/Frameworks/Python.framework/Versions/3.10/lib/python3.10/bz2.py\": 1685228243.6145797, \"/Users/alvaroromangomez/.pyenv/versions/3.10.10/Library/Frameworks/Python.framework/Versions/3.10/lib/python3.10/shutil.py\": 1685228244.1134493, \"/Users/alvaroromangomez/.pyenv/versions/3.10.10/Library/Frameworks/Python.framework/Versions/3.10/lib/python3.10/tempfile.py\": 1685228244.2250528, \"/Users/alvaroromangomez/.local/share/virtualenvs/tfm_alvaro-vnpVahGc/lib/python3.10/site-packages/platformdirs/api.py\": 1685260767.1673954, \"/Users/alvaroromangomez/.local/share/virtualenvs/tfm_alvaro-vnpVahGc/lib/python3.10/site-packages/platformdirs/version.py\": 1685260767.1688714, \"/Users/alvaroromangomez/.local/share/virtualenvs/tfm_alvaro-vnpVahGc/lib/python3.10/site-packages/platformdirs/macos.py\": 1685260767.1677737, \"/Users/alvaroromangomez/.local/share/virtualenvs/tfm_alvaro-vnpVahGc/lib/python3.10/site-packages/platformdirs/__init__.py\": 1685260767.1660407, \"/Users/alvaroromangomez/.local/share/virtualenvs/tfm_alvaro-vnpVahGc/lib/python3.10/site-packages/jupyter_core/paths.py\": 1685260768.5620224, \"/Users/alvaroromangomez/.local/share/virtualenvs/tfm_alvaro-vnpVahGc/lib/python3.10/site-packages/jupyter_client/localinterfaces.py\": 1685260769.9445376, \"/Users/alvaroromangomez/.local/share/virtualenvs/tfm_alvaro-vnpVahGc/lib/python3.10/site-packages/jupyter_client/utils.py\": 1685260769.9485052, \"/Users/alvaroromangomez/.local/share/virtualenvs/tfm_alvaro-vnpVahGc/lib/python3.10/site-packages/jupyter_client/connect.py\": 1685260769.9410954, \"/Users/alvaroromangomez/.local/share/virtualenvs/tfm_alvaro-vnpVahGc/lib/python3.10/site-packages/jupyter_client/client.py\": 1685260769.9401553, \"/Users/alvaroromangomez/.local/share/virtualenvs/tfm_alvaro-vnpVahGc/lib/python3.10/site-packages/jupyter_client/asynchronous/client.py\": 1685260769.9497607, \"/Users/alvaroromangomez/.local/share/virtualenvs/tfm_alvaro-vnpVahGc/lib/python3.10/site-packages/jupyter_client/asynchronous/__init__.py\": 1685260769.949364, \"/Users/alvaroromangomez/.local/share/virtualenvs/tfm_alvaro-vnpVahGc/lib/python3.10/site-packages/jupyter_client/blocking/client.py\": 1685260769.9505558, \"/Users/alvaroromangomez/.local/share/virtualenvs/tfm_alvaro-vnpVahGc/lib/python3.10/site-packages/jupyter_client/blocking/__init__.py\": 1685260769.9501889, \"/Users/alvaroromangomez/.local/share/virtualenvs/tfm_alvaro-vnpVahGc/lib/python3.10/site-packages/jupyter_client/launcher.py\": 1685260769.9440718, \"/Users/alvaroromangomez/.pyenv/versions/3.10.10/lib/python3.10/lib-dynload/_uuid.cpython-310-darwin.so\": 1685228214.0, \"/Users/alvaroromangomez/.pyenv/versions/3.10.10/Library/Frameworks/Python.framework/Versions/3.10/lib/python3.10/uuid.py\": 1685228244.2972765, \"/Users/alvaroromangomez/.pyenv/versions/3.10.10/lib/python3.10/lib-dynload/_csv.cpython-310-darwin.so\": 1685228207.0, \"/Users/alvaroromangomez/.pyenv/versions/3.10.10/Library/Frameworks/Python.framework/Versions/3.10/lib/python3.10/csv.py\": 1685228243.7036705, \"/Users/alvaroromangomez/.pyenv/versions/3.10.10/Library/Frameworks/Python.framework/Versions/3.10/lib/python3.10/email/__init__.py\": 1685228244.974052, \"/Users/alvaroromangomez/.pyenv/versions/3.10.10/Library/Frameworks/Python.framework/Versions/3.10/lib/python3.10/zipfile.py\": 1685228244.3326879, \"/Users/alvaroromangomez/.pyenv/versions/3.10.10/Library/Frameworks/Python.framework/Versions/3.10/lib/python3.10/uu.py\": 1685228244.2926285, \"/Users/alvaroromangomez/.pyenv/versions/3.10.10/Library/Frameworks/Python.framework/Versions/3.10/lib/python3.10/quopri.py\": 1685228244.0610065, \"/Users/alvaroromangomez/.pyenv/versions/3.10.10/Library/Frameworks/Python.framework/Versions/3.10/lib/python3.10/email/_parseaddr.py\": 1685228244.988953, \"/Users/alvaroromangomez/.pyenv/versions/3.10.10/Library/Frameworks/Python.framework/Versions/3.10/lib/python3.10/email/base64mime.py\": 1685228245.00378, \"/Users/alvaroromangomez/.pyenv/versions/3.10.10/Library/Frameworks/Python.framework/Versions/3.10/lib/python3.10/email/quoprimime.py\": 1685228245.066674, \"/Users/alvaroromangomez/.pyenv/versions/3.10.10/Library/Frameworks/Python.framework/Versions/3.10/lib/python3.10/email/errors.py\": 1685228245.0236545, \"/Users/alvaroromangomez/.pyenv/versions/3.10.10/Library/Frameworks/Python.framework/Versions/3.10/lib/python3.10/email/encoders.py\": 1685228245.0189934, \"/Users/alvaroromangomez/.pyenv/versions/3.10.10/Library/Frameworks/Python.framework/Versions/3.10/lib/python3.10/email/charset.py\": 1685228245.0140054, \"/Users/alvaroromangomez/.pyenv/versions/3.10.10/Library/Frameworks/Python.framework/Versions/3.10/lib/python3.10/email/utils.py\": 1685228245.0722723, \"/Users/alvaroromangomez/.pyenv/versions/3.10.10/Library/Frameworks/Python.framework/Versions/3.10/lib/python3.10/email/header.py\": 1685228245.0372193, \"/Users/alvaroromangomez/.pyenv/versions/3.10.10/Library/Frameworks/Python.framework/Versions/3.10/lib/python3.10/email/_policybase.py\": 1685228244.9940772, \"/Users/alvaroromangomez/.pyenv/versions/3.10.10/Library/Frameworks/Python.framework/Versions/3.10/lib/python3.10/email/_encoded_words.py\": 1685228244.9789803, \"/Users/alvaroromangomez/.pyenv/versions/3.10.10/Library/Frameworks/Python.framework/Versions/3.10/lib/python3.10/email/iterators.py\": 1685228245.0463183, \"/Users/alvaroromangomez/.pyenv/versions/3.10.10/Library/Frameworks/Python.framework/Versions/3.10/lib/python3.10/email/message.py\": 1685228245.05145, \"/Users/alvaroromangomez/.pyenv/versions/3.10.10/Library/Frameworks/Python.framework/Versions/3.10/lib/python3.10/importlib/metadata/_functools.py\": 1685228246.4613993, \"/Users/alvaroromangomez/.pyenv/versions/3.10.10/Library/Frameworks/Python.framework/Versions/3.10/lib/python3.10/importlib/metadata/_text.py\": 1685228246.477338, \"/Users/alvaroromangomez/.pyenv/versions/3.10.10/Library/Frameworks/Python.framework/Versions/3.10/lib/python3.10/importlib/metadata/_adapters.py\": 1685228246.4504023, \"/Users/alvaroromangomez/.pyenv/versions/3.10.10/Library/Frameworks/Python.framework/Versions/3.10/lib/python3.10/importlib/metadata/_meta.py\": 1685228246.4723547, \"/Users/alvaroromangomez/.pyenv/versions/3.10.10/Library/Frameworks/Python.framework/Versions/3.10/lib/python3.10/importlib/metadata/_collections.py\": 1685228246.456134, \"/Users/alvaroromangomez/.pyenv/versions/3.10.10/Library/Frameworks/Python.framework/Versions/3.10/lib/python3.10/importlib/metadata/_itertools.py\": 1685228246.4667501, \"/Users/alvaroromangomez/.pyenv/versions/3.10.10/Library/Frameworks/Python.framework/Versions/3.10/lib/python3.10/importlib/abc.py\": 1685228246.4138858, \"/Users/alvaroromangomez/.pyenv/versions/3.10.10/Library/Frameworks/Python.framework/Versions/3.10/lib/python3.10/importlib/metadata/__init__.py\": 1685228246.4451964, \"/Users/alvaroromangomez/.local/share/virtualenvs/tfm_alvaro-vnpVahGc/lib/python3.10/site-packages/jupyter_client/provisioning/provisioner_base.py\": 1685260769.953681, \"/Users/alvaroromangomez/.local/share/virtualenvs/tfm_alvaro-vnpVahGc/lib/python3.10/site-packages/jupyter_client/provisioning/factory.py\": 1685260769.9527998, \"/Users/alvaroromangomez/.local/share/virtualenvs/tfm_alvaro-vnpVahGc/lib/python3.10/site-packages/jupyter_client/provisioning/local_provisioner.py\": 1685260769.9532435, \"/Users/alvaroromangomez/.local/share/virtualenvs/tfm_alvaro-vnpVahGc/lib/python3.10/site-packages/jupyter_client/provisioning/__init__.py\": 1685260769.9523315, \"/Users/alvaroromangomez/.local/share/virtualenvs/tfm_alvaro-vnpVahGc/lib/python3.10/site-packages/jupyter_client/kernelspec.py\": 1685260769.943209, \"/Users/alvaroromangomez/.local/share/virtualenvs/tfm_alvaro-vnpVahGc/lib/python3.10/site-packages/jupyter_client/managerabc.py\": 1685260769.9454606, \"/Users/alvaroromangomez/.local/share/virtualenvs/tfm_alvaro-vnpVahGc/lib/python3.10/site-packages/jupyter_client/manager.py\": 1685260769.9450574, \"/Users/alvaroromangomez/.local/share/virtualenvs/tfm_alvaro-vnpVahGc/lib/python3.10/site-packages/jupyter_client/multikernelmanager.py\": 1685260769.9459093, \"/Users/alvaroromangomez/.local/share/virtualenvs/tfm_alvaro-vnpVahGc/lib/python3.10/site-packages/jupyter_client/__init__.py\": 1685260769.9374855, \"/Users/alvaroromangomez/.local/share/virtualenvs/tfm_alvaro-vnpVahGc/lib/python3.10/site-packages/ipykernel/connect.py\": 1685260770.8600628, \"/Users/alvaroromangomez/.local/share/virtualenvs/tfm_alvaro-vnpVahGc/lib/python3.10/site-packages/ipykernel/__init__.py\": 1685260770.8555806, \"/Users/alvaroromangomez/.local/share/virtualenvs/tfm_alvaro-vnpVahGc/lib/python3.10/site-packages/IPython/core/__init__.py\": 1685260770.0536027, \"/Users/alvaroromangomez/.local/share/virtualenvs/tfm_alvaro-vnpVahGc/lib/python3.10/site-packages/IPython/core/getipython.py\": 1685260770.0644112, \"/Users/alvaroromangomez/.local/share/virtualenvs/tfm_alvaro-vnpVahGc/lib/python3.10/site-packages/IPython/core/release.py\": 1685260770.0760221, \"/Users/alvaroromangomez/.pyenv/versions/3.10.10/Library/Frameworks/Python.framework/Versions/3.10/lib/python3.10/pkgutil.py\": 1685228243.9892538, \"/Users/alvaroromangomez/.pyenv/versions/3.10.10/Library/Frameworks/Python.framework/Versions/3.10/lib/python3.10/sysconfig.py\": 1685228244.205421, \"/Users/alvaroromangomez/.pyenv/versions/3.10.10/Library/Frameworks/Python.framework/Versions/3.10/lib/python3.10/_sysconfigdata__darwin_darwin.py\": 1685228256.69413, \"/Users/alvaroromangomez/.pyenv/versions/3.10.10/Library/Frameworks/Python.framework/Versions/3.10/lib/python3.10/_osx_support.py\": 1685228243.515247, \"/Users/alvaroromangomez/.pyenv/versions/3.10.10/Library/Frameworks/Python.framework/Versions/3.10/lib/python3.10/pydoc.py\": 1685228244.0509756, \"/Users/alvaroromangomez/.local/share/virtualenvs/tfm_alvaro-vnpVahGc/lib/python3.10/site-packages/executing/executing.py\": 1685260764.622486, \"/Users/alvaroromangomez/.local/share/virtualenvs/tfm_alvaro-vnpVahGc/lib/python3.10/site-packages/executing/version.py\": 1685260764.6231923, \"/Users/alvaroromangomez/.local/share/virtualenvs/tfm_alvaro-vnpVahGc/lib/python3.10/site-packages/executing/__init__.py\": 1685260764.6210177, \"/Users/alvaroromangomez/.local/share/virtualenvs/tfm_alvaro-vnpVahGc/lib/python3.10/site-packages/asttokens/line_numbers.py\": 1685260769.8861752, \"/Users/alvaroromangomez/.local/share/virtualenvs/tfm_alvaro-vnpVahGc/lib/python3.10/site-packages/asttokens/util.py\": 1685260769.8875234, \"/Users/alvaroromangomez/.local/share/virtualenvs/tfm_alvaro-vnpVahGc/lib/python3.10/site-packages/asttokens/asttokens.py\": 1685260769.885726, \"/Users/alvaroromangomez/.local/share/virtualenvs/tfm_alvaro-vnpVahGc/lib/python3.10/site-packages/asttokens/__init__.py\": 1685260769.884761, \"/Users/alvaroromangomez/.pyenv/versions/3.10.10/Library/Frameworks/Python.framework/Versions/3.10/lib/python3.10/fractions.py\": 1685228243.7596862, \"/Users/alvaroromangomez/.local/share/virtualenvs/tfm_alvaro-vnpVahGc/lib/python3.10/site-packages/pure_eval/utils.py\": 1685260764.5785396, \"/Users/alvaroromangomez/.local/share/virtualenvs/tfm_alvaro-vnpVahGc/lib/python3.10/site-packages/pure_eval/my_getattr_static.py\": 1685260764.5777297, \"/Users/alvaroromangomez/.local/share/virtualenvs/tfm_alvaro-vnpVahGc/lib/python3.10/site-packages/pure_eval/core.py\": 1685260764.577288, \"/Users/alvaroromangomez/.local/share/virtualenvs/tfm_alvaro-vnpVahGc/lib/python3.10/site-packages/pure_eval/version.py\": 1685260764.5789435, \"/Users/alvaroromangomez/.local/share/virtualenvs/tfm_alvaro-vnpVahGc/lib/python3.10/site-packages/pure_eval/__init__.py\": 1685260764.576832, \"/Users/alvaroromangomez/.local/share/virtualenvs/tfm_alvaro-vnpVahGc/lib/python3.10/site-packages/stack_data/utils.py\": 1685260769.9137952, \"/Users/alvaroromangomez/.local/share/virtualenvs/tfm_alvaro-vnpVahGc/lib/python3.10/site-packages/stack_data/core.py\": 1685260769.9118896, \"/Users/alvaroromangomez/.local/share/virtualenvs/tfm_alvaro-vnpVahGc/lib/python3.10/site-packages/stack_data/formatting.py\": 1685260769.9123914, \"/Users/alvaroromangomez/.local/share/virtualenvs/tfm_alvaro-vnpVahGc/lib/python3.10/site-packages/stack_data/serializing.py\": 1685260769.9133246, \"/Users/alvaroromangomez/.local/share/virtualenvs/tfm_alvaro-vnpVahGc/lib/python3.10/site-packages/stack_data/version.py\": 1685260769.9141817, \"/Users/alvaroromangomez/.local/share/virtualenvs/tfm_alvaro-vnpVahGc/lib/python3.10/site-packages/stack_data/__init__.py\": 1685260769.9110005, \"/Users/alvaroromangomez/.local/share/virtualenvs/tfm_alvaro-vnpVahGc/lib/python3.10/site-packages/pygments/__init__.py\": 1685260765.507983, \"/Users/alvaroromangomez/.local/share/virtualenvs/tfm_alvaro-vnpVahGc/lib/python3.10/site-packages/pygments/formatters/_mapping.py\": 1685260765.5161896, \"/Users/alvaroromangomez/.local/share/virtualenvs/tfm_alvaro-vnpVahGc/lib/python3.10/site-packages/pygments/plugin.py\": 1685260765.511443, \"/Users/alvaroromangomez/.local/share/virtualenvs/tfm_alvaro-vnpVahGc/lib/python3.10/site-packages/pygments/util.py\": 1685260765.5146463, \"/Users/alvaroromangomez/.local/share/virtualenvs/tfm_alvaro-vnpVahGc/lib/python3.10/site-packages/pygments/formatters/__init__.py\": 1685260765.5157955, \"/Users/alvaroromangomez/.local/share/virtualenvs/tfm_alvaro-vnpVahGc/lib/python3.10/site-packages/pygments/styles/__init__.py\": 1685260765.6388516, \"/Users/alvaroromangomez/.local/share/virtualenvs/tfm_alvaro-vnpVahGc/lib/python3.10/site-packages/pygments/formatter.py\": 1685260765.5100799, \"/Users/alvaroromangomez/.local/share/virtualenvs/tfm_alvaro-vnpVahGc/lib/python3.10/site-packages/pygments/console.py\": 1685260765.5092707, \"/Users/alvaroromangomez/.local/share/virtualenvs/tfm_alvaro-vnpVahGc/lib/python3.10/site-packages/pygments/token.py\": 1685260765.5134573, \"/Users/alvaroromangomez/.local/share/virtualenvs/tfm_alvaro-vnpVahGc/lib/python3.10/site-packages/pygments/style.py\": 1685260765.5130243, \"/Users/alvaroromangomez/.local/share/virtualenvs/tfm_alvaro-vnpVahGc/lib/python3.10/site-packages/pygments/formatters/terminal256.py\": 1685260765.5215628, \"/Users/alvaroromangomez/.local/share/virtualenvs/tfm_alvaro-vnpVahGc/lib/python3.10/site-packages/IPython/utils/__init__.py\": 1685260770.1514988, \"/Users/alvaroromangomez/.local/share/virtualenvs/tfm_alvaro-vnpVahGc/lib/python3.10/site-packages/IPython/utils/colorable.py\": 1685260770.1556392, \"/Users/alvaroromangomez/.local/share/virtualenvs/tfm_alvaro-vnpVahGc/lib/python3.10/site-packages/IPython/utils/ipstruct.py\": 1685260770.1619186, \"/Users/alvaroromangomez/.local/share/virtualenvs/tfm_alvaro-vnpVahGc/lib/python3.10/site-packages/IPython/utils/coloransi.py\": 1685260770.156086, \"/Users/alvaroromangomez/.local/share/virtualenvs/tfm_alvaro-vnpVahGc/lib/python3.10/site-packages/IPython/utils/PyColorize.py\": 1685260770.1511483, \"/Users/alvaroromangomez/.local/share/virtualenvs/tfm_alvaro-vnpVahGc/lib/python3.10/site-packages/IPython/utils/encoding.py\": 1685260770.1590931, \"/Users/alvaroromangomez/.local/share/virtualenvs/tfm_alvaro-vnpVahGc/lib/python3.10/site-packages/IPython/utils/py3compat.py\": 1685260770.1651142, \"/Users/alvaroromangomez/.local/share/virtualenvs/tfm_alvaro-vnpVahGc/lib/python3.10/site-packages/IPython/core/excolors.py\": 1685260770.0630603, \"/Users/alvaroromangomez/.pyenv/versions/3.10.10/Library/Frameworks/Python.framework/Versions/3.10/lib/python3.10/cmd.py\": 1685228243.6387434, \"/Users/alvaroromangomez/.pyenv/versions/3.10.10/Library/Frameworks/Python.framework/Versions/3.10/lib/python3.10/bdb.py\": 1685228243.6005237, \"/Users/alvaroromangomez/.pyenv/versions/3.10.10/Library/Frameworks/Python.framework/Versions/3.10/lib/python3.10/codeop.py\": 1685228243.6545894, \"/Users/alvaroromangomez/.pyenv/versions/3.10.10/Library/Frameworks/Python.framework/Versions/3.10/lib/python3.10/code.py\": 1685228243.6436536, \"/Users/alvaroromangomez/.pyenv/versions/3.10.10/Library/Frameworks/Python.framework/Versions/3.10/lib/python3.10/pdb.py\": 1685228243.9646425, \"/Users/alvaroromangomez/.local/share/virtualenvs/tfm_alvaro-vnpVahGc/lib/python3.10/site-packages/IPython/core/debugger.py\": 1685260770.0593936, \"/Users/alvaroromangomez/.local/share/virtualenvs/tfm_alvaro-vnpVahGc/lib/python3.10/site-packages/IPython/core/display_trap.py\": 1685260770.0609543, \"/Users/alvaroromangomez/.local/share/virtualenvs/tfm_alvaro-vnpVahGc/lib/python3.10/site-packages/pexpect/exceptions.py\": 1685260767.1924036, \"/Users/alvaroromangomez/.local/share/virtualenvs/tfm_alvaro-vnpVahGc/lib/python3.10/site-packages/pexpect/utils.py\": 1685260767.1976242, \"/Users/alvaroromangomez/.local/share/virtualenvs/tfm_alvaro-vnpVahGc/lib/python3.10/site-packages/pexpect/expect.py\": 1685260767.1928551, \"/Users/alvaroromangomez/.pyenv/versions/3.10.10/Library/Frameworks/Python.framework/Versions/3.10/lib/python3.10/tty.py\": 1685228244.2737334, \"/Users/alvaroromangomez/.pyenv/versions/3.10.10/Library/Frameworks/Python.framework/Versions/3.10/lib/python3.10/pty.py\": 1685228244.034332, \"/Users/alvaroromangomez/.pyenv/versions/3.10.10/lib/python3.10/lib-dynload/resource.cpython-310-darwin.so\": 1685228210.0, \"/Users/alvaroromangomez/.local/share/virtualenvs/tfm_alvaro-vnpVahGc/lib/python3.10/site-packages/ptyprocess/util.py\": 1685260764.596253, \"/Users/alvaroromangomez/.local/share/virtualenvs/tfm_alvaro-vnpVahGc/lib/python3.10/site-packages/ptyprocess/ptyprocess.py\": 1685260764.595797, \"/Users/alvaroromangomez/.local/share/virtualenvs/tfm_alvaro-vnpVahGc/lib/python3.10/site-packages/ptyprocess/__init__.py\": 1685260764.5946121, \"/Users/alvaroromangomez/.local/share/virtualenvs/tfm_alvaro-vnpVahGc/lib/python3.10/site-packages/pexpect/spawnbase.py\": 1685260767.1971514, \"/Users/alvaroromangomez/.local/share/virtualenvs/tfm_alvaro-vnpVahGc/lib/python3.10/site-packages/pexpect/pty_spawn.py\": 1685260767.194381, \"/Users/alvaroromangomez/.local/share/virtualenvs/tfm_alvaro-vnpVahGc/lib/python3.10/site-packages/pexpect/run.py\": 1685260767.1959891, \"/Users/alvaroromangomez/.local/share/virtualenvs/tfm_alvaro-vnpVahGc/lib/python3.10/site-packages/pexpect/__init__.py\": 1685260767.1910386, \"/Users/alvaroromangomez/.pyenv/versions/3.10.10/Library/Frameworks/Python.framework/Versions/3.10/lib/python3.10/shlex.py\": 1685228244.1089306, \"/Users/alvaroromangomez/.local/share/virtualenvs/tfm_alvaro-vnpVahGc/lib/python3.10/site-packages/IPython/utils/_process_common.py\": 1685260770.1524901, \"/Users/alvaroromangomez/.local/share/virtualenvs/tfm_alvaro-vnpVahGc/lib/python3.10/site-packages/IPython/utils/_process_posix.py\": 1685260770.1530206, \"/Users/alvaroromangomez/.local/share/virtualenvs/tfm_alvaro-vnpVahGc/lib/python3.10/site-packages/IPython/utils/process.py\": 1685260770.1646976, \"/Users/alvaroromangomez/.local/share/virtualenvs/tfm_alvaro-vnpVahGc/lib/python3.10/site-packages/IPython/utils/path.py\": 1685260770.164216, \"/Users/alvaroromangomez/.local/share/virtualenvs/tfm_alvaro-vnpVahGc/lib/python3.10/site-packages/IPython/utils/terminal.py\": 1685260770.1686025, \"/Users/alvaroromangomez/.local/share/virtualenvs/tfm_alvaro-vnpVahGc/lib/python3.10/site-packages/IPython/core/ultratb.py\": 1685260770.0775673, \"/Users/alvaroromangomez/.local/share/virtualenvs/tfm_alvaro-vnpVahGc/lib/python3.10/site-packages/IPython/utils/_sysinfo.py\": 1685260770.1546476, \"/Users/alvaroromangomez/.local/share/virtualenvs/tfm_alvaro-vnpVahGc/lib/python3.10/site-packages/IPython/utils/sysinfo.py\": 1685260770.1673489, \"/Users/alvaroromangomez/.local/share/virtualenvs/tfm_alvaro-vnpVahGc/lib/python3.10/site-packages/IPython/core/crashhandler.py\": 1685260770.0587747, \"/Users/alvaroromangomez/.local/share/virtualenvs/tfm_alvaro-vnpVahGc/lib/python3.10/site-packages/IPython/utils/importstring.py\": 1685260770.1610143, \"/Users/alvaroromangomez/.local/share/virtualenvs/tfm_alvaro-vnpVahGc/lib/python3.10/site-packages/IPython/paths.py\": 1685260770.0528777, \"/Users/alvaroromangomez/.local/share/virtualenvs/tfm_alvaro-vnpVahGc/lib/python3.10/site-packages/IPython/core/profiledir.py\": 1685260770.0747166, \"/Users/alvaroromangomez/.local/share/virtualenvs/tfm_alvaro-vnpVahGc/lib/python3.10/site-packages/IPython/core/application.py\": 1685260770.0549042, \"/Users/alvaroromangomez/.local/share/virtualenvs/tfm_alvaro-vnpVahGc/lib/python3.10/site-packages/IPython/terminal/__init__.py\": 1685260770.126654, \"/Users/alvaroromangomez/.local/share/virtualenvs/tfm_alvaro-vnpVahGc/lib/python3.10/site-packages/IPython/core/compilerop.py\": 1685260770.0568013, \"/Users/alvaroromangomez/.local/share/virtualenvs/tfm_alvaro-vnpVahGc/lib/python3.10/site-packages/IPython/core/error.py\": 1685260770.0622277, \"/Users/alvaroromangomez/.local/share/virtualenvs/tfm_alvaro-vnpVahGc/lib/python3.10/site-packages/IPython/utils/docs.py\": 1685260770.1586754, \"/Users/alvaroromangomez/.local/share/virtualenvs/tfm_alvaro-vnpVahGc/lib/python3.10/site-packages/IPython/utils/decorators.py\": 1685260770.157841, \"/Users/alvaroromangomez/.local/share/virtualenvs/tfm_alvaro-vnpVahGc/lib/python3.10/site-packages/IPython/utils/text.py\": 1685260770.1690857, \"/Users/alvaroromangomez/.local/share/virtualenvs/tfm_alvaro-vnpVahGc/lib/python3.10/site-packages/IPython/core/magic_arguments.py\": 1685260770.0713418, \"/Users/alvaroromangomez/.pyenv/versions/3.10.10/Library/Frameworks/Python.framework/Versions/3.10/lib/python3.10/getopt.py\": 1685228243.7816052, \"/Users/alvaroromangomez/.local/share/virtualenvs/tfm_alvaro-vnpVahGc/lib/python3.10/site-packages/IPython/core/display_functions.py\": 1685260770.060537, \"/Users/alvaroromangomez/.pyenv/versions/3.10.10/Library/Frameworks/Python.framework/Versions/3.10/lib/python3.10/mimetypes.py\": 1685228243.8947053, \"/Users/alvaroromangomez/.local/share/virtualenvs/tfm_alvaro-vnpVahGc/lib/python3.10/site-packages/IPython/testing/__init__.py\": 1685260770.1411128, \"/Users/alvaroromangomez/.local/share/virtualenvs/tfm_alvaro-vnpVahGc/lib/python3.10/site-packages/IPython/testing/skipdoctest.py\": 1685260770.142965, \"/Users/alvaroromangomez/.local/share/virtualenvs/tfm_alvaro-vnpVahGc/lib/python3.10/site-packages/IPython/core/display.py\": 1685260770.060044, \"/Users/alvaroromangomez/.local/share/virtualenvs/tfm_alvaro-vnpVahGc/lib/python3.10/site-packages/IPython/lib/__init__.py\": 1685260770.1141531, \"/Users/alvaroromangomez/.local/share/virtualenvs/tfm_alvaro-vnpVahGc/lib/python3.10/site-packages/IPython/lib/display.py\": 1685260770.1166956, \"/Users/alvaroromangomez/.local/share/virtualenvs/tfm_alvaro-vnpVahGc/lib/python3.10/site-packages/IPython/display.py\": 1685260770.0523703, \"/Users/alvaroromangomez/.local/share/virtualenvs/tfm_alvaro-vnpVahGc/lib/python3.10/site-packages/IPython/utils/data.py\": 1685260770.157366, \"/Users/alvaroromangomez/.local/share/virtualenvs/tfm_alvaro-vnpVahGc/lib/python3.10/site-packages/IPython/core/page.py\": 1685260770.0723605, \"/Users/alvaroromangomez/.local/share/virtualenvs/tfm_alvaro-vnpVahGc/lib/python3.10/site-packages/IPython/lib/pretty.py\": 1685260770.1190448, \"/Users/alvaroromangomez/.local/share/virtualenvs/tfm_alvaro-vnpVahGc/lib/python3.10/site-packages/IPython/utils/openpy.py\": 1685260770.1637855, \"/Users/alvaroromangomez/.local/share/virtualenvs/tfm_alvaro-vnpVahGc/lib/python3.10/site-packages/IPython/utils/dir2.py\": 1685260770.1582818, \"/Users/alvaroromangomez/.local/share/virtualenvs/tfm_alvaro-vnpVahGc/lib/python3.10/site-packages/IPython/utils/wildcard.py\": 1685260770.1719856, \"/Users/alvaroromangomez/.local/share/virtualenvs/tfm_alvaro-vnpVahGc/lib/python3.10/site-packages/pygments/lexers/_mapping.py\": 1685260765.5289822, \"/Users/alvaroromangomez/.local/share/virtualenvs/tfm_alvaro-vnpVahGc/lib/python3.10/site-packages/pygments/modeline.py\": 1685260765.5110512, \"/Users/alvaroromangomez/.local/share/virtualenvs/tfm_alvaro-vnpVahGc/lib/python3.10/site-packages/pygments/lexers/__init__.py\": 1685260765.5221376, \"/Users/alvaroromangomez/.local/share/virtualenvs/tfm_alvaro-vnpVahGc/lib/python3.10/site-packages/pygments/filter.py\": 1685260765.509669, \"/Users/alvaroromangomez/.local/share/virtualenvs/tfm_alvaro-vnpVahGc/lib/python3.10/site-packages/pygments/filters/__init__.py\": 1685260765.5152972, \"/Users/alvaroromangomez/.local/share/virtualenvs/tfm_alvaro-vnpVahGc/lib/python3.10/site-packages/pygments/regexopt.py\": 1685260765.511827, \"/Users/alvaroromangomez/.local/share/virtualenvs/tfm_alvaro-vnpVahGc/lib/python3.10/site-packages/pygments/lexer.py\": 1685260765.5106356, \"/Users/alvaroromangomez/.local/share/virtualenvs/tfm_alvaro-vnpVahGc/lib/python3.10/site-packages/pygments/unistring.py\": 1685260765.5141344, \"/Users/alvaroromangomez/.local/share/virtualenvs/tfm_alvaro-vnpVahGc/lib/python3.10/site-packages/pygments/lexers/python.py\": 1685260765.6038396, \"/Users/alvaroromangomez/.local/share/virtualenvs/tfm_alvaro-vnpVahGc/lib/python3.10/site-packages/pygments/formatters/html.py\": 1685260765.5175223, \"/Users/alvaroromangomez/.local/share/virtualenvs/tfm_alvaro-vnpVahGc/lib/python3.10/site-packages/IPython/core/oinspect.py\": 1685260770.0719032, \"/Users/alvaroromangomez/.local/share/virtualenvs/tfm_alvaro-vnpVahGc/lib/python3.10/site-packages/IPython/core/inputtransformer2.py\": 1685260770.0678458, \"/Users/alvaroromangomez/.local/share/virtualenvs/tfm_alvaro-vnpVahGc/lib/python3.10/site-packages/IPython/core/magic.py\": 1685260770.0708337, \"/Users/alvaroromangomez/.local/share/virtualenvs/tfm_alvaro-vnpVahGc/lib/python3.10/site-packages/pickleshare.py\": 1685260764.6112099, \"/Users/alvaroromangomez/.local/share/virtualenvs/tfm_alvaro-vnpVahGc/lib/python3.10/site-packages/IPython/core/hooks.py\": 1685260770.0662947, \"/Users/alvaroromangomez/.local/share/virtualenvs/tfm_alvaro-vnpVahGc/lib/python3.10/site-packages/IPython/core/autocall.py\": 1685260770.0558448, \"/Users/alvaroromangomez/.local/share/virtualenvs/tfm_alvaro-vnpVahGc/lib/python3.10/site-packages/IPython/core/macro.py\": 1685260770.0703173, \"/Users/alvaroromangomez/.local/share/virtualenvs/tfm_alvaro-vnpVahGc/lib/python3.10/site-packages/IPython/core/splitinput.py\": 1685260770.0769541, \"/Users/alvaroromangomez/.local/share/virtualenvs/tfm_alvaro-vnpVahGc/lib/python3.10/site-packages/IPython/core/prefilter.py\": 1685260770.0737576, \"/Users/alvaroromangomez/.local/share/virtualenvs/tfm_alvaro-vnpVahGc/lib/python3.10/site-packages/IPython/core/alias.py\": 1685260770.0542312, \"/Users/alvaroromangomez/.local/share/virtualenvs/tfm_alvaro-vnpVahGc/lib/python3.10/site-packages/IPython/core/builtin_trap.py\": 1685260770.0562868, \"/Users/alvaroromangomez/.local/share/virtualenvs/tfm_alvaro-vnpVahGc/lib/python3.10/site-packages/IPython/core/displayhook.py\": 1685260770.0614116, \"/Users/alvaroromangomez/.local/share/virtualenvs/tfm_alvaro-vnpVahGc/lib/python3.10/site-packages/IPython/core/displaypub.py\": 1685260770.0618284, \"/Users/alvaroromangomez/.local/share/virtualenvs/tfm_alvaro-vnpVahGc/lib/python3.10/site-packages/backcall/backcall.py\": 1685260764.6496558, \"/Users/alvaroromangomez/.local/share/virtualenvs/tfm_alvaro-vnpVahGc/lib/python3.10/site-packages/backcall/__init__.py\": 1685260764.6484, \"/Users/alvaroromangomez/.local/share/virtualenvs/tfm_alvaro-vnpVahGc/lib/python3.10/site-packages/IPython/core/events.py\": 1685260770.0626168, \"/Users/alvaroromangomez/.local/share/virtualenvs/tfm_alvaro-vnpVahGc/lib/python3.10/site-packages/IPython/core/extensions.py\": 1685260770.0634549, \"/Users/alvaroromangomez/.local/share/virtualenvs/tfm_alvaro-vnpVahGc/lib/python3.10/site-packages/decorator.py\": 1685260767.3846076, \"/Users/alvaroromangomez/.local/share/virtualenvs/tfm_alvaro-vnpVahGc/lib/python3.10/site-packages/IPython/utils/sentinel.py\": 1685260770.1655095, \"/Users/alvaroromangomez/.local/share/virtualenvs/tfm_alvaro-vnpVahGc/lib/python3.10/site-packages/IPython/core/formatters.py\": 1685260770.0640013, \"/Users/alvaroromangomez/.pyenv/versions/3.10.10/lib/python3.10/lib-dynload/_sqlite3.cpython-310-darwin.so\": 1685228216.0, \"/Users/alvaroromangomez/.pyenv/versions/3.10.10/Library/Frameworks/Python.framework/Versions/3.10/lib/python3.10/sqlite3/dbapi2.py\": 1685228247.1428185, \"/Users/alvaroromangomez/.pyenv/versions/3.10.10/Library/Frameworks/Python.framework/Versions/3.10/lib/python3.10/sqlite3/__init__.py\": 1685228247.1381009, \"/Users/alvaroromangomez/.local/share/virtualenvs/tfm_alvaro-vnpVahGc/lib/python3.10/site-packages/IPython/core/history.py\": 1685260770.0654285, \"/Users/alvaroromangomez/.local/share/virtualenvs/tfm_alvaro-vnpVahGc/lib/python3.10/site-packages/IPython/core/logger.py\": 1685260770.0699317, \"/Users/alvaroromangomez/.local/share/virtualenvs/tfm_alvaro-vnpVahGc/lib/python3.10/site-packages/IPython/core/payload.py\": 1685260770.0727534, \"/Users/alvaroromangomez/.local/share/virtualenvs/tfm_alvaro-vnpVahGc/lib/python3.10/site-packages/IPython/core/usage.py\": 1685260770.0780272, \"/Users/alvaroromangomez/.local/share/virtualenvs/tfm_alvaro-vnpVahGc/lib/python3.10/site-packages/IPython/utils/capture.py\": 1685260770.1551073, \"/Users/alvaroromangomez/.local/share/virtualenvs/tfm_alvaro-vnpVahGc/lib/python3.10/site-packages/IPython/utils/io.py\": 1685260770.1614861, \"/Users/alvaroromangomez/.local/share/virtualenvs/tfm_alvaro-vnpVahGc/lib/python3.10/site-packages/IPython/utils/strdispatch.py\": 1685260770.1669345, \"/Users/alvaroromangomez/.local/share/virtualenvs/tfm_alvaro-vnpVahGc/lib/python3.10/site-packages/IPython/utils/syspathcontext.py\": 1685260770.1677542, \"/Users/alvaroromangomez/.local/share/virtualenvs/tfm_alvaro-vnpVahGc/lib/python3.10/site-packages/IPython/core/async_helpers.py\": 1685260770.055407, \"/Users/alvaroromangomez/.local/share/virtualenvs/tfm_alvaro-vnpVahGc/lib/python3.10/site-packages/IPython/core/interactiveshell.py\": 1685260770.0689425, \"/Users/alvaroromangomez/.local/share/virtualenvs/tfm_alvaro-vnpVahGc/lib/python3.10/site-packages/prompt_toolkit/application/current.py\": 1685260766.749123, \"/Users/alvaroromangomez/.local/share/virtualenvs/tfm_alvaro-vnpVahGc/lib/python3.10/site-packages/prompt_toolkit/eventloop/utils.py\": 1685260766.7634583, \"/Users/alvaroromangomez/.local/share/virtualenvs/tfm_alvaro-vnpVahGc/lib/python3.10/site-packages/prompt_toolkit/eventloop/async_generator.py\": 1685260766.762644, \"/Users/alvaroromangomez/.local/share/virtualenvs/tfm_alvaro-vnpVahGc/lib/python3.10/site-packages/prompt_toolkit/eventloop/inputhook.py\": 1685260766.763052, \"/Users/alvaroromangomez/.local/share/virtualenvs/tfm_alvaro-vnpVahGc/lib/python3.10/site-packages/prompt_toolkit/eventloop/__init__.py\": 1685260766.7622118, \"/Users/alvaroromangomez/.local/share/virtualenvs/tfm_alvaro-vnpVahGc/lib/python3.10/site-packages/prompt_toolkit/application/run_in_terminal.py\": 1685260766.7499816, \"/Users/alvaroromangomez/.local/share/virtualenvs/tfm_alvaro-vnpVahGc/lib/python3.10/site-packages/prompt_toolkit/selection.py\": 1685260766.7456837, \"/Users/alvaroromangomez/.local/share/virtualenvs/tfm_alvaro-vnpVahGc/lib/python3.10/site-packages/prompt_toolkit/clipboard/base.py\": 1685260766.7508063, \"/Users/alvaroromangomez/.local/share/virtualenvs/tfm_alvaro-vnpVahGc/lib/python3.10/site-packages/prompt_toolkit/clipboard/in_memory.py\": 1685260766.7511754, \"/Users/alvaroromangomez/.local/share/virtualenvs/tfm_alvaro-vnpVahGc/lib/python3.10/site-packages/prompt_toolkit/clipboard/__init__.py\": 1685260766.750426, \"/Users/alvaroromangomez/.local/share/virtualenvs/tfm_alvaro-vnpVahGc/lib/python3.10/site-packages/prompt_toolkit/cache.py\": 1685260766.7401376, \"/Users/alvaroromangomez/.local/share/virtualenvs/tfm_alvaro-vnpVahGc/lib/python3.10/site-packages/prompt_toolkit/enums.py\": 1685260766.7418962, \"/Users/alvaroromangomez/.local/share/virtualenvs/tfm_alvaro-vnpVahGc/lib/python3.10/site-packages/prompt_toolkit/filters/base.py\": 1685260766.7655187, \"/Users/alvaroromangomez/.local/share/virtualenvs/tfm_alvaro-vnpVahGc/lib/python3.10/site-packages/prompt_toolkit/filters/app.py\": 1685260766.7650454, \"/Users/alvaroromangomez/.local/share/virtualenvs/tfm_alvaro-vnpVahGc/lib/python3.10/site-packages/prompt_toolkit/filters/cli.py\": 1685260766.7659662, \"/Users/alvaroromangomez/.local/share/virtualenvs/tfm_alvaro-vnpVahGc/lib/python3.10/site-packages/prompt_toolkit/filters/utils.py\": 1685260766.7665074, \"/Users/alvaroromangomez/.local/share/virtualenvs/tfm_alvaro-vnpVahGc/lib/python3.10/site-packages/prompt_toolkit/filters/__init__.py\": 1685260766.7643666, \"/Users/alvaroromangomez/.local/share/virtualenvs/tfm_alvaro-vnpVahGc/lib/python3.10/site-packages/prompt_toolkit/document.py\": 1685260766.7414849, \"/Users/alvaroromangomez/.local/share/virtualenvs/tfm_alvaro-vnpVahGc/lib/python3.10/site-packages/prompt_toolkit/auto_suggest.py\": 1685260766.7389088, \"/Users/alvaroromangomez/.local/share/virtualenvs/tfm_alvaro-vnpVahGc/lib/python3.10/site-packages/prompt_toolkit/keys.py\": 1685260766.7427726, \"/Users/alvaroromangomez/.local/share/virtualenvs/tfm_alvaro-vnpVahGc/lib/python3.10/site-packages/prompt_toolkit/key_binding/key_bindings.py\": 1685260766.7765987, \"/Users/alvaroromangomez/.local/share/virtualenvs/tfm_alvaro-vnpVahGc/lib/python3.10/site-packages/wcwidth/table_wide.py\": 1685260764.508661, \"/Users/alvaroromangomez/.local/share/virtualenvs/tfm_alvaro-vnpVahGc/lib/python3.10/site-packages/wcwidth/table_zero.py\": 1685260764.50964, \"/Users/alvaroromangomez/.local/share/virtualenvs/tfm_alvaro-vnpVahGc/lib/python3.10/site-packages/wcwidth/unicode_versions.py\": 1685260764.5100794, \"/Users/alvaroromangomez/.local/share/virtualenvs/tfm_alvaro-vnpVahGc/lib/python3.10/site-packages/wcwidth/wcwidth.py\": 1685260764.5105696, \"/Users/alvaroromangomez/.local/share/virtualenvs/tfm_alvaro-vnpVahGc/lib/python3.10/site-packages/wcwidth/__init__.py\": 1685260764.5080438, \"/Users/alvaroromangomez/.local/share/virtualenvs/tfm_alvaro-vnpVahGc/lib/python3.10/site-packages/prompt_toolkit/utils.py\": 1685260766.7465796, \"/Users/alvaroromangomez/.local/share/virtualenvs/tfm_alvaro-vnpVahGc/lib/python3.10/site-packages/prompt_toolkit/key_binding/key_processor.py\": 1685260766.7770712, \"/Users/alvaroromangomez/.local/share/virtualenvs/tfm_alvaro-vnpVahGc/lib/python3.10/site-packages/prompt_toolkit/key_binding/__init__.py\": 1685260766.774653, \"/Users/alvaroromangomez/.local/share/virtualenvs/tfm_alvaro-vnpVahGc/lib/python3.10/site-packages/prompt_toolkit/key_binding/vi_state.py\": 1685260766.7774656, \"/Users/alvaroromangomez/.local/share/virtualenvs/tfm_alvaro-vnpVahGc/lib/python3.10/site-packages/prompt_toolkit/cursor_shapes.py\": 1685260766.7405336, \"/Users/alvaroromangomez/.local/share/virtualenvs/tfm_alvaro-vnpVahGc/lib/python3.10/site-packages/prompt_toolkit/data_structures.py\": 1685260766.7409256, \"/Users/alvaroromangomez/.local/share/virtualenvs/tfm_alvaro-vnpVahGc/lib/python3.10/site-packages/prompt_toolkit/styles/base.py\": 1685260766.802076, \"/Users/alvaroromangomez/.local/share/virtualenvs/tfm_alvaro-vnpVahGc/lib/python3.10/site-packages/prompt_toolkit/styles/named_colors.py\": 1685260766.8030808, \"/Users/alvaroromangomez/.local/share/virtualenvs/tfm_alvaro-vnpVahGc/lib/python3.10/site-packages/prompt_toolkit/styles/style.py\": 1685260766.8041804, \"/Users/alvaroromangomez/.local/share/virtualenvs/tfm_alvaro-vnpVahGc/lib/python3.10/site-packages/prompt_toolkit/styles/defaults.py\": 1685260766.8026054, \"/Users/alvaroromangomez/.local/share/virtualenvs/tfm_alvaro-vnpVahGc/lib/python3.10/site-packages/prompt_toolkit/styles/pygments.py\": 1685260766.803635, \"/Users/alvaroromangomez/.pyenv/versions/3.10.10/Library/Frameworks/Python.framework/Versions/3.10/lib/python3.10/colorsys.py\": 1685228243.660392, \"/Users/alvaroromangomez/.local/share/virtualenvs/tfm_alvaro-vnpVahGc/lib/python3.10/site-packages/prompt_toolkit/styles/style_transformation.py\": 1685260766.8046575, \"/Users/alvaroromangomez/.local/share/virtualenvs/tfm_alvaro-vnpVahGc/lib/python3.10/site-packages/prompt_toolkit/styles/__init__.py\": 1685260766.8015757, \"/Users/alvaroromangomez/.local/share/virtualenvs/tfm_alvaro-vnpVahGc/lib/python3.10/site-packages/prompt_toolkit/output/color_depth.py\": 1685260766.793248, \"/Users/alvaroromangomez/.local/share/virtualenvs/tfm_alvaro-vnpVahGc/lib/python3.10/site-packages/prompt_toolkit/output/base.py\": 1685260766.7928345, \"/Users/alvaroromangomez/.local/share/virtualenvs/tfm_alvaro-vnpVahGc/lib/python3.10/site-packages/prompt_toolkit/output/flush_stdout.py\": 1685260766.7950137, \"/Users/alvaroromangomez/.local/share/virtualenvs/tfm_alvaro-vnpVahGc/lib/python3.10/site-packages/prompt_toolkit/output/plain_text.py\": 1685260766.79561, \"/Users/alvaroromangomez/.local/share/virtualenvs/tfm_alvaro-vnpVahGc/lib/python3.10/site-packages/prompt_toolkit/output/defaults.py\": 1685260766.79429, \"/Users/alvaroromangomez/.local/share/virtualenvs/tfm_alvaro-vnpVahGc/lib/python3.10/site-packages/prompt_toolkit/output/__init__.py\": 1685260766.7923903, \"/Users/alvaroromangomez/.local/share/virtualenvs/tfm_alvaro-vnpVahGc/lib/python3.10/site-packages/prompt_toolkit/output/vt100.py\": 1685260766.7961972, \"/Users/alvaroromangomez/.local/share/virtualenvs/tfm_alvaro-vnpVahGc/lib/python3.10/site-packages/prompt_toolkit/mouse_events.py\": 1685260766.7435553, \"/Users/alvaroromangomez/.local/share/virtualenvs/tfm_alvaro-vnpVahGc/lib/python3.10/site-packages/prompt_toolkit/formatted_text/base.py\": 1685260766.7679217, \"/Users/alvaroromangomez/.local/share/virtualenvs/tfm_alvaro-vnpVahGc/lib/python3.10/site-packages/prompt_toolkit/formatted_text/ansi.py\": 1685260766.767494, \"/Users/alvaroromangomez/.pyenv/versions/3.10.10/Library/Frameworks/Python.framework/Versions/3.10/lib/python3.10/xml/__init__.py\": 1685228247.5988402, \"/Users/alvaroromangomez/.pyenv/versions/3.10.10/Library/Frameworks/Python.framework/Versions/3.10/lib/python3.10/xml/dom/domreg.py\": 1685228247.6265879, \"/Users/alvaroromangomez/.pyenv/versions/3.10.10/Library/Frameworks/Python.framework/Versions/3.10/lib/python3.10/xml/dom/__init__.py\": 1685228247.6205218, \"/Users/alvaroromangomez/.pyenv/versions/3.10.10/Library/Frameworks/Python.framework/Versions/3.10/lib/python3.10/xml/dom/minicompat.py\": 1685228247.6389623, \"/Users/alvaroromangomez/.pyenv/versions/3.10.10/Library/Frameworks/Python.framework/Versions/3.10/lib/python3.10/xml/dom/NodeFilter.py\": 1685228247.6147435, \"/Users/alvaroromangomez/.pyenv/versions/3.10.10/Library/Frameworks/Python.framework/Versions/3.10/lib/python3.10/xml/dom/xmlbuilder.py\": 1685228247.6565218, \"/Users/alvaroromangomez/.pyenv/versions/3.10.10/Library/Frameworks/Python.framework/Versions/3.10/lib/python3.10/xml/dom/minidom.py\": 1685228247.645354, \"/Users/alvaroromangomez/.local/share/virtualenvs/tfm_alvaro-vnpVahGc/lib/python3.10/site-packages/prompt_toolkit/formatted_text/html.py\": 1685260766.7683198, \"/Users/alvaroromangomez/.local/share/virtualenvs/tfm_alvaro-vnpVahGc/lib/python3.10/site-packages/prompt_toolkit/formatted_text/pygments.py\": 1685260766.7688336, \"/Users/alvaroromangomez/.local/share/virtualenvs/tfm_alvaro-vnpVahGc/lib/python3.10/site-packages/prompt_toolkit/formatted_text/utils.py\": 1685260766.7692268, \"/Users/alvaroromangomez/.local/share/virtualenvs/tfm_alvaro-vnpVahGc/lib/python3.10/site-packages/prompt_toolkit/formatted_text/__init__.py\": 1685260766.767034, \"/Users/alvaroromangomez/.local/share/virtualenvs/tfm_alvaro-vnpVahGc/lib/python3.10/site-packages/prompt_toolkit/completion/base.py\": 1685260766.7524655, \"/Users/alvaroromangomez/.local/share/virtualenvs/tfm_alvaro-vnpVahGc/lib/python3.10/site-packages/prompt_toolkit/completion/deduplicate.py\": 1685260766.752878, \"/Users/alvaroromangomez/.local/share/virtualenvs/tfm_alvaro-vnpVahGc/lib/python3.10/site-packages/prompt_toolkit/completion/filesystem.py\": 1685260766.7533507, \"/Users/alvaroromangomez/.local/share/virtualenvs/tfm_alvaro-vnpVahGc/lib/python3.10/site-packages/prompt_toolkit/completion/word_completer.py\": 1685260766.7546465, \"/Users/alvaroromangomez/.local/share/virtualenvs/tfm_alvaro-vnpVahGc/lib/python3.10/site-packages/prompt_toolkit/completion/fuzzy_completer.py\": 1685260766.753794, \"/Users/alvaroromangomez/.local/share/virtualenvs/tfm_alvaro-vnpVahGc/lib/python3.10/site-packages/prompt_toolkit/completion/nested.py\": 1685260766.7542055, \"/Users/alvaroromangomez/.local/share/virtualenvs/tfm_alvaro-vnpVahGc/lib/python3.10/site-packages/prompt_toolkit/completion/__init__.py\": 1685260766.7520132, \"/Users/alvaroromangomez/.local/share/virtualenvs/tfm_alvaro-vnpVahGc/lib/python3.10/site-packages/prompt_toolkit/history.py\": 1685260766.7423577, \"/Users/alvaroromangomez/.local/share/virtualenvs/tfm_alvaro-vnpVahGc/lib/python3.10/site-packages/prompt_toolkit/search.py\": 1685260766.7452788, \"/Users/alvaroromangomez/.local/share/virtualenvs/tfm_alvaro-vnpVahGc/lib/python3.10/site-packages/prompt_toolkit/validation.py\": 1685260766.7470148, \"/Users/alvaroromangomez/.local/share/virtualenvs/tfm_alvaro-vnpVahGc/lib/python3.10/site-packages/prompt_toolkit/buffer.py\": 1685260766.7396653, \"/Users/alvaroromangomez/.local/share/virtualenvs/tfm_alvaro-vnpVahGc/lib/python3.10/site-packages/prompt_toolkit/input/base.py\": 1685260766.7706444, \"/Users/alvaroromangomez/.local/share/virtualenvs/tfm_alvaro-vnpVahGc/lib/python3.10/site-packages/prompt_toolkit/input/defaults.py\": 1685260766.7710528, \"/Users/alvaroromangomez/.local/share/virtualenvs/tfm_alvaro-vnpVahGc/lib/python3.10/site-packages/prompt_toolkit/input/__init__.py\": 1685260766.7696643, \"/Users/alvaroromangomez/.local/share/virtualenvs/tfm_alvaro-vnpVahGc/lib/python3.10/site-packages/prompt_toolkit/input/typeahead.py\": 1685260766.772316, \"/Users/alvaroromangomez/.local/share/virtualenvs/tfm_alvaro-vnpVahGc/lib/python3.10/site-packages/prompt_toolkit/key_binding/bindings/__init__.py\": 1685260766.7778556, \"/Users/alvaroromangomez/.local/share/virtualenvs/tfm_alvaro-vnpVahGc/lib/python3.10/site-packages/prompt_toolkit/key_binding/bindings/scroll.py\": 1685260766.7826917, \"/Users/alvaroromangomez/.local/share/virtualenvs/tfm_alvaro-vnpVahGc/lib/python3.10/site-packages/prompt_toolkit/key_binding/bindings/page_navigation.py\": 1685260766.782274, \"/Users/alvaroromangomez/.local/share/virtualenvs/tfm_alvaro-vnpVahGc/lib/python3.10/site-packages/prompt_toolkit/lexers/base.py\": 1685260766.7913206, \"/Users/alvaroromangomez/.local/share/virtualenvs/tfm_alvaro-vnpVahGc/lib/python3.10/site-packages/prompt_toolkit/lexers/pygments.py\": 1685260766.7918723, \"/Users/alvaroromangomez/.local/share/virtualenvs/tfm_alvaro-vnpVahGc/lib/python3.10/site-packages/prompt_toolkit/lexers/__init__.py\": 1685260766.7908182, \"/Users/alvaroromangomez/.local/share/virtualenvs/tfm_alvaro-vnpVahGc/lib/python3.10/site-packages/prompt_toolkit/layout/utils.py\": 1685260766.7902734, \"/Users/alvaroromangomez/.local/share/virtualenvs/tfm_alvaro-vnpVahGc/lib/python3.10/site-packages/prompt_toolkit/layout/processors.py\": 1685260766.7888856, \"/Users/alvaroromangomez/.local/share/virtualenvs/tfm_alvaro-vnpVahGc/lib/python3.10/site-packages/prompt_toolkit/layout/controls.py\": 1685260766.7856421, \"/Users/alvaroromangomez/.local/share/virtualenvs/tfm_alvaro-vnpVahGc/lib/python3.10/site-packages/prompt_toolkit/layout/dimension.py\": 1685260766.7860627, \"/Users/alvaroromangomez/.local/share/virtualenvs/tfm_alvaro-vnpVahGc/lib/python3.10/site-packages/prompt_toolkit/layout/margins.py\": 1685260766.7873712, \"/Users/alvaroromangomez/.local/share/virtualenvs/tfm_alvaro-vnpVahGc/lib/python3.10/site-packages/prompt_toolkit/layout/mouse_handlers.py\": 1685260766.7883446, \"/Users/alvaroromangomez/.local/share/virtualenvs/tfm_alvaro-vnpVahGc/lib/python3.10/site-packages/prompt_toolkit/layout/screen.py\": 1685260766.7893467, \"/Users/alvaroromangomez/.local/share/virtualenvs/tfm_alvaro-vnpVahGc/lib/python3.10/site-packages/prompt_toolkit/layout/containers.py\": 1685260766.785081, \"/Users/alvaroromangomez/.local/share/virtualenvs/tfm_alvaro-vnpVahGc/lib/python3.10/site-packages/prompt_toolkit/layout/layout.py\": 1685260766.7869081, \"/Users/alvaroromangomez/.local/share/virtualenvs/tfm_alvaro-vnpVahGc/lib/python3.10/site-packages/prompt_toolkit/layout/menus.py\": 1685260766.7879312, \"/Users/alvaroromangomez/.local/share/virtualenvs/tfm_alvaro-vnpVahGc/lib/python3.10/site-packages/prompt_toolkit/layout/scrollable_pane.py\": 1685260766.7898436, \"/Users/alvaroromangomez/.local/share/virtualenvs/tfm_alvaro-vnpVahGc/lib/python3.10/site-packages/prompt_toolkit/layout/__init__.py\": 1685260766.784331, \"/Users/alvaroromangomez/.local/share/virtualenvs/tfm_alvaro-vnpVahGc/lib/python3.10/site-packages/prompt_toolkit/key_binding/bindings/completion.py\": 1685260766.7791655, \"/Users/alvaroromangomez/.local/share/virtualenvs/tfm_alvaro-vnpVahGc/lib/python3.10/site-packages/prompt_toolkit/key_binding/bindings/named_commands.py\": 1685260766.7814429, \"/Users/alvaroromangomez/.local/share/virtualenvs/tfm_alvaro-vnpVahGc/lib/python3.10/site-packages/prompt_toolkit/key_binding/bindings/basic.py\": 1685260766.778733, \"/Users/alvaroromangomez/.local/share/virtualenvs/tfm_alvaro-vnpVahGc/lib/python3.10/site-packages/prompt_toolkit/key_binding/bindings/cpr.py\": 1685260766.7795732, \"/Users/alvaroromangomez/.local/share/virtualenvs/tfm_alvaro-vnpVahGc/lib/python3.10/site-packages/prompt_toolkit/key_binding/bindings/emacs.py\": 1685260766.7800896, \"/Users/alvaroromangomez/.local/share/virtualenvs/tfm_alvaro-vnpVahGc/lib/python3.10/site-packages/prompt_toolkit/key_binding/bindings/mouse.py\": 1685260766.7809627, \"/Users/alvaroromangomez/.local/share/virtualenvs/tfm_alvaro-vnpVahGc/lib/python3.10/site-packages/prompt_toolkit/input/ansi_escape_sequences.py\": 1685260766.7701023, \"/Users/alvaroromangomez/.local/share/virtualenvs/tfm_alvaro-vnpVahGc/lib/python3.10/site-packages/prompt_toolkit/input/vt100_parser.py\": 1685260766.7732127, \"/Users/alvaroromangomez/.local/share/virtualenvs/tfm_alvaro-vnpVahGc/lib/python3.10/site-packages/prompt_toolkit/key_binding/digraphs.py\": 1685260766.7756214, \"/Users/alvaroromangomez/.local/share/virtualenvs/tfm_alvaro-vnpVahGc/lib/python3.10/site-packages/prompt_toolkit/key_binding/bindings/vi.py\": 1685260766.783791, \"/Users/alvaroromangomez/.local/share/virtualenvs/tfm_alvaro-vnpVahGc/lib/python3.10/site-packages/prompt_toolkit/key_binding/defaults.py\": 1685260766.7750967, \"/Users/alvaroromangomez/.local/share/virtualenvs/tfm_alvaro-vnpVahGc/lib/python3.10/site-packages/prompt_toolkit/key_binding/emacs_state.py\": 1685260766.7761114, \"/Users/alvaroromangomez/.local/share/virtualenvs/tfm_alvaro-vnpVahGc/lib/python3.10/site-packages/prompt_toolkit/layout/dummy.py\": 1685260766.78646, \"/Users/alvaroromangomez/.local/share/virtualenvs/tfm_alvaro-vnpVahGc/lib/python3.10/site-packages/prompt_toolkit/renderer.py\": 1685260766.7448382, \"/Users/alvaroromangomez/.local/share/virtualenvs/tfm_alvaro-vnpVahGc/lib/python3.10/site-packages/prompt_toolkit/application/application.py\": 1685260766.748663, \"/Users/alvaroromangomez/.local/share/virtualenvs/tfm_alvaro-vnpVahGc/lib/python3.10/site-packages/prompt_toolkit/application/dummy.py\": 1685260766.7495334, \"/Users/alvaroromangomez/.local/share/virtualenvs/tfm_alvaro-vnpVahGc/lib/python3.10/site-packages/prompt_toolkit/application/__init__.py\": 1685260766.7479358, \"/Users/alvaroromangomez/.local/share/virtualenvs/tfm_alvaro-vnpVahGc/lib/python3.10/site-packages/prompt_toolkit/key_binding/bindings/focus.py\": 1685260766.7804978, \"/Users/alvaroromangomez/.local/share/virtualenvs/tfm_alvaro-vnpVahGc/lib/python3.10/site-packages/prompt_toolkit/widgets/toolbars.py\": 1685260766.8070836, \"/Users/alvaroromangomez/.local/share/virtualenvs/tfm_alvaro-vnpVahGc/lib/python3.10/site-packages/prompt_toolkit/widgets/base.py\": 1685260766.8056936, \"/Users/alvaroromangomez/.local/share/virtualenvs/tfm_alvaro-vnpVahGc/lib/python3.10/site-packages/prompt_toolkit/widgets/dialogs.py\": 1685260766.8061757, \"/Users/alvaroromangomez/.local/share/virtualenvs/tfm_alvaro-vnpVahGc/lib/python3.10/site-packages/prompt_toolkit/widgets/menus.py\": 1685260766.806591, \"/Users/alvaroromangomez/.local/share/virtualenvs/tfm_alvaro-vnpVahGc/lib/python3.10/site-packages/prompt_toolkit/widgets/__init__.py\": 1685260766.8051329, \"/Users/alvaroromangomez/.local/share/virtualenvs/tfm_alvaro-vnpVahGc/lib/python3.10/site-packages/prompt_toolkit/shortcuts/dialogs.py\": 1685260766.7983024, \"/Users/alvaroromangomez/.local/share/virtualenvs/tfm_alvaro-vnpVahGc/lib/python3.10/site-packages/prompt_toolkit/shortcuts/progress_bar/formatters.py\": 1685260766.8008578, \"/Users/alvaroromangomez/.local/share/virtualenvs/tfm_alvaro-vnpVahGc/lib/python3.10/site-packages/prompt_toolkit/shortcuts/progress_bar/base.py\": 1685260766.80032, \"/Users/alvaroromangomez/.local/share/virtualenvs/tfm_alvaro-vnpVahGc/lib/python3.10/site-packages/prompt_toolkit/shortcuts/progress_bar/__init__.py\": 1685260766.7998602, \"/Users/alvaroromangomez/.local/share/virtualenvs/tfm_alvaro-vnpVahGc/lib/python3.10/site-packages/prompt_toolkit/key_binding/bindings/auto_suggest.py\": 1685260766.778324, \"/Users/alvaroromangomez/.local/share/virtualenvs/tfm_alvaro-vnpVahGc/lib/python3.10/site-packages/prompt_toolkit/key_binding/bindings/open_in_editor.py\": 1685260766.7818701, \"/Users/alvaroromangomez/.local/share/virtualenvs/tfm_alvaro-vnpVahGc/lib/python3.10/site-packages/prompt_toolkit/shortcuts/prompt.py\": 1685260766.7988894, \"/Users/alvaroromangomez/.local/share/virtualenvs/tfm_alvaro-vnpVahGc/lib/python3.10/site-packages/prompt_toolkit/shortcuts/utils.py\": 1685260766.799367, \"/Users/alvaroromangomez/.local/share/virtualenvs/tfm_alvaro-vnpVahGc/lib/python3.10/site-packages/prompt_toolkit/shortcuts/__init__.py\": 1685260766.7978914, \"/Users/alvaroromangomez/.local/share/virtualenvs/tfm_alvaro-vnpVahGc/lib/python3.10/site-packages/prompt_toolkit/__init__.py\": 1685260766.7384806, \"/Users/alvaroromangomez/.local/share/virtualenvs/tfm_alvaro-vnpVahGc/lib/python3.10/site-packages/prompt_toolkit/patch_stdout.py\": 1685260766.743985, \"/Users/alvaroromangomez/.pyenv/versions/3.10.10/lib/python3.10/lib-dynload/unicodedata.cpython-310-darwin.so\": 1685228208.0, \"/Users/alvaroromangomez/.local/share/virtualenvs/tfm_alvaro-vnpVahGc/lib/python3.10/site-packages/IPython/core/guarded_eval.py\": 1685260770.0648842, \"/Users/alvaroromangomez/.local/share/virtualenvs/tfm_alvaro-vnpVahGc/lib/python3.10/site-packages/IPython/core/latex_symbols.py\": 1685260770.0694861, \"/Users/alvaroromangomez/.local/share/virtualenvs/tfm_alvaro-vnpVahGc/lib/python3.10/site-packages/IPython/utils/generics.py\": 1685260770.1605632, \"/Users/alvaroromangomez/.local/share/virtualenvs/tfm_alvaro-vnpVahGc/lib/python3.10/site-packages/parso/utils.py\": 1685260767.243446, \"/Users/alvaroromangomez/.local/share/virtualenvs/tfm_alvaro-vnpVahGc/lib/python3.10/site-packages/parso/tree.py\": 1685260767.2430243, \"/Users/alvaroromangomez/.local/share/virtualenvs/tfm_alvaro-vnpVahGc/lib/python3.10/site-packages/parso/python/__init__.py\": 1685260767.2452297, \"/Users/alvaroromangomez/.local/share/virtualenvs/tfm_alvaro-vnpVahGc/lib/python3.10/site-packages/parso/python/token.py\": 1685260767.2514613, \"/Users/alvaroromangomez/.local/share/virtualenvs/tfm_alvaro-vnpVahGc/lib/python3.10/site-packages/parso/python/tokenize.py\": 1685260767.251974, \"/Users/alvaroromangomez/.local/share/virtualenvs/tfm_alvaro-vnpVahGc/lib/python3.10/site-packages/parso/pgen2/grammar_parser.py\": 1685260767.2448745, \"/Users/alvaroromangomez/.local/share/virtualenvs/tfm_alvaro-vnpVahGc/lib/python3.10/site-packages/parso/pgen2/generator.py\": 1685260767.2444417, \"/Users/alvaroromangomez/.local/share/virtualenvs/tfm_alvaro-vnpVahGc/lib/python3.10/site-packages/parso/pgen2/__init__.py\": 1685260767.243979, \"/Users/alvaroromangomez/.local/share/virtualenvs/tfm_alvaro-vnpVahGc/lib/python3.10/site-packages/parso/parser.py\": 1685260767.2422776, \"/Users/alvaroromangomez/.local/share/virtualenvs/tfm_alvaro-vnpVahGc/lib/python3.10/site-packages/parso/_compatibility.py\": 1685260767.2400591, \"/Users/alvaroromangomez/.pyenv/versions/3.10.10/Library/Frameworks/Python.framework/Versions/3.10/lib/python3.10/difflib.py\": 1685228243.7270732, \"/Users/alvaroromangomez/.local/share/virtualenvs/tfm_alvaro-vnpVahGc/lib/python3.10/site-packages/parso/python/prefix.py\": 1685260767.2510366, \"/Users/alvaroromangomez/.local/share/virtualenvs/tfm_alvaro-vnpVahGc/lib/python3.10/site-packages/parso/python/tree.py\": 1685260767.2525454, \"/Users/alvaroromangomez/.local/share/virtualenvs/tfm_alvaro-vnpVahGc/lib/python3.10/site-packages/parso/python/parser.py\": 1685260767.2499993, \"/Users/alvaroromangomez/.local/share/virtualenvs/tfm_alvaro-vnpVahGc/lib/python3.10/site-packages/parso/python/diff.py\": 1685260767.2458086, \"/Users/alvaroromangomez/.local/share/virtualenvs/tfm_alvaro-vnpVahGc/lib/python3.10/site-packages/parso/cache.py\": 1685260767.2405193, \"/Users/alvaroromangomez/.local/share/virtualenvs/tfm_alvaro-vnpVahGc/lib/python3.10/site-packages/parso/normalizer.py\": 1685260767.241833, \"/Users/alvaroromangomez/.local/share/virtualenvs/tfm_alvaro-vnpVahGc/lib/python3.10/site-packages/parso/python/errors.py\": 1685260767.2463913, \"/Users/alvaroromangomez/.local/share/virtualenvs/tfm_alvaro-vnpVahGc/lib/python3.10/site-packages/parso/python/pep8.py\": 1685260767.250595, \"/Users/alvaroromangomez/.local/share/virtualenvs/tfm_alvaro-vnpVahGc/lib/python3.10/site-packages/parso/file_io.py\": 1685260767.2409313, \"/Users/alvaroromangomez/.local/share/virtualenvs/tfm_alvaro-vnpVahGc/lib/python3.10/site-packages/parso/grammar.py\": 1685260767.2413983, \"/Users/alvaroromangomez/.local/share/virtualenvs/tfm_alvaro-vnpVahGc/lib/python3.10/site-packages/parso/__init__.py\": 1685260767.2396698, \"/Users/alvaroromangomez/.local/share/virtualenvs/tfm_alvaro-vnpVahGc/lib/python3.10/site-packages/jedi/parser_utils.py\": 1685260768.6688426, \"/Users/alvaroromangomez/.local/share/virtualenvs/tfm_alvaro-vnpVahGc/lib/python3.10/site-packages/jedi/debug.py\": 1685260768.6679842, \"/Users/alvaroromangomez/.local/share/virtualenvs/tfm_alvaro-vnpVahGc/lib/python3.10/site-packages/jedi/settings.py\": 1685260768.6692798, \"/Users/alvaroromangomez/.local/share/virtualenvs/tfm_alvaro-vnpVahGc/lib/python3.10/site-packages/jedi/cache.py\": 1685260768.6671429, \"/Users/alvaroromangomez/.local/share/virtualenvs/tfm_alvaro-vnpVahGc/lib/python3.10/site-packages/jedi/file_io.py\": 1685260768.668383, \"/Users/alvaroromangomez/.local/share/virtualenvs/tfm_alvaro-vnpVahGc/lib/python3.10/site-packages/jedi/inference/cache.py\": 1685260768.6797907, \"/Users/alvaroromangomez/.local/share/virtualenvs/tfm_alvaro-vnpVahGc/lib/python3.10/site-packages/jedi/inference/helpers.py\": 1685260768.6833827, \"/Users/alvaroromangomez/.local/share/virtualenvs/tfm_alvaro-vnpVahGc/lib/python3.10/site-packages/jedi/inference/utils.py\": 1685260768.689237, \"/Users/alvaroromangomez/.local/share/virtualenvs/tfm_alvaro-vnpVahGc/lib/python3.10/site-packages/jedi/inference/base_value.py\": 1685260768.679381, \"/Users/alvaroromangomez/.local/share/virtualenvs/tfm_alvaro-vnpVahGc/lib/python3.10/site-packages/jedi/inference/sys_path.py\": 1685260768.6888423, \"/Users/alvaroromangomez/.local/share/virtualenvs/tfm_alvaro-vnpVahGc/lib/python3.10/site-packages/jedi/inference/recursion.py\": 1685260768.6863754, \"/Users/alvaroromangomez/.local/share/virtualenvs/tfm_alvaro-vnpVahGc/lib/python3.10/site-packages/jedi/inference/flow_analysis.py\": 1685260768.6829696, \"/Users/alvaroromangomez/.local/share/virtualenvs/tfm_alvaro-vnpVahGc/lib/python3.10/site-packages/jedi/common.py\": 1685260768.6675537, \"/Users/alvaroromangomez/.local/share/virtualenvs/tfm_alvaro-vnpVahGc/lib/python3.10/site-packages/jedi/inference/lazy_value.py\": 1685260768.684516, \"/Users/alvaroromangomez/.local/share/virtualenvs/tfm_alvaro-vnpVahGc/lib/python3.10/site-packages/jedi/inference/docstrings.py\": 1685260768.681136, \"/Users/alvaroromangomez/.local/share/virtualenvs/tfm_alvaro-vnpVahGc/lib/python3.10/site-packages/jedi/plugins/__init__.py\": 1685260768.7017348, \"/Users/alvaroromangomez/.local/share/virtualenvs/tfm_alvaro-vnpVahGc/lib/python3.10/site-packages/jedi/inference/names.py\": 1685260768.6851134, \"/Users/alvaroromangomez/.local/share/virtualenvs/tfm_alvaro-vnpVahGc/lib/python3.10/site-packages/jedi/inference/filters.py\": 1685260768.682113, \"/Users/alvaroromangomez/.local/share/virtualenvs/tfm_alvaro-vnpVahGc/lib/python3.10/site-packages/jedi/inference/compiled/getattr_static.py\": 1685260768.6905613, \"/Users/alvaroromangomez/.local/share/virtualenvs/tfm_alvaro-vnpVahGc/lib/python3.10/site-packages/jedi/inference/compiled/access.py\": 1685260768.6901631, \"/Users/alvaroromangomez/.local/share/virtualenvs/tfm_alvaro-vnpVahGc/lib/python3.10/site-packages/jedi/inference/signature.py\": 1685260768.6873207, \"/Users/alvaroromangomez/.local/share/virtualenvs/tfm_alvaro-vnpVahGc/lib/python3.10/site-packages/jedi/inference/context.py\": 1685260768.6802337, \"/Users/alvaroromangomez/.local/share/virtualenvs/tfm_alvaro-vnpVahGc/lib/python3.10/site-packages/jedi/inference/compiled/value.py\": 1685260768.691467, \"/Users/alvaroromangomez/.local/share/virtualenvs/tfm_alvaro-vnpVahGc/lib/python3.10/site-packages/jedi/inference/compiled/__init__.py\": 1685260768.6897082, \"/Users/alvaroromangomez/.local/share/virtualenvs/tfm_alvaro-vnpVahGc/lib/python3.10/site-packages/jedi/inference/analysis.py\": 1685260768.6784363, \"/Users/alvaroromangomez/.local/share/virtualenvs/tfm_alvaro-vnpVahGc/lib/python3.10/site-packages/jedi/inference/gradual/__init__.py\": 1685260768.6934142, \"/Users/alvaroromangomez/.local/share/virtualenvs/tfm_alvaro-vnpVahGc/lib/python3.10/site-packages/jedi/inference/value/module.py\": 1685260768.7008893, \"/Users/alvaroromangomez/.local/share/virtualenvs/tfm_alvaro-vnpVahGc/lib/python3.10/site-packages/jedi/inference/value/dynamic_arrays.py\": 1685260768.6985812, \"/Users/alvaroromangomez/.local/share/virtualenvs/tfm_alvaro-vnpVahGc/lib/python3.10/site-packages/jedi/inference/value/iterable.py\": 1685260768.6999977, \"/Users/alvaroromangomez/.local/share/virtualenvs/tfm_alvaro-vnpVahGc/lib/python3.10/site-packages/jedi/inference/arguments.py\": 1685260768.6788692, \"/Users/alvaroromangomez/.local/share/virtualenvs/tfm_alvaro-vnpVahGc/lib/python3.10/site-packages/jedi/inference/parser_cache.py\": 1685260768.6859682, \"/Users/alvaroromangomez/.local/share/virtualenvs/tfm_alvaro-vnpVahGc/lib/python3.10/site-packages/jedi/inference/gradual/generics.py\": 1685260768.6950905, \"/Users/alvaroromangomez/.local/share/virtualenvs/tfm_alvaro-vnpVahGc/lib/python3.10/site-packages/jedi/inference/value/function.py\": 1685260768.6990452, \"/Users/alvaroromangomez/.local/share/virtualenvs/tfm_alvaro-vnpVahGc/lib/python3.10/site-packages/jedi/inference/value/klass.py\": 1685260768.7004514, \"/Users/alvaroromangomez/.local/share/virtualenvs/tfm_alvaro-vnpVahGc/lib/python3.10/site-packages/jedi/inference/value/instance.py\": 1685260768.69953, \"/Users/alvaroromangomez/.local/share/virtualenvs/tfm_alvaro-vnpVahGc/lib/python3.10/site-packages/jedi/inference/value/__init__.py\": 1685260768.6977584, \"/Users/alvaroromangomez/.local/share/virtualenvs/tfm_alvaro-vnpVahGc/lib/python3.10/site-packages/jedi/inference/gradual/base.py\": 1685260768.694294, \"/Users/alvaroromangomez/.local/share/virtualenvs/tfm_alvaro-vnpVahGc/lib/python3.10/site-packages/jedi/inference/gradual/type_var.py\": 1685260768.6959352, \"/Users/alvaroromangomez/.local/share/virtualenvs/tfm_alvaro-vnpVahGc/lib/python3.10/site-packages/jedi/inference/gradual/typing.py\": 1685260768.696873, \"/Users/alvaroromangomez/.local/share/virtualenvs/tfm_alvaro-vnpVahGc/lib/python3.10/site-packages/jedi/inference/gradual/stub_value.py\": 1685260768.6954782, \"/Users/alvaroromangomez/.local/share/virtualenvs/tfm_alvaro-vnpVahGc/lib/python3.10/site-packages/jedi/inference/gradual/typeshed.py\": 1685260768.696386, \"/Users/alvaroromangomez/.local/share/virtualenvs/tfm_alvaro-vnpVahGc/lib/python3.10/site-packages/jedi/_compatibility.py\": 1685260768.66675, \"/Users/alvaroromangomez/.local/share/virtualenvs/tfm_alvaro-vnpVahGc/lib/python3.10/site-packages/jedi/inference/compiled/subprocess/functions.py\": 1685260768.6929429, \"/Users/alvaroromangomez/.local/share/virtualenvs/tfm_alvaro-vnpVahGc/lib/python3.10/site-packages/jedi/api/exceptions.py\": 1685260768.6731203, \"/Users/alvaroromangomez/.local/share/virtualenvs/tfm_alvaro-vnpVahGc/lib/python3.10/site-packages/jedi/inference/compiled/subprocess/__init__.py\": 1685260768.6920257, \"/Users/alvaroromangomez/.local/share/virtualenvs/tfm_alvaro-vnpVahGc/lib/python3.10/site-packages/jedi/inference/imports.py\": 1685260768.6840162, \"/Users/alvaroromangomez/.local/share/virtualenvs/tfm_alvaro-vnpVahGc/lib/python3.10/site-packages/jedi/inference/param.py\": 1685260768.6855464, \"/Users/alvaroromangomez/.local/share/virtualenvs/tfm_alvaro-vnpVahGc/lib/python3.10/site-packages/jedi/inference/gradual/annotation.py\": 1685260768.6938496, \"/Users/alvaroromangomez/.local/share/virtualenvs/tfm_alvaro-vnpVahGc/lib/python3.10/site-packages/jedi/inference/value/decorator.py\": 1685260768.6981504, \"/Users/alvaroromangomez/.local/share/virtualenvs/tfm_alvaro-vnpVahGc/lib/python3.10/site-packages/jedi/inference/syntax_tree.py\": 1685260768.6883423, \"/Users/alvaroromangomez/.local/share/virtualenvs/tfm_alvaro-vnpVahGc/lib/python3.10/site-packages/jedi/inference/__init__.py\": 1685260768.678019, \"/Users/alvaroromangomez/.local/share/virtualenvs/tfm_alvaro-vnpVahGc/lib/python3.10/site-packages/jedi/inference/gradual/conversion.py\": 1685260768.694695, \"/Users/alvaroromangomez/.local/share/virtualenvs/tfm_alvaro-vnpVahGc/lib/python3.10/site-packages/jedi/inference/compiled/mixed.py\": 1685260768.6909878, \"/Users/alvaroromangomez/.pyenv/versions/3.10.10/Library/Frameworks/Python.framework/Versions/3.10/lib/python3.10/pydoc_data/__init__.py\": 1685228247.1055846, \"/Users/alvaroromangomez/.pyenv/versions/3.10.10/Library/Frameworks/Python.framework/Versions/3.10/lib/python3.10/pydoc_data/topics.py\": 1685228247.1158128, \"/Users/alvaroromangomez/.local/share/virtualenvs/tfm_alvaro-vnpVahGc/lib/python3.10/site-packages/jedi/api/keywords.py\": 1685260768.6748388, \"/Users/alvaroromangomez/.local/share/virtualenvs/tfm_alvaro-vnpVahGc/lib/python3.10/site-packages/jedi/api/completion_cache.py\": 1685260768.6718805, \"/Users/alvaroromangomez/.local/share/virtualenvs/tfm_alvaro-vnpVahGc/lib/python3.10/site-packages/jedi/api/helpers.py\": 1685260768.6740339, \"/Users/alvaroromangomez/.local/share/virtualenvs/tfm_alvaro-vnpVahGc/lib/python3.10/site-packages/jedi/api/classes.py\": 1685260768.670967, \"/Users/alvaroromangomez/.local/share/virtualenvs/tfm_alvaro-vnpVahGc/lib/python3.10/site-packages/jedi/api/interpreter.py\": 1685260768.6744423, \"/Users/alvaroromangomez/.local/share/virtualenvs/tfm_alvaro-vnpVahGc/lib/python3.10/site-packages/jedi/api/strings.py\": 1685260768.676357, \"/Users/alvaroromangomez/.local/share/virtualenvs/tfm_alvaro-vnpVahGc/lib/python3.10/site-packages/jedi/api/file_name.py\": 1685260768.6735766, \"/Users/alvaroromangomez/.local/share/virtualenvs/tfm_alvaro-vnpVahGc/lib/python3.10/site-packages/jedi/inference/docstring_utils.py\": 1685260768.6806438, \"/Users/alvaroromangomez/.local/share/virtualenvs/tfm_alvaro-vnpVahGc/lib/python3.10/site-packages/jedi/api/completion.py\": 1685260768.6714876, \"/Users/alvaroromangomez/.pyenv/versions/3.10.10/Library/Frameworks/Python.framework/Versions/3.10/lib/python3.10/filecmp.py\": 1685228243.7454245, \"/Users/alvaroromangomez/.local/share/virtualenvs/tfm_alvaro-vnpVahGc/lib/python3.10/site-packages/jedi/api/environment.py\": 1685260768.6723413, \"/Users/alvaroromangomez/.local/share/virtualenvs/tfm_alvaro-vnpVahGc/lib/python3.10/site-packages/jedi/inference/references.py\": 1685260768.6868694, \"/Users/alvaroromangomez/.local/share/virtualenvs/tfm_alvaro-vnpVahGc/lib/python3.10/site-packages/jedi/api/project.py\": 1685260768.6754045, \"/Users/alvaroromangomez/.local/share/virtualenvs/tfm_alvaro-vnpVahGc/lib/python3.10/site-packages/jedi/api/errors.py\": 1685260768.6727378, \"/Users/alvaroromangomez/.local/share/virtualenvs/tfm_alvaro-vnpVahGc/lib/python3.10/site-packages/jedi/api/refactoring/__init__.py\": 1685260768.6769621, \"/Users/alvaroromangomez/.local/share/virtualenvs/tfm_alvaro-vnpVahGc/lib/python3.10/site-packages/jedi/api/refactoring/extract.py\": 1685260768.6775045, \"/Users/alvaroromangomez/.local/share/virtualenvs/tfm_alvaro-vnpVahGc/lib/python3.10/site-packages/jedi/inference/gradual/utils.py\": 1685260768.6972797, \"/Users/alvaroromangomez/.local/share/virtualenvs/tfm_alvaro-vnpVahGc/lib/python3.10/site-packages/jedi/api/__init__.py\": 1685260768.6704235, \"/Users/alvaroromangomez/.local/share/virtualenvs/tfm_alvaro-vnpVahGc/lib/python3.10/site-packages/jedi/plugins/stdlib.py\": 1685260768.7041202, \"/Users/alvaroromangomez/.local/share/virtualenvs/tfm_alvaro-vnpVahGc/lib/python3.10/site-packages/jedi/plugins/flask.py\": 1685260768.7025433, \"/Users/alvaroromangomez/.local/share/virtualenvs/tfm_alvaro-vnpVahGc/lib/python3.10/site-packages/jedi/plugins/pytest.py\": 1685260768.7031744, \"/Users/alvaroromangomez/.local/share/virtualenvs/tfm_alvaro-vnpVahGc/lib/python3.10/site-packages/jedi/plugins/django.py\": 1685260768.702145, \"/Users/alvaroromangomez/.local/share/virtualenvs/tfm_alvaro-vnpVahGc/lib/python3.10/site-packages/jedi/plugins/registry.py\": 1685260768.7036028, \"/Users/alvaroromangomez/.local/share/virtualenvs/tfm_alvaro-vnpVahGc/lib/python3.10/site-packages/jedi/__init__.py\": 1685260768.6658907, \"/Users/alvaroromangomez/.local/share/virtualenvs/tfm_alvaro-vnpVahGc/lib/python3.10/site-packages/IPython/core/completer.py\": 1685260770.057783, \"/Users/alvaroromangomez/.local/share/virtualenvs/tfm_alvaro-vnpVahGc/lib/python3.10/site-packages/IPython/terminal/ptutils.py\": 1685260770.1305633, \"/Users/alvaroromangomez/.local/share/virtualenvs/tfm_alvaro-vnpVahGc/lib/python3.10/site-packages/IPython/terminal/shortcuts/auto_match.py\": 1685260770.1367083, \"/Users/alvaroromangomez/.local/share/virtualenvs/tfm_alvaro-vnpVahGc/lib/python3.10/site-packages/IPython/utils/tokenutil.py\": 1685260770.1699195, \"/Users/alvaroromangomez/.local/share/virtualenvs/tfm_alvaro-vnpVahGc/lib/python3.10/site-packages/IPython/terminal/shortcuts/auto_suggest.py\": 1685260770.1371415, \"/Users/alvaroromangomez/.local/share/virtualenvs/tfm_alvaro-vnpVahGc/lib/python3.10/site-packages/IPython/terminal/shortcuts/filters.py\": 1685260770.1376457, \"/Users/alvaroromangomez/.local/share/virtualenvs/tfm_alvaro-vnpVahGc/lib/python3.10/site-packages/IPython/terminal/shortcuts/__init__.py\": 1685260770.1362886, \"/Users/alvaroromangomez/.pyenv/versions/3.10.10/Library/Frameworks/Python.framework/Versions/3.10/lib/python3.10/concurrent/futures/thread.py\": 1685228244.5587523, \"/Users/alvaroromangomez/.local/share/virtualenvs/tfm_alvaro-vnpVahGc/lib/python3.10/site-packages/IPython/terminal/debugger.py\": 1685260770.1275806, \"/Users/alvaroromangomez/.local/share/virtualenvs/tfm_alvaro-vnpVahGc/lib/python3.10/site-packages/IPython/lib/clipboard.py\": 1685260770.1151733, \"/Users/alvaroromangomez/.local/share/virtualenvs/tfm_alvaro-vnpVahGc/lib/python3.10/site-packages/IPython/terminal/magics.py\": 1685260770.129653, \"/Users/alvaroromangomez/.local/share/virtualenvs/tfm_alvaro-vnpVahGc/lib/python3.10/site-packages/IPython/terminal/pt_inputhooks/__init__.py\": 1685260770.1310582, \"/Users/alvaroromangomez/.local/share/virtualenvs/tfm_alvaro-vnpVahGc/lib/python3.10/site-packages/IPython/terminal/prompts.py\": 1685260770.1301026, \"/Users/alvaroromangomez/.local/share/virtualenvs/tfm_alvaro-vnpVahGc/lib/python3.10/site-packages/IPython/terminal/interactiveshell.py\": 1685260770.1286857, \"/Users/alvaroromangomez/.local/share/virtualenvs/tfm_alvaro-vnpVahGc/lib/python3.10/site-packages/IPython/core/magics/auto.py\": 1685260770.0790682, \"/Users/alvaroromangomez/.local/share/virtualenvs/tfm_alvaro-vnpVahGc/lib/python3.10/site-packages/IPython/core/magics/basic.py\": 1685260770.0795794, \"/Users/alvaroromangomez/.pyenv/versions/3.10.10/Library/Frameworks/Python.framework/Versions/3.10/lib/python3.10/http/__init__.py\": 1685228245.8309193, \"/Users/alvaroromangomez/.pyenv/versions/3.10.10/Library/Frameworks/Python.framework/Versions/3.10/lib/python3.10/email/feedparser.py\": 1685228245.028342, \"/Users/alvaroromangomez/.pyenv/versions/3.10.10/Library/Frameworks/Python.framework/Versions/3.10/lib/python3.10/email/parser.py\": 1685228245.0566826, \"/Users/alvaroromangomez/.pyenv/versions/3.10.10/Library/Frameworks/Python.framework/Versions/3.10/lib/python3.10/http/client.py\": 1685228245.8363597, \"/Users/alvaroromangomez/.pyenv/versions/3.10.10/Library/Frameworks/Python.framework/Versions/3.10/lib/python3.10/urllib/response.py\": 1685228247.4692545, \"/Users/alvaroromangomez/.pyenv/versions/3.10.10/Library/Frameworks/Python.framework/Versions/3.10/lib/python3.10/urllib/error.py\": 1685228247.4545743, \"/Users/alvaroromangomez/.pyenv/versions/3.10.10/lib/python3.10/lib-dynload/_scproxy.cpython-310-darwin.so\": 1685228211.0, \"/Users/alvaroromangomez/.pyenv/versions/3.10.10/Library/Frameworks/Python.framework/Versions/3.10/lib/python3.10/urllib/request.py\": 1685228247.4642184, \"/Users/alvaroromangomez/.local/share/virtualenvs/tfm_alvaro-vnpVahGc/lib/python3.10/site-packages/IPython/utils/contexts.py\": 1685260770.1565754, \"/Users/alvaroromangomez/.local/share/virtualenvs/tfm_alvaro-vnpVahGc/lib/python3.10/site-packages/IPython/core/magics/code.py\": 1685260770.080327, \"/Users/alvaroromangomez/.local/share/virtualenvs/tfm_alvaro-vnpVahGc/lib/python3.10/site-packages/IPython/core/magics/config.py\": 1685260770.0807736, \"/Users/alvaroromangomez/.local/share/virtualenvs/tfm_alvaro-vnpVahGc/lib/python3.10/site-packages/IPython/core/magics/display.py\": 1685260770.0811882, \"/Users/alvaroromangomez/.pyenv/versions/3.10.10/lib/python3.10/lib-dynload/_lsprof.cpython-310-darwin.so\": 1685228204.0, \"/Users/alvaroromangomez/.pyenv/versions/3.10.10/Library/Frameworks/Python.framework/Versions/3.10/lib/python3.10/profile.py\": 1685228244.0239058, \"/Users/alvaroromangomez/.pyenv/versions/3.10.10/Library/Frameworks/Python.framework/Versions/3.10/lib/python3.10/cProfile.py\": 1685228243.6190813, \"/Users/alvaroromangomez/.pyenv/versions/3.10.10/Library/Frameworks/Python.framework/Versions/3.10/lib/python3.10/pstats.py\": 1685228244.029024, \"/Users/alvaroromangomez/.pyenv/versions/3.10.10/Library/Frameworks/Python.framework/Versions/3.10/lib/python3.10/timeit.py\": 1685228244.244073, \"/Users/alvaroromangomez/.local/share/virtualenvs/tfm_alvaro-vnpVahGc/lib/python3.10/site-packages/IPython/utils/module_paths.py\": 1685260770.1634066, \"/Users/alvaroromangomez/.local/share/virtualenvs/tfm_alvaro-vnpVahGc/lib/python3.10/site-packages/IPython/utils/timing.py\": 1685260770.1694856, \"/Users/alvaroromangomez/.local/share/virtualenvs/tfm_alvaro-vnpVahGc/lib/python3.10/site-packages/IPython/core/magics/execution.py\": 1685260770.0819614, \"/Users/alvaroromangomez/.local/share/virtualenvs/tfm_alvaro-vnpVahGc/lib/python3.10/site-packages/IPython/core/magics/extension.py\": 1685260770.0824556, \"/Users/alvaroromangomez/.local/share/virtualenvs/tfm_alvaro-vnpVahGc/lib/python3.10/site-packages/IPython/core/magics/history.py\": 1685260770.0829556, \"/Users/alvaroromangomez/.local/share/virtualenvs/tfm_alvaro-vnpVahGc/lib/python3.10/site-packages/IPython/core/magics/logging.py\": 1685260770.0835035, \"/Users/alvaroromangomez/.local/share/virtualenvs/tfm_alvaro-vnpVahGc/lib/python3.10/site-packages/IPython/core/magics/namespace.py\": 1685260770.0840106, \"/Users/alvaroromangomez/.local/share/virtualenvs/tfm_alvaro-vnpVahGc/lib/python3.10/site-packages/IPython/core/magics/osm.py\": 1685260770.0845346, \"/Users/alvaroromangomez/.local/share/virtualenvs/tfm_alvaro-vnpVahGc/lib/python3.10/site-packages/IPython/core/magics/packaging.py\": 1685260770.0850182, \"/Users/alvaroromangomez/.local/share/virtualenvs/tfm_alvaro-vnpVahGc/lib/python3.10/site-packages/IPython/core/pylabtools.py\": 1685260770.075624, \"/Users/alvaroromangomez/.local/share/virtualenvs/tfm_alvaro-vnpVahGc/lib/python3.10/site-packages/IPython/core/magics/pylab.py\": 1685260770.0854535, \"/Users/alvaroromangomez/.local/share/virtualenvs/tfm_alvaro-vnpVahGc/lib/python3.10/site-packages/IPython/core/magics/script.py\": 1685260770.0859137, \"/Users/alvaroromangomez/.local/share/virtualenvs/tfm_alvaro-vnpVahGc/lib/python3.10/site-packages/IPython/core/magics/__init__.py\": 1685260770.0785437, \"/Users/alvaroromangomez/.local/share/virtualenvs/tfm_alvaro-vnpVahGc/lib/python3.10/site-packages/IPython/core/shellapp.py\": 1685260770.076513, \"/Users/alvaroromangomez/.local/share/virtualenvs/tfm_alvaro-vnpVahGc/lib/python3.10/site-packages/IPython/extensions/__init__.py\": 1685260770.1094363, \"/Users/alvaroromangomez/.local/share/virtualenvs/tfm_alvaro-vnpVahGc/lib/python3.10/site-packages/IPython/extensions/storemagic.py\": 1685260770.1103292, \"/Users/alvaroromangomez/.local/share/virtualenvs/tfm_alvaro-vnpVahGc/lib/python3.10/site-packages/IPython/terminal/ipapp.py\": 1685260770.1291778, \"/Users/alvaroromangomez/.local/share/virtualenvs/tfm_alvaro-vnpVahGc/lib/python3.10/site-packages/IPython/terminal/embed.py\": 1685260770.1280425, \"/Users/alvaroromangomez/.local/share/virtualenvs/tfm_alvaro-vnpVahGc/lib/python3.10/site-packages/IPython/utils/frame.py\": 1685260770.1601086, \"/Users/alvaroromangomez/.local/share/virtualenvs/tfm_alvaro-vnpVahGc/lib/python3.10/site-packages/IPython/__init__.py\": 1685260770.050713, \"/Users/alvaroromangomez/.local/share/virtualenvs/tfm_alvaro-vnpVahGc/lib/python3.10/site-packages/ipykernel/control.py\": 1685260770.8607404, \"/Users/alvaroromangomez/.local/share/virtualenvs/tfm_alvaro-vnpVahGc/lib/python3.10/site-packages/ipykernel/heartbeat.py\": 1685260770.8645716, \"/Users/alvaroromangomez/.local/share/virtualenvs/tfm_alvaro-vnpVahGc/lib/python3.10/site-packages/ipykernel/iostream.py\": 1685260770.8652751, \"/Users/alvaroromangomez/.local/share/virtualenvs/tfm_alvaro-vnpVahGc/lib/python3.10/site-packages/comm/base_comm.py\": 1685260769.8745594, \"/Users/alvaroromangomez/.local/share/virtualenvs/tfm_alvaro-vnpVahGc/lib/python3.10/site-packages/comm/__init__.py\": 1685260769.8741002, \"/Users/alvaroromangomez/.local/share/virtualenvs/tfm_alvaro-vnpVahGc/lib/python3.10/site-packages/ipykernel/jsonutil.py\": 1685260770.8663344, \"/Users/alvaroromangomez/.local/share/virtualenvs/tfm_alvaro-vnpVahGc/lib/python3.10/site-packages/psutil/_common.py\": 1685260766.5194294, \"/Users/alvaroromangomez/.local/share/virtualenvs/tfm_alvaro-vnpVahGc/lib/python3.10/site-packages/psutil/_compat.py\": 1685260766.5233195, \"/Users/alvaroromangomez/.local/share/virtualenvs/tfm_alvaro-vnpVahGc/lib/python3.10/site-packages/psutil/_psutil_osx.abi3.so\": 1685260766.5188203, \"/Users/alvaroromangomez/.local/share/virtualenvs/tfm_alvaro-vnpVahGc/lib/python3.10/site-packages/psutil/_psposix.py\": 1685260766.5237532, \"/Users/alvaroromangomez/.local/share/virtualenvs/tfm_alvaro-vnpVahGc/lib/python3.10/site-packages/psutil/_psutil_posix.abi3.so\": 1685260766.5175195, \"/Users/alvaroromangomez/.local/share/virtualenvs/tfm_alvaro-vnpVahGc/lib/python3.10/site-packages/psutil/_psosx.py\": 1685260766.5208006, \"/Users/alvaroromangomez/.local/share/virtualenvs/tfm_alvaro-vnpVahGc/lib/python3.10/site-packages/psutil/__init__.py\": 1685260766.5202267, \"/Users/alvaroromangomez/.local/share/virtualenvs/tfm_alvaro-vnpVahGc/lib/python3.10/site-packages/tornado/gen.py\": 1685260764.835003, \"/Users/alvaroromangomez/.local/share/virtualenvs/tfm_alvaro-vnpVahGc/lib/python3.10/site-packages/tornado/locks.py\": 1685260764.8373227, \"/Users/alvaroromangomez/.local/share/virtualenvs/tfm_alvaro-vnpVahGc/lib/python3.10/site-packages/tornado/queues.py\": 1685260764.8334324, \"/Users/alvaroromangomez/.local/share/virtualenvs/tfm_alvaro-vnpVahGc/lib/python3.10/site-packages/ipykernel/kernelbase.py\": 1685260770.8676376, \"/Users/alvaroromangomez/.local/share/virtualenvs/tfm_alvaro-vnpVahGc/lib/python3.10/site-packages/ipykernel/comm/comm.py\": 1685260770.8722017, \"/Users/alvaroromangomez/.local/share/virtualenvs/tfm_alvaro-vnpVahGc/lib/python3.10/site-packages/ipykernel/comm/manager.py\": 1685260770.8727908, \"/Users/alvaroromangomez/.local/share/virtualenvs/tfm_alvaro-vnpVahGc/lib/python3.10/site-packages/ipykernel/comm/__init__.py\": 1685260770.8716996, \"/Users/alvaroromangomez/.local/share/virtualenvs/tfm_alvaro-vnpVahGc/lib/python3.10/site-packages/ipykernel/compiler.py\": 1685260770.859396, \"/Users/alvaroromangomez/.local/share/virtualenvs/tfm_alvaro-vnpVahGc/lib/python3.10/site-packages/debugpy/_version.py\": 1685260767.4025903, \"/Users/alvaroromangomez/.local/share/virtualenvs/tfm_alvaro-vnpVahGc/lib/python3.10/site-packages/debugpy/public_api.py\": 1685260767.4030504, \"/Users/alvaroromangomez/.local/share/virtualenvs/tfm_alvaro-vnpVahGc/lib/python3.10/site-packages/debugpy/__init__.py\": 1685260767.4017277, \"/Users/alvaroromangomez/.local/share/virtualenvs/tfm_alvaro-vnpVahGc/lib/python3.10/site-packages/debugpy/_vendored/_util.py\": 1685260767.4046628, \"/Users/alvaroromangomez/.local/share/virtualenvs/tfm_alvaro-vnpVahGc/lib/python3.10/site-packages/debugpy/_vendored/__init__.py\": 1685260767.4035873, \"/Users/alvaroromangomez/.local/share/virtualenvs/tfm_alvaro-vnpVahGc/lib/python3.10/site-packages/debugpy/_vendored/pydevd/_pydevd_bundle/__init__.py\": 1685260767.4360776, \"/Users/alvaroromangomez/.pyenv/versions/3.10.10/Library/Frameworks/Python.framework/Versions/3.10/lib/python3.10/encodings/ascii.py\": 1685228245.1540165, \"/Users/alvaroromangomez/.pyenv/versions/3.10.10/Library/Frameworks/Python.framework/Versions/3.10/lib/python3.10/encodings/latin_1.py\": 1685228245.5750258, \"/Users/alvaroromangomez/.pyenv/versions/3.10.10/Library/Frameworks/Python.framework/Versions/3.10/lib/python3.10/stringprep.py\": 1685228244.1812327, \"/Users/alvaroromangomez/.pyenv/versions/3.10.10/Library/Frameworks/Python.framework/Versions/3.10/lib/python3.10/encodings/idna.py\": 1685228245.4362667, \"/Users/alvaroromangomez/.local/share/virtualenvs/tfm_alvaro-vnpVahGc/lib/python3.10/site-packages/debugpy/_vendored/pydevd/_pydevd_bundle/pydevd_vm_type.py\": 1685260767.4747722, \"/Users/alvaroromangomez/.local/share/virtualenvs/tfm_alvaro-vnpVahGc/lib/python3.10/site-packages/debugpy/_vendored/pydevd/_pydev_bundle/__init__.py\": 1685260767.4123085, \"/Users/alvaroromangomez/.pyenv/versions/3.10.10/Library/Frameworks/Python.framework/Versions/3.10/lib/python3.10/xmlrpc/__init__.py\": 1685228247.7676082, \"/Users/alvaroromangomez/.pyenv/versions/3.10.10/Library/Frameworks/Python.framework/Versions/3.10/lib/python3.10/xml/parsers/__init__.py\": 1685228247.7040944, \"/Users/alvaroromangomez/.pyenv/versions/3.10.10/lib/python3.10/lib-dynload/pyexpat.cpython-310-darwin.so\": 1685228220.0, \"/Users/alvaroromangomez/.pyenv/versions/3.10.10/Library/Frameworks/Python.framework/Versions/3.10/lib/python3.10/xml/parsers/expat.py\": 1685228247.709082, \"/Users/alvaroromangomez/.pyenv/versions/3.10.10/Library/Frameworks/Python.framework/Versions/3.10/lib/python3.10/gzip.py\": 1685228243.805426, \"/Users/alvaroromangomez/.pyenv/versions/3.10.10/Library/Frameworks/Python.framework/Versions/3.10/lib/python3.10/xmlrpc/client.py\": 1685228247.7730653, \"/Users/alvaroromangomez/.pyenv/versions/3.10.10/Library/Frameworks/Python.framework/Versions/3.10/lib/python3.10/http/server.py\": 1685228245.8522766, \"/Users/alvaroromangomez/.pyenv/versions/3.10.10/Library/Frameworks/Python.framework/Versions/3.10/lib/python3.10/xmlrpc/server.py\": 1685228247.7781146, \"/Users/alvaroromangomez/.local/share/virtualenvs/tfm_alvaro-vnpVahGc/lib/python3.10/site-packages/debugpy/_vendored/pydevd/_pydev_bundle/_pydev_saved_modules.py\": 1685260767.4187524, \"/Users/alvaroromangomez/.local/share/virtualenvs/tfm_alvaro-vnpVahGc/lib/python3.10/site-packages/debugpy/_vendored/pydevd/_pydevd_bundle/pydevd_constants.py\": 1685260767.4436052, \"/Users/alvaroromangomez/.local/share/virtualenvs/tfm_alvaro-vnpVahGc/lib/python3.10/site-packages/debugpy/_vendored/pydevd/_pydev_runfiles/__init__.py\": 1685260767.4299502, \"/Users/alvaroromangomez/.local/share/virtualenvs/tfm_alvaro-vnpVahGc/lib/python3.10/site-packages/debugpy/_vendored/pydevd/_pydevd_frame_eval/__init__.py\": 1685260767.4831808, \"/Users/alvaroromangomez/.local/share/virtualenvs/tfm_alvaro-vnpVahGc/lib/python3.10/site-packages/debugpy/_vendored/pydevd/pydev_ipython/__init__.py\": 1685260767.5029876, \"/Users/alvaroromangomez/.pyenv/versions/3.10.10/Library/Frameworks/Python.framework/Versions/3.10/lib/python3.10/plistlib.py\": 1685228244.0005872, \"/Users/alvaroromangomez/.local/share/virtualenvs/tfm_alvaro-vnpVahGc/lib/python3.10/site-packages/pkg_resources/extern/__init__.py\": 1685261852.985216, \"/Users/alvaroromangomez/.local/share/virtualenvs/tfm_alvaro-vnpVahGc/lib/python3.10/site-packages/pkg_resources/_vendor/__init__.py\": 1685261852.9649053, \"/Users/alvaroromangomez/.local/share/virtualenvs/tfm_alvaro-vnpVahGc/lib/python3.10/site-packages/pkg_resources/_vendor/jaraco/__init__.py\": 1685261852.970862, \"/Users/alvaroromangomez/.pyenv/versions/3.10.10/Library/Frameworks/Python.framework/Versions/3.10/lib/python3.10/importlib/_adapters.py\": 1685228246.393934, \"/Users/alvaroromangomez/.pyenv/versions/3.10.10/Library/Frameworks/Python.framework/Versions/3.10/lib/python3.10/importlib/_common.py\": 1685228246.40897, \"/Users/alvaroromangomez/.pyenv/versions/3.10.10/Library/Frameworks/Python.framework/Versions/3.10/lib/python3.10/importlib/resources.py\": 1685228246.4282863, \"/Users/alvaroromangomez/.local/share/virtualenvs/tfm_alvaro-vnpVahGc/lib/python3.10/site-packages/pkg_resources/_vendor/more_itertools/recipes.py\": 1685261852.9748368, \"/Users/alvaroromangomez/.local/share/virtualenvs/tfm_alvaro-vnpVahGc/lib/python3.10/site-packages/pkg_resources/_vendor/more_itertools/more.py\": 1685261852.974255, \"/Users/alvaroromangomez/.local/share/virtualenvs/tfm_alvaro-vnpVahGc/lib/python3.10/site-packages/pkg_resources/_vendor/more_itertools/__init__.py\": 1685261852.9731648, \"/Users/alvaroromangomez/.local/share/virtualenvs/tfm_alvaro-vnpVahGc/lib/python3.10/site-packages/pkg_resources/_vendor/jaraco/functools.py\": 1685261852.9719381, \"/Users/alvaroromangomez/.local/share/virtualenvs/tfm_alvaro-vnpVahGc/lib/python3.10/site-packages/pkg_resources/_vendor/jaraco/context.py\": 1685261852.971365, \"/Users/alvaroromangomez/.local/share/virtualenvs/tfm_alvaro-vnpVahGc/lib/python3.10/site-packages/pkg_resources/_vendor/jaraco/text/__init__.py\": 1685261852.9726028, \"/Users/alvaroromangomez/.local/share/virtualenvs/tfm_alvaro-vnpVahGc/lib/python3.10/site-packages/pkg_resources/_vendor/platformdirs/api.py\": 1685261852.9829333, \"/Users/alvaroromangomez/.local/share/virtualenvs/tfm_alvaro-vnpVahGc/lib/python3.10/site-packages/pkg_resources/_vendor/platformdirs/version.py\": 1685261852.984277, \"/Users/alvaroromangomez/.local/share/virtualenvs/tfm_alvaro-vnpVahGc/lib/python3.10/site-packages/pkg_resources/_vendor/platformdirs/macos.py\": 1685261852.9833589, \"/Users/alvaroromangomez/.local/share/virtualenvs/tfm_alvaro-vnpVahGc/lib/python3.10/site-packages/pkg_resources/_vendor/platformdirs/__init__.py\": 1685261852.9816344, \"/Users/alvaroromangomez/.local/share/virtualenvs/tfm_alvaro-vnpVahGc/lib/python3.10/site-packages/pkg_resources/_vendor/packaging/__init__.py\": 1685261852.9753656, \"/Users/alvaroromangomez/.local/share/virtualenvs/tfm_alvaro-vnpVahGc/lib/python3.10/site-packages/pkg_resources/_vendor/packaging/_structures.py\": 1685261852.9776177, \"/Users/alvaroromangomez/.local/share/virtualenvs/tfm_alvaro-vnpVahGc/lib/python3.10/site-packages/pkg_resources/_vendor/packaging/version.py\": 1685261852.9811122, \"/Users/alvaroromangomez/.local/share/virtualenvs/tfm_alvaro-vnpVahGc/lib/python3.10/site-packages/pkg_resources/_vendor/packaging/_elffile.py\": 1685261852.975796, \"/Users/alvaroromangomez/.local/share/virtualenvs/tfm_alvaro-vnpVahGc/lib/python3.10/site-packages/pkg_resources/_vendor/packaging/_manylinux.py\": 1685261852.9762688, \"/Users/alvaroromangomez/.local/share/virtualenvs/tfm_alvaro-vnpVahGc/lib/python3.10/site-packages/pkg_resources/_vendor/packaging/_musllinux.py\": 1685261852.9766963, \"/Users/alvaroromangomez/.local/share/virtualenvs/tfm_alvaro-vnpVahGc/lib/python3.10/site-packages/pkg_resources/_vendor/packaging/tags.py\": 1685261852.9800944, \"/Users/alvaroromangomez/.local/share/virtualenvs/tfm_alvaro-vnpVahGc/lib/python3.10/site-packages/pkg_resources/_vendor/packaging/utils.py\": 1685261852.9805586, \"/Users/alvaroromangomez/.local/share/virtualenvs/tfm_alvaro-vnpVahGc/lib/python3.10/site-packages/pkg_resources/_vendor/packaging/specifiers.py\": 1685261852.9795573, \"/Users/alvaroromangomez/.local/share/virtualenvs/tfm_alvaro-vnpVahGc/lib/python3.10/site-packages/pkg_resources/_vendor/packaging/_tokenizer.py\": 1685261852.9780276, \"/Users/alvaroromangomez/.local/share/virtualenvs/tfm_alvaro-vnpVahGc/lib/python3.10/site-packages/pkg_resources/_vendor/packaging/_parser.py\": 1685261852.977195, \"/Users/alvaroromangomez/.local/share/virtualenvs/tfm_alvaro-vnpVahGc/lib/python3.10/site-packages/pkg_resources/_vendor/packaging/markers.py\": 1685261852.9785514, \"/Users/alvaroromangomez/.local/share/virtualenvs/tfm_alvaro-vnpVahGc/lib/python3.10/site-packages/pkg_resources/_vendor/packaging/requirements.py\": 1685261852.9790037, \"/Users/alvaroromangomez/.local/share/virtualenvs/tfm_alvaro-vnpVahGc/lib/python3.10/site-packages/pkg_resources/__init__.py\": 1685261852.9644976, \"/Users/alvaroromangomez/.local/share/virtualenvs/tfm_alvaro-vnpVahGc/lib/python3.10/site-packages/debugpy/_vendored/pydevd/pydevd_plugins/__init__.py\": 1685260767.5489445, \"/Users/alvaroromangomez/.local/share/virtualenvs/tfm_alvaro-vnpVahGc/lib/python3.10/site-packages/debugpy/_vendored/pydevd/_pydev_bundle/pydev_log.py\": 1685260767.4249928, \"/Users/alvaroromangomez/.local/share/virtualenvs/tfm_alvaro-vnpVahGc/lib/python3.10/site-packages/debugpy/_vendored/pydevd/_pydev_bundle/_pydev_filesystem_encoding.py\": 1685260767.415521, \"/Users/alvaroromangomez/.local/share/virtualenvs/tfm_alvaro-vnpVahGc/lib/python3.10/site-packages/debugpy/_vendored/pydevd/_pydevd_bundle/pydevd_comm_constants.py\": 1685260767.4421065, \"/Users/alvaroromangomez/.local/share/virtualenvs/tfm_alvaro-vnpVahGc/lib/python3.10/site-packages/debugpy/_vendored/pydevd/pydevd_file_utils.py\": 1685260767.410708, \"/Users/alvaroromangomez/.local/share/virtualenvs/tfm_alvaro-vnpVahGc/lib/python3.10/site-packages/debugpy/_vendored/pydevd/_pydev_bundle/_pydev_execfile.py\": 1685260767.41449, \"/Users/alvaroromangomez/.local/share/virtualenvs/tfm_alvaro-vnpVahGc/lib/python3.10/site-packages/debugpy/_vendored/pydevd/_pydevd_bundle/pydevd_exec2.py\": 1685260767.4585183, \"/Users/alvaroromangomez/.local/share/virtualenvs/tfm_alvaro-vnpVahGc/lib/python3.10/site-packages/debugpy/_vendored/pydevd/_pydev_bundle/pydev_imports.py\": 1685260767.4214158, \"/Users/alvaroromangomez/.local/share/virtualenvs/tfm_alvaro-vnpVahGc/lib/python3.10/site-packages/debugpy/_vendored/pydevd/_pydev_bundle/pydev_is_thread_alive.py\": 1685260767.4237928, \"/Users/alvaroromangomez/.local/share/virtualenvs/tfm_alvaro-vnpVahGc/lib/python3.10/site-packages/debugpy/_vendored/pydevd/_pydev_bundle/pydev_override.py\": 1685260767.4271088, \"/Users/alvaroromangomez/.local/share/virtualenvs/tfm_alvaro-vnpVahGc/lib/python3.10/site-packages/debugpy/_vendored/pydevd/pydevd_plugins/extensions/__init__.py\": 1685260767.5512736, \"/Users/alvaroromangomez/.local/share/virtualenvs/tfm_alvaro-vnpVahGc/lib/python3.10/site-packages/debugpy/_vendored/pydevd/_pydevd_bundle/pydevd_extension_utils.py\": 1685260767.4593577, \"/Users/alvaroromangomez/.local/share/virtualenvs/tfm_alvaro-vnpVahGc/lib/python3.10/site-packages/debugpy/_vendored/pydevd/_pydevd_bundle/pydevd_frame_utils.py\": 1685260767.4609048, \"/Users/alvaroromangomez/.local/share/virtualenvs/tfm_alvaro-vnpVahGc/lib/python3.10/site-packages/debugpy/_vendored/pydevd/_pydevd_bundle/pydevd_filtering.py\": 1685260767.459792, \"/Users/alvaroromangomez/.local/share/virtualenvs/tfm_alvaro-vnpVahGc/lib/python3.10/site-packages/debugpy/_vendored/pydevd/_pydevd_bundle/pydevd_io.py\": 1685260767.462296, \"/Users/alvaroromangomez/.local/share/virtualenvs/tfm_alvaro-vnpVahGc/lib/python3.10/site-packages/debugpy/_vendored/pydevd/_pydevd_bundle/pydevd_defaults.py\": 1685260767.4571555, \"/Users/alvaroromangomez/.local/share/virtualenvs/tfm_alvaro-vnpVahGc/lib/python3.10/site-packages/debugpy/_vendored/pydevd/_pydevd_bundle/pydevd_utils.py\": 1685260767.4738476, \"/Users/alvaroromangomez/.local/share/virtualenvs/tfm_alvaro-vnpVahGc/lib/python3.10/site-packages/debugpy/_vendored/pydevd/_pydevd_bundle/pydevd_runpy.py\": 1685260767.4677558, \"/Users/alvaroromangomez/.local/share/virtualenvs/tfm_alvaro-vnpVahGc/lib/python3.10/site-packages/debugpy/_vendored/pydevd/_pydev_bundle/_pydev_tipper_common.py\": 1685260767.4197712, \"/Users/alvaroromangomez/.local/share/virtualenvs/tfm_alvaro-vnpVahGc/lib/python3.10/site-packages/debugpy/_vendored/pydevd/_pydev_bundle/_pydev_imports_tipper.py\": 1685260767.4169965, \"/Users/alvaroromangomez/.local/share/virtualenvs/tfm_alvaro-vnpVahGc/lib/python3.10/site-packages/debugpy/_vendored/pydevd/_pydev_bundle/_pydev_calltip_util.py\": 1685260767.41312, \"/Users/alvaroromangomez/.local/share/virtualenvs/tfm_alvaro-vnpVahGc/lib/python3.10/site-packages/debugpy/_vendored/pydevd/_pydevd_bundle/pydevd_safe_repr.py\": 1685260767.4682262, \"/Users/alvaroromangomez/.local/share/virtualenvs/tfm_alvaro-vnpVahGc/lib/python3.10/site-packages/debugpy/_vendored/pydevd/_pydevd_bundle/pydevd_resolver.py\": 1685260767.4672787, \"/Users/alvaroromangomez/.local/share/virtualenvs/tfm_alvaro-vnpVahGc/lib/python3.10/site-packages/debugpy/_vendored/pydevd/_pydevd_bundle/pydevd_extension_api.py\": 1685260767.4589353, \"/Users/alvaroromangomez/.local/share/virtualenvs/tfm_alvaro-vnpVahGc/lib/python3.10/site-packages/debugpy/_vendored/pydevd/_pydevd_bundle/pydevd_xml.py\": 1685260767.475243, \"/Users/alvaroromangomez/.local/share/virtualenvs/tfm_alvaro-vnpVahGc/lib/python3.10/site-packages/debugpy/_vendored/pydevd/_pydevd_bundle/pydevd_dont_trace.py\": 1685260767.457595, \"/Users/alvaroromangomez/.local/share/virtualenvs/tfm_alvaro-vnpVahGc/lib/python3.10/site-packages/debugpy/_vendored/pydevd/_pydevd_frame_eval/vendored/__init__.py\": 1685260767.493143, \"/Users/alvaroromangomez/.local/share/virtualenvs/tfm_alvaro-vnpVahGc/lib/python3.10/site-packages/debugpy/_vendored/pydevd/_pydevd_frame_eval/vendored/bytecode/flags.py\": 1685260767.4961703, \"/Users/alvaroromangomez/.local/share/virtualenvs/tfm_alvaro-vnpVahGc/lib/python3.10/site-packages/debugpy/_vendored/pydevd/_pydevd_frame_eval/vendored/bytecode/instr.py\": 1685260767.4966528, \"/Users/alvaroromangomez/.local/share/virtualenvs/tfm_alvaro-vnpVahGc/lib/python3.10/site-packages/debugpy/_vendored/pydevd/_pydevd_frame_eval/vendored/bytecode/bytecode.py\": 1685260767.494738, \"/Users/alvaroromangomez/.local/share/virtualenvs/tfm_alvaro-vnpVahGc/lib/python3.10/site-packages/debugpy/_vendored/pydevd/_pydevd_frame_eval/vendored/bytecode/concrete.py\": 1685260767.4956968, \"/Users/alvaroromangomez/.local/share/virtualenvs/tfm_alvaro-vnpVahGc/lib/python3.10/site-packages/debugpy/_vendored/pydevd/_pydevd_frame_eval/vendored/bytecode/cfg.py\": 1685260767.4952135, \"/Users/alvaroromangomez/.local/share/virtualenvs/tfm_alvaro-vnpVahGc/lib/python3.10/site-packages/debugpy/_vendored/pydevd/_pydevd_frame_eval/vendored/bytecode/__init__.py\": 1685260767.494238, \"/Users/alvaroromangomez/.local/share/virtualenvs/tfm_alvaro-vnpVahGc/lib/python3.10/site-packages/debugpy/_vendored/pydevd/_pydevd_bundle/pydevd_bytecode_utils.py\": 1685260767.4396057, \"/Users/alvaroromangomez/.local/share/virtualenvs/tfm_alvaro-vnpVahGc/lib/python3.10/site-packages/debugpy/_vendored/pydevd/_pydevd_bundle/pydevd_cython.cpython-310-darwin.so\": 1685260767.4543035, \"/Users/alvaroromangomez/.local/share/virtualenvs/tfm_alvaro-vnpVahGc/lib/python3.10/site-packages/debugpy/_vendored/pydevd/_pydevd_bundle/pydevd_cython_wrapper.py\": 1685260767.4562647, \"/Users/alvaroromangomez/.local/share/virtualenvs/tfm_alvaro-vnpVahGc/lib/python3.10/site-packages/debugpy/_vendored/pydevd/_pydevd_bundle/pydevd_additional_thread_info.py\": 1685260767.4371693, \"/Users/alvaroromangomez/.local/share/virtualenvs/tfm_alvaro-vnpVahGc/lib/python3.10/site-packages/debugpy/_vendored/pydevd/_pydevd_bundle/pydevd_thread_lifecycle.py\": 1685260767.4712374, \"/Users/alvaroromangomez/.local/share/virtualenvs/tfm_alvaro-vnpVahGc/lib/python3.10/site-packages/debugpy/_vendored/pydevd/_pydevd_bundle/pydevd_save_locals.py\": 1685260767.4687135, \"/Users/alvaroromangomez/.local/share/virtualenvs/tfm_alvaro-vnpVahGc/lib/python3.10/site-packages/debugpy/_vendored/pydevd/_pydev_bundle/pydev_monkey.py\": 1685260767.4259832, \"/Users/alvaroromangomez/.local/share/virtualenvs/tfm_alvaro-vnpVahGc/lib/python3.10/site-packages/debugpy/_vendored/pydevd/pydevd_tracing.py\": 1685260767.4113288, \"/Users/alvaroromangomez/.local/share/virtualenvs/tfm_alvaro-vnpVahGc/lib/python3.10/site-packages/debugpy/_vendored/pydevd/_pydevd_bundle/pydevd_collect_bytecode_info.py\": 1685260767.4407492, \"/Users/alvaroromangomez/.local/share/virtualenvs/tfm_alvaro-vnpVahGc/lib/python3.10/site-packages/debugpy/_vendored/pydevd/_pydevd_bundle/pydevd_daemon_thread.py\": 1685260767.4567275, \"/Users/alvaroromangomez/.local/share/virtualenvs/tfm_alvaro-vnpVahGc/lib/python3.10/site-packages/debugpy/_vendored/pydevd/_pydevd_bundle/pydevd_timeout.py\": 1685260767.4716783, \"/Users/alvaroromangomez/.local/share/virtualenvs/tfm_alvaro-vnpVahGc/lib/python3.10/site-packages/debugpy/_vendored/pydevd/_pydevd_bundle/pydevd_vars.py\": 1685260767.4743686, \"/Users/alvaroromangomez/.local/share/virtualenvs/tfm_alvaro-vnpVahGc/lib/python3.10/site-packages/debugpy/_vendored/pydevd/_pydev_bundle/pydev_console_utils.py\": 1685260767.4204276, \"/Users/alvaroromangomez/.local/share/virtualenvs/tfm_alvaro-vnpVahGc/lib/python3.10/site-packages/debugpy/_vendored/pydevd/_pydevd_bundle/pydevd_import_class.py\": 1685260767.4617882, \"/Users/alvaroromangomez/.local/share/virtualenvs/tfm_alvaro-vnpVahGc/lib/python3.10/site-packages/debugpy/_vendored/pydevd/_pydevd_bundle/pydevd_breakpoints.py\": 1685260767.4390306, \"/Users/alvaroromangomez/.local/share/virtualenvs/tfm_alvaro-vnpVahGc/lib/python3.10/site-packages/debugpy/_vendored/pydevd/_pydevd_bundle/pydevd_custom_frames.py\": 1685260767.4441295, \"/Users/alvaroromangomez/.local/share/virtualenvs/tfm_alvaro-vnpVahGc/lib/python3.10/site-packages/debugpy/_vendored/pydevd/_pydevd_bundle/pydevd_dont_trace_files.py\": 1685260767.4580603, \"/Users/alvaroromangomez/.local/share/virtualenvs/tfm_alvaro-vnpVahGc/lib/python3.10/site-packages/debugpy/_vendored/pydevd/_pydevd_bundle/pydevd_net_command.py\": 1685260767.4631941, \"/Users/alvaroromangomez/.local/share/virtualenvs/tfm_alvaro-vnpVahGc/lib/python3.10/site-packages/debugpy/_vendored/pydevd/_pydevd_bundle/pydevconsole_code.py\": 1685260767.4366176, \"/Users/alvaroromangomez/.local/share/virtualenvs/tfm_alvaro-vnpVahGc/lib/python3.10/site-packages/debugpy/_vendored/pydevd/_pydev_bundle/pydev_umd.py\": 1685260767.4281006, \"/Users/alvaroromangomez/.local/share/virtualenvs/tfm_alvaro-vnpVahGc/lib/python3.10/site-packages/debugpy/_vendored/pydevd/pydevconsole.py\": 1685260767.408803, \"/Users/alvaroromangomez/.local/share/virtualenvs/tfm_alvaro-vnpVahGc/lib/python3.10/site-packages/debugpy/_vendored/pydevd/_pydev_bundle/_pydev_completer.py\": 1685260767.4138644, \"/Users/alvaroromangomez/.local/share/virtualenvs/tfm_alvaro-vnpVahGc/lib/python3.10/site-packages/debugpy/_vendored/pydevd/_pydevd_bundle/pydevd_net_command_factory_xml.py\": 1685260767.4642572, \"/Users/alvaroromangomez/.local/share/virtualenvs/tfm_alvaro-vnpVahGc/lib/python3.10/site-packages/debugpy/_vendored/pydevd/_pydevd_bundle/pydevd_frame.py\": 1685260767.4604194, \"/Users/alvaroromangomez/.local/share/virtualenvs/tfm_alvaro-vnpVahGc/lib/python3.10/site-packages/debugpy/_vendored/pydevd/_pydevd_bundle/pydevd_additional_thread_info_regular.py\": 1685260767.4378257, \"/Users/alvaroromangomez/.local/share/virtualenvs/tfm_alvaro-vnpVahGc/lib/python3.10/site-packages/debugpy/_vendored/pydevd/_pydevd_bundle/pydevd_trace_dispatch.py\": 1685260767.4724712, \"/Users/alvaroromangomez/.local/share/virtualenvs/tfm_alvaro-vnpVahGc/lib/python3.10/site-packages/debugpy/_vendored/pydevd/_pydevd_frame_eval/pydevd_frame_eval_main.py\": 1685260767.4840746, \"/Users/alvaroromangomez/.local/share/virtualenvs/tfm_alvaro-vnpVahGc/lib/python3.10/site-packages/debugpy/_vendored/pydevd/_pydevd_bundle/pydevd_source_mapping.py\": 1685260767.4696057, \"/Users/alvaroromangomez/.local/share/virtualenvs/tfm_alvaro-vnpVahGc/lib/python3.10/site-packages/debugpy/_vendored/pydevd/_pydevd_bundle/pydevd_concurrency_analyser/__init__.py\": 1685260767.4811542, \"/Users/alvaroromangomez/.local/share/virtualenvs/tfm_alvaro-vnpVahGc/lib/python3.10/site-packages/debugpy/_vendored/pydevd/_pydevd_bundle/pydevd_concurrency_analyser/pydevd_thread_wrappers.py\": 1685260767.4823563, \"/Users/alvaroromangomez/.local/share/virtualenvs/tfm_alvaro-vnpVahGc/lib/python3.10/site-packages/debugpy/_vendored/pydevd/_pydevd_bundle/pydevd_concurrency_analyser/pydevd_concurrency_logger.py\": 1685260767.4816875, \"/Users/alvaroromangomez/.local/share/virtualenvs/tfm_alvaro-vnpVahGc/lib/python3.10/site-packages/debugpy/_vendored/pydevd/_pydevd_bundle/_debug_adapter/__init__.py\": 1685260767.475655, \"/Users/alvaroromangomez/.local/share/virtualenvs/tfm_alvaro-vnpVahGc/lib/python3.10/site-packages/debugpy/_vendored/pydevd/_pydevd_bundle/_debug_adapter/pydevd_schema_log.py\": 1685260767.4806721, \"/Users/alvaroromangomez/.local/share/virtualenvs/tfm_alvaro-vnpVahGc/lib/python3.10/site-packages/debugpy/_vendored/pydevd/_pydevd_bundle/_debug_adapter/pydevd_base_schema.py\": 1685260767.4780366, \"/Users/alvaroromangomez/.local/share/virtualenvs/tfm_alvaro-vnpVahGc/lib/python3.10/site-packages/debugpy/_vendored/pydevd/_pydevd_bundle/_debug_adapter/pydevd_schema.py\": 1685260767.4801235, \"/Users/alvaroromangomez/.local/share/virtualenvs/tfm_alvaro-vnpVahGc/lib/python3.10/site-packages/debugpy/_vendored/pydevd/_pydevd_bundle/pydevd_reload.py\": 1685260767.4667535, \"/Users/alvaroromangomez/.local/share/virtualenvs/tfm_alvaro-vnpVahGc/lib/python3.10/site-packages/debugpy/_vendored/pydevd/_pydev_bundle/fsnotify/__init__.py\": 1685260767.4295275, \"/Users/alvaroromangomez/.local/share/virtualenvs/tfm_alvaro-vnpVahGc/lib/python3.10/site-packages/debugpy/_vendored/pydevd/_pydevd_bundle/pydevd_console.py\": 1685260767.4430475, \"/Users/alvaroromangomez/.local/share/virtualenvs/tfm_alvaro-vnpVahGc/lib/python3.10/site-packages/debugpy/_vendored/pydevd/_pydevd_bundle/pydevd_comm.py\": 1685260767.441579, \"/Users/alvaroromangomez/.local/share/virtualenvs/tfm_alvaro-vnpVahGc/lib/python3.10/site-packages/debugpy/_vendored/pydevd/_pydevd_bundle/pydevd_net_command_factory_json.py\": 1685260767.4637206, \"/Users/alvaroromangomez/.local/share/virtualenvs/tfm_alvaro-vnpVahGc/lib/python3.10/site-packages/debugpy/_vendored/pydevd/_pydevd_bundle/pydevd_api.py\": 1685260767.4385529, \"/Users/alvaroromangomez/.local/share/virtualenvs/tfm_alvaro-vnpVahGc/lib/python3.10/site-packages/debugpy/_vendored/pydevd/_pydevd_bundle/pydevd_json_debug_options.py\": 1685260767.4627526, \"/Users/alvaroromangomez/.local/share/virtualenvs/tfm_alvaro-vnpVahGc/lib/python3.10/site-packages/debugpy/_vendored/pydevd/_pydevd_bundle/pydevd_process_net_command_json.py\": 1685260767.4658053, \"/Users/alvaroromangomez/.local/share/virtualenvs/tfm_alvaro-vnpVahGc/lib/python3.10/site-packages/debugpy/_vendored/pydevd/_pydevd_bundle/pydevd_traceproperty.py\": 1685260767.4733465, \"/Users/alvaroromangomez/.local/share/virtualenvs/tfm_alvaro-vnpVahGc/lib/python3.10/site-packages/debugpy/_vendored/pydevd/_pydevd_bundle/pydevd_process_net_command.py\": 1685260767.465196, \"/Users/alvaroromangomez/.local/share/virtualenvs/tfm_alvaro-vnpVahGc/lib/python3.10/site-packages/debugpy/_vendored/pydevd/_pydevd_bundle/pydevd_suspended_frames.py\": 1685260767.47079, \"/Users/alvaroromangomez/.local/share/virtualenvs/tfm_alvaro-vnpVahGc/lib/python3.10/site-packages/debugpy/_vendored/pydevd/_pydevd_bundle/pydevd_trace_api.py\": 1685260767.4720738, \"/Users/alvaroromangomez/.local/share/virtualenvs/tfm_alvaro-vnpVahGc/lib/python3.10/site-packages/debugpy/_vendored/pydevd/pydevd_plugins/pydevd_line_validation.py\": 1685260767.5503662, \"/Users/alvaroromangomez/.local/share/virtualenvs/tfm_alvaro-vnpVahGc/lib/python3.10/site-packages/debugpy/_vendored/pydevd/pydevd_plugins/django_debug.py\": 1685260767.549433, \"/Users/alvaroromangomez/.local/share/virtualenvs/tfm_alvaro-vnpVahGc/lib/python3.10/site-packages/debugpy/_vendored/pydevd/pydevd_plugins/jinja2_debug.py\": 1685260767.549902, \"/Users/alvaroromangomez/.local/share/virtualenvs/tfm_alvaro-vnpVahGc/lib/python3.10/site-packages/debugpy/_vendored/pydevd/_pydevd_bundle/pydevd_plugin_utils.py\": 1685260767.464685, \"/Users/alvaroromangomez/.local/share/virtualenvs/tfm_alvaro-vnpVahGc/lib/python3.10/site-packages/debugpy/_vendored/pydevd/pydevd_plugins/extensions/types/__init__.py\": 1685260767.5517366, \"/Users/alvaroromangomez/.local/share/virtualenvs/tfm_alvaro-vnpVahGc/lib/python3.10/site-packages/debugpy/_vendored/pydevd/pydevd_plugins/extensions/types/pydevd_helpers.py\": 1685260767.5521855, \"/Users/alvaroromangomez/.local/share/virtualenvs/tfm_alvaro-vnpVahGc/lib/python3.10/site-packages/debugpy/_vendored/pydevd/pydevd_plugins/extensions/types/pydevd_plugin_numpy_types.py\": 1685260767.5526354, \"/Users/alvaroromangomez/.local/share/virtualenvs/tfm_alvaro-vnpVahGc/lib/python3.10/site-packages/debugpy/_vendored/pydevd/pydevd_plugins/extensions/types/pydevd_plugin_pandas_types.py\": 1685260767.5530493, \"/Users/alvaroromangomez/.local/share/virtualenvs/tfm_alvaro-vnpVahGc/lib/python3.10/site-packages/debugpy/_vendored/pydevd/pydevd_plugins/extensions/types/pydevd_plugins_django_form_str.py\": 1685260767.5534394, \"/Users/alvaroromangomez/.local/share/virtualenvs/tfm_alvaro-vnpVahGc/lib/python3.10/site-packages/debugpy/_vendored/pydevd/pydevd.py\": 1685260767.4099393, \"/Users/alvaroromangomez/.local/share/virtualenvs/tfm_alvaro-vnpVahGc/lib/python3.10/site-packages/debugpy/_vendored/force_pydevd.py\": 1685260767.4052565, \"/Users/alvaroromangomez/.local/share/virtualenvs/tfm_alvaro-vnpVahGc/lib/python3.10/site-packages/debugpy/server/__init__.py\": 1685260767.5640926, \"/Users/alvaroromangomez/.local/share/virtualenvs/tfm_alvaro-vnpVahGc/lib/python3.10/site-packages/debugpy/adapter/__init__.py\": 1685260767.5539105, \"/Users/alvaroromangomez/.local/share/virtualenvs/tfm_alvaro-vnpVahGc/lib/python3.10/site-packages/debugpy/common/__init__.py\": 1685260767.5573833, \"/Users/alvaroromangomez/.local/share/virtualenvs/tfm_alvaro-vnpVahGc/lib/python3.10/site-packages/debugpy/common/json.py\": 1685260767.5578077, \"/Users/alvaroromangomez/.local/share/virtualenvs/tfm_alvaro-vnpVahGc/lib/python3.10/site-packages/debugpy/common/timestamp.py\": 1685260767.560615, \"/Users/alvaroromangomez/.local/share/virtualenvs/tfm_alvaro-vnpVahGc/lib/python3.10/site-packages/debugpy/common/util.py\": 1685260767.561012, \"/Users/alvaroromangomez/.local/share/virtualenvs/tfm_alvaro-vnpVahGc/lib/python3.10/site-packages/debugpy/common/log.py\": 1685260767.5582523, \"/Users/alvaroromangomez/.local/share/virtualenvs/tfm_alvaro-vnpVahGc/lib/python3.10/site-packages/debugpy/common/sockets.py\": 1685260767.5598264, \"/Users/alvaroromangomez/.local/share/virtualenvs/tfm_alvaro-vnpVahGc/lib/python3.10/site-packages/debugpy/server/api.py\": 1685260767.564509, \"/Users/alvaroromangomez/.local/share/virtualenvs/tfm_alvaro-vnpVahGc/lib/python3.10/site-packages/ipykernel/debugger.py\": 1685260770.862487, \"/Users/alvaroromangomez/.local/share/virtualenvs/tfm_alvaro-vnpVahGc/lib/python3.10/site-packages/packaging/__init__.py\": 1685260767.327018, \"/Users/alvaroromangomez/.local/share/virtualenvs/tfm_alvaro-vnpVahGc/lib/python3.10/site-packages/packaging/_structures.py\": 1685260767.3293738, \"/Users/alvaroromangomez/.local/share/virtualenvs/tfm_alvaro-vnpVahGc/lib/python3.10/site-packages/packaging/version.py\": 1685260767.3336678, \"/Users/alvaroromangomez/.local/share/virtualenvs/tfm_alvaro-vnpVahGc/lib/python3.10/site-packages/ipykernel/eventloops.py\": 1685260770.8641567, \"/Users/alvaroromangomez/.local/share/virtualenvs/tfm_alvaro-vnpVahGc/lib/python3.10/site-packages/IPython/core/payloadpage.py\": 1685260770.0732312, \"/Users/alvaroromangomez/.local/share/virtualenvs/tfm_alvaro-vnpVahGc/lib/python3.10/site-packages/ipykernel/displayhook.py\": 1685260770.8631246, \"/Users/alvaroromangomez/.local/share/virtualenvs/tfm_alvaro-vnpVahGc/lib/python3.10/site-packages/ipykernel/zmqshell.py\": 1685260770.871154, \"/Users/alvaroromangomez/.local/share/virtualenvs/tfm_alvaro-vnpVahGc/lib/python3.10/site-packages/ipykernel/ipkernel.py\": 1685260770.8658419, \"/Users/alvaroromangomez/.local/share/virtualenvs/tfm_alvaro-vnpVahGc/lib/python3.10/site-packages/ipykernel/parentpoller.py\": 1685260770.8689337, \"/Users/alvaroromangomez/.local/share/virtualenvs/tfm_alvaro-vnpVahGc/lib/python3.10/site-packages/ipykernel/kernelapp.py\": 1685260770.8669598, \"/Users/alvaroromangomez/.local/share/virtualenvs/tfm_alvaro-vnpVahGc/lib/python3.10/site-packages/tornado/platform/__init__.py\": 1685260764.8721232, \"/Users/alvaroromangomez/.local/share/virtualenvs/tfm_alvaro-vnpVahGc/lib/python3.10/site-packages/tornado/platform/asyncio.py\": 1685260764.871871, \"/Users/alvaroromangomez/.local/share/virtualenvs/tfm_alvaro-vnpVahGc/lib/python3.10/site-packages/IPython/core/completerlib.py\": 1685260770.0583086, \"/Users/alvaroromangomez/.pyenv/versions/3.10.10/Library/Frameworks/Python.framework/Versions/3.10/lib/python3.10/ctypes/macholib/__init__.py\": 1685228244.6068327, \"/Users/alvaroromangomez/.pyenv/versions/3.10.10/Library/Frameworks/Python.framework/Versions/3.10/lib/python3.10/ctypes/macholib/framework.py\": 1685228244.631175, \"/Users/alvaroromangomez/.pyenv/versions/3.10.10/Library/Frameworks/Python.framework/Versions/3.10/lib/python3.10/ctypes/macholib/dylib.py\": 1685228244.616819, \"/Users/alvaroromangomez/.pyenv/versions/3.10.10/Library/Frameworks/Python.framework/Versions/3.10/lib/python3.10/ctypes/macholib/dyld.py\": 1685228244.6119132, \"/Users/alvaroromangomez/.pyenv/versions/3.10.10/Library/Frameworks/Python.framework/Versions/3.10/lib/python3.10/ctypes/util.py\": 1685228244.5857248, \"/Users/alvaroromangomez/.local/share/virtualenvs/tfm_alvaro-vnpVahGc/lib/python3.10/site-packages/appnope/_nope.py\": 1685260764.6657708, \"/Users/alvaroromangomez/.local/share/virtualenvs/tfm_alvaro-vnpVahGc/lib/python3.10/site-packages/appnope/__init__.py\": 1685260764.6646883, \"/Users/alvaroromangomez/.local/share/virtualenvs/tfm_alvaro-vnpVahGc/lib/python3.10/site-packages/numpy/_globals.py\": 1685261905.925212, \"/Users/alvaroromangomez/.local/share/virtualenvs/tfm_alvaro-vnpVahGc/lib/python3.10/site-packages/numpy/__config__.py\": 1685261905.9278276, \"/Users/alvaroromangomez/.local/share/virtualenvs/tfm_alvaro-vnpVahGc/lib/python3.10/site-packages/numpy/_distributor_init.py\": 1685261905.9272702, \"/Users/alvaroromangomez/.local/share/virtualenvs/tfm_alvaro-vnpVahGc/lib/python3.10/site-packages/numpy/_version.py\": 1685261905.924666, \"/Users/alvaroromangomez/.local/share/virtualenvs/tfm_alvaro-vnpVahGc/lib/python3.10/site-packages/numpy/version.py\": 1685261905.9223552, \"/Users/alvaroromangomez/.local/share/virtualenvs/tfm_alvaro-vnpVahGc/lib/python3.10/site-packages/numpy/core/_multiarray_umath.cpython-310-darwin.so\": 1685261906.0579758, \"/Users/alvaroromangomez/.local/share/virtualenvs/tfm_alvaro-vnpVahGc/lib/python3.10/site-packages/numpy/compat/_inspect.py\": 1685261906.0047498, \"/Users/alvaroromangomez/.local/share/virtualenvs/tfm_alvaro-vnpVahGc/lib/python3.10/site-packages/numpy/compat/_pep440.py\": 1685261906.0029545, \"/Users/alvaroromangomez/.local/share/virtualenvs/tfm_alvaro-vnpVahGc/lib/python3.10/site-packages/numpy/compat/py3k.py\": 1685261906.0023775, \"/Users/alvaroromangomez/.local/share/virtualenvs/tfm_alvaro-vnpVahGc/lib/python3.10/site-packages/numpy/compat/__init__.py\": 1685261906.0034256, \"/Users/alvaroromangomez/.local/share/virtualenvs/tfm_alvaro-vnpVahGc/lib/python3.10/site-packages/numpy/core/overrides.py\": 1685261906.0730286, \"/Users/alvaroromangomez/.local/share/virtualenvs/tfm_alvaro-vnpVahGc/lib/python3.10/site-packages/numpy/core/multiarray.py\": 1685261906.0182185, \"/Users/alvaroromangomez/.local/share/virtualenvs/tfm_alvaro-vnpVahGc/lib/python3.10/site-packages/numpy/core/umath.py\": 1685261906.006826, \"/Users/alvaroromangomez/.local/share/virtualenvs/tfm_alvaro-vnpVahGc/lib/python3.10/site-packages/numpy/core/_string_helpers.py\": 1685261906.017471, \"/Users/alvaroromangomez/.local/share/virtualenvs/tfm_alvaro-vnpVahGc/lib/python3.10/site-packages/numpy/core/_dtype.py\": 1685261906.0112343, \"/Users/alvaroromangomez/.local/share/virtualenvs/tfm_alvaro-vnpVahGc/lib/python3.10/site-packages/numpy/core/_type_aliases.py\": 1685261906.0906165, \"/Users/alvaroromangomez/.local/share/virtualenvs/tfm_alvaro-vnpVahGc/lib/python3.10/site-packages/numpy/core/numerictypes.py\": 1685261906.089674, \"/Users/alvaroromangomez/.local/share/virtualenvs/tfm_alvaro-vnpVahGc/lib/python3.10/site-packages/numpy/core/_exceptions.py\": 1685261906.0873053, \"/Users/alvaroromangomez/.local/share/virtualenvs/tfm_alvaro-vnpVahGc/lib/python3.10/site-packages/numpy/core/_methods.py\": 1685261906.0148487, \"/Users/alvaroromangomez/.local/share/virtualenvs/tfm_alvaro-vnpVahGc/lib/python3.10/site-packages/numpy/core/fromnumeric.py\": 1685261906.0080013, \"/Users/alvaroromangomez/.local/share/virtualenvs/tfm_alvaro-vnpVahGc/lib/python3.10/site-packages/numpy/core/shape_base.py\": 1685261906.0774815, \"/Users/alvaroromangomez/.local/share/virtualenvs/tfm_alvaro-vnpVahGc/lib/python3.10/site-packages/numpy/core/_ufunc_config.py\": 1685261906.0863426, \"/Users/alvaroromangomez/.local/share/virtualenvs/tfm_alvaro-vnpVahGc/lib/python3.10/site-packages/numpy/core/arrayprint.py\": 1685261906.0934336, \"/Users/alvaroromangomez/.local/share/virtualenvs/tfm_alvaro-vnpVahGc/lib/python3.10/site-packages/numpy/core/_asarray.py\": 1685261906.0187025, \"/Users/alvaroromangomez/.local/share/virtualenvs/tfm_alvaro-vnpVahGc/lib/python3.10/site-packages/numpy/core/numeric.py\": 1685261906.0808723, \"/Users/alvaroromangomez/.local/share/virtualenvs/tfm_alvaro-vnpVahGc/lib/python3.10/site-packages/numpy/core/defchararray.py\": 1685261906.0747864, \"/Users/alvaroromangomez/.local/share/virtualenvs/tfm_alvaro-vnpVahGc/lib/python3.10/site-packages/numpy/core/records.py\": 1685261906.0194805, \"/Users/alvaroromangomez/.local/share/virtualenvs/tfm_alvaro-vnpVahGc/lib/python3.10/site-packages/numpy/core/memmap.py\": 1685261906.0723474, \"/Users/alvaroromangomez/.local/share/virtualenvs/tfm_alvaro-vnpVahGc/lib/python3.10/site-packages/numpy/core/function_base.py\": 1685261906.084586, \"/Users/alvaroromangomez/.local/share/virtualenvs/tfm_alvaro-vnpVahGc/lib/python3.10/site-packages/numpy/core/_machar.py\": 1685261906.0600467, \"/Users/alvaroromangomez/.local/share/virtualenvs/tfm_alvaro-vnpVahGc/lib/python3.10/site-packages/numpy/core/getlimits.py\": 1685261906.0736015, \"/Users/alvaroromangomez/.local/share/virtualenvs/tfm_alvaro-vnpVahGc/lib/python3.10/site-packages/numpy/core/einsumfunc.py\": 1685261906.0853617, \"/Users/alvaroromangomez/.local/share/virtualenvs/tfm_alvaro-vnpVahGc/lib/python3.10/site-packages/numpy/core/_multiarray_tests.cpython-310-darwin.so\": 1685261906.0888097, \"/Users/alvaroromangomez/.local/share/virtualenvs/tfm_alvaro-vnpVahGc/lib/python3.10/site-packages/numpy/core/_add_newdocs.py\": 1685261906.013573, \"/Users/alvaroromangomez/.local/share/virtualenvs/tfm_alvaro-vnpVahGc/lib/python3.10/site-packages/numpy/core/_add_newdocs_scalars.py\": 1685261906.0589554, \"/Users/alvaroromangomez/.local/share/virtualenvs/tfm_alvaro-vnpVahGc/lib/python3.10/site-packages/numpy/core/_dtype_ctypes.py\": 1685261906.074085, \"/Users/alvaroromangomez/.local/share/virtualenvs/tfm_alvaro-vnpVahGc/lib/python3.10/site-packages/numpy/core/_internal.py\": 1685261906.0157335, \"/Users/alvaroromangomez/.local/share/virtualenvs/tfm_alvaro-vnpVahGc/lib/python3.10/site-packages/numpy/_pytesttester.py\": 1685261905.9311383, \"/Users/alvaroromangomez/.local/share/virtualenvs/tfm_alvaro-vnpVahGc/lib/python3.10/site-packages/numpy/core/__init__.py\": 1685261906.0595264, \"/Users/alvaroromangomez/.local/share/virtualenvs/tfm_alvaro-vnpVahGc/lib/python3.10/site-packages/numpy/lib/mixins.py\": 1685261906.7747257, \"/Users/alvaroromangomez/.local/share/virtualenvs/tfm_alvaro-vnpVahGc/lib/python3.10/site-packages/numpy/lib/ufunclike.py\": 1685261906.8088949, \"/Users/alvaroromangomez/.local/share/virtualenvs/tfm_alvaro-vnpVahGc/lib/python3.10/site-packages/numpy/lib/type_check.py\": 1685261906.8061695, \"/Users/alvaroromangomez/.local/share/virtualenvs/tfm_alvaro-vnpVahGc/lib/python3.10/site-packages/numpy/lib/scimath.py\": 1685261906.779092, \"/Users/alvaroromangomez/.local/share/virtualenvs/tfm_alvaro-vnpVahGc/lib/python3.10/site-packages/numpy/lib/stride_tricks.py\": 1685261906.7989945, \"/Users/alvaroromangomez/.local/share/virtualenvs/tfm_alvaro-vnpVahGc/lib/python3.10/site-packages/numpy/lib/twodim_base.py\": 1685261906.7890885, \"/Users/alvaroromangomez/.local/share/virtualenvs/tfm_alvaro-vnpVahGc/lib/python3.10/site-packages/numpy/linalg/_umath_linalg.cpython-310-darwin.so\": 1685261906.1834118, \"/Users/alvaroromangomez/.local/share/virtualenvs/tfm_alvaro-vnpVahGc/lib/python3.10/site-packages/numpy/linalg/linalg.py\": 1685261906.1871436, \"/Users/alvaroromangomez/.local/share/virtualenvs/tfm_alvaro-vnpVahGc/lib/python3.10/site-packages/numpy/linalg/__init__.py\": 1685261906.1846063, \"/Users/alvaroromangomez/.local/share/virtualenvs/tfm_alvaro-vnpVahGc/lib/python3.10/site-packages/numpy/matrixlib/defmatrix.py\": 1685261906.9069078, \"/Users/alvaroromangomez/.local/share/virtualenvs/tfm_alvaro-vnpVahGc/lib/python3.10/site-packages/numpy/matrixlib/__init__.py\": 1685261906.9048846, \"/Users/alvaroromangomez/.local/share/virtualenvs/tfm_alvaro-vnpVahGc/lib/python3.10/site-packages/numpy/lib/histograms.py\": 1685261906.778248, \"/Users/alvaroromangomez/.local/share/virtualenvs/tfm_alvaro-vnpVahGc/lib/python3.10/site-packages/numpy/lib/function_base.py\": 1685261906.8022506, \"/Users/alvaroromangomez/.local/share/virtualenvs/tfm_alvaro-vnpVahGc/lib/python3.10/site-packages/numpy/lib/index_tricks.py\": 1685261906.7912762, \"/Users/alvaroromangomez/.local/share/virtualenvs/tfm_alvaro-vnpVahGc/lib/python3.10/site-packages/numpy/lib/nanfunctions.py\": 1685261906.775485, \"/Users/alvaroromangomez/.local/share/virtualenvs/tfm_alvaro-vnpVahGc/lib/python3.10/site-packages/numpy/lib/shape_base.py\": 1685261906.7962666, \"/Users/alvaroromangomez/.local/share/virtualenvs/tfm_alvaro-vnpVahGc/lib/python3.10/site-packages/numpy/lib/polynomial.py\": 1685261906.8073688, \"/Users/alvaroromangomez/.local/share/virtualenvs/tfm_alvaro-vnpVahGc/lib/python3.10/site-packages/numpy/lib/utils.py\": 1685261906.799642, \"/Users/alvaroromangomez/.local/share/virtualenvs/tfm_alvaro-vnpVahGc/lib/python3.10/site-packages/numpy/lib/arraysetops.py\": 1685261906.8040617, \"/Users/alvaroromangomez/.local/share/virtualenvs/tfm_alvaro-vnpVahGc/lib/python3.10/site-packages/numpy/lib/format.py\": 1685261906.7884028, \"/Users/alvaroromangomez/.local/share/virtualenvs/tfm_alvaro-vnpVahGc/lib/python3.10/site-packages/numpy/lib/_datasource.py\": 1685261906.8084009, \"/Users/alvaroromangomez/.local/share/virtualenvs/tfm_alvaro-vnpVahGc/lib/python3.10/site-packages/numpy/lib/_iotools.py\": 1685261906.7732432, \"/Users/alvaroromangomez/.local/share/virtualenvs/tfm_alvaro-vnpVahGc/lib/python3.10/site-packages/numpy/lib/npyio.py\": 1685261906.793349, \"/Users/alvaroromangomez/.local/share/virtualenvs/tfm_alvaro-vnpVahGc/lib/python3.10/site-packages/numpy/lib/arrayterator.py\": 1685261906.800722, \"/Users/alvaroromangomez/.local/share/virtualenvs/tfm_alvaro-vnpVahGc/lib/python3.10/site-packages/numpy/lib/arraypad.py\": 1685261906.8055897, \"/Users/alvaroromangomez/.local/share/virtualenvs/tfm_alvaro-vnpVahGc/lib/python3.10/site-packages/numpy/lib/_version.py\": 1685261906.7830808, \"/Users/alvaroromangomez/.local/share/virtualenvs/tfm_alvaro-vnpVahGc/lib/python3.10/site-packages/numpy/lib/__init__.py\": 1685261906.78772, \"/Users/alvaroromangomez/.local/share/virtualenvs/tfm_alvaro-vnpVahGc/lib/python3.10/site-packages/numpy/fft/_pocketfft_internal.cpython-310-darwin.so\": 1685261906.8348541, \"/Users/alvaroromangomez/.local/share/virtualenvs/tfm_alvaro-vnpVahGc/lib/python3.10/site-packages/numpy/fft/_pocketfft.py\": 1685261906.837902, \"/Users/alvaroromangomez/.local/share/virtualenvs/tfm_alvaro-vnpVahGc/lib/python3.10/site-packages/numpy/fft/helper.py\": 1685261906.8365965, \"/Users/alvaroromangomez/.local/share/virtualenvs/tfm_alvaro-vnpVahGc/lib/python3.10/site-packages/numpy/fft/__init__.py\": 1685261906.8356552, \"/Users/alvaroromangomez/.local/share/virtualenvs/tfm_alvaro-vnpVahGc/lib/python3.10/site-packages/numpy/polynomial/polyutils.py\": 1685261906.915327, \"/Users/alvaroromangomez/.local/share/virtualenvs/tfm_alvaro-vnpVahGc/lib/python3.10/site-packages/numpy/polynomial/_polybase.py\": 1685261906.914071, \"/Users/alvaroromangomez/.local/share/virtualenvs/tfm_alvaro-vnpVahGc/lib/python3.10/site-packages/numpy/polynomial/polynomial.py\": 1685261906.922539, \"/Users/alvaroromangomez/.local/share/virtualenvs/tfm_alvaro-vnpVahGc/lib/python3.10/site-packages/numpy/polynomial/chebyshev.py\": 1685261906.9218204, \"/Users/alvaroromangomez/.local/share/virtualenvs/tfm_alvaro-vnpVahGc/lib/python3.10/site-packages/numpy/polynomial/legendre.py\": 1685261906.9232302, \"/Users/alvaroromangomez/.local/share/virtualenvs/tfm_alvaro-vnpVahGc/lib/python3.10/site-packages/numpy/polynomial/hermite.py\": 1685261906.9239082, \"/Users/alvaroromangomez/.local/share/virtualenvs/tfm_alvaro-vnpVahGc/lib/python3.10/site-packages/numpy/polynomial/hermite_e.py\": 1685261906.9209707, \"/Users/alvaroromangomez/.local/share/virtualenvs/tfm_alvaro-vnpVahGc/lib/python3.10/site-packages/numpy/polynomial/laguerre.py\": 1685261906.9131732, \"/Users/alvaroromangomez/.local/share/virtualenvs/tfm_alvaro-vnpVahGc/lib/python3.10/site-packages/numpy/polynomial/__init__.py\": 1685261906.9163039, \"/Users/alvaroromangomez/.local/share/virtualenvs/tfm_alvaro-vnpVahGc/lib/python3.10/site-packages/numpy/random/_common.cpython-310-darwin.so\": 1685261906.8444247, \"/Users/alvaroromangomez/.pyenv/versions/3.10.10/Library/Frameworks/Python.framework/Versions/3.10/lib/python3.10/secrets.py\": 1685228244.0947216, \"/Users/alvaroromangomez/.local/share/virtualenvs/tfm_alvaro-vnpVahGc/lib/python3.10/site-packages/numpy/random/bit_generator.cpython-310-darwin.so\": 1685261906.8688073, \"/Users/alvaroromangomez/.local/share/virtualenvs/tfm_alvaro-vnpVahGc/lib/python3.10/site-packages/numpy/random/_bounded_integers.cpython-310-darwin.so\": 1685261906.8814015, \"/Users/alvaroromangomez/.local/share/virtualenvs/tfm_alvaro-vnpVahGc/lib/python3.10/site-packages/numpy/random/_mt19937.cpython-310-darwin.so\": 1685261906.8761675, \"/Users/alvaroromangomez/.local/share/virtualenvs/tfm_alvaro-vnpVahGc/lib/python3.10/site-packages/numpy/random/mtrand.cpython-310-darwin.so\": 1685261906.8525448, \"/Users/alvaroromangomez/.local/share/virtualenvs/tfm_alvaro-vnpVahGc/lib/python3.10/site-packages/numpy/random/_philox.cpython-310-darwin.so\": 1685261906.8748217, \"/Users/alvaroromangomez/.local/share/virtualenvs/tfm_alvaro-vnpVahGc/lib/python3.10/site-packages/numpy/random/_pcg64.cpython-310-darwin.so\": 1685261906.8728812, \"/Users/alvaroromangomez/.local/share/virtualenvs/tfm_alvaro-vnpVahGc/lib/python3.10/site-packages/numpy/random/_sfc64.cpython-310-darwin.so\": 1685261906.8548355, \"/Users/alvaroromangomez/.local/share/virtualenvs/tfm_alvaro-vnpVahGc/lib/python3.10/site-packages/numpy/random/_generator.cpython-310-darwin.so\": 1685261906.8647187, \"/Users/alvaroromangomez/.local/share/virtualenvs/tfm_alvaro-vnpVahGc/lib/python3.10/site-packages/numpy/random/_pickle.py\": 1685261906.8562844, \"/Users/alvaroromangomez/.local/share/virtualenvs/tfm_alvaro-vnpVahGc/lib/python3.10/site-packages/numpy/random/__init__.py\": 1685261906.8654878, \"/Users/alvaroromangomez/.local/share/virtualenvs/tfm_alvaro-vnpVahGc/lib/python3.10/site-packages/numpy/ctypeslib.py\": 1685261905.9292057, \"/Users/alvaroromangomez/.local/share/virtualenvs/tfm_alvaro-vnpVahGc/lib/python3.10/site-packages/numpy/ma/core.py\": 1685261906.1963391, \"/Users/alvaroromangomez/.local/share/virtualenvs/tfm_alvaro-vnpVahGc/lib/python3.10/site-packages/numpy/ma/extras.py\": 1685261906.190529, \"/Users/alvaroromangomez/.local/share/virtualenvs/tfm_alvaro-vnpVahGc/lib/python3.10/site-packages/numpy/ma/__init__.py\": 1685261906.1936204, \"/Users/alvaroromangomez/.local/share/virtualenvs/tfm_alvaro-vnpVahGc/lib/python3.10/site-packages/numpy/__init__.py\": 1685261905.9263253, \"/Users/alvaroromangomez/.local/share/virtualenvs/tfm_alvaro-vnpVahGc/lib/python3.10/site-packages/matplotlib/_api/deprecation.py\": 1685261922.216412, \"/Users/alvaroromangomez/.local/share/virtualenvs/tfm_alvaro-vnpVahGc/lib/python3.10/site-packages/matplotlib/_api/__init__.py\": 1685261922.2170043, \"/Users/alvaroromangomez/.local/share/virtualenvs/tfm_alvaro-vnpVahGc/lib/python3.10/site-packages/matplotlib/_version.py\": 1685261922.0301816, \"/Users/alvaroromangomez/.local/share/virtualenvs/tfm_alvaro-vnpVahGc/lib/python3.10/site-packages/matplotlib/_c_internal_utils.cpython-310-darwin.so\": 1685261922.0487788, \"/Users/alvaroromangomez/.local/share/virtualenvs/tfm_alvaro-vnpVahGc/lib/python3.10/site-packages/matplotlib/cbook/__init__.py\": 1685261922.1199498, \"/Users/alvaroromangomez/.local/share/virtualenvs/tfm_alvaro-vnpVahGc/lib/python3.10/site-packages/matplotlib/_docstring.py\": 1685261922.0880733, \"/Users/alvaroromangomez/.local/share/virtualenvs/tfm_alvaro-vnpVahGc/lib/python3.10/site-packages/PIL/_version.py\": 1685261895.502905, \"/Users/alvaroromangomez/.local/share/virtualenvs/tfm_alvaro-vnpVahGc/lib/python3.10/site-packages/PIL/__init__.py\": 1685261895.515819, \"/Users/alvaroromangomez/.local/share/virtualenvs/tfm_alvaro-vnpVahGc/lib/python3.10/site-packages/defusedxml/common.py\": 1685261936.9493797, \"/Users/alvaroromangomez/.local/share/virtualenvs/tfm_alvaro-vnpVahGc/lib/python3.10/site-packages/defusedxml/__init__.py\": 1685261936.948489, \"/Users/alvaroromangomez/.pyenv/versions/3.10.10/Library/Frameworks/Python.framework/Versions/3.10/lib/python3.10/xml/etree/__init__.py\": 1685228247.6863987, \"/Users/alvaroromangomez/.pyenv/versions/3.10.10/Library/Frameworks/Python.framework/Versions/3.10/lib/python3.10/xml/etree/ElementPath.py\": 1685228247.6760573, \"/Users/alvaroromangomez/.pyenv/versions/3.10.10/lib/python3.10/lib-dynload/_elementtree.cpython-310-darwin.so\": 1685228215.0, \"/Users/alvaroromangomez/.pyenv/versions/3.10.10/Library/Frameworks/Python.framework/Versions/3.10/lib/python3.10/xml/etree/ElementTree.py\": 1685228247.681411, \"/Users/alvaroromangomez/.local/share/virtualenvs/tfm_alvaro-vnpVahGc/lib/python3.10/site-packages/defusedxml/ElementTree.py\": 1685261936.9480221, \"/Users/alvaroromangomez/.local/share/virtualenvs/tfm_alvaro-vnpVahGc/lib/python3.10/site-packages/PIL/ExifTags.py\": 1685261895.5088208, \"/Users/alvaroromangomez/.local/share/virtualenvs/tfm_alvaro-vnpVahGc/lib/python3.10/site-packages/PIL/ImageMode.py\": 1685261895.4872484, \"/Users/alvaroromangomez/.local/share/virtualenvs/tfm_alvaro-vnpVahGc/lib/python3.10/site-packages/PIL/TiffTags.py\": 1685261895.5347652, \"/Users/alvaroromangomez/.local/share/virtualenvs/tfm_alvaro-vnpVahGc/lib/python3.10/site-packages/PIL/_binary.py\": 1685261895.5491023, \"/Users/alvaroromangomez/.local/share/virtualenvs/tfm_alvaro-vnpVahGc/lib/python3.10/site-packages/PIL/_deprecate.py\": 1685261895.5112224, \"/Users/alvaroromangomez/.local/share/virtualenvs/tfm_alvaro-vnpVahGc/lib/python3.10/site-packages/PIL/_util.py\": 1685261895.5372097, \"/Users/alvaroromangomez/.local/share/virtualenvs/tfm_alvaro-vnpVahGc/lib/python3.10/site-packages/PIL/_imaging.cpython-310-darwin.so\": 1685261895.5619333, \"/Users/alvaroromangomez/.local/share/virtualenvs/tfm_alvaro-vnpVahGc/lib/python3.10/site-packages/cffi/lock.py\": 1685261784.415762, \"/Users/alvaroromangomez/.local/share/virtualenvs/tfm_alvaro-vnpVahGc/lib/python3.10/site-packages/cffi/error.py\": 1685261784.4089706, \"/Users/alvaroromangomez/.local/share/virtualenvs/tfm_alvaro-vnpVahGc/lib/python3.10/site-packages/cffi/model.py\": 1685261784.4123704, \"/Users/alvaroromangomez/.local/share/virtualenvs/tfm_alvaro-vnpVahGc/lib/python3.10/site-packages/cffi/api.py\": 1685261784.413474, \"/Users/alvaroromangomez/.local/share/virtualenvs/tfm_alvaro-vnpVahGc/lib/python3.10/site-packages/cffi/__init__.py\": 1685261784.4103684, \"/Users/alvaroromangomez/.local/share/virtualenvs/tfm_alvaro-vnpVahGc/lib/python3.10/site-packages/PIL/Image.py\": 1685261895.5504937, \"/Users/alvaroromangomez/.local/share/virtualenvs/tfm_alvaro-vnpVahGc/lib/python3.10/site-packages/PIL/ImageChops.py\": 1685261895.5105314, \"/Users/alvaroromangomez/.local/share/virtualenvs/tfm_alvaro-vnpVahGc/lib/python3.10/site-packages/PIL/ImageFile.py\": 1685261895.4928346, \"/Users/alvaroromangomez/.local/share/virtualenvs/tfm_alvaro-vnpVahGc/lib/python3.10/site-packages/PIL/GimpGradientFile.py\": 1685261895.5194147, \"/Users/alvaroromangomez/.local/share/virtualenvs/tfm_alvaro-vnpVahGc/lib/python3.10/site-packages/PIL/GimpPaletteFile.py\": 1685261895.4994953, \"/Users/alvaroromangomez/.local/share/virtualenvs/tfm_alvaro-vnpVahGc/lib/python3.10/site-packages/PIL/ImageColor.py\": 1685261895.5000255, \"/Users/alvaroromangomez/.local/share/virtualenvs/tfm_alvaro-vnpVahGc/lib/python3.10/site-packages/PIL/PaletteFile.py\": 1685261895.5070472, \"/Users/alvaroromangomez/.local/share/virtualenvs/tfm_alvaro-vnpVahGc/lib/python3.10/site-packages/PIL/ImagePalette.py\": 1685261895.5420144, \"/Users/alvaroromangomez/.local/share/virtualenvs/tfm_alvaro-vnpVahGc/lib/python3.10/site-packages/PIL/ImageSequence.py\": 1685261895.5469706, \"/Users/alvaroromangomez/.local/share/virtualenvs/tfm_alvaro-vnpVahGc/lib/python3.10/site-packages/PIL/PngImagePlugin.py\": 1685261895.4879947, \"/Users/alvaroromangomez/.local/share/virtualenvs/tfm_alvaro-vnpVahGc/lib/python3.10/site-packages/matplotlib/_cm.py\": 1685261922.0309443, \"/Users/alvaroromangomez/.local/share/virtualenvs/tfm_alvaro-vnpVahGc/lib/python3.10/site-packages/matplotlib/_path.cpython-310-darwin.so\": 1685261922.0449793, \"/Users/alvaroromangomez/.local/share/virtualenvs/tfm_alvaro-vnpVahGc/lib/python3.10/site-packages/matplotlib/bezier.py\": 1685261922.0412834, \"/Users/alvaroromangomez/.local/share/virtualenvs/tfm_alvaro-vnpVahGc/lib/python3.10/site-packages/matplotlib/path.py\": 1685261922.0905252, \"/Users/alvaroromangomez/.local/share/virtualenvs/tfm_alvaro-vnpVahGc/lib/python3.10/site-packages/matplotlib/transforms.py\": 1685261922.0217981, \"/Users/alvaroromangomez/.local/share/virtualenvs/tfm_alvaro-vnpVahGc/lib/python3.10/site-packages/matplotlib/ticker.py\": 1685261922.087498, \"/Users/alvaroromangomez/.local/share/virtualenvs/tfm_alvaro-vnpVahGc/lib/python3.10/site-packages/matplotlib/scale.py\": 1685261922.0937304, \"/Users/alvaroromangomez/.local/share/virtualenvs/tfm_alvaro-vnpVahGc/lib/python3.10/site-packages/matplotlib/_color_data.py\": 1685261922.0692163, \"/Users/alvaroromangomez/.local/share/virtualenvs/tfm_alvaro-vnpVahGc/lib/python3.10/site-packages/matplotlib/colors.py\": 1685261922.0988472, \"/Users/alvaroromangomez/.local/share/virtualenvs/tfm_alvaro-vnpVahGc/lib/python3.10/site-packages/pyparsing/util.py\": 1685261864.1476777, \"/Users/alvaroromangomez/.local/share/virtualenvs/tfm_alvaro-vnpVahGc/lib/python3.10/site-packages/pyparsing/unicode.py\": 1685261864.1469808, \"/Users/alvaroromangomez/.local/share/virtualenvs/tfm_alvaro-vnpVahGc/lib/python3.10/site-packages/pyparsing/exceptions.py\": 1685261864.1442633, \"/Users/alvaroromangomez/.local/share/virtualenvs/tfm_alvaro-vnpVahGc/lib/python3.10/site-packages/pyparsing/actions.py\": 1685261864.1415749, \"/Users/alvaroromangomez/.local/share/virtualenvs/tfm_alvaro-vnpVahGc/lib/python3.10/site-packages/pyparsing/results.py\": 1685261864.1458476, \"/Users/alvaroromangomez/.local/share/virtualenvs/tfm_alvaro-vnpVahGc/lib/python3.10/site-packages/pyparsing/core.py\": 1685261864.1436431, \"/Users/alvaroromangomez/.local/share/virtualenvs/tfm_alvaro-vnpVahGc/lib/python3.10/site-packages/pyparsing/helpers.py\": 1685261864.1449096, \"/Users/alvaroromangomez/.local/share/virtualenvs/tfm_alvaro-vnpVahGc/lib/python3.10/site-packages/pyparsing/testing.py\": 1685261864.146367, \"/Users/alvaroromangomez/.local/share/virtualenvs/tfm_alvaro-vnpVahGc/lib/python3.10/site-packages/pyparsing/common.py\": 1685261864.1420803, \"/Users/alvaroromangomez/.local/share/virtualenvs/tfm_alvaro-vnpVahGc/lib/python3.10/site-packages/pyparsing/__init__.py\": 1685261864.1410074, \"/Users/alvaroromangomez/.local/share/virtualenvs/tfm_alvaro-vnpVahGc/lib/python3.10/site-packages/matplotlib/_fontconfig_pattern.py\": 1685261922.032758, \"/Users/alvaroromangomez/.local/share/virtualenvs/tfm_alvaro-vnpVahGc/lib/python3.10/site-packages/matplotlib/_enums.py\": 1685261922.0494661, \"/Users/alvaroromangomez/.local/share/virtualenvs/tfm_alvaro-vnpVahGc/lib/python3.10/site-packages/cycler.py\": 1685261939.9228277, \"/Users/alvaroromangomez/.local/share/virtualenvs/tfm_alvaro-vnpVahGc/lib/python3.10/site-packages/matplotlib/rcsetup.py\": 1685261922.0863767, \"/Users/alvaroromangomez/.local/share/virtualenvs/tfm_alvaro-vnpVahGc/lib/python3.10/site-packages/matplotlib/ft2font.cpython-310-darwin.so\": 1685261922.05851, \"/Users/alvaroromangomez/.local/share/virtualenvs/tfm_alvaro-vnpVahGc/lib/python3.10/site-packages/kiwisolver/_cext.cpython-310-darwin.so\": 1685261925.6216533, \"/Users/alvaroromangomez/.local/share/virtualenvs/tfm_alvaro-vnpVahGc/lib/python3.10/site-packages/kiwisolver/__init__.py\": 1685261925.6200066, \"/Users/alvaroromangomez/.local/share/virtualenvs/tfm_alvaro-vnpVahGc/lib/python3.10/site-packages/matplotlib/_cm_listed.py\": 1685261922.0804536, \"/Users/alvaroromangomez/.local/share/virtualenvs/tfm_alvaro-vnpVahGc/lib/python3.10/site-packages/matplotlib/cm.py\": 1685261922.0424964, \"/Users/alvaroromangomez/.local/share/virtualenvs/tfm_alvaro-vnpVahGc/lib/python3.10/site-packages/matplotlib/__init__.py\": 1685261922.0471678, \"/Users/alvaroromangomez/.local/share/virtualenvs/tfm_alvaro-vnpVahGc/lib/python3.10/site-packages/matplotlib/artist.py\": 1685261922.0657022, \"/Users/alvaroromangomez/.local/share/virtualenvs/tfm_alvaro-vnpVahGc/lib/python3.10/site-packages/matplotlib/hatch.py\": 1685261922.020811, \"/Users/alvaroromangomez/.local/share/virtualenvs/tfm_alvaro-vnpVahGc/lib/python3.10/site-packages/matplotlib/markers.py\": 1685261922.0760453, \"/Users/alvaroromangomez/.local/share/virtualenvs/tfm_alvaro-vnpVahGc/lib/python3.10/site-packages/matplotlib/lines.py\": 1685261922.0605333, \"/Users/alvaroromangomez/.local/share/virtualenvs/tfm_alvaro-vnpVahGc/lib/python3.10/site-packages/matplotlib/collections.py\": 1685261922.0733368, \"/Users/alvaroromangomez/.local/share/virtualenvs/tfm_alvaro-vnpVahGc/lib/python3.10/site-packages/matplotlib/_pylab_helpers.py\": 1685261922.0788088, \"/Users/alvaroromangomez/.local/share/virtualenvs/tfm_alvaro-vnpVahGc/lib/python3.10/site-packages/matplotlib/backend_tools.py\": 1685261922.0663707, \"/Users/alvaroromangomez/.local/share/virtualenvs/tfm_alvaro-vnpVahGc/lib/python3.10/site-packages/matplotlib/_mathtext_data.py\": 1685261922.064824, \"/Users/alvaroromangomez/.local/share/virtualenvs/tfm_alvaro-vnpVahGc/lib/python3.10/site-packages/matplotlib/_afm.py\": 1685261922.0418913, \"/Users/alvaroromangomez/.local/share/virtualenvs/tfm_alvaro-vnpVahGc/lib/python3.10/site-packages/matplotlib/font_manager.py\": 1685261922.0406432, \"/Users/alvaroromangomez/.local/share/virtualenvs/tfm_alvaro-vnpVahGc/lib/python3.10/site-packages/matplotlib/patches.py\": 1685261922.07162, \"/Users/alvaroromangomez/.local/share/virtualenvs/tfm_alvaro-vnpVahGc/lib/python3.10/site-packages/matplotlib/_text_helpers.py\": 1685261922.074495, \"/Users/alvaroromangomez/.local/share/virtualenvs/tfm_alvaro-vnpVahGc/lib/python3.10/site-packages/matplotlib/dviread.py\": 1685261922.0627358, \"/Users/alvaroromangomez/.local/share/virtualenvs/tfm_alvaro-vnpVahGc/lib/python3.10/site-packages/matplotlib/_mathtext.py\": 1685261922.0481546, \"/Users/alvaroromangomez/.local/share/virtualenvs/tfm_alvaro-vnpVahGc/lib/python3.10/site-packages/matplotlib/mathtext.py\": 1685261922.0322042, \"/Users/alvaroromangomez/.local/share/virtualenvs/tfm_alvaro-vnpVahGc/lib/python3.10/site-packages/matplotlib/texmanager.py\": 1685261922.069781, \"/Users/alvaroromangomez/.local/share/virtualenvs/tfm_alvaro-vnpVahGc/lib/python3.10/site-packages/matplotlib/textpath.py\": 1685261922.0247645, \"/Users/alvaroromangomez/.local/share/virtualenvs/tfm_alvaro-vnpVahGc/lib/python3.10/site-packages/matplotlib/text.py\": 1685261922.0753307, \"/Users/alvaroromangomez/.local/share/virtualenvs/tfm_alvaro-vnpVahGc/lib/python3.10/site-packages/matplotlib/_tight_bbox.py\": 1685261922.0240762, \"/Users/alvaroromangomez/.local/share/virtualenvs/tfm_alvaro-vnpVahGc/lib/python3.10/site-packages/matplotlib/widgets.py\": 1685261922.0617936, \"/Users/alvaroromangomez/.local/share/virtualenvs/tfm_alvaro-vnpVahGc/lib/python3.10/site-packages/matplotlib/backend_managers.py\": 1685261922.0315268, \"/Users/alvaroromangomez/.local/share/virtualenvs/tfm_alvaro-vnpVahGc/lib/python3.10/site-packages/matplotlib/backend_bases.py\": 1685261922.026857, \"/Users/alvaroromangomez/.local/share/virtualenvs/tfm_alvaro-vnpVahGc/lib/python3.10/site-packages/matplotlib/contour.py\": 1685261922.0919907, \"/Users/alvaroromangomez/.local/share/virtualenvs/tfm_alvaro-vnpVahGc/lib/python3.10/site-packages/matplotlib/spines.py\": 1685261922.073995, \"/Users/alvaroromangomez/.local/share/virtualenvs/tfm_alvaro-vnpVahGc/lib/python3.10/site-packages/matplotlib/colorbar.py\": 1685261922.0296674, \"/Users/alvaroromangomez/.local/share/virtualenvs/tfm_alvaro-vnpVahGc/lib/python3.10/site-packages/matplotlib/_image.cpython-310-darwin.so\": 1685261922.089733, \"/Users/alvaroromangomez/.local/share/virtualenvs/tfm_alvaro-vnpVahGc/lib/python3.10/site-packages/matplotlib/image.py\": 1685261922.092985, \"/Users/alvaroromangomez/.local/share/virtualenvs/tfm_alvaro-vnpVahGc/lib/python3.10/site-packages/matplotlib/style/core.py\": 1685261922.2182379, \"/Users/alvaroromangomez/.local/share/virtualenvs/tfm_alvaro-vnpVahGc/lib/python3.10/site-packages/matplotlib/style/__init__.py\": 1685261922.2176938, \"/Users/alvaroromangomez/.local/share/virtualenvs/tfm_alvaro-vnpVahGc/lib/python3.10/site-packages/matplotlib/_blocking_input.py\": 1685261922.0777974, \"/Users/alvaroromangomez/.local/share/virtualenvs/tfm_alvaro-vnpVahGc/lib/python3.10/site-packages/matplotlib/offsetbox.py\": 1685261922.0503664, \"/Users/alvaroromangomez/.local/share/virtualenvs/tfm_alvaro-vnpVahGc/lib/python3.10/site-packages/matplotlib/units.py\": 1685261922.028281, \"/Users/alvaroromangomez/.local/share/virtualenvs/tfm_alvaro-vnpVahGc/lib/python3.10/site-packages/matplotlib/axis.py\": 1685261922.023506, \"/Users/alvaroromangomez/.local/share/virtualenvs/tfm_alvaro-vnpVahGc/lib/python3.10/site-packages/matplotlib/_tight_layout.py\": 1685261922.0203032, \"/Users/alvaroromangomez/.local/share/virtualenvs/tfm_alvaro-vnpVahGc/lib/python3.10/site-packages/matplotlib/gridspec.py\": 1685261922.0597923, \"/Users/alvaroromangomez/.local/share/virtualenvs/tfm_alvaro-vnpVahGc/lib/python3.10/site-packages/matplotlib/table.py\": 1685261922.0832822, \"/Users/alvaroromangomez/.local/share/virtualenvs/tfm_alvaro-vnpVahGc/lib/python3.10/site-packages/matplotlib/axes/_base.py\": 1685261922.115889, \"/Users/alvaroromangomez/.local/share/virtualenvs/tfm_alvaro-vnpVahGc/lib/python3.10/site-packages/matplotlib/category.py\": 1685261922.0943203, \"/Users/alvaroromangomez/.local/share/virtualenvs/tfm_alvaro-vnpVahGc/lib/python3.10/site-packages/dateutil/rrule.py\": 1685260768.476451, \"/Users/alvaroromangomez/.local/share/virtualenvs/tfm_alvaro-vnpVahGc/lib/python3.10/site-packages/matplotlib/dates.py\": 1685261922.0825262, \"/Users/alvaroromangomez/.local/share/virtualenvs/tfm_alvaro-vnpVahGc/lib/python3.10/site-packages/matplotlib/container.py\": 1685261922.0591657, \"/Users/alvaroromangomez/.local/share/virtualenvs/tfm_alvaro-vnpVahGc/lib/python3.10/site-packages/matplotlib/legend_handler.py\": 1685261922.0224676, \"/Users/alvaroromangomez/.local/share/virtualenvs/tfm_alvaro-vnpVahGc/lib/python3.10/site-packages/matplotlib/legend.py\": 1685261922.0432522, \"/Users/alvaroromangomez/.local/share/virtualenvs/tfm_alvaro-vnpVahGc/lib/python3.10/site-packages/matplotlib/mlab.py\": 1685261922.0767124, \"/Users/alvaroromangomez/.local/share/virtualenvs/tfm_alvaro-vnpVahGc/lib/python3.10/site-packages/matplotlib/quiver.py\": 1685261922.0256162, \"/Users/alvaroromangomez/.local/share/virtualenvs/tfm_alvaro-vnpVahGc/lib/python3.10/site-packages/matplotlib/stackplot.py\": 1685261922.0722616, \"/Users/alvaroromangomez/.local/share/virtualenvs/tfm_alvaro-vnpVahGc/lib/python3.10/site-packages/matplotlib/streamplot.py\": 1685261922.0978465, \"/Users/alvaroromangomez/.local/share/virtualenvs/tfm_alvaro-vnpVahGc/lib/python3.10/site-packages/matplotlib/tri/_triangulation.py\": 1685261922.1006303, \"/Users/alvaroromangomez/.local/share/virtualenvs/tfm_alvaro-vnpVahGc/lib/python3.10/site-packages/matplotlib/tri/_tricontour.py\": 1685261922.108378, \"/Users/alvaroromangomez/.local/share/virtualenvs/tfm_alvaro-vnpVahGc/lib/python3.10/site-packages/matplotlib/tri/_trifinder.py\": 1685261922.1001027, \"/Users/alvaroromangomez/.local/share/virtualenvs/tfm_alvaro-vnpVahGc/lib/python3.10/site-packages/matplotlib/tri/_tritools.py\": 1685261922.105499, \"/Users/alvaroromangomez/.local/share/virtualenvs/tfm_alvaro-vnpVahGc/lib/python3.10/site-packages/matplotlib/tri/_triinterpolate.py\": 1685261922.1077437, \"/Users/alvaroromangomez/.local/share/virtualenvs/tfm_alvaro-vnpVahGc/lib/python3.10/site-packages/matplotlib/tri/_tripcolor.py\": 1685261922.0995717, \"/Users/alvaroromangomez/.local/share/virtualenvs/tfm_alvaro-vnpVahGc/lib/python3.10/site-packages/matplotlib/tri/_triplot.py\": 1685261922.1047137, \"/Users/alvaroromangomez/.local/share/virtualenvs/tfm_alvaro-vnpVahGc/lib/python3.10/site-packages/matplotlib/tri/_trirefine.py\": 1685261922.1031811, \"/Users/alvaroromangomez/.local/share/virtualenvs/tfm_alvaro-vnpVahGc/lib/python3.10/site-packages/matplotlib/tri/__init__.py\": 1685261922.1025388, \"/Users/alvaroromangomez/.local/share/virtualenvs/tfm_alvaro-vnpVahGc/lib/python3.10/site-packages/matplotlib/axes/_secondary_axes.py\": 1685261922.1170852, \"/Users/alvaroromangomez/.local/share/virtualenvs/tfm_alvaro-vnpVahGc/lib/python3.10/site-packages/matplotlib/axes/_axes.py\": 1685261922.1135197, \"/Users/alvaroromangomez/.local/share/virtualenvs/tfm_alvaro-vnpVahGc/lib/python3.10/site-packages/matplotlib/axes/__init__.py\": 1685261922.1165502, \"/Users/alvaroromangomez/.local/share/virtualenvs/tfm_alvaro-vnpVahGc/lib/python3.10/site-packages/matplotlib/projections/geo.py\": 1685261922.2189317, \"/Users/alvaroromangomez/.local/share/virtualenvs/tfm_alvaro-vnpVahGc/lib/python3.10/site-packages/matplotlib/projections/polar.py\": 1685261922.2197082, \"/Users/alvaroromangomez/.local/share/virtualenvs/tfm_alvaro-vnpVahGc/lib/python3.10/site-packages/mpl_toolkits/mplot3d/proj3d.py\": 1685261922.002458, \"/Users/alvaroromangomez/.local/share/virtualenvs/tfm_alvaro-vnpVahGc/lib/python3.10/site-packages/mpl_toolkits/mplot3d/art3d.py\": 1685261922.0055056, \"/Users/alvaroromangomez/.local/share/virtualenvs/tfm_alvaro-vnpVahGc/lib/python3.10/site-packages/mpl_toolkits/mplot3d/axis3d.py\": 1685261922.0048168, \"/Users/alvaroromangomez/.local/share/virtualenvs/tfm_alvaro-vnpVahGc/lib/python3.10/site-packages/mpl_toolkits/mplot3d/axes3d.py\": 1685261922.0041528, \"/Users/alvaroromangomez/.local/share/virtualenvs/tfm_alvaro-vnpVahGc/lib/python3.10/site-packages/mpl_toolkits/mplot3d/__init__.py\": 1685261922.0029414, \"/Users/alvaroromangomez/.local/share/virtualenvs/tfm_alvaro-vnpVahGc/lib/python3.10/site-packages/matplotlib/projections/__init__.py\": 1685261922.2202342, \"/Users/alvaroromangomez/.local/share/virtualenvs/tfm_alvaro-vnpVahGc/lib/python3.10/site-packages/matplotlib/_layoutgrid.py\": 1685261922.0910983, \"/Users/alvaroromangomez/.local/share/virtualenvs/tfm_alvaro-vnpVahGc/lib/python3.10/site-packages/matplotlib/_constrained_layout.py\": 1685261922.0949757, \"/Users/alvaroromangomez/.local/share/virtualenvs/tfm_alvaro-vnpVahGc/lib/python3.10/site-packages/matplotlib/layout_engine.py\": 1685261922.0772655, \"/Users/alvaroromangomez/.local/share/virtualenvs/tfm_alvaro-vnpVahGc/lib/python3.10/site-packages/matplotlib/figure.py\": 1685261922.0463412, \"/Users/alvaroromangomez/.local/share/virtualenvs/tfm_alvaro-vnpVahGc/lib/python3.10/site-packages/matplotlib/pyplot.py\": 1685261922.084868, \"/Users/alvaroromangomez/.local/share/virtualenvs/tfm_alvaro-vnpVahGc/lib/python3.10/site-packages/matplotlib/backends/__init__.py\": 1685261922.1353977, \"/Users/alvaroromangomez/.local/share/virtualenvs/tfm_alvaro-vnpVahGc/lib/python3.10/site-packages/matplotlib/backends/_backend_agg.cpython-310-darwin.so\": 1685261922.1276293, \"/Users/alvaroromangomez/.local/share/virtualenvs/tfm_alvaro-vnpVahGc/lib/python3.10/site-packages/matplotlib/backends/backend_agg.py\": 1685261922.1458468, \"/Users/alvaroromangomez/.local/share/virtualenvs/tfm_alvaro-vnpVahGc/lib/python3.10/site-packages/matplotlib_inline/config.py\": 1685260768.548681, \"/Users/alvaroromangomez/.local/share/virtualenvs/tfm_alvaro-vnpVahGc/lib/python3.10/site-packages/matplotlib_inline/backend_inline.py\": 1685260768.5482333, \"/Users/alvaroromangomez/.local/share/virtualenvs/tfm_alvaro-vnpVahGc/lib/python3.10/site-packages/matplotlib_inline/__init__.py\": 1685260768.5477314, \"/Users/alvaroromangomez/.local/share/virtualenvs/tfm_alvaro-vnpVahGc/lib/python3.10/site-packages/_plotly_utils/__init__.py\": 1685261868.098642, \"/Users/alvaroromangomez/.local/share/virtualenvs/tfm_alvaro-vnpVahGc/lib/python3.10/site-packages/_plotly_utils/importers.py\": 1685261868.101263, \"/Users/alvaroromangomez/.local/share/virtualenvs/tfm_alvaro-vnpVahGc/lib/python3.10/site-packages/plotly/__init__.py\": 1685261868.1598885, \"/Users/alvaroromangomez/.local/share/virtualenvs/tfm_alvaro-vnpVahGc/lib/python3.10/site-packages/plotly/io/_templates.py\": 1685261868.9809575, \"/Users/alvaroromangomez/.local/share/virtualenvs/tfm_alvaro-vnpVahGc/lib/python3.10/site-packages/plotly/io/__init__.py\": 1685261868.9765954, \"/Users/alvaroromangomez/.local/share/virtualenvs/tfm_alvaro-vnpVahGc/lib/python3.10/site-packages/_plotly_utils/optional_imports.py\": 1685261868.1016605, \"/Users/alvaroromangomez/.local/share/virtualenvs/tfm_alvaro-vnpVahGc/lib/python3.10/site-packages/plotly/optional_imports.py\": 1685261868.1673868, \"/Users/alvaroromangomez/.pyenv/versions/3.10.10/Library/Frameworks/Python.framework/Versions/3.10/lib/python3.10/webbrowser.py\": 1685228244.31717, \"/Users/alvaroromangomez/.local/share/virtualenvs/tfm_alvaro-vnpVahGc/lib/python3.10/site-packages/_plotly_utils/basevalidators.py\": 1685261868.0994344, \"/Users/alvaroromangomez/.local/share/virtualenvs/tfm_alvaro-vnpVahGc/lib/python3.10/site-packages/_plotly_utils/utils.py\": 1685261868.1029642, \"/Users/alvaroromangomez/.local/share/virtualenvs/tfm_alvaro-vnpVahGc/lib/python3.10/site-packages/_plotly_utils/png.py\": 1685261868.102444, \"/Users/alvaroromangomez/.local/share/virtualenvs/tfm_alvaro-vnpVahGc/lib/python3.10/site-packages/_plotly_utils/data_utils.py\": 1685261868.099897, \"/Users/alvaroromangomez/.local/share/virtualenvs/tfm_alvaro-vnpVahGc/lib/python3.10/site-packages/plotly/utils.py\": 1685261868.170704, \"/Users/alvaroromangomez/.local/share/virtualenvs/tfm_alvaro-vnpVahGc/lib/python3.10/site-packages/plotly/graph_objs/__init__.py\": 1685261868.191482, \"/Users/alvaroromangomez/.local/share/virtualenvs/tfm_alvaro-vnpVahGc/lib/python3.10/site-packages/_plotly_utils/exceptions.py\": 1685261868.100366, \"/Users/alvaroromangomez/.local/share/virtualenvs/tfm_alvaro-vnpVahGc/lib/python3.10/site-packages/plotly/exceptions.py\": 1685261868.1657438, \"/Users/alvaroromangomez/.local/share/virtualenvs/tfm_alvaro-vnpVahGc/lib/python3.10/site-packages/_plotly_utils/files.py\": 1685261868.1008317, \"/Users/alvaroromangomez/.local/share/virtualenvs/tfm_alvaro-vnpVahGc/lib/python3.10/site-packages/plotly/files.py\": 1685261868.1661193, \"/Users/alvaroromangomez/.local/share/virtualenvs/tfm_alvaro-vnpVahGc/lib/python3.10/site-packages/plotly/tools.py\": 1685261868.1702175, \"/Users/alvaroromangomez/.local/share/virtualenvs/tfm_alvaro-vnpVahGc/lib/python3.10/site-packages/plotly/offline/_plotlyjs_version.py\": 1685261868.9915452, \"/Users/alvaroromangomez/.local/share/virtualenvs/tfm_alvaro-vnpVahGc/lib/python3.10/site-packages/plotly/offline/offline.py\": 1685261868.992238, \"/Users/alvaroromangomez/.local/share/virtualenvs/tfm_alvaro-vnpVahGc/lib/python3.10/site-packages/plotly/offline/__init__.py\": 1685261868.9910922, \"/Users/alvaroromangomez/.local/share/virtualenvs/tfm_alvaro-vnpVahGc/lib/python3.10/site-packages/plotly/io/_utils.py\": 1685261868.9814491, \"/Users/alvaroromangomez/.local/share/virtualenvs/tfm_alvaro-vnpVahGc/lib/python3.10/site-packages/plotly/io/_json.py\": 1685261868.9783134, \"/Users/alvaroromangomez/.local/share/virtualenvs/tfm_alvaro-vnpVahGc/lib/python3.10/site-packages/kaleido/_version.py\": 1685261781.2254074, \"/Users/alvaroromangomez/.local/share/virtualenvs/tfm_alvaro-vnpVahGc/lib/python3.10/site-packages/kaleido/__init__.py\": 1685261781.2248895, \"/Users/alvaroromangomez/.local/share/virtualenvs/tfm_alvaro-vnpVahGc/lib/python3.10/site-packages/kaleido/scopes/__init__.py\": 1685261783.3627684, \"/Users/alvaroromangomez/.local/share/virtualenvs/tfm_alvaro-vnpVahGc/lib/python3.10/site-packages/kaleido/scopes/base.py\": 1685261783.3632987, \"/Users/alvaroromangomez/.local/share/virtualenvs/tfm_alvaro-vnpVahGc/lib/python3.10/site-packages/kaleido/scopes/plotly.py\": 1685261783.3637235, \"/Users/alvaroromangomez/.local/share/virtualenvs/tfm_alvaro-vnpVahGc/lib/python3.10/site-packages/plotly/io/_kaleido.py\": 1685261868.9788127, \"/Users/alvaroromangomez/.local/share/virtualenvs/tfm_alvaro-vnpVahGc/lib/python3.10/site-packages/plotly/io/_html.py\": 1685261868.9777188, \"/Users/alvaroromangomez/.local/share/virtualenvs/tfm_alvaro-vnpVahGc/lib/python3.10/site-packages/tenacity/retry.py\": 1685261830.055124, \"/Users/alvaroromangomez/.local/share/virtualenvs/tfm_alvaro-vnpVahGc/lib/python3.10/site-packages/tenacity/nap.py\": 1685261830.0543728, \"/Users/alvaroromangomez/.local/share/virtualenvs/tfm_alvaro-vnpVahGc/lib/python3.10/site-packages/tenacity/_utils.py\": 1685261830.052673, \"/Users/alvaroromangomez/.local/share/virtualenvs/tfm_alvaro-vnpVahGc/lib/python3.10/site-packages/tenacity/stop.py\": 1685261830.055742, \"/Users/alvaroromangomez/.local/share/virtualenvs/tfm_alvaro-vnpVahGc/lib/python3.10/site-packages/tenacity/wait.py\": 1685261830.0573845, \"/Users/alvaroromangomez/.local/share/virtualenvs/tfm_alvaro-vnpVahGc/lib/python3.10/site-packages/tenacity/before.py\": 1685261830.0535247, \"/Users/alvaroromangomez/.local/share/virtualenvs/tfm_alvaro-vnpVahGc/lib/python3.10/site-packages/tenacity/after.py\": 1685261830.0531223, \"/Users/alvaroromangomez/.local/share/virtualenvs/tfm_alvaro-vnpVahGc/lib/python3.10/site-packages/tenacity/before_sleep.py\": 1685261830.0539682, \"/Users/alvaroromangomez/.local/share/virtualenvs/tfm_alvaro-vnpVahGc/lib/python3.10/site-packages/tenacity/_asyncio.py\": 1685261830.0522327, \"/Users/alvaroromangomez/.local/share/virtualenvs/tfm_alvaro-vnpVahGc/lib/python3.10/site-packages/tenacity/tornadoweb.py\": 1685261830.0565536, \"/Users/alvaroromangomez/.local/share/virtualenvs/tfm_alvaro-vnpVahGc/lib/python3.10/site-packages/tenacity/__init__.py\": 1685261830.0517795, \"/Users/alvaroromangomez/.local/share/virtualenvs/tfm_alvaro-vnpVahGc/lib/python3.10/site-packages/plotly/io/_orca.py\": 1685261868.9794612, \"/Users/alvaroromangomez/.local/share/virtualenvs/tfm_alvaro-vnpVahGc/lib/python3.10/site-packages/plotly/io/_base_renderers.py\": 1685261868.9772046, \"/Users/alvaroromangomez/.local/share/virtualenvs/tfm_alvaro-vnpVahGc/lib/python3.10/site-packages/nbformat/v1/convert.py\": 1685261916.909313, \"/Users/alvaroromangomez/.local/share/virtualenvs/tfm_alvaro-vnpVahGc/lib/python3.10/site-packages/nbformat/_struct.py\": 1685261916.9002788, \"/Users/alvaroromangomez/.local/share/virtualenvs/tfm_alvaro-vnpVahGc/lib/python3.10/site-packages/nbformat/v1/nbbase.py\": 1685261916.9098635, \"/Users/alvaroromangomez/.local/share/virtualenvs/tfm_alvaro-vnpVahGc/lib/python3.10/site-packages/nbformat/v1/rwbase.py\": 1685261916.9114358, \"/Users/alvaroromangomez/.local/share/virtualenvs/tfm_alvaro-vnpVahGc/lib/python3.10/site-packages/nbformat/v1/nbjson.py\": 1685261916.9106023, \"/Users/alvaroromangomez/.local/share/virtualenvs/tfm_alvaro-vnpVahGc/lib/python3.10/site-packages/nbformat/v1/__init__.py\": 1685261916.9086943, \"/Users/alvaroromangomez/.local/share/virtualenvs/tfm_alvaro-vnpVahGc/lib/python3.10/site-packages/nbformat/v2/nbbase.py\": 1685261916.913051, \"/Users/alvaroromangomez/.local/share/virtualenvs/tfm_alvaro-vnpVahGc/lib/python3.10/site-packages/nbformat/v2/convert.py\": 1685261916.9125688, \"/Users/alvaroromangomez/.local/share/virtualenvs/tfm_alvaro-vnpVahGc/lib/python3.10/site-packages/nbformat/v2/rwbase.py\": 1685261916.9149942, \"/Users/alvaroromangomez/.local/share/virtualenvs/tfm_alvaro-vnpVahGc/lib/python3.10/site-packages/nbformat/v2/nbjson.py\": 1685261916.9135318, \"/Users/alvaroromangomez/.local/share/virtualenvs/tfm_alvaro-vnpVahGc/lib/python3.10/site-packages/nbformat/v2/nbpy.py\": 1685261916.9139848, \"/Users/alvaroromangomez/.local/share/virtualenvs/tfm_alvaro-vnpVahGc/lib/python3.10/site-packages/nbformat/v2/nbxml.py\": 1685261916.914444, \"/Users/alvaroromangomez/.local/share/virtualenvs/tfm_alvaro-vnpVahGc/lib/python3.10/site-packages/nbformat/v2/__init__.py\": 1685261916.9120798, \"/Users/alvaroromangomez/.local/share/virtualenvs/tfm_alvaro-vnpVahGc/lib/python3.10/site-packages/nbformat/v3/nbbase.py\": 1685261916.9178517, \"/Users/alvaroromangomez/.local/share/virtualenvs/tfm_alvaro-vnpVahGc/lib/python3.10/site-packages/nbformat/v3/convert.py\": 1685261916.9173727, \"/Users/alvaroromangomez/.local/share/virtualenvs/tfm_alvaro-vnpVahGc/lib/python3.10/site-packages/nbformat/v3/rwbase.py\": 1685261916.91988, \"/Users/alvaroromangomez/.local/share/virtualenvs/tfm_alvaro-vnpVahGc/lib/python3.10/site-packages/nbformat/v3/nbjson.py\": 1685261916.9188733, \"/Users/alvaroromangomez/.local/share/virtualenvs/tfm_alvaro-vnpVahGc/lib/python3.10/site-packages/nbformat/v3/nbpy.py\": 1685261916.9193845, \"/Users/alvaroromangomez/.local/share/virtualenvs/tfm_alvaro-vnpVahGc/lib/python3.10/site-packages/nbformat/v3/__init__.py\": 1685261916.916892, \"/Users/alvaroromangomez/.local/share/virtualenvs/tfm_alvaro-vnpVahGc/lib/python3.10/site-packages/nbformat/_imports.py\": 1685261916.8997498, \"/Users/alvaroromangomez/.local/share/virtualenvs/tfm_alvaro-vnpVahGc/lib/python3.10/site-packages/nbformat/corpus/__init__.py\": 1685261916.9067414, \"/Users/alvaroromangomez/.local/share/virtualenvs/tfm_alvaro-vnpVahGc/lib/python3.10/site-packages/nbformat/corpus/words.py\": 1685261916.9072402, \"/Users/alvaroromangomez/.local/share/virtualenvs/tfm_alvaro-vnpVahGc/lib/python3.10/site-packages/fastjsonschema/exceptions.py\": 1685261783.9524095, \"/Users/alvaroromangomez/.local/share/virtualenvs/tfm_alvaro-vnpVahGc/lib/python3.10/site-packages/fastjsonschema/indent.py\": 1685261783.9533443, \"/Users/alvaroromangomez/.local/share/virtualenvs/tfm_alvaro-vnpVahGc/lib/python3.10/site-packages/fastjsonschema/ref_resolver.py\": 1685261783.9537983, \"/Users/alvaroromangomez/.local/share/virtualenvs/tfm_alvaro-vnpVahGc/lib/python3.10/site-packages/fastjsonschema/generator.py\": 1685261783.9528935, \"/Users/alvaroromangomez/.local/share/virtualenvs/tfm_alvaro-vnpVahGc/lib/python3.10/site-packages/fastjsonschema/draft04.py\": 1685261783.9509146, \"/Users/alvaroromangomez/.local/share/virtualenvs/tfm_alvaro-vnpVahGc/lib/python3.10/site-packages/fastjsonschema/draft06.py\": 1685261783.9513793, \"/Users/alvaroromangomez/.local/share/virtualenvs/tfm_alvaro-vnpVahGc/lib/python3.10/site-packages/fastjsonschema/draft07.py\": 1685261783.951909, \"/Users/alvaroromangomez/.local/share/virtualenvs/tfm_alvaro-vnpVahGc/lib/python3.10/site-packages/fastjsonschema/version.py\": 1685261783.9542985, \"/Users/alvaroromangomez/.local/share/virtualenvs/tfm_alvaro-vnpVahGc/lib/python3.10/site-packages/fastjsonschema/__init__.py\": 1685261783.9500093, \"/Users/alvaroromangomez/.pyenv/versions/3.10.10/Library/Frameworks/Python.framework/Versions/3.10/lib/python3.10/ipaddress.py\": 1685228243.8520608, \"/Users/alvaroromangomez/.local/share/virtualenvs/tfm_alvaro-vnpVahGc/lib/python3.10/site-packages/attr/_compat.py\": 1685261941.6403627, \"/Users/alvaroromangomez/.local/share/virtualenvs/tfm_alvaro-vnpVahGc/lib/python3.10/site-packages/attr/_config.py\": 1685261941.6408007, \"/Users/alvaroromangomez/.local/share/virtualenvs/tfm_alvaro-vnpVahGc/lib/python3.10/site-packages/attr/exceptions.py\": 1685261941.6450155, \"/Users/alvaroromangomez/.local/share/virtualenvs/tfm_alvaro-vnpVahGc/lib/python3.10/site-packages/attr/setters.py\": 1685261941.6471937, \"/Users/alvaroromangomez/.local/share/virtualenvs/tfm_alvaro-vnpVahGc/lib/python3.10/site-packages/attr/_make.py\": 1685261941.642241, \"/Users/alvaroromangomez/.local/share/virtualenvs/tfm_alvaro-vnpVahGc/lib/python3.10/site-packages/attr/converters.py\": 1685261941.6441257, \"/Users/alvaroromangomez/.local/share/virtualenvs/tfm_alvaro-vnpVahGc/lib/python3.10/site-packages/attr/filters.py\": 1685261941.6460092, \"/Users/alvaroromangomez/.local/share/virtualenvs/tfm_alvaro-vnpVahGc/lib/python3.10/site-packages/attr/validators.py\": 1685261941.6481736, \"/Users/alvaroromangomez/.local/share/virtualenvs/tfm_alvaro-vnpVahGc/lib/python3.10/site-packages/attr/_cmp.py\": 1685261941.6393769, \"/Users/alvaroromangomez/.local/share/virtualenvs/tfm_alvaro-vnpVahGc/lib/python3.10/site-packages/attr/_funcs.py\": 1685261941.641301, \"/Users/alvaroromangomez/.local/share/virtualenvs/tfm_alvaro-vnpVahGc/lib/python3.10/site-packages/attr/_version_info.py\": 1685261941.6431909, \"/Users/alvaroromangomez/.local/share/virtualenvs/tfm_alvaro-vnpVahGc/lib/python3.10/site-packages/attr/_next_gen.py\": 1685261941.6427448, \"/Users/alvaroromangomez/.local/share/virtualenvs/tfm_alvaro-vnpVahGc/lib/python3.10/site-packages/attr/__init__.py\": 1685261941.63839, \"/Users/alvaroromangomez/.local/share/virtualenvs/tfm_alvaro-vnpVahGc/lib/python3.10/site-packages/jsonschema/_utils.py\": 1685261928.295643, \"/Users/alvaroromangomez/.local/share/virtualenvs/tfm_alvaro-vnpVahGc/lib/python3.10/site-packages/jsonschema/exceptions.py\": 1685261928.2989383, \"/Users/alvaroromangomez/.local/share/virtualenvs/tfm_alvaro-vnpVahGc/lib/python3.10/site-packages/fqdn/_compat.py\": 1685261934.3148468, \"/Users/alvaroromangomez/.local/share/virtualenvs/tfm_alvaro-vnpVahGc/lib/python3.10/site-packages/fqdn/__init__.py\": 1685261934.3139117, \"/Users/alvaroromangomez/.local/share/virtualenvs/tfm_alvaro-vnpVahGc/lib/python3.10/site-packages/idna/package_data.py\": 1685261931.877754, \"/Users/alvaroromangomez/.local/share/virtualenvs/tfm_alvaro-vnpVahGc/lib/python3.10/site-packages/idna/idnadata.py\": 1685261931.8765306, \"/Users/alvaroromangomez/.local/share/virtualenvs/tfm_alvaro-vnpVahGc/lib/python3.10/site-packages/idna/intranges.py\": 1685261931.8771715, \"/Users/alvaroromangomez/.local/share/virtualenvs/tfm_alvaro-vnpVahGc/lib/python3.10/site-packages/idna/core.py\": 1685261931.8758337, \"/Users/alvaroromangomez/.local/share/virtualenvs/tfm_alvaro-vnpVahGc/lib/python3.10/site-packages/idna/__init__.py\": 1685261931.8736422, \"/Users/alvaroromangomez/.local/share/virtualenvs/tfm_alvaro-vnpVahGc/lib/python3.10/site-packages/rfc3986_validator.py\": 1685261862.9663122, \"/Users/alvaroromangomez/.local/share/virtualenvs/tfm_alvaro-vnpVahGc/lib/python3.10/site-packages/rfc3339_validator.py\": 1685261862.97567, \"/Users/alvaroromangomez/.local/share/virtualenvs/tfm_alvaro-vnpVahGc/lib/python3.10/site-packages/webcolors/constants.py\": 1685261785.5376332, \"/Users/alvaroromangomez/.local/share/virtualenvs/tfm_alvaro-vnpVahGc/lib/python3.10/site-packages/webcolors/types.py\": 1685261785.5394359, \"/Users/alvaroromangomez/.local/share/virtualenvs/tfm_alvaro-vnpVahGc/lib/python3.10/site-packages/webcolors/normalization.py\": 1685261785.5390499, \"/Users/alvaroromangomez/.local/share/virtualenvs/tfm_alvaro-vnpVahGc/lib/python3.10/site-packages/webcolors/conversion.py\": 1685261785.5380871, \"/Users/alvaroromangomez/.local/share/virtualenvs/tfm_alvaro-vnpVahGc/lib/python3.10/site-packages/webcolors/html5.py\": 1685261785.538543, \"/Users/alvaroromangomez/.local/share/virtualenvs/tfm_alvaro-vnpVahGc/lib/python3.10/site-packages/webcolors/__init__.py\": 1685261785.5370874, \"/Users/alvaroromangomez/.local/share/virtualenvs/tfm_alvaro-vnpVahGc/lib/python3.10/site-packages/jsonpointer.py\": 1685261928.443658, \"/Users/alvaroromangomez/.local/share/virtualenvs/tfm_alvaro-vnpVahGc/lib/python3.10/site-packages/uri_template/charset.py\": 1685261788.4741154, \"/Users/alvaroromangomez/.local/share/virtualenvs/tfm_alvaro-vnpVahGc/lib/python3.10/site-packages/uri_template/variable.py\": 1685261788.4761686, \"/Users/alvaroromangomez/.local/share/virtualenvs/tfm_alvaro-vnpVahGc/lib/python3.10/site-packages/uri_template/expansions.py\": 1685261788.4746022, \"/Users/alvaroromangomez/.local/share/virtualenvs/tfm_alvaro-vnpVahGc/lib/python3.10/site-packages/uri_template/uritemplate.py\": 1685261788.4756722, \"/Users/alvaroromangomez/.local/share/virtualenvs/tfm_alvaro-vnpVahGc/lib/python3.10/site-packages/uri_template/__init__.py\": 1685261788.4736598, \"/Users/alvaroromangomez/.local/share/virtualenvs/tfm_alvaro-vnpVahGc/lib/python3.10/site-packages/isoduration/constants.py\": 1685261931.5912406, \"/Users/alvaroromangomez/.local/share/virtualenvs/tfm_alvaro-vnpVahGc/lib/python3.10/site-packages/isoduration/formatter/exceptions.py\": 1685261931.593785, \"/Users/alvaroromangomez/.local/share/virtualenvs/tfm_alvaro-vnpVahGc/lib/python3.10/site-packages/isoduration/formatter/checking.py\": 1685261931.5929496, \"/Users/alvaroromangomez/.local/share/virtualenvs/tfm_alvaro-vnpVahGc/lib/python3.10/site-packages/isoduration/formatter/formatting.py\": 1685261931.5945253, \"/Users/alvaroromangomez/.local/share/virtualenvs/tfm_alvaro-vnpVahGc/lib/python3.10/site-packages/isoduration/formatter/__init__.py\": 1685261931.5922968, \"/Users/alvaroromangomez/.local/share/virtualenvs/tfm_alvaro-vnpVahGc/lib/python3.10/site-packages/isoduration/parser/exceptions.py\": 1685261931.597453, \"/Users/alvaroromangomez/.local/share/virtualenvs/tfm_alvaro-vnpVahGc/lib/python3.10/site-packages/arrow/_version.py\": 1685261941.715537, \"/Users/alvaroromangomez/.local/share/virtualenvs/tfm_alvaro-vnpVahGc/lib/python3.10/site-packages/arrow/locales.py\": 1685261941.7192109, \"/Users/alvaroromangomez/.local/share/virtualenvs/tfm_alvaro-vnpVahGc/lib/python3.10/site-packages/arrow/constants.py\": 1685261941.7171228, \"/Users/alvaroromangomez/.local/share/virtualenvs/tfm_alvaro-vnpVahGc/lib/python3.10/site-packages/arrow/formatter.py\": 1685261941.7180781, \"/Users/alvaroromangomez/.local/share/virtualenvs/tfm_alvaro-vnpVahGc/lib/python3.10/site-packages/arrow/util.py\": 1685261941.7205896, \"/Users/alvaroromangomez/.local/share/virtualenvs/tfm_alvaro-vnpVahGc/lib/python3.10/site-packages/arrow/parser.py\": 1685261941.719818, \"/Users/alvaroromangomez/.local/share/virtualenvs/tfm_alvaro-vnpVahGc/lib/python3.10/site-packages/arrow/arrow.py\": 1685261941.7166295, \"/Users/alvaroromangomez/.local/share/virtualenvs/tfm_alvaro-vnpVahGc/lib/python3.10/site-packages/arrow/factory.py\": 1685261941.7176144, \"/Users/alvaroromangomez/.local/share/virtualenvs/tfm_alvaro-vnpVahGc/lib/python3.10/site-packages/arrow/api.py\": 1685261941.71597, \"/Users/alvaroromangomez/.local/share/virtualenvs/tfm_alvaro-vnpVahGc/lib/python3.10/site-packages/arrow/__init__.py\": 1685261941.715044, \"/Users/alvaroromangomez/.local/share/virtualenvs/tfm_alvaro-vnpVahGc/lib/python3.10/site-packages/isoduration/parser/util.py\": 1685261931.598801, \"/Users/alvaroromangomez/.local/share/virtualenvs/tfm_alvaro-vnpVahGc/lib/python3.10/site-packages/isoduration/operations/util.py\": 1685261931.595994, \"/Users/alvaroromangomez/.local/share/virtualenvs/tfm_alvaro-vnpVahGc/lib/python3.10/site-packages/isoduration/operations/__init__.py\": 1685261931.5953991, \"/Users/alvaroromangomez/.local/share/virtualenvs/tfm_alvaro-vnpVahGc/lib/python3.10/site-packages/isoduration/types.py\": 1685261931.5917108, \"/Users/alvaroromangomez/.local/share/virtualenvs/tfm_alvaro-vnpVahGc/lib/python3.10/site-packages/isoduration/parser/parsing.py\": 1685261931.5981126, \"/Users/alvaroromangomez/.local/share/virtualenvs/tfm_alvaro-vnpVahGc/lib/python3.10/site-packages/isoduration/parser/__init__.py\": 1685261931.596629, \"/Users/alvaroromangomez/.local/share/virtualenvs/tfm_alvaro-vnpVahGc/lib/python3.10/site-packages/isoduration/__init__.py\": 1685261931.5907648, \"/Users/alvaroromangomez/.local/share/virtualenvs/tfm_alvaro-vnpVahGc/lib/python3.10/site-packages/jsonschema/_format.py\": 1685261928.2937913, \"/Users/alvaroromangomez/.local/share/virtualenvs/tfm_alvaro-vnpVahGc/lib/python3.10/site-packages/pyrsistent/_transformations.py\": 1685261864.0864697, \"/Users/alvaroromangomez/.local/share/virtualenvs/tfm_alvaro-vnpVahGc/lib/python3.10/site-packages/pvectorc.cpython-310-darwin.so\": 1685261864.0808756, \"/Users/alvaroromangomez/.local/share/virtualenvs/tfm_alvaro-vnpVahGc/lib/python3.10/site-packages/pyrsistent/_pvector.py\": 1685261864.0875103, \"/Users/alvaroromangomez/.local/share/virtualenvs/tfm_alvaro-vnpVahGc/lib/python3.10/site-packages/pyrsistent/_pmap.py\": 1685261864.0855129, \"/Users/alvaroromangomez/.local/share/virtualenvs/tfm_alvaro-vnpVahGc/lib/python3.10/site-packages/pyrsistent/_pset.py\": 1685261864.0884488, \"/Users/alvaroromangomez/.local/share/virtualenvs/tfm_alvaro-vnpVahGc/lib/python3.10/site-packages/pyrsistent/_pbag.py\": 1685261864.0919418, \"/Users/alvaroromangomez/.local/share/virtualenvs/tfm_alvaro-vnpVahGc/lib/python3.10/site-packages/pyrsistent/_plist.py\": 1685261864.0898979, \"/Users/alvaroromangomez/.local/share/virtualenvs/tfm_alvaro-vnpVahGc/lib/python3.10/site-packages/pyrsistent/_pdeque.py\": 1685261864.0945358, \"/Users/alvaroromangomez/.local/share/virtualenvs/tfm_alvaro-vnpVahGc/lib/python3.10/site-packages/pyrsistent/_checked_types.py\": 1685261864.0880089, \"/Users/alvaroromangomez/.local/share/virtualenvs/tfm_alvaro-vnpVahGc/lib/python3.10/site-packages/pyrsistent/_field_common.py\": 1685261864.0869734, \"/Users/alvaroromangomez/.local/share/virtualenvs/tfm_alvaro-vnpVahGc/lib/python3.10/site-packages/pyrsistent/_precord.py\": 1685261864.0936284, \"/Users/alvaroromangomez/.local/share/virtualenvs/tfm_alvaro-vnpVahGc/lib/python3.10/site-packages/pyrsistent/_pclass.py\": 1685261864.0905604, \"/Users/alvaroromangomez/.local/share/virtualenvs/tfm_alvaro-vnpVahGc/lib/python3.10/site-packages/pyrsistent/_immutable.py\": 1685261864.0888736, \"/Users/alvaroromangomez/.local/share/virtualenvs/tfm_alvaro-vnpVahGc/lib/python3.10/site-packages/pyrsistent/_helpers.py\": 1685261864.0940847, \"/Users/alvaroromangomez/.local/share/virtualenvs/tfm_alvaro-vnpVahGc/lib/python3.10/site-packages/pyrsistent/_toolz.py\": 1685261864.092424, \"/Users/alvaroromangomez/.local/share/virtualenvs/tfm_alvaro-vnpVahGc/lib/python3.10/site-packages/pyrsistent/__init__.py\": 1685261864.0893867, \"/Users/alvaroromangomez/.local/share/virtualenvs/tfm_alvaro-vnpVahGc/lib/python3.10/site-packages/pyrsistent/typing.py\": 1685261864.0931642, \"/Users/alvaroromangomez/.local/share/virtualenvs/tfm_alvaro-vnpVahGc/lib/python3.10/site-packages/jsonschema/_types.py\": 1685261928.2951443, \"/Users/alvaroromangomez/.local/share/virtualenvs/tfm_alvaro-vnpVahGc/lib/python3.10/site-packages/jsonschema/protocols.py\": 1685261928.2996018, \"/Users/alvaroromangomez/.local/share/virtualenvs/tfm_alvaro-vnpVahGc/lib/python3.10/site-packages/jsonschema/_legacy_validators.py\": 1685261928.2945156, \"/Users/alvaroromangomez/.local/share/virtualenvs/tfm_alvaro-vnpVahGc/lib/python3.10/site-packages/jsonschema/_validators.py\": 1685261928.2967129, \"/Users/alvaroromangomez/.pyenv/versions/3.10.10/Library/Frameworks/Python.framework/Versions/3.10/lib/python3.10/importlib/readers.py\": 1685228246.4233577, \"/Users/alvaroromangomez/.local/share/virtualenvs/tfm_alvaro-vnpVahGc/lib/python3.10/site-packages/jsonschema/validators.py\": 1685261928.3002572, \"/Users/alvaroromangomez/.local/share/virtualenvs/tfm_alvaro-vnpVahGc/lib/python3.10/site-packages/jsonschema/__init__.py\": 1685261928.2926345, \"/Users/alvaroromangomez/.local/share/virtualenvs/tfm_alvaro-vnpVahGc/lib/python3.10/site-packages/nbformat/json_compat.py\": 1685261916.9024498, \"/Users/alvaroromangomez/.local/share/virtualenvs/tfm_alvaro-vnpVahGc/lib/python3.10/site-packages/nbformat/reader.py\": 1685261916.9039068, \"/Users/alvaroromangomez/.local/share/virtualenvs/tfm_alvaro-vnpVahGc/lib/python3.10/site-packages/nbformat/warnings.py\": 1685261916.9063354, \"/Users/alvaroromangomez/.local/share/virtualenvs/tfm_alvaro-vnpVahGc/lib/python3.10/site-packages/nbformat/validator.py\": 1685261916.9057746, \"/Users/alvaroromangomez/.local/share/virtualenvs/tfm_alvaro-vnpVahGc/lib/python3.10/site-packages/nbformat/notebooknode.py\": 1685261916.9030228, \"/Users/alvaroromangomez/.local/share/virtualenvs/tfm_alvaro-vnpVahGc/lib/python3.10/site-packages/nbformat/v4/nbbase.py\": 1685261916.9215548, \"/Users/alvaroromangomez/.local/share/virtualenvs/tfm_alvaro-vnpVahGc/lib/python3.10/site-packages/nbformat/v4/convert.py\": 1685261916.921056, \"/Users/alvaroromangomez/.local/share/virtualenvs/tfm_alvaro-vnpVahGc/lib/python3.10/site-packages/nbformat/v4/rwbase.py\": 1685261916.9264224, \"/Users/alvaroromangomez/.local/share/virtualenvs/tfm_alvaro-vnpVahGc/lib/python3.10/site-packages/nbformat/v4/nbjson.py\": 1685261916.9256268, \"/Users/alvaroromangomez/.local/share/virtualenvs/tfm_alvaro-vnpVahGc/lib/python3.10/site-packages/nbformat/v4/__init__.py\": 1685261916.920532, \"/Users/alvaroromangomez/.local/share/virtualenvs/tfm_alvaro-vnpVahGc/lib/python3.10/site-packages/nbformat/_version.py\": 1685261916.9007425, \"/Users/alvaroromangomez/.local/share/virtualenvs/tfm_alvaro-vnpVahGc/lib/python3.10/site-packages/nbformat/sentinel.py\": 1685261916.9044108, \"/Users/alvaroromangomez/.local/share/virtualenvs/tfm_alvaro-vnpVahGc/lib/python3.10/site-packages/nbformat/converter.py\": 1685261916.901353, \"/Users/alvaroromangomez/.local/share/virtualenvs/tfm_alvaro-vnpVahGc/lib/python3.10/site-packages/nbformat/__init__.py\": 1685261916.8992271, \"/Users/alvaroromangomez/.local/share/virtualenvs/tfm_alvaro-vnpVahGc/lib/python3.10/site-packages/plotly/io/_renderers.py\": 1685261868.979988, \"/Users/alvaroromangomez/.local/share/virtualenvs/tfm_alvaro-vnpVahGc/lib/python3.10/site-packages/pytz/exceptions.py\": 1685261779.028956, \"/Users/alvaroromangomez/.local/share/virtualenvs/tfm_alvaro-vnpVahGc/lib/python3.10/site-packages/pytz/lazy.py\": 1685261779.029367, \"/Users/alvaroromangomez/.local/share/virtualenvs/tfm_alvaro-vnpVahGc/lib/python3.10/site-packages/pytz/tzinfo.py\": 1685261779.0307136, \"/Users/alvaroromangomez/.local/share/virtualenvs/tfm_alvaro-vnpVahGc/lib/python3.10/site-packages/pytz/tzfile.py\": 1685261779.0302098, \"/Users/alvaroromangomez/.local/share/virtualenvs/tfm_alvaro-vnpVahGc/lib/python3.10/site-packages/pytz/__init__.py\": 1685261779.0284836, \"/Users/alvaroromangomez/.local/share/virtualenvs/tfm_alvaro-vnpVahGc/lib/python3.10/site-packages/pandas/_typing.py\": 1685261896.0710459, \"/Users/alvaroromangomez/.local/share/virtualenvs/tfm_alvaro-vnpVahGc/lib/python3.10/site-packages/pandas/_libs/tslibs/np_datetime.cpython-310-darwin.so\": 1685261896.2799428, \"/Users/alvaroromangomez/.local/share/virtualenvs/tfm_alvaro-vnpVahGc/lib/python3.10/site-packages/pandas/_libs/tslibs/dtypes.cpython-310-darwin.so\": 1685261896.266035, \"/Users/alvaroromangomez/.local/share/virtualenvs/tfm_alvaro-vnpVahGc/lib/python3.10/site-packages/pandas/_libs/tslibs/base.cpython-310-darwin.so\": 1685261896.2511346, \"/Users/alvaroromangomez/.local/share/virtualenvs/tfm_alvaro-vnpVahGc/lib/python3.10/site-packages/pandas/util/_exceptions.py\": 1685261897.5159237, \"/Users/alvaroromangomez/.local/share/virtualenvs/tfm_alvaro-vnpVahGc/lib/python3.10/site-packages/pandas/_libs/tslibs/nattype.cpython-310-darwin.so\": 1685261896.2753341, \"/Users/alvaroromangomez/.local/share/virtualenvs/tfm_alvaro-vnpVahGc/lib/python3.10/site-packages/pandas/util/version/__init__.py\": 1685261897.5204556, \"/Users/alvaroromangomez/.local/share/virtualenvs/tfm_alvaro-vnpVahGc/lib/python3.10/site-packages/pandas/compat/_optional.py\": 1685261896.366298, \"/Users/alvaroromangomez/.pyenv/versions/3.10.10/Library/Frameworks/Python.framework/Versions/3.10/lib/python3.10/zoneinfo/_tzpath.py\": 1685228247.8037288, \"/Users/alvaroromangomez/.pyenv/versions/3.10.10/Library/Frameworks/Python.framework/Versions/3.10/lib/python3.10/zoneinfo/_common.py\": 1685228247.7976136, \"/Users/alvaroromangomez/.pyenv/versions/3.10.10/lib/python3.10/lib-dynload/_zoneinfo.cpython-310-darwin.so\": 1685228205.0, \"/Users/alvaroromangomez/.pyenv/versions/3.10.10/Library/Frameworks/Python.framework/Versions/3.10/lib/python3.10/zoneinfo/__init__.py\": 1685228247.7914994, \"/Users/alvaroromangomez/.local/share/virtualenvs/tfm_alvaro-vnpVahGc/lib/python3.10/site-packages/pandas/_libs/tslibs/timezones.cpython-310-darwin.so\": 1685261896.3309162, \"/Users/alvaroromangomez/.local/share/virtualenvs/tfm_alvaro-vnpVahGc/lib/python3.10/site-packages/pandas/_libs/tslibs/tzconversion.cpython-310-darwin.so\": 1685261896.3355906, \"/Users/alvaroromangomez/.local/share/virtualenvs/tfm_alvaro-vnpVahGc/lib/python3.10/site-packages/pandas/_libs/tslibs/ccalendar.cpython-310-darwin.so\": 1685261896.2553916, \"/Users/alvaroromangomez/.local/share/virtualenvs/tfm_alvaro-vnpVahGc/lib/python3.10/site-packages/pandas/_config/config.py\": 1685261896.0741034, \"/Users/alvaroromangomez/.local/share/virtualenvs/tfm_alvaro-vnpVahGc/lib/python3.10/site-packages/pandas/_config/dates.py\": 1685261896.0746083, \"/Users/alvaroromangomez/.local/share/virtualenvs/tfm_alvaro-vnpVahGc/lib/python3.10/site-packages/pandas/_config/display.py\": 1685261896.0750778, \"/Users/alvaroromangomez/.local/share/virtualenvs/tfm_alvaro-vnpVahGc/lib/python3.10/site-packages/pandas/_config/__init__.py\": 1685261896.0735002, \"/Users/alvaroromangomez/.local/share/virtualenvs/tfm_alvaro-vnpVahGc/lib/python3.10/site-packages/pandas/_config/localization.py\": 1685261896.0755544, \"/Users/alvaroromangomez/.local/share/virtualenvs/tfm_alvaro-vnpVahGc/lib/python3.10/site-packages/pandas/_libs/tslibs/fields.cpython-310-darwin.so\": 1685261896.2714539, \"/Users/alvaroromangomez/.local/share/virtualenvs/tfm_alvaro-vnpVahGc/lib/python3.10/site-packages/pandas/_libs/tslibs/timedeltas.cpython-310-darwin.so\": 1685261896.3161597, \"/Users/alvaroromangomez/.local/share/virtualenvs/tfm_alvaro-vnpVahGc/lib/python3.10/site-packages/pandas/_libs/tslibs/timestamps.cpython-310-darwin.so\": 1685261896.324469, \"/Users/alvaroromangomez/.local/share/virtualenvs/tfm_alvaro-vnpVahGc/lib/python3.10/site-packages/dateutil/easter.py\": 1685260768.475282, \"/Users/alvaroromangomez/.local/share/virtualenvs/tfm_alvaro-vnpVahGc/lib/python3.10/site-packages/pandas/_libs/properties.cpython-310-darwin.so\": 1685261896.2220466, \"/Users/alvaroromangomez/.local/share/virtualenvs/tfm_alvaro-vnpVahGc/lib/python3.10/site-packages/pandas/_libs/tslibs/offsets.cpython-310-darwin.so\": 1685261896.2898052, \"/Users/alvaroromangomez/.local/share/virtualenvs/tfm_alvaro-vnpVahGc/lib/python3.10/site-packages/pandas/_libs/tslibs/parsing.cpython-310-darwin.so\": 1685261896.297217, \"/Users/alvaroromangomez/.local/share/virtualenvs/tfm_alvaro-vnpVahGc/lib/python3.10/site-packages/pandas/_libs/tslibs/conversion.cpython-310-darwin.so\": 1685261896.2622259, \"/Users/alvaroromangomez/.local/share/virtualenvs/tfm_alvaro-vnpVahGc/lib/python3.10/site-packages/pandas/_libs/tslibs/period.cpython-310-darwin.so\": 1685261896.3041687, \"/Users/alvaroromangomez/.local/share/virtualenvs/tfm_alvaro-vnpVahGc/lib/python3.10/site-packages/pandas/_libs/tslibs/vectorized.cpython-310-darwin.so\": 1685261896.3410177, \"/Users/alvaroromangomez/.local/share/virtualenvs/tfm_alvaro-vnpVahGc/lib/python3.10/site-packages/pandas/_libs/tslibs/__init__.py\": 1685261896.249926, \"/Users/alvaroromangomez/.local/share/virtualenvs/tfm_alvaro-vnpVahGc/lib/python3.10/site-packages/pandas/_libs/ops_dispatch.cpython-310-darwin.so\": 1685261896.2105825, \"/Users/alvaroromangomez/.local/share/virtualenvs/tfm_alvaro-vnpVahGc/lib/python3.10/site-packages/pandas/_libs/missing.cpython-310-darwin.so\": 1685261896.2020144, \"/Users/alvaroromangomez/.local/share/virtualenvs/tfm_alvaro-vnpVahGc/lib/python3.10/site-packages/pandas/_libs/hashtable.cpython-310-darwin.so\": 1685261896.1266167, \"/Users/alvaroromangomez/.local/share/virtualenvs/tfm_alvaro-vnpVahGc/lib/python3.10/site-packages/pandas/_libs/algos.cpython-310-darwin.so\": 1685261896.0901182, \"/Users/alvaroromangomez/.local/share/virtualenvs/tfm_alvaro-vnpVahGc/lib/python3.10/site-packages/pandas/_libs/interval.cpython-310-darwin.so\": 1685261896.1577454, \"/Users/alvaroromangomez/.local/share/virtualenvs/tfm_alvaro-vnpVahGc/lib/python3.10/site-packages/pandas/_libs/__init__.py\": 1685261896.0761256, \"/Users/alvaroromangomez/.local/share/virtualenvs/tfm_alvaro-vnpVahGc/lib/python3.10/site-packages/pandas/util/_decorators.py\": 1685261897.5146313, \"/Users/alvaroromangomez/.local/share/virtualenvs/tfm_alvaro-vnpVahGc/lib/python3.10/site-packages/pandas/core/__init__.py\": 1685261896.3702447, \"/Users/alvaroromangomez/.local/share/virtualenvs/tfm_alvaro-vnpVahGc/lib/python3.10/site-packages/pandas/core/util/__init__.py\": 1685261896.5062144, \"/Users/alvaroromangomez/.local/share/virtualenvs/tfm_alvaro-vnpVahGc/lib/python3.10/site-packages/pandas/_libs/tslib.cpython-310-darwin.so\": 1685261896.2434123, \"/Users/alvaroromangomez/.local/share/virtualenvs/tfm_alvaro-vnpVahGc/lib/python3.10/site-packages/pandas/_libs/lib.cpython-310-darwin.so\": 1685261896.195777, \"/Users/alvaroromangomez/.local/share/virtualenvs/tfm_alvaro-vnpVahGc/lib/python3.10/site-packages/pandas/_libs/hashing.cpython-310-darwin.so\": 1685261896.1153924, \"/Users/alvaroromangomez/.local/share/virtualenvs/tfm_alvaro-vnpVahGc/lib/python3.10/site-packages/pandas/core/dtypes/__init__.py\": 1685261896.445873, \"/Users/alvaroromangomez/.local/share/virtualenvs/tfm_alvaro-vnpVahGc/lib/python3.10/site-packages/pandas/errors/__init__.py\": 1685261896.5140514, \"/Users/alvaroromangomez/.local/share/virtualenvs/tfm_alvaro-vnpVahGc/lib/python3.10/site-packages/pandas/core/dtypes/generic.py\": 1685261896.4517574, \"/Users/alvaroromangomez/.local/share/virtualenvs/tfm_alvaro-vnpVahGc/lib/python3.10/site-packages/pandas/core/dtypes/base.py\": 1685261896.4482698, \"/Users/alvaroromangomez/.local/share/virtualenvs/tfm_alvaro-vnpVahGc/lib/python3.10/site-packages/pandas/core/dtypes/inference.py\": 1685261896.452299, \"/Users/alvaroromangomez/.local/share/virtualenvs/tfm_alvaro-vnpVahGc/lib/python3.10/site-packages/pandas/core/dtypes/dtypes.py\": 1685261896.4512088, \"/Users/alvaroromangomez/.local/share/virtualenvs/tfm_alvaro-vnpVahGc/lib/python3.10/site-packages/pandas/core/dtypes/common.py\": 1685261896.4497788, \"/Users/alvaroromangomez/.local/share/virtualenvs/tfm_alvaro-vnpVahGc/lib/python3.10/site-packages/pandas/core/util/hashing.py\": 1685261896.5069084, \"/Users/alvaroromangomez/.local/share/virtualenvs/tfm_alvaro-vnpVahGc/lib/python3.10/site-packages/pandas/util/__init__.py\": 1685261897.513675, \"/Users/alvaroromangomez/.local/share/virtualenvs/tfm_alvaro-vnpVahGc/lib/python3.10/site-packages/pandas/compat/numpy/__init__.py\": 1685261896.3687086, \"/Users/alvaroromangomez/.local/share/virtualenvs/tfm_alvaro-vnpVahGc/lib/python3.10/site-packages/pyarrow/_generated_version.py\": 1685261865.7887018, \"/Users/alvaroromangomez/.local/share/virtualenvs/tfm_alvaro-vnpVahGc/lib/python3.10/site-packages/cloudpickle/compat.py\": 1685261940.0204165, \"/Users/alvaroromangomez/.local/share/virtualenvs/tfm_alvaro-vnpVahGc/lib/python3.10/site-packages/typing_extensions.py\": 1685261788.5275874, \"/Users/alvaroromangomez/.local/share/virtualenvs/tfm_alvaro-vnpVahGc/lib/python3.10/site-packages/cloudpickle/cloudpickle.py\": 1685261940.0193677, \"/Users/alvaroromangomez/.local/share/virtualenvs/tfm_alvaro-vnpVahGc/lib/python3.10/site-packages/cloudpickle/cloudpickle_fast.py\": 1685261940.0199788, \"/Users/alvaroromangomez/.local/share/virtualenvs/tfm_alvaro-vnpVahGc/lib/python3.10/site-packages/cloudpickle/__init__.py\": 1685261940.0187006, \"/Users/alvaroromangomez/.local/share/virtualenvs/tfm_alvaro-vnpVahGc/lib/python3.10/site-packages/pyarrow/util.py\": 1685261866.2430856, \"/Users/alvaroromangomez/.local/share/virtualenvs/tfm_alvaro-vnpVahGc/lib/python3.10/site-packages/pyarrow/lib.cpython-310-darwin.so\": 1685261865.8452306, \"/Users/alvaroromangomez/.local/share/virtualenvs/tfm_alvaro-vnpVahGc/lib/python3.10/site-packages/pyarrow/_hdfsio.cpython-310-darwin.so\": 1685261865.7920554, \"/Users/alvaroromangomez/.local/share/virtualenvs/tfm_alvaro-vnpVahGc/lib/python3.10/site-packages/pyarrow/filesystem.py\": 1685261865.818152, \"/Users/alvaroromangomez/.local/share/virtualenvs/tfm_alvaro-vnpVahGc/lib/python3.10/site-packages/pyarrow/hdfs.py\": 1685261865.8201134, \"/Users/alvaroromangomez/.local/share/virtualenvs/tfm_alvaro-vnpVahGc/lib/python3.10/site-packages/pyarrow/ipc.py\": 1685261865.8218722, \"/Users/alvaroromangomez/.local/share/virtualenvs/tfm_alvaro-vnpVahGc/lib/python3.10/site-packages/pyarrow/types.py\": 1685261866.2426457, \"/Users/alvaroromangomez/.local/share/virtualenvs/tfm_alvaro-vnpVahGc/lib/python3.10/site-packages/pyarrow/__init__.py\": 1685261865.7486348, \"/Users/alvaroromangomez/.local/share/virtualenvs/tfm_alvaro-vnpVahGc/lib/python3.10/site-packages/pandas/compat/pyarrow.py\": 1685261896.3679254, \"/Users/alvaroromangomez/.local/share/virtualenvs/tfm_alvaro-vnpVahGc/lib/python3.10/site-packages/pandas/compat/__init__.py\": 1685261896.365771, \"/Users/alvaroromangomez/.local/share/virtualenvs/tfm_alvaro-vnpVahGc/lib/python3.10/site-packages/pandas/core/config_init.py\": 1685261896.376238, \"/Users/alvaroromangomez/.local/share/virtualenvs/tfm_alvaro-vnpVahGc/lib/python3.10/site-packages/pandas/core/dtypes/missing.py\": 1685261896.452888, \"/Users/alvaroromangomez/.local/share/virtualenvs/tfm_alvaro-vnpVahGc/lib/python3.10/site-packages/pandas/util/_validators.py\": 1685261897.5188982, \"/Users/alvaroromangomez/.local/share/virtualenvs/tfm_alvaro-vnpVahGc/lib/python3.10/site-packages/pandas/core/dtypes/astype.py\": 1685261896.447519, \"/Users/alvaroromangomez/.local/share/virtualenvs/tfm_alvaro-vnpVahGc/lib/python3.10/site-packages/pandas/core/dtypes/cast.py\": 1685261896.4490955, \"/Users/alvaroromangomez/.local/share/virtualenvs/tfm_alvaro-vnpVahGc/lib/python3.10/site-packages/pandas/core/dtypes/concat.py\": 1685261896.450508, \"/Users/alvaroromangomez/.local/share/virtualenvs/tfm_alvaro-vnpVahGc/lib/python3.10/site-packages/pandas/core/array_algos/__init__.py\": 1685261896.4024727, \"/Users/alvaroromangomez/.local/share/virtualenvs/tfm_alvaro-vnpVahGc/lib/python3.10/site-packages/pandas/core/common.py\": 1685261896.3756018, \"/Users/alvaroromangomez/.local/share/virtualenvs/tfm_alvaro-vnpVahGc/lib/python3.10/site-packages/pandas/core/construction.py\": 1685261896.3770936, \"/Users/alvaroromangomez/.local/share/virtualenvs/tfm_alvaro-vnpVahGc/lib/python3.10/site-packages/pandas/core/array_algos/take.py\": 1685261896.4068296, \"/Users/alvaroromangomez/.local/share/virtualenvs/tfm_alvaro-vnpVahGc/lib/python3.10/site-packages/pandas/core/indexers/utils.py\": 1685261896.4634483, \"/Users/alvaroromangomez/.local/share/virtualenvs/tfm_alvaro-vnpVahGc/lib/python3.10/site-packages/pandas/core/indexers/__init__.py\": 1685261896.4623334, \"/Users/alvaroromangomez/.local/share/virtualenvs/tfm_alvaro-vnpVahGc/lib/python3.10/site-packages/pandas/core/algorithms.py\": 1685261896.3717873, \"/Users/alvaroromangomez/.local/share/virtualenvs/tfm_alvaro-vnpVahGc/lib/python3.10/site-packages/pandas/core/roperator.py\": 1685261896.3900294, \"/Users/alvaroromangomez/.local/share/virtualenvs/tfm_alvaro-vnpVahGc/lib/python3.10/site-packages/pandas/_libs/ops.cpython-310-darwin.so\": 1685261896.2074912, \"/Users/alvaroromangomez/.local/share/virtualenvs/tfm_alvaro-vnpVahGc/lib/python3.10/site-packages/pandas/core/computation/__init__.py\": 1685261896.436781, \"/Users/alvaroromangomez/.local/share/virtualenvs/tfm_alvaro-vnpVahGc/lib/python3.10/site-packages/pandas/core/computation/check.py\": 1685261896.4387836, \"/Users/alvaroromangomez/.local/share/virtualenvs/tfm_alvaro-vnpVahGc/lib/python3.10/site-packages/pandas/core/computation/expressions.py\": 1685261896.4424171, \"/Users/alvaroromangomez/.local/share/virtualenvs/tfm_alvaro-vnpVahGc/lib/python3.10/site-packages/pandas/core/ops/missing.py\": 1685261896.4925144, \"/Users/alvaroromangomez/.local/share/virtualenvs/tfm_alvaro-vnpVahGc/lib/python3.10/site-packages/pandas/core/ops/dispatch.py\": 1685261896.4885304, \"/Users/alvaroromangomez/.local/share/virtualenvs/tfm_alvaro-vnpVahGc/lib/python3.10/site-packages/pandas/core/ops/invalid.py\": 1685261896.49043, \"/Users/alvaroromangomez/.local/share/virtualenvs/tfm_alvaro-vnpVahGc/lib/python3.10/site-packages/pandas/core/ops/array_ops.py\": 1685261896.487182, \"/Users/alvaroromangomez/.local/share/virtualenvs/tfm_alvaro-vnpVahGc/lib/python3.10/site-packages/pandas/core/ops/common.py\": 1685261896.4878914, \"/Users/alvaroromangomez/.local/share/virtualenvs/tfm_alvaro-vnpVahGc/lib/python3.10/site-packages/pandas/core/ops/docstrings.py\": 1685261896.4898715, \"/Users/alvaroromangomez/.local/share/virtualenvs/tfm_alvaro-vnpVahGc/lib/python3.10/site-packages/pandas/core/ops/mask_ops.py\": 1685261896.4910414, \"/Users/alvaroromangomez/.local/share/virtualenvs/tfm_alvaro-vnpVahGc/lib/python3.10/site-packages/pandas/core/ops/methods.py\": 1685261896.4918075, \"/Users/alvaroromangomez/.local/share/virtualenvs/tfm_alvaro-vnpVahGc/lib/python3.10/site-packages/pandas/core/ops/__init__.py\": 1685261896.486577, \"/Users/alvaroromangomez/.local/share/virtualenvs/tfm_alvaro-vnpVahGc/lib/python3.10/site-packages/pandas/core/arraylike.py\": 1685261896.37396, \"/Users/alvaroromangomez/.local/share/virtualenvs/tfm_alvaro-vnpVahGc/lib/python3.10/site-packages/pandas/compat/numpy/function.py\": 1685261896.3695414, \"/Users/alvaroromangomez/.local/share/virtualenvs/tfm_alvaro-vnpVahGc/lib/python3.10/site-packages/pandas/core/missing.py\": 1685261896.387162, \"/Users/alvaroromangomez/.local/share/virtualenvs/tfm_alvaro-vnpVahGc/lib/python3.10/site-packages/pandas/core/array_algos/quantile.py\": 1685261896.405141, \"/Users/alvaroromangomez/.local/share/virtualenvs/tfm_alvaro-vnpVahGc/lib/python3.10/site-packages/pandas/core/sorting.py\": 1685261896.394734, \"/Users/alvaroromangomez/.local/share/virtualenvs/tfm_alvaro-vnpVahGc/lib/python3.10/site-packages/pandas/core/arrays/base.py\": 1685261896.412802, \"/Users/alvaroromangomez/.local/share/virtualenvs/tfm_alvaro-vnpVahGc/lib/python3.10/site-packages/pyarrow/_compute.cpython-310-darwin.so\": 1685261865.7572873, \"/Users/alvaroromangomez/.local/share/virtualenvs/tfm_alvaro-vnpVahGc/lib/python3.10/site-packages/pyarrow/_compute_docstrings.py\": 1685261865.759125, \"/Users/alvaroromangomez/.local/share/virtualenvs/tfm_alvaro-vnpVahGc/lib/python3.10/site-packages/pyarrow/vendored/__init__.py\": 1685261866.5565107, \"/Users/alvaroromangomez/.local/share/virtualenvs/tfm_alvaro-vnpVahGc/lib/python3.10/site-packages/pyarrow/vendored/docscrape.py\": 1685261866.5571098, \"/Users/alvaroromangomez/.local/share/virtualenvs/tfm_alvaro-vnpVahGc/lib/python3.10/site-packages/pyarrow/compute.py\": 1685261865.8144305, \"/Users/alvaroromangomez/.local/share/virtualenvs/tfm_alvaro-vnpVahGc/lib/python3.10/site-packages/pandas/core/arrays/arrow/_arrow_utils.py\": 1685261896.4307888, \"/Users/alvaroromangomez/.local/share/virtualenvs/tfm_alvaro-vnpVahGc/lib/python3.10/site-packages/pandas/core/arrays/arrow/dtype.py\": 1685261896.4321496, \"/Users/alvaroromangomez/.local/share/virtualenvs/tfm_alvaro-vnpVahGc/lib/python3.10/site-packages/pandas/core/arrays/arrow/array.py\": 1685261896.4316065, \"/Users/alvaroromangomez/.local/share/virtualenvs/tfm_alvaro-vnpVahGc/lib/python3.10/site-packages/pandas/core/arrays/arrow/__init__.py\": 1685261896.4302158, \"/Users/alvaroromangomez/.local/share/virtualenvs/tfm_alvaro-vnpVahGc/lib/python3.10/site-packages/pandas/core/nanops.py\": 1685261896.3881488, \"/Users/alvaroromangomez/.local/share/virtualenvs/tfm_alvaro-vnpVahGc/lib/python3.10/site-packages/pandas/core/array_algos/masked_reductions.py\": 1685261896.403209, \"/Users/alvaroromangomez/.local/share/virtualenvs/tfm_alvaro-vnpVahGc/lib/python3.10/site-packages/pandas/core/arrays/masked.py\": 1685261896.4243, \"/Users/alvaroromangomez/.local/share/virtualenvs/tfm_alvaro-vnpVahGc/lib/python3.10/site-packages/pandas/core/arrays/boolean.py\": 1685261896.4154391, \"/Users/alvaroromangomez/.local/share/virtualenvs/tfm_alvaro-vnpVahGc/lib/python3.10/site-packages/pandas/_libs/arrays.cpython-310-darwin.so\": 1685261896.0943472, \"/Users/alvaroromangomez/.local/share/virtualenvs/tfm_alvaro-vnpVahGc/lib/python3.10/site-packages/pandas/core/accessor.py\": 1685261896.3709242, \"/Users/alvaroromangomez/.local/share/virtualenvs/tfm_alvaro-vnpVahGc/lib/python3.10/site-packages/pandas/core/array_algos/transforms.py\": 1685261896.4083211, \"/Users/alvaroromangomez/.local/share/virtualenvs/tfm_alvaro-vnpVahGc/lib/python3.10/site-packages/pandas/core/arrays/_mixins.py\": 1685261896.410833, \"/Users/alvaroromangomez/.local/share/virtualenvs/tfm_alvaro-vnpVahGc/lib/python3.10/site-packages/pandas/core/base.py\": 1685261896.3748775, \"/Users/alvaroromangomez/.local/share/virtualenvs/tfm_alvaro-vnpVahGc/lib/python3.10/site-packages/pandas/core/strings/accessor.py\": 1685261896.5016887, \"/Users/alvaroromangomez/.local/share/virtualenvs/tfm_alvaro-vnpVahGc/lib/python3.10/site-packages/pandas/core/strings/base.py\": 1685261896.5022166, \"/Users/alvaroromangomez/.local/share/virtualenvs/tfm_alvaro-vnpVahGc/lib/python3.10/site-packages/pandas/core/strings/__init__.py\": 1685261896.5006704, \"/Users/alvaroromangomez/.local/share/virtualenvs/tfm_alvaro-vnpVahGc/lib/python3.10/site-packages/pandas/core/strings/object_array.py\": 1685261896.5027597, \"/Users/alvaroromangomez/.local/share/virtualenvs/tfm_alvaro-vnpVahGc/lib/python3.10/site-packages/pandas/io/__init__.py\": 1685261896.514714, \"/Users/alvaroromangomez/.local/share/virtualenvs/tfm_alvaro-vnpVahGc/lib/python3.10/site-packages/pandas/io/formats/__init__.py\": 1685261896.5372214, \"/Users/alvaroromangomez/.local/share/virtualenvs/tfm_alvaro-vnpVahGc/lib/python3.10/site-packages/pandas/io/formats/console.py\": 1685261896.5385463, \"/Users/alvaroromangomez/.local/share/virtualenvs/tfm_alvaro-vnpVahGc/lib/python3.10/site-packages/pandas/core/arrays/categorical.py\": 1685261896.416898, \"/Users/alvaroromangomez/.local/share/virtualenvs/tfm_alvaro-vnpVahGc/lib/python3.10/site-packages/pandas/core/arrays/numeric.py\": 1685261896.424914, \"/Users/alvaroromangomez/.local/share/virtualenvs/tfm_alvaro-vnpVahGc/lib/python3.10/site-packages/pandas/core/arrays/integer.py\": 1685261896.4222097, \"/Users/alvaroromangomez/.local/share/virtualenvs/tfm_alvaro-vnpVahGc/lib/python3.10/site-packages/pandas/tseries/__init__.py\": 1685261897.5087175, \"/Users/alvaroromangomez/.local/share/virtualenvs/tfm_alvaro-vnpVahGc/lib/python3.10/site-packages/pandas/tseries/frequencies.py\": 1685261897.510257, \"/Users/alvaroromangomez/.local/share/virtualenvs/tfm_alvaro-vnpVahGc/lib/python3.10/site-packages/pandas/core/arrays/datetimelike.py\": 1685261896.4182093, \"/Users/alvaroromangomez/.local/share/virtualenvs/tfm_alvaro-vnpVahGc/lib/python3.10/site-packages/pandas/core/arrays/_ranges.py\": 1685261896.4116642, \"/Users/alvaroromangomez/.local/share/virtualenvs/tfm_alvaro-vnpVahGc/lib/python3.10/site-packages/pandas/tseries/offsets.py\": 1685261897.5124373, \"/Users/alvaroromangomez/.local/share/virtualenvs/tfm_alvaro-vnpVahGc/lib/python3.10/site-packages/pandas/core/arrays/datetimes.py\": 1685261896.4193988, \"/Users/alvaroromangomez/.local/share/virtualenvs/tfm_alvaro-vnpVahGc/lib/python3.10/site-packages/pandas/core/arrays/floating.py\": 1685261896.4214036, \"/Users/alvaroromangomez/.local/share/virtualenvs/tfm_alvaro-vnpVahGc/lib/python3.10/site-packages/pandas/core/indexes/__init__.py\": 1685261896.4639473, \"/Users/alvaroromangomez/.local/share/virtualenvs/tfm_alvaro-vnpVahGc/lib/python3.10/site-packages/pandas/_libs/index.cpython-310-darwin.so\": 1685261896.1337872, \"/Users/alvaroromangomez/.local/share/virtualenvs/tfm_alvaro-vnpVahGc/lib/python3.10/site-packages/pandas/_libs/join.cpython-310-darwin.so\": 1685261896.1812458, \"/Users/alvaroromangomez/.local/share/virtualenvs/tfm_alvaro-vnpVahGc/lib/python3.10/site-packages/pandas/core/array_algos/putmask.py\": 1685261896.4040155, \"/Users/alvaroromangomez/.local/share/virtualenvs/tfm_alvaro-vnpVahGc/lib/python3.10/site-packages/pandas/_libs/sparse.cpython-310-darwin.so\": 1685261896.236411, \"/Users/alvaroromangomez/.local/share/virtualenvs/tfm_alvaro-vnpVahGc/lib/python3.10/site-packages/pandas/core/arrays/sparse/dtype.py\": 1685261896.4354165, \"/Users/alvaroromangomez/.local/share/virtualenvs/tfm_alvaro-vnpVahGc/lib/python3.10/site-packages/pandas/io/formats/printing.py\": 1685261896.5441744, \"/Users/alvaroromangomez/.local/share/virtualenvs/tfm_alvaro-vnpVahGc/lib/python3.10/site-packages/pandas/core/arrays/sparse/array.py\": 1685261896.4346814, \"/Users/alvaroromangomez/.local/share/virtualenvs/tfm_alvaro-vnpVahGc/lib/python3.10/site-packages/pandas/core/arrays/sparse/accessor.py\": 1685261896.4338923, \"/Users/alvaroromangomez/.local/share/virtualenvs/tfm_alvaro-vnpVahGc/lib/python3.10/site-packages/pandas/core/arrays/sparse/__init__.py\": 1685261896.433334, \"/Users/alvaroromangomez/.local/share/virtualenvs/tfm_alvaro-vnpVahGc/lib/python3.10/site-packages/pandas/core/arrays/numpy_.py\": 1685261896.425805, \"/Users/alvaroromangomez/.local/share/virtualenvs/tfm_alvaro-vnpVahGc/lib/python3.10/site-packages/pandas/core/arrays/string_.py\": 1685261896.4280744, \"/Users/alvaroromangomez/.local/share/virtualenvs/tfm_alvaro-vnpVahGc/lib/python3.10/site-packages/pandas/core/indexes/frozen.py\": 1685261896.4702313, \"/Users/alvaroromangomez/.local/share/virtualenvs/tfm_alvaro-vnpVahGc/lib/python3.10/site-packages/pandas/core/indexes/base.py\": 1685261896.4669602, \"/Users/alvaroromangomez/.local/share/virtualenvs/tfm_alvaro-vnpVahGc/lib/python3.10/site-packages/pandas/core/arrays/interval.py\": 1685261896.423332, \"/Users/alvaroromangomez/.local/share/virtualenvs/tfm_alvaro-vnpVahGc/lib/python3.10/site-packages/pandas/core/arrays/period.py\": 1685261896.4268897, \"/Users/alvaroromangomez/.local/share/virtualenvs/tfm_alvaro-vnpVahGc/lib/python3.10/site-packages/pandas/core/arrays/string_arrow.py\": 1685261896.4286907, \"/Users/alvaroromangomez/.local/share/virtualenvs/tfm_alvaro-vnpVahGc/lib/python3.10/site-packages/pandas/core/arrays/timedeltas.py\": 1685261896.4294832, \"/Users/alvaroromangomez/.local/share/virtualenvs/tfm_alvaro-vnpVahGc/lib/python3.10/site-packages/pandas/core/arrays/__init__.py\": 1685261896.409232, \"/Users/alvaroromangomez/.local/share/virtualenvs/tfm_alvaro-vnpVahGc/lib/python3.10/site-packages/pandas/core/flags.py\": 1685261896.378631, \"/Users/alvaroromangomez/.local/share/virtualenvs/tfm_alvaro-vnpVahGc/lib/python3.10/site-packages/pandas/_libs/reduction.cpython-310-darwin.so\": 1685261896.223886, \"/Users/alvaroromangomez/.local/share/virtualenvs/tfm_alvaro-vnpVahGc/lib/python3.10/site-packages/pandas/core/apply.py\": 1685261896.3730752, \"/Users/alvaroromangomez/.local/share/virtualenvs/tfm_alvaro-vnpVahGc/lib/python3.10/site-packages/pandas/_libs/indexing.cpython-310-darwin.so\": 1685261896.136278, \"/Users/alvaroromangomez/.local/share/virtualenvs/tfm_alvaro-vnpVahGc/lib/python3.10/site-packages/pandas/core/indexes/extension.py\": 1685261896.4697144, \"/Users/alvaroromangomez/.local/share/virtualenvs/tfm_alvaro-vnpVahGc/lib/python3.10/site-packages/pandas/core/indexes/category.py\": 1685261896.4678223, \"/Users/alvaroromangomez/.local/share/virtualenvs/tfm_alvaro-vnpVahGc/lib/python3.10/site-packages/pandas/core/indexes/numeric.py\": 1685261896.472875, \"/Users/alvaroromangomez/.local/share/virtualenvs/tfm_alvaro-vnpVahGc/lib/python3.10/site-packages/pandas/core/indexes/range.py\": 1685261896.4741337, \"/Users/alvaroromangomez/.local/share/virtualenvs/tfm_alvaro-vnpVahGc/lib/python3.10/site-packages/pandas/core/tools/__init__.py\": 1685261896.503162, \"/Users/alvaroromangomez/.local/share/virtualenvs/tfm_alvaro-vnpVahGc/lib/python3.10/site-packages/pandas/core/tools/timedeltas.py\": 1685261896.5051239, \"/Users/alvaroromangomez/.local/share/virtualenvs/tfm_alvaro-vnpVahGc/lib/python3.10/site-packages/pandas/core/indexes/datetimelike.py\": 1685261896.4684284, \"/Users/alvaroromangomez/.local/share/virtualenvs/tfm_alvaro-vnpVahGc/lib/python3.10/site-packages/pandas/core/tools/times.py\": 1685261896.505702, \"/Users/alvaroromangomez/.local/share/virtualenvs/tfm_alvaro-vnpVahGc/lib/python3.10/site-packages/pandas/core/indexes/datetimes.py\": 1685261896.469073, \"/Users/alvaroromangomez/.local/share/virtualenvs/tfm_alvaro-vnpVahGc/lib/python3.10/site-packages/pandas/core/indexes/multi.py\": 1685261896.4722772, \"/Users/alvaroromangomez/.local/share/virtualenvs/tfm_alvaro-vnpVahGc/lib/python3.10/site-packages/pandas/core/indexes/timedeltas.py\": 1685261896.4746459, \"/Users/alvaroromangomez/.local/share/virtualenvs/tfm_alvaro-vnpVahGc/lib/python3.10/site-packages/pandas/core/indexes/interval.py\": 1685261896.4710782, \"/Users/alvaroromangomez/.local/share/virtualenvs/tfm_alvaro-vnpVahGc/lib/python3.10/site-packages/pandas/core/indexes/period.py\": 1685261896.473479, \"/Users/alvaroromangomez/.local/share/virtualenvs/tfm_alvaro-vnpVahGc/lib/python3.10/site-packages/pandas/core/indexes/api.py\": 1685261896.4651349, \"/Users/alvaroromangomez/.local/share/virtualenvs/tfm_alvaro-vnpVahGc/lib/python3.10/site-packages/pandas/core/indexing.py\": 1685261896.3863893, \"/Users/alvaroromangomez/.local/share/virtualenvs/tfm_alvaro-vnpVahGc/lib/python3.10/site-packages/pandas/core/sample.py\": 1685261896.3908117, \"/Users/alvaroromangomez/.local/share/virtualenvs/tfm_alvaro-vnpVahGc/lib/python3.10/site-packages/pandas/core/array_algos/replace.py\": 1685261896.4059958, \"/Users/alvaroromangomez/.local/share/virtualenvs/tfm_alvaro-vnpVahGc/lib/python3.10/site-packages/pandas/core/reshape/__init__.py\": 1685261896.4929338, \"/Users/alvaroromangomez/.local/share/virtualenvs/tfm_alvaro-vnpVahGc/lib/python3.10/site-packages/pandas/_libs/internals.cpython-310-darwin.so\": 1685261896.1419687, \"/Users/alvaroromangomez/.local/share/virtualenvs/tfm_alvaro-vnpVahGc/lib/python3.10/site-packages/pandas/_libs/writers.cpython-310-darwin.so\": 1685261896.2472453, \"/Users/alvaroromangomez/.local/share/virtualenvs/tfm_alvaro-vnpVahGc/lib/python3.10/site-packages/pandas/core/internals/blocks.py\": 1685261896.4830694, \"/Users/alvaroromangomez/.local/share/virtualenvs/tfm_alvaro-vnpVahGc/lib/python3.10/site-packages/pandas/core/internals/api.py\": 1685261896.4807088, \"/Users/alvaroromangomez/.local/share/virtualenvs/tfm_alvaro-vnpVahGc/lib/python3.10/site-packages/pandas/core/internals/base.py\": 1685261896.4821703, \"/Users/alvaroromangomez/.local/share/virtualenvs/tfm_alvaro-vnpVahGc/lib/python3.10/site-packages/pandas/core/internals/array_manager.py\": 1685261896.4815977, \"/Users/alvaroromangomez/.local/share/virtualenvs/tfm_alvaro-vnpVahGc/lib/python3.10/site-packages/pandas/core/internals/ops.py\": 1685261896.4859314, \"/Users/alvaroromangomez/.local/share/virtualenvs/tfm_alvaro-vnpVahGc/lib/python3.10/site-packages/pandas/core/internals/managers.py\": 1685261896.4853783, \"/Users/alvaroromangomez/.local/share/virtualenvs/tfm_alvaro-vnpVahGc/lib/python3.10/site-packages/pandas/core/internals/concat.py\": 1685261896.4837136, \"/Users/alvaroromangomez/.local/share/virtualenvs/tfm_alvaro-vnpVahGc/lib/python3.10/site-packages/pandas/core/internals/__init__.py\": 1685261896.4802094, \"/Users/alvaroromangomez/.local/share/virtualenvs/tfm_alvaro-vnpVahGc/lib/python3.10/site-packages/pandas/core/reshape/concat.py\": 1685261896.494281, \"/Users/alvaroromangomez/.pyenv/versions/3.10.10/lib/python3.10/lib-dynload/mmap.cpython-310-darwin.so\": 1685228206.0, \"/Users/alvaroromangomez/.pyenv/versions/3.10.10/lib/python3.10/lib-dynload/grp.cpython-310-darwin.so\": 1685228205.0, \"/Users/alvaroromangomez/.pyenv/versions/3.10.10/Library/Frameworks/Python.framework/Versions/3.10/lib/python3.10/tarfile.py\": 1685228244.2155724, \"/Users/alvaroromangomez/.local/share/virtualenvs/tfm_alvaro-vnpVahGc/lib/python3.10/site-packages/pandas/core/shared_docs.py\": 1685261896.393629, \"/Users/alvaroromangomez/.local/share/virtualenvs/tfm_alvaro-vnpVahGc/lib/python3.10/site-packages/pandas/io/common.py\": 1685261896.516545, \"/Users/alvaroromangomez/.local/share/virtualenvs/tfm_alvaro-vnpVahGc/lib/python3.10/site-packages/pandas/io/formats/format.py\": 1685261896.5414555, \"/Users/alvaroromangomez/.local/share/virtualenvs/tfm_alvaro-vnpVahGc/lib/python3.10/site-packages/pandas/core/describe.py\": 1685261896.3779001, \"/Users/alvaroromangomez/.local/share/virtualenvs/tfm_alvaro-vnpVahGc/lib/python3.10/site-packages/pandas/core/internals/construction.py\": 1685261896.4843445, \"/Users/alvaroromangomez/.local/share/virtualenvs/tfm_alvaro-vnpVahGc/lib/python3.10/site-packages/pandas/_libs/window/__init__.py\": 1685261896.3427174, \"/Users/alvaroromangomez/.local/share/virtualenvs/tfm_alvaro-vnpVahGc/lib/python3.10/site-packages/pandas/_libs/window/aggregations.cpython-310-darwin.so\": 1685261896.347659, \"/Users/alvaroromangomez/.local/share/virtualenvs/tfm_alvaro-vnpVahGc/lib/python3.10/site-packages/pandas/_libs/window/indexers.cpython-310-darwin.so\": 1685261896.3515704, \"/Users/alvaroromangomez/.local/share/virtualenvs/tfm_alvaro-vnpVahGc/lib/python3.10/site-packages/pandas/core/indexers/objects.py\": 1685261896.4628892, \"/Users/alvaroromangomez/.local/share/virtualenvs/tfm_alvaro-vnpVahGc/lib/python3.10/site-packages/pandas/core/util/numba_.py\": 1685261896.507679, \"/Users/alvaroromangomez/.local/share/virtualenvs/tfm_alvaro-vnpVahGc/lib/python3.10/site-packages/pandas/core/window/common.py\": 1685261896.509353, \"/Users/alvaroromangomez/.local/share/virtualenvs/tfm_alvaro-vnpVahGc/lib/python3.10/site-packages/pandas/core/window/doc.py\": 1685261896.5098484, \"/Users/alvaroromangomez/.local/share/virtualenvs/tfm_alvaro-vnpVahGc/lib/python3.10/site-packages/pandas/core/window/numba_.py\": 1685261896.5117357, \"/Users/alvaroromangomez/.local/share/virtualenvs/tfm_alvaro-vnpVahGc/lib/python3.10/site-packages/pandas/core/window/online.py\": 1685261896.5123708, \"/Users/alvaroromangomez/.local/share/virtualenvs/tfm_alvaro-vnpVahGc/lib/python3.10/site-packages/pandas/core/_numba/__init__.py\": 1685261896.3954077, \"/Users/alvaroromangomez/.local/share/virtualenvs/tfm_alvaro-vnpVahGc/lib/python3.10/site-packages/pandas/core/_numba/executor.py\": 1685261896.396272, \"/Users/alvaroromangomez/.local/share/virtualenvs/tfm_alvaro-vnpVahGc/lib/python3.10/site-packages/pandas/core/window/rolling.py\": 1685261896.5133445, \"/Users/alvaroromangomez/.local/share/virtualenvs/tfm_alvaro-vnpVahGc/lib/python3.10/site-packages/pandas/core/window/ewm.py\": 1685261896.5104523, \"/Users/alvaroromangomez/.local/share/virtualenvs/tfm_alvaro-vnpVahGc/lib/python3.10/site-packages/pandas/core/window/expanding.py\": 1685261896.5111246, \"/Users/alvaroromangomez/.local/share/virtualenvs/tfm_alvaro-vnpVahGc/lib/python3.10/site-packages/pandas/core/window/__init__.py\": 1685261896.5087962, \"/Users/alvaroromangomez/.local/share/virtualenvs/tfm_alvaro-vnpVahGc/lib/python3.10/site-packages/pandas/core/generic.py\": 1685261896.384948, \"/Users/alvaroromangomez/.local/share/virtualenvs/tfm_alvaro-vnpVahGc/lib/python3.10/site-packages/pandas/core/reshape/util.py\": 1685261896.4990985, \"/Users/alvaroromangomez/.local/share/virtualenvs/tfm_alvaro-vnpVahGc/lib/python3.10/site-packages/pandas/core/tools/numeric.py\": 1685261896.5046062, \"/Users/alvaroromangomez/.local/share/virtualenvs/tfm_alvaro-vnpVahGc/lib/python3.10/site-packages/pandas/core/reshape/melt.py\": 1685261896.4956536, \"/Users/alvaroromangomez/.local/share/virtualenvs/tfm_alvaro-vnpVahGc/lib/python3.10/site-packages/pandas/_libs/reshape.cpython-310-darwin.so\": 1685261896.227075, \"/Users/alvaroromangomez/.local/share/virtualenvs/tfm_alvaro-vnpVahGc/lib/python3.10/site-packages/pandas/core/indexes/accessors.py\": 1685261896.464536, \"/Users/alvaroromangomez/.local/share/virtualenvs/tfm_alvaro-vnpVahGc/lib/python3.10/site-packages/pandas/_libs/tslibs/strptime.cpython-310-darwin.so\": 1685261896.3089054, \"/Users/alvaroromangomez/.local/share/virtualenvs/tfm_alvaro-vnpVahGc/lib/python3.10/site-packages/pandas/arrays/__init__.py\": 1685261896.3650908, \"/Users/alvaroromangomez/.local/share/virtualenvs/tfm_alvaro-vnpVahGc/lib/python3.10/site-packages/pandas/core/tools/datetimes.py\": 1685261896.503864, \"/Users/alvaroromangomez/.local/share/virtualenvs/tfm_alvaro-vnpVahGc/lib/python3.10/site-packages/pandas/io/formats/info.py\": 1685261896.5426989, \"/Users/alvaroromangomez/.local/share/virtualenvs/tfm_alvaro-vnpVahGc/lib/python3.10/site-packages/pandas/plotting/_core.py\": 1685261896.5691602, \"/Users/alvaroromangomez/.local/share/virtualenvs/tfm_alvaro-vnpVahGc/lib/python3.10/site-packages/pandas/plotting/_misc.py\": 1685261896.5700555, \"/Users/alvaroromangomez/.local/share/virtualenvs/tfm_alvaro-vnpVahGc/lib/python3.10/site-packages/pandas/plotting/__init__.py\": 1685261896.5680747, \"/Users/alvaroromangomez/.local/share/virtualenvs/tfm_alvaro-vnpVahGc/lib/python3.10/site-packages/pandas/core/series.py\": 1685261896.3927422, \"/Users/alvaroromangomez/.local/share/virtualenvs/tfm_alvaro-vnpVahGc/lib/python3.10/site-packages/pandas/core/frame.py\": 1685261896.382275, \"/Users/alvaroromangomez/.local/share/virtualenvs/tfm_alvaro-vnpVahGc/lib/python3.10/site-packages/pandas/core/groupby/base.py\": 1685261896.4542139, \"/Users/alvaroromangomez/.local/share/virtualenvs/tfm_alvaro-vnpVahGc/lib/python3.10/site-packages/pandas/_libs/groupby.cpython-310-darwin.so\": 1685261896.1122897, \"/Users/alvaroromangomez/.local/share/virtualenvs/tfm_alvaro-vnpVahGc/lib/python3.10/site-packages/pandas/core/groupby/numba_.py\": 1685261896.4597704, \"/Users/alvaroromangomez/.local/share/virtualenvs/tfm_alvaro-vnpVahGc/lib/python3.10/site-packages/pandas/core/groupby/categorical.py\": 1685261896.454743, \"/Users/alvaroromangomez/.local/share/virtualenvs/tfm_alvaro-vnpVahGc/lib/python3.10/site-packages/pandas/core/groupby/grouper.py\": 1685261896.4585984, \"/Users/alvaroromangomez/.local/share/virtualenvs/tfm_alvaro-vnpVahGc/lib/python3.10/site-packages/pandas/core/groupby/ops.py\": 1685261896.4604237, \"/Users/alvaroromangomez/.local/share/virtualenvs/tfm_alvaro-vnpVahGc/lib/python3.10/site-packages/pandas/core/groupby/indexing.py\": 1685261896.4592588, \"/Users/alvaroromangomez/.local/share/virtualenvs/tfm_alvaro-vnpVahGc/lib/python3.10/site-packages/pandas/core/groupby/groupby.py\": 1685261896.457802, \"/Users/alvaroromangomez/.local/share/virtualenvs/tfm_alvaro-vnpVahGc/lib/python3.10/site-packages/pandas/core/groupby/generic.py\": 1685261896.4558377, \"/Users/alvaroromangomez/.local/share/virtualenvs/tfm_alvaro-vnpVahGc/lib/python3.10/site-packages/pandas/core/groupby/__init__.py\": 1685261896.4535913, \"/Users/alvaroromangomez/.local/share/virtualenvs/tfm_alvaro-vnpVahGc/lib/python3.10/site-packages/pandas/core/api.py\": 1685261896.3723116, \"/Users/alvaroromangomez/.local/share/virtualenvs/tfm_alvaro-vnpVahGc/lib/python3.10/site-packages/pandas/tseries/api.py\": 1685261897.5093737, \"/Users/alvaroromangomez/.local/share/virtualenvs/tfm_alvaro-vnpVahGc/lib/python3.10/site-packages/pandas/core/computation/common.py\": 1685261896.4395845, \"/Users/alvaroromangomez/.local/share/virtualenvs/tfm_alvaro-vnpVahGc/lib/python3.10/site-packages/pandas/core/computation/align.py\": 1685261896.4374168, \"/Users/alvaroromangomez/.local/share/virtualenvs/tfm_alvaro-vnpVahGc/lib/python3.10/site-packages/pandas/compat/chainmap.py\": 1685261896.3668, \"/Users/alvaroromangomez/.local/share/virtualenvs/tfm_alvaro-vnpVahGc/lib/python3.10/site-packages/pandas/core/computation/scope.py\": 1685261896.4453175, \"/Users/alvaroromangomez/.local/share/virtualenvs/tfm_alvaro-vnpVahGc/lib/python3.10/site-packages/pandas/core/computation/ops.py\": 1685261896.4431872, \"/Users/alvaroromangomez/.local/share/virtualenvs/tfm_alvaro-vnpVahGc/lib/python3.10/site-packages/pandas/core/computation/engines.py\": 1685261896.4401977, \"/Users/alvaroromangomez/.local/share/virtualenvs/tfm_alvaro-vnpVahGc/lib/python3.10/site-packages/pandas/core/computation/parsing.py\": 1685261896.4438236, \"/Users/alvaroromangomez/.local/share/virtualenvs/tfm_alvaro-vnpVahGc/lib/python3.10/site-packages/pandas/core/computation/expr.py\": 1685261896.4417205, \"/Users/alvaroromangomez/.local/share/virtualenvs/tfm_alvaro-vnpVahGc/lib/python3.10/site-packages/pandas/core/computation/eval.py\": 1685261896.4409056, \"/Users/alvaroromangomez/.local/share/virtualenvs/tfm_alvaro-vnpVahGc/lib/python3.10/site-packages/pandas/core/computation/api.py\": 1685261896.4381366, \"/Users/alvaroromangomez/.local/share/virtualenvs/tfm_alvaro-vnpVahGc/lib/python3.10/site-packages/pandas/core/reshape/encoding.py\": 1685261896.494982, \"/Users/alvaroromangomez/.local/share/virtualenvs/tfm_alvaro-vnpVahGc/lib/python3.10/site-packages/pandas/core/reshape/merge.py\": 1685261896.4966652, \"/Users/alvaroromangomez/.local/share/virtualenvs/tfm_alvaro-vnpVahGc/lib/python3.10/site-packages/pandas/core/reshape/pivot.py\": 1685261896.4973462, \"/Users/alvaroromangomez/.local/share/virtualenvs/tfm_alvaro-vnpVahGc/lib/python3.10/site-packages/pandas/core/reshape/tile.py\": 1685261896.4986002, \"/Users/alvaroromangomez/.local/share/virtualenvs/tfm_alvaro-vnpVahGc/lib/python3.10/site-packages/pandas/core/reshape/api.py\": 1685261896.4934173, \"/Users/alvaroromangomez/.local/share/virtualenvs/tfm_alvaro-vnpVahGc/lib/python3.10/site-packages/pandas/api/extensions/__init__.py\": 1685261896.3618443, \"/Users/alvaroromangomez/.local/share/virtualenvs/tfm_alvaro-vnpVahGc/lib/python3.10/site-packages/pandas/api/indexers/__init__.py\": 1685261896.3629503, \"/Users/alvaroromangomez/.local/share/virtualenvs/tfm_alvaro-vnpVahGc/lib/python3.10/site-packages/pandas/core/interchange/__init__.py\": 1685261896.4751234, \"/Users/alvaroromangomez/.local/share/virtualenvs/tfm_alvaro-vnpVahGc/lib/python3.10/site-packages/pandas/core/interchange/dataframe_protocol.py\": 1685261896.4779713, \"/Users/alvaroromangomez/.local/share/virtualenvs/tfm_alvaro-vnpVahGc/lib/python3.10/site-packages/pandas/core/dtypes/api.py\": 1685261896.446707, \"/Users/alvaroromangomez/.local/share/virtualenvs/tfm_alvaro-vnpVahGc/lib/python3.10/site-packages/pandas/api/types/__init__.py\": 1685261896.3643544, \"/Users/alvaroromangomez/.local/share/virtualenvs/tfm_alvaro-vnpVahGc/lib/python3.10/site-packages/pandas/core/interchange/buffer.py\": 1685261896.4757519, \"/Users/alvaroromangomez/.local/share/virtualenvs/tfm_alvaro-vnpVahGc/lib/python3.10/site-packages/pandas/core/interchange/utils.py\": 1685261896.4795952, \"/Users/alvaroromangomez/.local/share/virtualenvs/tfm_alvaro-vnpVahGc/lib/python3.10/site-packages/pandas/core/interchange/column.py\": 1685261896.4762754, \"/Users/alvaroromangomez/.local/share/virtualenvs/tfm_alvaro-vnpVahGc/lib/python3.10/site-packages/pandas/core/interchange/from_dataframe.py\": 1685261896.4788938, \"/Users/alvaroromangomez/.local/share/virtualenvs/tfm_alvaro-vnpVahGc/lib/python3.10/site-packages/pandas/api/interchange/__init__.py\": 1685261896.363712, \"/Users/alvaroromangomez/.local/share/virtualenvs/tfm_alvaro-vnpVahGc/lib/python3.10/site-packages/pandas/api/__init__.py\": 1685261896.361225, \"/Users/alvaroromangomez/.local/share/virtualenvs/tfm_alvaro-vnpVahGc/lib/python3.10/site-packages/pandas/_testing/_random.py\": 1685261896.3571708, \"/Users/alvaroromangomez/.local/share/virtualenvs/tfm_alvaro-vnpVahGc/lib/python3.10/site-packages/pandas/_testing/contexts.py\": 1685261896.3603654, \"/Users/alvaroromangomez/.local/share/virtualenvs/tfm_alvaro-vnpVahGc/lib/python3.10/site-packages/pandas/_testing/_io.py\": 1685261896.355754, \"/Users/alvaroromangomez/.local/share/virtualenvs/tfm_alvaro-vnpVahGc/lib/python3.10/site-packages/pandas/_testing/_warnings.py\": 1685261896.3579915, \"/Users/alvaroromangomez/.pyenv/versions/3.10.10/lib/python3.10/lib-dynload/cmath.cpython-310-darwin.so\": 1685228205.0, \"/Users/alvaroromangomez/.local/share/virtualenvs/tfm_alvaro-vnpVahGc/lib/python3.10/site-packages/pandas/_libs/testing.cpython-310-darwin.so\": 1685261896.2392087, \"/Users/alvaroromangomez/.local/share/virtualenvs/tfm_alvaro-vnpVahGc/lib/python3.10/site-packages/pandas/_testing/asserters.py\": 1685261896.358866, \"/Users/alvaroromangomez/.local/share/virtualenvs/tfm_alvaro-vnpVahGc/lib/python3.10/site-packages/pandas/_testing/compat.py\": 1685261896.3595862, \"/Users/alvaroromangomez/.local/share/virtualenvs/tfm_alvaro-vnpVahGc/lib/python3.10/site-packages/pandas/_testing/__init__.py\": 1685261896.354274, \"/Users/alvaroromangomez/.local/share/virtualenvs/tfm_alvaro-vnpVahGc/lib/python3.10/site-packages/pandas/testing.py\": 1685261896.0726442, \"/Users/alvaroromangomez/.local/share/virtualenvs/tfm_alvaro-vnpVahGc/lib/python3.10/site-packages/pandas/util/_print_versions.py\": 1685261897.5165455, \"/Users/alvaroromangomez/.local/share/virtualenvs/tfm_alvaro-vnpVahGc/lib/python3.10/site-packages/pandas/io/clipboards.py\": 1685261896.5158153, \"/Users/alvaroromangomez/.local/share/virtualenvs/tfm_alvaro-vnpVahGc/lib/python3.10/site-packages/pandas/_libs/parsers.cpython-310-darwin.so\": 1685261896.2181683, \"/Users/alvaroromangomez/.local/share/virtualenvs/tfm_alvaro-vnpVahGc/lib/python3.10/site-packages/pandas/io/excel/_util.py\": 1685261896.534972, \"/Users/alvaroromangomez/.local/share/virtualenvs/tfm_alvaro-vnpVahGc/lib/python3.10/site-packages/pandas/io/date_converters.py\": 1685261896.5170238, \"/Users/alvaroromangomez/.local/share/virtualenvs/tfm_alvaro-vnpVahGc/lib/python3.10/site-packages/pandas/io/parsers/base_parser.py\": 1685261896.5564144, \"/Users/alvaroromangomez/.local/share/virtualenvs/tfm_alvaro-vnpVahGc/lib/python3.10/site-packages/pandas/io/parsers/arrow_parser_wrapper.py\": 1685261896.5556943, \"/Users/alvaroromangomez/.local/share/virtualenvs/tfm_alvaro-vnpVahGc/lib/python3.10/site-packages/pandas/io/parsers/c_parser_wrapper.py\": 1685261896.5572128, \"/Users/alvaroromangomez/.local/share/virtualenvs/tfm_alvaro-vnpVahGc/lib/python3.10/site-packages/pandas/io/parsers/python_parser.py\": 1685261896.5580149, \"/Users/alvaroromangomez/.local/share/virtualenvs/tfm_alvaro-vnpVahGc/lib/python3.10/site-packages/pandas/io/parsers/readers.py\": 1685261896.5588682, \"/Users/alvaroromangomez/.local/share/virtualenvs/tfm_alvaro-vnpVahGc/lib/python3.10/site-packages/pandas/io/parsers/__init__.py\": 1685261896.5551286, \"/Users/alvaroromangomez/.local/share/virtualenvs/tfm_alvaro-vnpVahGc/lib/python3.10/site-packages/pandas/io/excel/_odfreader.py\": 1685261896.5327365, \"/Users/alvaroromangomez/.local/share/virtualenvs/tfm_alvaro-vnpVahGc/lib/python3.10/site-packages/pandas/io/excel/_openpyxl.py\": 1685261896.5338802, \"/Users/alvaroromangomez/.local/share/virtualenvs/tfm_alvaro-vnpVahGc/lib/python3.10/site-packages/pandas/io/excel/_pyxlsb.py\": 1685261896.5344715, \"/Users/alvaroromangomez/.local/share/virtualenvs/tfm_alvaro-vnpVahGc/lib/python3.10/site-packages/pandas/io/excel/_xlrd.py\": 1685261896.5354722, \"/Users/alvaroromangomez/.local/share/virtualenvs/tfm_alvaro-vnpVahGc/lib/python3.10/site-packages/pandas/io/excel/_base.py\": 1685261896.5319984, \"/Users/alvaroromangomez/.local/share/virtualenvs/tfm_alvaro-vnpVahGc/lib/python3.10/site-packages/pandas/_libs/json.cpython-310-darwin.so\": 1685261896.1858194, \"/Users/alvaroromangomez/.local/share/virtualenvs/tfm_alvaro-vnpVahGc/lib/python3.10/site-packages/pandas/io/excel/_odswriter.py\": 1685261896.5332692, \"/Users/alvaroromangomez/.local/share/virtualenvs/tfm_alvaro-vnpVahGc/lib/python3.10/site-packages/pandas/io/excel/_xlsxwriter.py\": 1685261896.5360165, \"/Users/alvaroromangomez/.local/share/virtualenvs/tfm_alvaro-vnpVahGc/lib/python3.10/site-packages/pandas/io/excel/_xlwt.py\": 1685261896.5365329, \"/Users/alvaroromangomez/.local/share/virtualenvs/tfm_alvaro-vnpVahGc/lib/python3.10/site-packages/pandas/io/excel/__init__.py\": 1685261896.5308313, \"/Users/alvaroromangomez/.local/share/virtualenvs/tfm_alvaro-vnpVahGc/lib/python3.10/site-packages/pandas/io/feather_format.py\": 1685261896.5175824, \"/Users/alvaroromangomez/.local/share/virtualenvs/tfm_alvaro-vnpVahGc/lib/python3.10/site-packages/pandas/io/gbq.py\": 1685261896.5181503, \"/Users/alvaroromangomez/.local/share/virtualenvs/tfm_alvaro-vnpVahGc/lib/python3.10/site-packages/pandas/io/html.py\": 1685261896.5187938, \"/Users/alvaroromangomez/.local/share/virtualenvs/tfm_alvaro-vnpVahGc/lib/python3.10/site-packages/pandas/io/json/_normalize.py\": 1685261896.5540235, \"/Users/alvaroromangomez/.local/share/virtualenvs/tfm_alvaro-vnpVahGc/lib/python3.10/site-packages/pandas/io/json/_table_schema.py\": 1685261896.554564, \"/Users/alvaroromangomez/.local/share/virtualenvs/tfm_alvaro-vnpVahGc/lib/python3.10/site-packages/pandas/io/json/_json.py\": 1685261896.5534062, \"/Users/alvaroromangomez/.local/share/virtualenvs/tfm_alvaro-vnpVahGc/lib/python3.10/site-packages/pandas/io/json/__init__.py\": 1685261896.552594, \"/Users/alvaroromangomez/.local/share/virtualenvs/tfm_alvaro-vnpVahGc/lib/python3.10/site-packages/pandas/io/orc.py\": 1685261896.5194695, \"/Users/alvaroromangomez/.local/share/virtualenvs/tfm_alvaro-vnpVahGc/lib/python3.10/site-packages/pandas/io/parquet.py\": 1685261896.5200095, \"/Users/alvaroromangomez/.local/share/virtualenvs/tfm_alvaro-vnpVahGc/lib/python3.10/site-packages/pandas/compat/pickle_compat.py\": 1685261896.3673558, \"/Users/alvaroromangomez/.local/share/virtualenvs/tfm_alvaro-vnpVahGc/lib/python3.10/site-packages/pandas/io/pickle.py\": 1685261896.5205894, \"/Users/alvaroromangomez/.local/share/virtualenvs/tfm_alvaro-vnpVahGc/lib/python3.10/site-packages/pandas/core/computation/pytables.py\": 1685261896.44454, \"/Users/alvaroromangomez/.local/share/virtualenvs/tfm_alvaro-vnpVahGc/lib/python3.10/site-packages/pandas/io/pytables.py\": 1685261896.5219479, \"/Users/alvaroromangomez/.local/share/virtualenvs/tfm_alvaro-vnpVahGc/lib/python3.10/site-packages/pandas/io/sas/sasreader.py\": 1685261896.567406, \"/Users/alvaroromangomez/.local/share/virtualenvs/tfm_alvaro-vnpVahGc/lib/python3.10/site-packages/pandas/io/sas/__init__.py\": 1685261896.5595438, \"/Users/alvaroromangomez/.local/share/virtualenvs/tfm_alvaro-vnpVahGc/lib/python3.10/site-packages/pandas/io/spss.py\": 1685261896.5244021, \"/Users/alvaroromangomez/.local/share/virtualenvs/tfm_alvaro-vnpVahGc/lib/python3.10/site-packages/pandas/io/sql.py\": 1685261896.5256174, \"/Users/alvaroromangomez/.local/share/virtualenvs/tfm_alvaro-vnpVahGc/lib/python3.10/site-packages/pandas/io/stata.py\": 1685261896.5273852, \"/Users/alvaroromangomez/.local/share/virtualenvs/tfm_alvaro-vnpVahGc/lib/python3.10/site-packages/pandas/io/xml.py\": 1685261896.5283911, \"/Users/alvaroromangomez/.local/share/virtualenvs/tfm_alvaro-vnpVahGc/lib/python3.10/site-packages/pandas/io/api.py\": 1685261896.515231, \"/Users/alvaroromangomez/.local/share/virtualenvs/tfm_alvaro-vnpVahGc/lib/python3.10/site-packages/pandas/util/_tester.py\": 1685261897.5179753, \"/Users/alvaroromangomez/.local/share/virtualenvs/tfm_alvaro-vnpVahGc/lib/python3.10/site-packages/pandas/_version.py\": 1685261896.0715055, \"/Users/alvaroromangomez/.local/share/virtualenvs/tfm_alvaro-vnpVahGc/lib/python3.10/site-packages/pandas/__init__.py\": 1685261896.070477}\n"
     ]
    }
   ],
   "source": [
    "\n",
    "# imports\n",
    "import os\n",
    "import sys\n",
    "import types\n",
    "import json\n",
    "\n",
    "# figure size/format\n",
    "fig_width = 5.5\n",
    "fig_height = 3.5\n",
    "fig_format = 'pdf'\n",
    "fig_dpi = 300\n",
    "\n",
    "# matplotlib defaults / format\n",
    "try:\n",
    "  import matplotlib.pyplot as plt\n",
    "  plt.rcParams['figure.figsize'] = (fig_width, fig_height)\n",
    "  plt.rcParams['figure.dpi'] = fig_dpi\n",
    "  plt.rcParams['savefig.dpi'] = fig_dpi\n",
    "  from IPython.display import set_matplotlib_formats\n",
    "  set_matplotlib_formats(fig_format)\n",
    "except Exception:\n",
    "  pass\n",
    "\n",
    "# plotly use connected mode\n",
    "try:\n",
    "  import plotly.io as pio\n",
    "  pio.renderers.default = \"notebook_connected\"\n",
    "except Exception:\n",
    "  pass\n",
    "\n",
    "# enable pandas latex repr when targeting pdfs\n",
    "try:\n",
    "  import pandas as pd\n",
    "  if fig_format == 'pdf':\n",
    "    pd.set_option('display.latex.repr', True)\n",
    "except Exception:\n",
    "  pass\n",
    "\n",
    "\n",
    "\n",
    "# output kernel dependencies\n",
    "kernel_deps = dict()\n",
    "for module in list(sys.modules.values()):\n",
    "  # Some modules play games with sys.modules (e.g. email/__init__.py\n",
    "  # in the standard library), and occasionally this can cause strange\n",
    "  # failures in getattr.  Just ignore anything that's not an ordinary\n",
    "  # module.\n",
    "  if not isinstance(module, types.ModuleType):\n",
    "    continue\n",
    "  path = getattr(module, \"__file__\", None)\n",
    "  if not path:\n",
    "    continue\n",
    "  if path.endswith(\".pyc\") or path.endswith(\".pyo\"):\n",
    "    path = path[:-1]\n",
    "  if not os.path.exists(path):\n",
    "    continue\n",
    "  kernel_deps[path] = os.stat(path).st_mtime\n",
    "print(json.dumps(kernel_deps))\n",
    "\n",
    "# set run_path if requested\n",
    "if r'/Users/alvaroromangomez/Documents/Documentos personales/Formación/Master Bioinformática y Estadística/TFM/tfm_alvaro/Codigo/notebooks':\n",
    "  os.chdir(r'/Users/alvaroromangomez/Documents/Documentos personales/Formación/Master Bioinformática y Estadística/TFM/tfm_alvaro/Codigo/notebooks')\n",
    "\n",
    "# reset state\n",
    "%reset\n",
    "\n",
    "def ojs_define(**kwargs):\n",
    "  import json\n",
    "  try:\n",
    "    # IPython 7.14 preferred import\n",
    "    from IPython.display import display, HTML\n",
    "  except:\n",
    "    from IPython.core.display import display, HTML\n",
    "\n",
    "  # do some minor magic for convenience when handling pandas\n",
    "  # dataframes\n",
    "  def convert(v):\n",
    "    try:\n",
    "      import pandas as pd\n",
    "    except ModuleNotFoundError: # don't do the magic when pandas is not available\n",
    "      return v\n",
    "    if type(v) == pd.Series:\n",
    "      v = pd.DataFrame(v)\n",
    "    if type(v) == pd.DataFrame:\n",
    "      j = json.loads(v.T.to_json(orient='split'))\n",
    "      return dict((k,v) for (k,v) in zip(j[\"index\"], j[\"data\"]))\n",
    "    else:\n",
    "      return v\n",
    "  \n",
    "  v = dict(contents=list(dict(name=key, value=convert(value)) for (key, value) in kwargs.items()))\n",
    "  display(HTML('<script type=\"ojs-define\">' + json.dumps(v) + '</script>'), metadata=dict(ojs_define = True))\n",
    "globals()[\"ojs_define\"] = ojs_define\n"
   ]
  },
  {
   "cell_type": "code",
   "execution_count": 2,
   "id": "57c41940",
   "metadata": {},
   "outputs": [],
   "source": [
    "import optuna\n",
    "import pandas as pd\n",
    "import numpy as np\n",
    "import pickle\n",
    "\n",
    "from xgboost import XGBClassifier\n",
    "from sklearn.model_selection import cross_val_score\n",
    "from sklearn.metrics import roc_auc_score"
   ]
  },
  {
   "cell_type": "code",
   "execution_count": 3,
   "id": "a0262cf5",
   "metadata": {},
   "outputs": [],
   "source": [
    "input_path = \"../data/processed/\"\n",
    "output_path = \"../data/processed/\"\n",
    "\n",
    "training_path = input_path + \"train_data/\"\n",
    "test_path = input_path + \"test_data/\"\n",
    "\n",
    "\n",
    "results_path = \"../models/results/\"\n",
    "figures_path = \"../../Memoria/figures/\""
   ]
  },
  {
   "cell_type": "code",
   "execution_count": 4,
   "id": "a0ee6fb5",
   "metadata": {},
   "outputs": [],
   "source": [
    "# FILES\n",
    "results_file = \"results_table.csv\""
   ]
  },
  {
   "cell_type": "code",
   "execution_count": 5,
   "id": "2e315cbf",
   "metadata": {},
   "outputs": [],
   "source": [
    "dataset_name = \"maccs_keys\""
   ]
  },
  {
   "cell_type": "code",
   "execution_count": 6,
   "id": "7adfa170",
   "metadata": {},
   "outputs": [],
   "source": [
    "# LOAD DATA\n",
    "train = pd.read_csv(training_path + dataset_name + \"_training.csv\")\n",
    "test = pd.read_csv(test_path + dataset_name + \"_test.csv\")\n",
    "\n",
    "X_train = train.drop(columns=[\"activity\"])\n",
    "Y_train = train[\"activity\"]\n",
    "\n",
    "X_test = test.drop(columns=[\"activity\"])\n",
    "Y_test = test[\"activity\"]\n"
   ]
  },
  {
   "cell_type": "code",
   "execution_count": 7,
   "id": "8abd3d96",
   "metadata": {},
   "outputs": [],
   "source": [
    "def objective(trial):\n",
    "    n_estimators = trial.suggest_int(\"n_estimators\", 100, 1000, step=50)\n",
    "    max_depth = trial.suggest_int(\"max_depth\", 3, 50, step=1)\n",
    "    learning_rate = trial.suggest_float(\"learning_rate\", 0.01, 0.1, step=0.01)\n",
    "    subsample = trial.suggest_float(\"subsample\", 0.5, 1.0, step=0.1)\n",
    "    colsample_bytree = trial.suggest_float(\"colsample_bytree\", 0.5, 1.0, step=0.1)\n",
    "    gamma = trial.suggest_float(\"gamma\", 0.0, 2.0, step=0.1)\n",
    "    min_child_weight = trial.suggest_int(\"min_child_weight\", 1, 20, step=1)\n",
    "    reg_alpha = trial.suggest_float(\"reg_alpha\", 0.0, 2.0, step=0.1)\n",
    "    reg_lambda = trial.suggest_float(\"reg_lambda\", 0.0, 2.0, step=0.1)\n",
    "\n",
    "    model = XGBClassifier(\n",
    "        n_estimators=n_estimators,\n",
    "        max_depth=max_depth,\n",
    "        learning_rate=learning_rate,\n",
    "        subsample=subsample,\n",
    "        colsample_bytree=colsample_bytree,\n",
    "        gamma=gamma,\n",
    "        min_child_weight=min_child_weight,\n",
    "        reg_alpha=reg_alpha,\n",
    "        reg_lambda=reg_lambda,\n",
    "        random_state=42,\n",
    "        n_jobs=-1,\n",
    "    )\n",
    "\n",
    "    score = cross_val_score(model, X_train, Y_train, scoring=\"roc_auc\", cv=5, n_jobs=-1)\n",
    "    auc = score.mean()\n",
    "\n",
    "    return auc\n"
   ]
  },
  {
   "cell_type": "code",
   "execution_count": 8,
   "id": "76eb1e60",
   "metadata": {},
   "outputs": [
    {
     "name": "stderr",
     "output_type": "stream",
     "text": [
      "\u001b[32m[I 2023-05-30 00:45:09,051]\u001b[0m A new study created in memory with name: no-name-153a0006-8fbb-4e38-8c0d-cc984e416691\u001b[0m\n"
     ]
    },
    {
     "name": "stderr",
     "output_type": "stream",
     "text": [
      "\u001b[32m[I 2023-05-30 00:45:14,273]\u001b[0m Trial 0 finished with value: 0.5276422065647018 and parameters: {'n_estimators': 100, 'max_depth': 13, 'learning_rate': 0.06999999999999999, 'subsample': 0.8, 'colsample_bytree': 0.9, 'gamma': 1.4000000000000001, 'min_child_weight': 16, 'reg_alpha': 0.1, 'reg_lambda': 0.7000000000000001}. Best is trial 0 with value: 0.5276422065647018.\u001b[0m\n"
     ]
    },
    {
     "name": "stderr",
     "output_type": "stream",
     "text": [
      "\u001b[32m[I 2023-05-30 00:45:15,595]\u001b[0m Trial 1 finished with value: 0.5516583605430487 and parameters: {'n_estimators': 450, 'max_depth': 49, 'learning_rate': 0.01, 'subsample': 0.7, 'colsample_bytree': 0.6, 'gamma': 1.2000000000000002, 'min_child_weight': 11, 'reg_alpha': 1.9000000000000001, 'reg_lambda': 1.4000000000000001}. Best is trial 1 with value: 0.5516583605430487.\u001b[0m\n"
     ]
    },
    {
     "name": "stderr",
     "output_type": "stream",
     "text": [
      "\u001b[32m[I 2023-05-30 00:45:16,550]\u001b[0m Trial 2 finished with value: 0.5911067193675889 and parameters: {'n_estimators': 100, 'max_depth': 19, 'learning_rate': 0.06999999999999999, 'subsample': 0.6, 'colsample_bytree': 0.5, 'gamma': 0.2, 'min_child_weight': 4, 'reg_alpha': 0.0, 'reg_lambda': 0.2}. Best is trial 2 with value: 0.5911067193675889.\u001b[0m\n"
     ]
    },
    {
     "name": "stderr",
     "output_type": "stream",
     "text": [
      "\u001b[32m[I 2023-05-30 00:45:17,972]\u001b[0m Trial 3 finished with value: 0.5043478260869565 and parameters: {'n_estimators': 750, 'max_depth': 30, 'learning_rate': 0.03, 'subsample': 0.9, 'colsample_bytree': 0.5, 'gamma': 0.4, 'min_child_weight': 20, 'reg_alpha': 2.0, 'reg_lambda': 1.6}. Best is trial 2 with value: 0.5911067193675889.\u001b[0m\n"
     ]
    },
    {
     "name": "stderr",
     "output_type": "stream",
     "text": [
      "\u001b[32m[I 2023-05-30 00:45:18,270]\u001b[0m Trial 4 finished with value: 0.5 and parameters: {'n_estimators': 350, 'max_depth': 44, 'learning_rate': 0.060000000000000005, 'subsample': 0.6, 'colsample_bytree': 0.5, 'gamma': 0.8, 'min_child_weight': 18, 'reg_alpha': 0.9, 'reg_lambda': 2.0}. Best is trial 2 with value: 0.5911067193675889.\u001b[0m\n"
     ]
    },
    {
     "name": "stderr",
     "output_type": "stream",
     "text": [
      "\u001b[32m[I 2023-05-30 00:45:18,744]\u001b[0m Trial 5 finished with value: 0.5616772641347311 and parameters: {'n_estimators': 450, 'max_depth': 41, 'learning_rate': 0.08, 'subsample': 0.7, 'colsample_bytree': 0.7, 'gamma': 1.4000000000000001, 'min_child_weight': 11, 'reg_alpha': 1.7000000000000002, 'reg_lambda': 0.1}. Best is trial 2 with value: 0.5911067193675889.\u001b[0m\n"
     ]
    },
    {
     "name": "stderr",
     "output_type": "stream",
     "text": [
      "\u001b[32m[I 2023-05-30 00:45:19,667]\u001b[0m Trial 6 finished with value: 0.5624162227186802 and parameters: {'n_estimators': 900, 'max_depth': 39, 'learning_rate': 0.02, 'subsample': 0.5, 'colsample_bytree': 0.7, 'gamma': 0.30000000000000004, 'min_child_weight': 7, 'reg_alpha': 0.2, 'reg_lambda': 0.2}. Best is trial 2 with value: 0.5911067193675889.\u001b[0m\n"
     ]
    },
    {
     "name": "stderr",
     "output_type": "stream",
     "text": [
      "\u001b[32m[I 2023-05-30 00:45:19,996]\u001b[0m Trial 7 finished with value: 0.5 and parameters: {'n_estimators': 350, 'max_depth': 19, 'learning_rate': 0.01, 'subsample': 0.5, 'colsample_bytree': 0.9, 'gamma': 1.4000000000000001, 'min_child_weight': 16, 'reg_alpha': 0.5, 'reg_lambda': 1.0}. Best is trial 2 with value: 0.5911067193675889.\u001b[0m\n"
     ]
    },
    {
     "name": "stderr",
     "output_type": "stream",
     "text": [
      "\u001b[32m[I 2023-05-30 00:45:20,756]\u001b[0m Trial 8 finished with value: 0.5501632582918028 and parameters: {'n_estimators': 650, 'max_depth': 46, 'learning_rate': 0.04, 'subsample': 0.8, 'colsample_bytree': 0.8, 'gamma': 1.6, 'min_child_weight': 11, 'reg_alpha': 1.9000000000000001, 'reg_lambda': 1.1}. Best is trial 2 with value: 0.5911067193675889.\u001b[0m\n"
     ]
    },
    {
     "name": "stderr",
     "output_type": "stream",
     "text": [
      "\u001b[32m[I 2023-05-30 00:45:21,507]\u001b[0m Trial 9 finished with value: 0.5688262588073553 and parameters: {'n_estimators': 650, 'max_depth': 19, 'learning_rate': 0.01, 'subsample': 0.6, 'colsample_bytree': 0.7, 'gamma': 0.5, 'min_child_weight': 7, 'reg_alpha': 1.8, 'reg_lambda': 0.9}. Best is trial 2 with value: 0.5911067193675889.\u001b[0m\n"
     ]
    },
    {
     "name": "stderr",
     "output_type": "stream",
     "text": [
      "\u001b[32m[I 2023-05-30 00:45:21,772]\u001b[0m Trial 10 finished with value: 0.6307011514005842 and parameters: {'n_estimators': 100, 'max_depth': 5, 'learning_rate': 0.09999999999999999, 'subsample': 1.0, 'colsample_bytree': 1.0, 'gamma': 0.0, 'min_child_weight': 1, 'reg_alpha': 1.3, 'reg_lambda': 0.5}. Best is trial 10 with value: 0.6307011514005842.\u001b[0m\n"
     ]
    },
    {
     "name": "stderr",
     "output_type": "stream",
     "text": [
      "\u001b[32m[I 2023-05-30 00:45:21,994]\u001b[0m Trial 11 finished with value: 0.6332875064444063 and parameters: {'n_estimators': 100, 'max_depth': 3, 'learning_rate': 0.09999999999999999, 'subsample': 1.0, 'colsample_bytree': 1.0, 'gamma': 0.0, 'min_child_weight': 1, 'reg_alpha': 1.3, 'reg_lambda': 0.5}. Best is trial 11 with value: 0.6332875064444063.\u001b[0m\n"
     ]
    },
    {
     "name": "stderr",
     "output_type": "stream",
     "text": [
      "\u001b[32m[I 2023-05-30 00:45:22,343]\u001b[0m Trial 12 finished with value: 0.6272469496477058 and parameters: {'n_estimators': 200, 'max_depth': 4, 'learning_rate': 0.09999999999999999, 'subsample': 1.0, 'colsample_bytree': 1.0, 'gamma': 0.0, 'min_child_weight': 1, 'reg_alpha': 1.3, 'reg_lambda': 0.6000000000000001}. Best is trial 11 with value: 0.6332875064444063.\u001b[0m\n"
     ]
    },
    {
     "name": "stderr",
     "output_type": "stream",
     "text": [
      "\u001b[32m[I 2023-05-30 00:45:22,773]\u001b[0m Trial 13 finished with value: 0.6363120811135933 and parameters: {'n_estimators': 250, 'max_depth': 3, 'learning_rate': 0.09999999999999999, 'subsample': 1.0, 'colsample_bytree': 1.0, 'gamma': 0.8, 'min_child_weight': 1, 'reg_alpha': 1.3, 'reg_lambda': 0.5}. Best is trial 13 with value: 0.6363120811135933.\u001b[0m\n"
     ]
    },
    {
     "name": "stderr",
     "output_type": "stream",
     "text": [
      "\u001b[32m[I 2023-05-30 00:45:23,324]\u001b[0m Trial 14 finished with value: 0.6264478432720398 and parameters: {'n_estimators': 250, 'max_depth': 10, 'learning_rate': 0.09, 'subsample': 0.9, 'colsample_bytree': 0.9, 'gamma': 1.9000000000000001, 'min_child_weight': 4, 'reg_alpha': 1.1, 'reg_lambda': 0.5}. Best is trial 13 with value: 0.6363120811135933.\u001b[0m\n"
     ]
    },
    {
     "name": "stderr",
     "output_type": "stream",
     "text": [
      "\u001b[32m[I 2023-05-30 00:45:23,890]\u001b[0m Trial 15 finished with value: 0.6091510568826258 and parameters: {'n_estimators': 250, 'max_depth': 28, 'learning_rate': 0.09, 'subsample': 0.9, 'colsample_bytree': 1.0, 'gamma': 0.8, 'min_child_weight': 4, 'reg_alpha': 0.8, 'reg_lambda': 0.4}. Best is trial 13 with value: 0.6363120811135933.\u001b[0m\n"
     ]
    },
    {
     "name": "stderr",
     "output_type": "stream",
     "text": [
      "\u001b[32m[I 2023-05-30 00:45:25,462]\u001b[0m Trial 16 finished with value: 0.5676233029730194 and parameters: {'n_estimators': 1000, 'max_depth': 11, 'learning_rate': 0.08, 'subsample': 1.0, 'colsample_bytree': 0.8, 'gamma': 0.7000000000000001, 'min_child_weight': 8, 'reg_alpha': 1.5, 'reg_lambda': 0.0}. Best is trial 13 with value: 0.6363120811135933.\u001b[0m\n"
     ]
    },
    {
     "name": "stderr",
     "output_type": "stream",
     "text": [
      "\u001b[32m[I 2023-05-30 00:45:26,066]\u001b[0m Trial 17 finished with value: 0.6314401099845334 and parameters: {'n_estimators': 350, 'max_depth': 3, 'learning_rate': 0.05, 'subsample': 0.9, 'colsample_bytree': 0.9, 'gamma': 1.0, 'min_child_weight': 1, 'reg_alpha': 1.5, 'reg_lambda': 0.8}. Best is trial 13 with value: 0.6363120811135933.\u001b[0m\n"
     ]
    },
    {
     "name": "stderr",
     "output_type": "stream",
     "text": [
      "\u001b[32m[I 2023-05-30 00:45:26,631]\u001b[0m Trial 18 finished with value: 0.6408661282007218 and parameters: {'n_estimators': 200, 'max_depth': 35, 'learning_rate': 0.09999999999999999, 'subsample': 1.0, 'colsample_bytree': 1.0, 'gamma': 0.6000000000000001, 'min_child_weight': 3, 'reg_alpha': 0.7000000000000001, 'reg_lambda': 1.2000000000000002}. Best is trial 18 with value: 0.6408661282007218.\u001b[0m\n"
     ]
    },
    {
     "name": "stderr",
     "output_type": "stream",
     "text": [
      "\u001b[32m[I 2023-05-30 00:45:27,457]\u001b[0m Trial 19 finished with value: 0.5914847912012374 and parameters: {'n_estimators': 500, 'max_depth': 34, 'learning_rate': 0.09, 'subsample': 0.8, 'colsample_bytree': 0.8, 'gamma': 0.6000000000000001, 'min_child_weight': 5, 'reg_alpha': 0.6000000000000001, 'reg_lambda': 1.3}. Best is trial 18 with value: 0.6408661282007218.\u001b[0m\n"
     ]
    },
    {
     "name": "stderr",
     "output_type": "stream",
     "text": [
      "\u001b[32m[I 2023-05-30 00:45:27,862]\u001b[0m Trial 20 finished with value: 0.557853583089878 and parameters: {'n_estimators': 200, 'max_depth': 35, 'learning_rate': 0.060000000000000005, 'subsample': 1.0, 'colsample_bytree': 1.0, 'gamma': 1.0, 'min_child_weight': 9, 'reg_alpha': 0.4, 'reg_lambda': 1.8}. Best is trial 18 with value: 0.6408661282007218.\u001b[0m\n"
     ]
    },
    {
     "name": "stderr",
     "output_type": "stream",
     "text": [
      "\u001b[32m[I 2023-05-30 00:45:28,405]\u001b[0m Trial 21 finished with value: 0.6344990548204159 and parameters: {'n_estimators': 200, 'max_depth': 24, 'learning_rate': 0.09999999999999999, 'subsample': 1.0, 'colsample_bytree': 1.0, 'gamma': 0.2, 'min_child_weight': 3, 'reg_alpha': 1.2000000000000002, 'reg_lambda': 1.2000000000000002}. Best is trial 18 with value: 0.6408661282007218.\u001b[0m\n"
     ]
    },
    {
     "name": "stderr",
     "output_type": "stream",
     "text": [
      "\u001b[32m[I 2023-05-30 00:45:29,058]\u001b[0m Trial 22 finished with value: 0.5965200206221001 and parameters: {'n_estimators': 300, 'max_depth': 21, 'learning_rate': 0.08, 'subsample': 0.9, 'colsample_bytree': 0.9, 'gamma': 0.2, 'min_child_weight': 3, 'reg_alpha': 1.1, 'reg_lambda': 1.2000000000000002}. Best is trial 18 with value: 0.6408661282007218.\u001b[0m\n"
     ]
    },
    {
     "name": "stderr",
     "output_type": "stream",
     "text": [
      "\u001b[32m[I 2023-05-30 00:45:29,911]\u001b[0m Trial 23 finished with value: 0.6348341639456951 and parameters: {'n_estimators': 400, 'max_depth': 24, 'learning_rate': 0.09999999999999999, 'subsample': 1.0, 'colsample_bytree': 1.0, 'gamma': 0.5, 'min_child_weight': 6, 'reg_alpha': 0.7000000000000001, 'reg_lambda': 1.5}. Best is trial 18 with value: 0.6408661282007218.\u001b[0m\n"
     ]
    },
    {
     "name": "stderr",
     "output_type": "stream",
     "text": [
      "\u001b[32m[I 2023-05-30 00:45:30,680]\u001b[0m Trial 24 finished with value: 0.603926791544939 and parameters: {'n_estimators': 400, 'max_depth': 32, 'learning_rate': 0.09, 'subsample': 0.9, 'colsample_bytree': 0.9, 'gamma': 0.8, 'min_child_weight': 6, 'reg_alpha': 0.7000000000000001, 'reg_lambda': 1.5}. Best is trial 18 with value: 0.6408661282007218.\u001b[0m\n"
     ]
    },
    {
     "name": "stderr",
     "output_type": "stream",
     "text": [
      "\u001b[32m[I 2023-05-30 00:45:32,247]\u001b[0m Trial 25 finished with value: 0.6359769719883142 and parameters: {'n_estimators': 550, 'max_depth': 38, 'learning_rate': 0.09999999999999999, 'subsample': 1.0, 'colsample_bytree': 1.0, 'gamma': 0.5, 'min_child_weight': 3, 'reg_alpha': 0.30000000000000004, 'reg_lambda': 1.7000000000000002}. Best is trial 18 with value: 0.6408661282007218.\u001b[0m\n"
     ]
    },
    {
     "name": "stderr",
     "output_type": "stream",
     "text": [
      "\u001b[32m[I 2023-05-30 00:45:33,795]\u001b[0m Trial 26 finished with value: 0.6069513662141262 and parameters: {'n_estimators': 700, 'max_depth': 37, 'learning_rate': 0.06999999999999999, 'subsample': 0.9, 'colsample_bytree': 0.9, 'gamma': 1.1, 'min_child_weight': 3, 'reg_alpha': 0.4, 'reg_lambda': 1.7000000000000002}. Best is trial 18 with value: 0.6408661282007218.\u001b[0m\n"
     ]
    },
    {
     "name": "stderr",
     "output_type": "stream",
     "text": [
      "\u001b[32m[I 2023-05-30 00:45:34,694]\u001b[0m Trial 27 finished with value: 0.539766282866472 and parameters: {'n_estimators': 550, 'max_depth': 42, 'learning_rate': 0.08, 'subsample': 1.0, 'colsample_bytree': 1.0, 'gamma': 0.6000000000000001, 'min_child_weight': 13, 'reg_alpha': 0.30000000000000004, 'reg_lambda': 2.0}. Best is trial 18 with value: 0.6408661282007218.\u001b[0m\n"
     ]
    },
    {
     "name": "stderr",
     "output_type": "stream",
     "text": [
      "\u001b[32m[I 2023-05-30 00:45:35,693]\u001b[0m Trial 28 finished with value: 0.5889585839491323 and parameters: {'n_estimators': 600, 'max_depth': 38, 'learning_rate': 0.09, 'subsample': 0.8, 'colsample_bytree': 0.8, 'gamma': 0.8, 'min_child_weight': 5, 'reg_alpha': 1.0, 'reg_lambda': 1.8}. Best is trial 18 with value: 0.6408661282007218.\u001b[0m\n"
     ]
    },
    {
     "name": "stderr",
     "output_type": "stream",
     "text": [
      "\u001b[32m[I 2023-05-30 00:45:37,556]\u001b[0m Trial 29 finished with value: 0.5901271696167727 and parameters: {'n_estimators': 800, 'max_depth': 30, 'learning_rate': 0.06999999999999999, 'subsample': 0.8, 'colsample_bytree': 0.9, 'gamma': 1.2000000000000002, 'min_child_weight': 2, 'reg_alpha': 0.1, 'reg_lambda': 0.8}. Best is trial 18 with value: 0.6408661282007218.\u001b[0m\n"
     ]
    },
    {
     "name": "stderr",
     "output_type": "stream",
     "text": [
      "\u001b[32m[I 2023-05-30 00:45:37,807]\u001b[0m Trial 30 finished with value: 0.5459786904966488 and parameters: {'n_estimators': 150, 'max_depth': 14, 'learning_rate': 0.09999999999999999, 'subsample': 1.0, 'colsample_bytree': 0.6, 'gamma': 0.4, 'min_child_weight': 13, 'reg_alpha': 0.9, 'reg_lambda': 1.0}. Best is trial 18 with value: 0.6408661282007218.\u001b[0m\n"
     ]
    },
    {
     "name": "stderr",
     "output_type": "stream",
     "text": [
      "\u001b[32m[I 2023-05-30 00:45:38,887]\u001b[0m Trial 31 finished with value: 0.6232771953943976 and parameters: {'n_estimators': 500, 'max_depth': 25, 'learning_rate': 0.09999999999999999, 'subsample': 1.0, 'colsample_bytree': 1.0, 'gamma': 0.6000000000000001, 'min_child_weight': 6, 'reg_alpha': 0.7000000000000001, 'reg_lambda': 1.5}. Best is trial 18 with value: 0.6408661282007218.\u001b[0m\n"
     ]
    },
    {
     "name": "stderr",
     "output_type": "stream",
     "text": [
      "\u001b[32m[I 2023-05-30 00:45:39,768]\u001b[0m Trial 32 finished with value: 0.6215500945179585 and parameters: {'n_estimators': 300, 'max_depth': 50, 'learning_rate': 0.09, 'subsample': 1.0, 'colsample_bytree': 1.0, 'gamma': 0.4, 'min_child_weight': 2, 'reg_alpha': 0.6000000000000001, 'reg_lambda': 1.3}. Best is trial 18 with value: 0.6408661282007218.\u001b[0m\n"
     ]
    },
    {
     "name": "stderr",
     "output_type": "stream",
     "text": [
      "\u001b[32m[I 2023-05-30 00:45:40,728]\u001b[0m Trial 33 finished with value: 0.6021223577934353 and parameters: {'n_estimators': 450, 'max_depth': 46, 'learning_rate': 0.09999999999999999, 'subsample': 0.9, 'colsample_bytree': 1.0, 'gamma': 0.9, 'min_child_weight': 5, 'reg_alpha': 0.0, 'reg_lambda': 1.5}. Best is trial 18 with value: 0.6408661282007218.\u001b[0m\n"
     ]
    },
    {
     "name": "stderr",
     "output_type": "stream",
     "text": [
      "\u001b[32m[I 2023-05-30 00:45:41,742]\u001b[0m Trial 34 finished with value: 0.6172280460560233 and parameters: {'n_estimators': 400, 'max_depth': 16, 'learning_rate': 0.09, 'subsample': 1.0, 'colsample_bytree': 0.9, 'gamma': 0.5, 'min_child_weight': 3, 'reg_alpha': 0.30000000000000004, 'reg_lambda': 1.8}. Best is trial 18 with value: 0.6408661282007218.\u001b[0m\n"
     ]
    },
    {
     "name": "stderr",
     "output_type": "stream",
     "text": [
      "\u001b[32m[I 2023-05-30 00:45:42,290]\u001b[0m Trial 35 finished with value: 0.562072521051727 and parameters: {'n_estimators': 300, 'max_depth': 34, 'learning_rate': 0.08, 'subsample': 0.9, 'colsample_bytree': 1.0, 'gamma': 0.7000000000000001, 'min_child_weight': 9, 'reg_alpha': 0.8, 'reg_lambda': 1.4000000000000001}. Best is trial 18 with value: 0.6408661282007218.\u001b[0m\n"
     ]
    },
    {
     "name": "stderr",
     "output_type": "stream",
     "text": [
      "\u001b[32m[I 2023-05-30 00:45:43,407]\u001b[0m Trial 36 finished with value: 0.5806753737755628 and parameters: {'n_estimators': 550, 'max_depth': 23, 'learning_rate': 0.09999999999999999, 'subsample': 0.7, 'colsample_bytree': 0.9, 'gamma': 0.30000000000000004, 'min_child_weight': 2, 'reg_alpha': 0.5, 'reg_lambda': 1.6}. Best is trial 18 with value: 0.6408661282007218.\u001b[0m\n"
     ]
    },
    {
     "name": "stderr",
     "output_type": "stream",
     "text": [
      "\u001b[32m[I 2023-05-30 00:45:44,154]\u001b[0m Trial 37 finished with value: 0.6260182161883485 and parameters: {'n_estimators': 400, 'max_depth': 28, 'learning_rate': 0.09, 'subsample': 1.0, 'colsample_bytree': 0.6, 'gamma': 0.5, 'min_child_weight': 4, 'reg_alpha': 1.5, 'reg_lambda': 0.30000000000000004}. Best is trial 18 with value: 0.6408661282007218.\u001b[0m\n"
     ]
    },
    {
     "name": "stderr",
     "output_type": "stream",
     "text": [
      "\u001b[32m[I 2023-05-30 00:45:44,706]\u001b[0m Trial 38 finished with value: 0.6192043306410036 and parameters: {'n_estimators': 250, 'max_depth': 40, 'learning_rate': 0.06999999999999999, 'subsample': 0.9, 'colsample_bytree': 1.0, 'gamma': 0.9, 'min_child_weight': 6, 'reg_alpha': 0.9, 'reg_lambda': 1.9000000000000001}. Best is trial 18 with value: 0.6408661282007218.\u001b[0m\n"
     ]
    },
    {
     "name": "stderr",
     "output_type": "stream",
     "text": [
      "\u001b[32m[I 2023-05-30 00:45:45,619]\u001b[0m Trial 39 finished with value: 0.5647705791373088 and parameters: {'n_estimators': 500, 'max_depth': 9, 'learning_rate': 0.03, 'subsample': 1.0, 'colsample_bytree': 0.9, 'gamma': 1.2000000000000002, 'min_child_weight': 8, 'reg_alpha': 0.2, 'reg_lambda': 1.6}. Best is trial 18 with value: 0.6408661282007218.\u001b[0m\n"
     ]
    },
    {
     "name": "stderr",
     "output_type": "stream",
     "text": [
      "\u001b[32m[I 2023-05-30 00:45:45,854]\u001b[0m Trial 40 finished with value: 0.5 and parameters: {'n_estimators': 150, 'max_depth': 43, 'learning_rate': 0.05, 'subsample': 0.6, 'colsample_bytree': 1.0, 'gamma': 0.2, 'min_child_weight': 20, 'reg_alpha': 0.6000000000000001, 'reg_lambda': 1.1}. Best is trial 18 with value: 0.6408661282007218.\u001b[0m\n"
     ]
    },
    {
     "name": "stderr",
     "output_type": "stream",
     "text": [
      "\u001b[32m[I 2023-05-30 00:45:46,409]\u001b[0m Trial 41 finished with value: 0.6400154665750128 and parameters: {'n_estimators': 200, 'max_depth': 23, 'learning_rate': 0.09999999999999999, 'subsample': 1.0, 'colsample_bytree': 1.0, 'gamma': 0.30000000000000004, 'min_child_weight': 3, 'reg_alpha': 1.2000000000000002, 'reg_lambda': 1.3}. Best is trial 18 with value: 0.6408661282007218.\u001b[0m\n"
     ]
    },
    {
     "name": "stderr",
     "output_type": "stream",
     "text": [
      "\u001b[32m[I 2023-05-30 00:45:46,837]\u001b[0m Trial 42 finished with value: 0.6135676233029731 and parameters: {'n_estimators': 150, 'max_depth': 31, 'learning_rate': 0.09999999999999999, 'subsample': 1.0, 'colsample_bytree': 1.0, 'gamma': 0.30000000000000004, 'min_child_weight': 2, 'reg_alpha': 1.4000000000000001, 'reg_lambda': 1.4000000000000001}. Best is trial 18 with value: 0.6408661282007218.\u001b[0m\n"
     ]
    },
    {
     "name": "stderr",
     "output_type": "stream",
     "text": [
      "\u001b[32m[I 2023-05-30 00:45:47,649]\u001b[0m Trial 43 finished with value: 0.6330211376525176 and parameters: {'n_estimators': 300, 'max_depth': 7, 'learning_rate': 0.09999999999999999, 'subsample': 1.0, 'colsample_bytree': 1.0, 'gamma': 0.7000000000000001, 'min_child_weight': 3, 'reg_alpha': 1.0, 'reg_lambda': 1.3}. Best is trial 18 with value: 0.6408661282007218.\u001b[0m\n"
     ]
    },
    {
     "name": "stderr",
     "output_type": "stream",
     "text": [
      "\u001b[32m[I 2023-05-30 00:45:48,429]\u001b[0m Trial 44 finished with value: 0.6179154493899295 and parameters: {'n_estimators': 350, 'max_depth': 16, 'learning_rate': 0.08, 'subsample': 0.9, 'colsample_bytree': 1.0, 'gamma': 0.4, 'min_child_weight': 4, 'reg_alpha': 1.7000000000000002, 'reg_lambda': 1.1}. Best is trial 18 with value: 0.6408661282007218.\u001b[0m\n"
     ]
    },
    {
     "name": "stderr",
     "output_type": "stream",
     "text": [
      "\u001b[32m[I 2023-05-30 00:45:49,205]\u001b[0m Trial 45 finished with value: 0.641252792576044 and parameters: {'n_estimators': 200, 'max_depth': 21, 'learning_rate': 0.09, 'subsample': 1.0, 'colsample_bytree': 1.0, 'gamma': 0.5, 'min_child_weight': 1, 'reg_alpha': 1.1, 'reg_lambda': 1.7000000000000002}. Best is trial 45 with value: 0.641252792576044.\u001b[0m\n"
     ]
    },
    {
     "name": "stderr",
     "output_type": "stream",
     "text": [
      "\u001b[32m[I 2023-05-30 00:45:49,568]\u001b[0m Trial 46 finished with value: 0.6391476198659564 and parameters: {'n_estimators': 100, 'max_depth': 46, 'learning_rate': 0.09, 'subsample': 1.0, 'colsample_bytree': 0.9, 'gamma': 0.1, 'min_child_weight': 1, 'reg_alpha': 1.2000000000000002, 'reg_lambda': 1.7000000000000002}. Best is trial 45 with value: 0.641252792576044.\u001b[0m\n"
     ]
    },
    {
     "name": "stderr",
     "output_type": "stream",
     "text": [
      "\u001b[32m[I 2023-05-30 00:45:49,898]\u001b[0m Trial 47 finished with value: 0.6062897405052414 and parameters: {'n_estimators': 100, 'max_depth': 45, 'learning_rate': 0.09, 'subsample': 0.9, 'colsample_bytree': 0.9, 'gamma': 0.0, 'min_child_weight': 1, 'reg_alpha': 1.2000000000000002, 'reg_lambda': 0.7000000000000001}. Best is trial 45 with value: 0.641252792576044.\u001b[0m\n"
     ]
    },
    {
     "name": "stderr",
     "output_type": "stream",
     "text": [
      "\u001b[32m[I 2023-05-30 00:45:50,394]\u001b[0m Trial 48 finished with value: 0.6219969066849974 and parameters: {'n_estimators': 150, 'max_depth': 20, 'learning_rate': 0.08, 'subsample': 1.0, 'colsample_bytree': 0.9, 'gamma': 0.1, 'min_child_weight': 1, 'reg_alpha': 1.2000000000000002, 'reg_lambda': 0.9}. Best is trial 45 with value: 0.641252792576044.\u001b[0m\n"
     ]
    },
    {
     "name": "stderr",
     "output_type": "stream",
     "text": [
      "\u001b[32m[I 2023-05-30 00:45:50,836]\u001b[0m Trial 49 finished with value: 0.6045970097954976 and parameters: {'n_estimators': 200, 'max_depth': 48, 'learning_rate': 0.060000000000000005, 'subsample': 0.7, 'colsample_bytree': 0.8, 'gamma': 0.1, 'min_child_weight': 2, 'reg_alpha': 1.4000000000000001, 'reg_lambda': 2.0}. Best is trial 45 with value: 0.641252792576044.\u001b[0m\n"
     ]
    },
    {
     "name": "stderr",
     "output_type": "stream",
     "text": [
      "\u001b[32m[I 2023-05-30 00:45:51,084]\u001b[0m Trial 50 finished with value: 0.6130606633442172 and parameters: {'n_estimators': 100, 'max_depth': 27, 'learning_rate': 0.09, 'subsample': 0.5, 'colsample_bytree': 0.7, 'gamma': 0.1, 'min_child_weight': 1, 'reg_alpha': 1.1, 'reg_lambda': 1.7000000000000002}. Best is trial 45 with value: 0.641252792576044.\u001b[0m\n"
     ]
    },
    {
     "name": "stderr",
     "output_type": "stream",
     "text": [
      "\u001b[32m[I 2023-05-30 00:45:51,858]\u001b[0m Trial 51 finished with value: 0.6351434954459528 and parameters: {'n_estimators': 250, 'max_depth': 37, 'learning_rate': 0.09999999999999999, 'subsample': 1.0, 'colsample_bytree': 1.0, 'gamma': 0.30000000000000004, 'min_child_weight': 2, 'reg_alpha': 1.4000000000000001, 'reg_lambda': 1.9000000000000001}. Best is trial 45 with value: 0.641252792576044.\u001b[0m\n"
     ]
    },
    {
     "name": "stderr",
     "output_type": "stream",
     "text": [
      "\u001b[32m[I 2023-05-30 00:45:53,965]\u001b[0m Trial 52 finished with value: 0.6078535830898779 and parameters: {'n_estimators': 800, 'max_depth': 47, 'learning_rate': 0.09, 'subsample': 1.0, 'colsample_bytree': 1.0, 'gamma': 0.6000000000000001, 'min_child_weight': 3, 'reg_alpha': 1.6, 'reg_lambda': 1.7000000000000002}. Best is trial 45 with value: 0.641252792576044.\u001b[0m\n"
     ]
    },
    {
     "name": "stderr",
     "output_type": "stream",
     "text": [
      "\u001b[32m[I 2023-05-30 00:45:54,293]\u001b[0m Trial 53 finished with value: 0.4960818009967348 and parameters: {'n_estimators': 200, 'max_depth': 41, 'learning_rate': 0.09999999999999999, 'subsample': 1.0, 'colsample_bytree': 1.0, 'gamma': 2.0, 'min_child_weight': 17, 'reg_alpha': 1.3, 'reg_lambda': 1.9000000000000001}. Best is trial 45 with value: 0.641252792576044.\u001b[0m\n"
     ]
    },
    {
     "name": "stderr",
     "output_type": "stream",
     "text": [
      "\u001b[32m[I 2023-05-30 00:45:54,603]\u001b[0m Trial 54 finished with value: 0.6128114796356762 and parameters: {'n_estimators': 150, 'max_depth': 18, 'learning_rate': 0.09999999999999999, 'subsample': 1.0, 'colsample_bytree': 0.5, 'gamma': 0.4, 'min_child_weight': 4, 'reg_alpha': 1.1, 'reg_lambda': 1.6}. Best is trial 45 with value: 0.641252792576044.\u001b[0m\n"
     ]
    },
    {
     "name": "stderr",
     "output_type": "stream",
     "text": [
      "\u001b[32m[I 2023-05-30 00:45:55,417]\u001b[0m Trial 55 finished with value: 0.6181474480151229 and parameters: {'n_estimators': 250, 'max_depth': 22, 'learning_rate': 0.09, 'subsample': 0.9, 'colsample_bytree': 1.0, 'gamma': 0.7000000000000001, 'min_child_weight': 1, 'reg_alpha': 0.9, 'reg_lambda': 1.2000000000000002}. Best is trial 45 with value: 0.641252792576044.\u001b[0m\n"
     ]
    },
    {
     "name": "stderr",
     "output_type": "stream",
     "text": [
      "\u001b[32m[I 2023-05-30 00:45:55,747]\u001b[0m Trial 56 finished with value: 0.6192988485994158 and parameters: {'n_estimators': 100, 'max_depth': 32, 'learning_rate': 0.08, 'subsample': 1.0, 'colsample_bytree': 0.9, 'gamma': 0.30000000000000004, 'min_child_weight': 2, 'reg_alpha': 1.2000000000000002, 'reg_lambda': 0.2}. Best is trial 45 with value: 0.641252792576044.\u001b[0m\n"
     ]
    },
    {
     "name": "stderr",
     "output_type": "stream",
     "text": [
      "\u001b[32m[I 2023-05-30 00:45:58,021]\u001b[0m Trial 57 finished with value: 0.6267313971472761 and parameters: {'n_estimators': 950, 'max_depth': 35, 'learning_rate': 0.09999999999999999, 'subsample': 1.0, 'colsample_bytree': 1.0, 'gamma': 0.2, 'min_child_weight': 4, 'reg_alpha': 1.3, 'reg_lambda': 1.4000000000000001}. Best is trial 45 with value: 0.641252792576044.\u001b[0m\n"
     ]
    },
    {
     "name": "stderr",
     "output_type": "stream",
     "text": [
      "\u001b[32m[I 2023-05-30 00:45:58,471]\u001b[0m Trial 58 finished with value: 0.6209915793091596 and parameters: {'n_estimators': 200, 'max_depth': 44, 'learning_rate': 0.09, 'subsample': 0.9, 'colsample_bytree': 0.9, 'gamma': 0.6000000000000001, 'min_child_weight': 5, 'reg_alpha': 1.0, 'reg_lambda': 1.7000000000000002}. Best is trial 45 with value: 0.641252792576044.\u001b[0m\n"
     ]
    },
    {
     "name": "stderr",
     "output_type": "stream",
     "text": [
      "\u001b[32m[I 2023-05-30 00:45:59,081]\u001b[0m Trial 59 finished with value: 0.5540900498367417 and parameters: {'n_estimators': 350, 'max_depth': 12, 'learning_rate': 0.09999999999999999, 'subsample': 1.0, 'colsample_bytree': 1.0, 'gamma': 0.5, 'min_child_weight': 12, 'reg_alpha': 1.1, 'reg_lambda': 0.0}. Best is trial 45 with value: 0.641252792576044.\u001b[0m\n"
     ]
    },
    {
     "name": "stderr",
     "output_type": "stream",
     "text": [
      "\u001b[32m[I 2023-05-30 00:45:59,662]\u001b[0m Trial 60 finished with value: 0.6486681560405568 and parameters: {'n_estimators': 150, 'max_depth': 26, 'learning_rate': 0.04, 'subsample': 1.0, 'colsample_bytree': 1.0, 'gamma': 0.9, 'min_child_weight': 1, 'reg_alpha': 0.8, 'reg_lambda': 0.9}. Best is trial 60 with value: 0.6486681560405568.\u001b[0m\n"
     ]
    },
    {
     "name": "stderr",
     "output_type": "stream",
     "text": [
      "\u001b[32m[I 2023-05-30 00:46:00,242]\u001b[0m Trial 61 finished with value: 0.6514177693761815 and parameters: {'n_estimators': 150, 'max_depth': 28, 'learning_rate': 0.04, 'subsample': 1.0, 'colsample_bytree': 1.0, 'gamma': 0.9, 'min_child_weight': 1, 'reg_alpha': 0.8, 'reg_lambda': 0.6000000000000001}. Best is trial 61 with value: 0.6514177693761815.\u001b[0m\n"
     ]
    },
    {
     "name": "stderr",
     "output_type": "stream",
     "text": [
      "\u001b[32m[I 2023-05-30 00:46:00,848]\u001b[0m Trial 62 finished with value: 0.6444749957037292 and parameters: {'n_estimators': 150, 'max_depth': 26, 'learning_rate': 0.04, 'subsample': 1.0, 'colsample_bytree': 1.0, 'gamma': 0.9, 'min_child_weight': 1, 'reg_alpha': 0.8, 'reg_lambda': 0.7000000000000001}. Best is trial 61 with value: 0.6514177693761815.\u001b[0m\n"
     ]
    },
    {
     "name": "stderr",
     "output_type": "stream",
     "text": [
      "\u001b[32m[I 2023-05-30 00:46:01,453]\u001b[0m Trial 63 finished with value: 0.6514177693761815 and parameters: {'n_estimators': 150, 'max_depth': 25, 'learning_rate': 0.04, 'subsample': 1.0, 'colsample_bytree': 1.0, 'gamma': 0.9, 'min_child_weight': 1, 'reg_alpha': 0.8, 'reg_lambda': 0.6000000000000001}. Best is trial 61 with value: 0.6514177693761815.\u001b[0m\n"
     ]
    },
    {
     "name": "stderr",
     "output_type": "stream",
     "text": [
      "\u001b[32m[I 2023-05-30 00:46:02,024]\u001b[0m Trial 64 finished with value: 0.637222890531019 and parameters: {'n_estimators': 150, 'max_depth': 26, 'learning_rate': 0.04, 'subsample': 1.0, 'colsample_bytree': 1.0, 'gamma': 0.9, 'min_child_weight': 2, 'reg_alpha': 0.8, 'reg_lambda': 0.6000000000000001}. Best is trial 61 with value: 0.6514177693761815.\u001b[0m\n"
     ]
    },
    {
     "name": "stderr",
     "output_type": "stream",
     "text": [
      "\u001b[32m[I 2023-05-30 00:46:02,767]\u001b[0m Trial 65 finished with value: 0.6250386664375321 and parameters: {'n_estimators': 200, 'max_depth': 29, 'learning_rate': 0.04, 'subsample': 0.9, 'colsample_bytree': 1.0, 'gamma': 1.1, 'min_child_weight': 1, 'reg_alpha': 0.8, 'reg_lambda': 0.7000000000000001}. Best is trial 61 with value: 0.6514177693761815.\u001b[0m\n"
     ]
    },
    {
     "name": "stderr",
     "output_type": "stream",
     "text": [
      "\u001b[32m[I 2023-05-30 00:46:03,277]\u001b[0m Trial 66 finished with value: 0.6366128200721773 and parameters: {'n_estimators': 150, 'max_depth': 25, 'learning_rate': 0.03, 'subsample': 1.0, 'colsample_bytree': 1.0, 'gamma': 1.1, 'min_child_weight': 2, 'reg_alpha': 0.7000000000000001, 'reg_lambda': 0.9}. Best is trial 61 with value: 0.6514177693761815.\u001b[0m\n"
     ]
    },
    {
     "name": "stderr",
     "output_type": "stream",
     "text": [
      "\u001b[32m[I 2023-05-30 00:46:03,869]\u001b[0m Trial 67 finished with value: 0.6030159821275133 and parameters: {'n_estimators': 200, 'max_depth': 22, 'learning_rate': 0.02, 'subsample': 1.0, 'colsample_bytree': 1.0, 'gamma': 1.5, 'min_child_weight': 3, 'reg_alpha': 0.9, 'reg_lambda': 0.6000000000000001}. Best is trial 61 with value: 0.6514177693761815.\u001b[0m\n"
     ]
    },
    {
     "name": "stderr",
     "output_type": "stream",
     "text": [
      "\u001b[32m[I 2023-05-30 00:46:04,758]\u001b[0m Trial 68 finished with value: 0.6293693074411412 and parameters: {'n_estimators': 250, 'max_depth': 27, 'learning_rate': 0.04, 'subsample': 0.9, 'colsample_bytree': 1.0, 'gamma': 1.3, 'min_child_weight': 1, 'reg_alpha': 0.5, 'reg_lambda': 0.8}. Best is trial 61 with value: 0.6514177693761815.\u001b[0m\n"
     ]
    },
    {
     "name": "stderr",
     "output_type": "stream",
     "text": [
      "\u001b[32m[I 2023-05-30 00:46:04,996]\u001b[0m Trial 69 finished with value: 0.5 and parameters: {'n_estimators': 150, 'max_depth': 18, 'learning_rate': 0.05, 'subsample': 0.6, 'colsample_bytree': 1.0, 'gamma': 1.0, 'min_child_weight': 15, 'reg_alpha': 0.8, 'reg_lambda': 0.7000000000000001}. Best is trial 61 with value: 0.6514177693761815.\u001b[0m\n"
     ]
    },
    {
     "name": "stderr",
     "output_type": "stream",
     "text": [
      "\u001b[32m[I 2023-05-30 00:46:05,353]\u001b[0m Trial 70 finished with value: 0.6372057054476714 and parameters: {'n_estimators': 100, 'max_depth': 24, 'learning_rate': 0.03, 'subsample': 1.0, 'colsample_bytree': 1.0, 'gamma': 0.9, 'min_child_weight': 3, 'reg_alpha': 0.6000000000000001, 'reg_lambda': 1.0}. Best is trial 61 with value: 0.6514177693761815.\u001b[0m\n"
     ]
    },
    {
     "name": "stderr",
     "output_type": "stream",
     "text": [
      "\u001b[32m[I 2023-05-30 00:46:05,743]\u001b[0m Trial 71 finished with value: 0.651692730709744 and parameters: {'n_estimators': 100, 'max_depth': 20, 'learning_rate': 0.04, 'subsample': 1.0, 'colsample_bytree': 0.9, 'gamma': 0.8, 'min_child_weight': 1, 'reg_alpha': 1.0, 'reg_lambda': 0.4}. Best is trial 71 with value: 0.651692730709744.\u001b[0m\n"
     ]
    },
    {
     "name": "stderr",
     "output_type": "stream",
     "text": [
      "\u001b[32m[I 2023-05-30 00:46:06,395]\u001b[0m Trial 72 finished with value: 0.6452569169960474 and parameters: {'n_estimators': 200, 'max_depth': 20, 'learning_rate': 0.04, 'subsample': 1.0, 'colsample_bytree': 1.0, 'gamma': 0.8, 'min_child_weight': 2, 'reg_alpha': 1.0, 'reg_lambda': 0.4}. Best is trial 71 with value: 0.651692730709744.\u001b[0m\n"
     ]
    },
    {
     "name": "stderr",
     "output_type": "stream",
     "text": [
      "\u001b[32m[I 2023-05-30 00:46:06,870]\u001b[0m Trial 73 finished with value: 0.6436243340780202 and parameters: {'n_estimators': 100, 'max_depth': 16, 'learning_rate': 0.04, 'subsample': 1.0, 'colsample_bytree': 1.0, 'gamma': 0.8, 'min_child_weight': 1, 'reg_alpha': 0.7000000000000001, 'reg_lambda': 0.4}. Best is trial 71 with value: 0.651692730709744.\u001b[0m\n"
     ]
    },
    {
     "name": "stderr",
     "output_type": "stream",
     "text": [
      "\u001b[32m[I 2023-05-30 00:46:07,336]\u001b[0m Trial 74 finished with value: 0.6518559890015466 and parameters: {'n_estimators': 100, 'max_depth': 16, 'learning_rate': 0.04, 'subsample': 1.0, 'colsample_bytree': 1.0, 'gamma': 0.8, 'min_child_weight': 1, 'reg_alpha': 0.9, 'reg_lambda': 0.4}. Best is trial 74 with value: 0.6518559890015466.\u001b[0m\n"
     ]
    },
    {
     "name": "stderr",
     "output_type": "stream",
     "text": [
      "\u001b[32m[I 2023-05-30 00:46:07,682]\u001b[0m Trial 75 finished with value: 0.6354700120295582 and parameters: {'n_estimators': 100, 'max_depth': 14, 'learning_rate': 0.04, 'subsample': 1.0, 'colsample_bytree': 0.9, 'gamma': 0.8, 'min_child_weight': 2, 'reg_alpha': 0.9, 'reg_lambda': 0.4}. Best is trial 74 with value: 0.6518559890015466.\u001b[0m\n"
     ]
    },
    {
     "name": "stderr",
     "output_type": "stream",
     "text": [
      "\u001b[32m[I 2023-05-30 00:46:08,256]\u001b[0m Trial 76 finished with value: 0.6428939680357451 and parameters: {'n_estimators': 150, 'max_depth': 16, 'learning_rate': 0.04, 'subsample': 1.0, 'colsample_bytree': 1.0, 'gamma': 1.0, 'min_child_weight': 1, 'reg_alpha': 1.0, 'reg_lambda': 0.4}. Best is trial 74 with value: 0.6518559890015466.\u001b[0m\n"
     ]
    },
    {
     "name": "stderr",
     "output_type": "stream",
     "text": [
      "\u001b[32m[I 2023-05-30 00:46:08,587]\u001b[0m Trial 77 finished with value: 0.6351520879876267 and parameters: {'n_estimators': 100, 'max_depth': 19, 'learning_rate': 0.05, 'subsample': 1.0, 'colsample_bytree': 0.8, 'gamma': 0.8, 'min_child_weight': 2, 'reg_alpha': 0.8, 'reg_lambda': 0.30000000000000004}. Best is trial 74 with value: 0.6518559890015466.\u001b[0m\n"
     ]
    },
    {
     "name": "stderr",
     "output_type": "stream",
     "text": [
      "\u001b[32m[I 2023-05-30 00:46:08,954]\u001b[0m Trial 78 finished with value: 0.6211032823509194 and parameters: {'n_estimators': 100, 'max_depth': 17, 'learning_rate': 0.04, 'subsample': 0.8, 'colsample_bytree': 0.9, 'gamma': 0.9, 'min_child_weight': 1, 'reg_alpha': 0.7000000000000001, 'reg_lambda': 0.5}. Best is trial 74 with value: 0.6518559890015466.\u001b[0m\n"
     ]
    },
    {
     "name": "stderr",
     "output_type": "stream",
     "text": [
      "\u001b[32m[I 2023-05-30 00:46:09,367]\u001b[0m Trial 79 finished with value: 0.6406513146588761 and parameters: {'n_estimators': 150, 'max_depth': 14, 'learning_rate': 0.02, 'subsample': 1.0, 'colsample_bytree': 0.7, 'gamma': 1.1, 'min_child_weight': 2, 'reg_alpha': 0.9, 'reg_lambda': 0.30000000000000004}. Best is trial 74 with value: 0.6518559890015466.\u001b[0m\n"
     ]
    },
    {
     "name": "stderr",
     "output_type": "stream",
     "text": [
      "\u001b[32m[I 2023-05-30 00:46:09,783]\u001b[0m Trial 80 finished with value: 0.6348685341123905 and parameters: {'n_estimators': 100, 'max_depth': 20, 'learning_rate': 0.03, 'subsample': 0.9, 'colsample_bytree': 1.0, 'gamma': 0.7000000000000001, 'min_child_weight': 1, 'reg_alpha': 0.6000000000000001, 'reg_lambda': 0.2}. Best is trial 74 with value: 0.6518559890015466.\u001b[0m\n"
     ]
    },
    {
     "name": "stderr",
     "output_type": "stream",
     "text": [
      "\u001b[32m[I 2023-05-30 00:46:10,355]\u001b[0m Trial 81 finished with value: 0.6422065647018388 and parameters: {'n_estimators': 150, 'max_depth': 15, 'learning_rate': 0.05, 'subsample': 1.0, 'colsample_bytree': 1.0, 'gamma': 1.0, 'min_child_weight': 1, 'reg_alpha': 1.0, 'reg_lambda': 0.5}. Best is trial 74 with value: 0.6518559890015466.\u001b[0m\n"
     ]
    },
    {
     "name": "stderr",
     "output_type": "stream",
     "text": [
      "\u001b[32m[I 2023-05-30 00:46:10,840]\u001b[0m Trial 82 finished with value: 0.6387351778656127 and parameters: {'n_estimators': 150, 'max_depth': 17, 'learning_rate': 0.04, 'subsample': 1.0, 'colsample_bytree': 1.0, 'gamma': 1.0, 'min_child_weight': 2, 'reg_alpha': 1.0, 'reg_lambda': 0.4}. Best is trial 74 with value: 0.6518559890015466.\u001b[0m\n"
     ]
    },
    {
     "name": "stderr",
     "output_type": "stream",
     "text": [
      "\u001b[32m[I 2023-05-30 00:46:11,251]\u001b[0m Trial 83 finished with value: 0.648109640831758 and parameters: {'n_estimators': 100, 'max_depth': 25, 'learning_rate': 0.03, 'subsample': 1.0, 'colsample_bytree': 1.0, 'gamma': 0.9, 'min_child_weight': 1, 'reg_alpha': 0.8, 'reg_lambda': 0.6000000000000001}. Best is trial 74 with value: 0.6518559890015466.\u001b[0m\n"
     ]
    },
    {
     "name": "stderr",
     "output_type": "stream",
     "text": [
      "\u001b[32m[I 2023-05-30 00:46:11,671]\u001b[0m Trial 84 finished with value: 0.6514693246262244 and parameters: {'n_estimators': 100, 'max_depth': 26, 'learning_rate': 0.03, 'subsample': 1.0, 'colsample_bytree': 1.0, 'gamma': 0.9, 'min_child_weight': 1, 'reg_alpha': 0.7000000000000001, 'reg_lambda': 0.6000000000000001}. Best is trial 74 with value: 0.6518559890015466.\u001b[0m\n"
     ]
    },
    {
     "name": "stderr",
     "output_type": "stream",
     "text": [
      "\u001b[32m[I 2023-05-30 00:46:12,007]\u001b[0m Trial 85 finished with value: 0.6388125107406772 and parameters: {'n_estimators': 100, 'max_depth': 26, 'learning_rate': 0.03, 'subsample': 1.0, 'colsample_bytree': 1.0, 'gamma': 0.8, 'min_child_weight': 3, 'reg_alpha': 0.8, 'reg_lambda': 0.7000000000000001}. Best is trial 74 with value: 0.6518559890015466.\u001b[0m\n"
     ]
    },
    {
     "name": "stderr",
     "output_type": "stream",
     "text": [
      "\u001b[32m[I 2023-05-30 00:46:12,466]\u001b[0m Trial 86 finished with value: 0.6469496477057913 and parameters: {'n_estimators': 150, 'max_depth': 25, 'learning_rate': 0.03, 'subsample': 1.0, 'colsample_bytree': 0.9, 'gamma': 0.9, 'min_child_weight': 2, 'reg_alpha': 0.9, 'reg_lambda': 0.6000000000000001}. Best is trial 74 with value: 0.6518559890015466.\u001b[0m\n"
     ]
    },
    {
     "name": "stderr",
     "output_type": "stream",
     "text": [
      "\u001b[32m[I 2023-05-30 00:46:13,166]\u001b[0m Trial 87 finished with value: 0.650747551125623 and parameters: {'n_estimators': 250, 'max_depth': 29, 'learning_rate': 0.02, 'subsample': 1.0, 'colsample_bytree': 0.9, 'gamma': 0.9, 'min_child_weight': 2, 'reg_alpha': 0.9, 'reg_lambda': 0.6000000000000001}. Best is trial 74 with value: 0.6518559890015466.\u001b[0m\n"
     ]
    },
    {
     "name": "stderr",
     "output_type": "stream",
     "text": [
      "\u001b[32m[I 2023-05-30 00:46:13,799]\u001b[0m Trial 88 finished with value: 0.6233888984361574 and parameters: {'n_estimators': 250, 'max_depth': 30, 'learning_rate': 0.01, 'subsample': 0.9, 'colsample_bytree': 0.9, 'gamma': 0.9, 'min_child_weight': 3, 'reg_alpha': 0.9, 'reg_lambda': 0.6000000000000001}. Best is trial 74 with value: 0.6518559890015466.\u001b[0m\n"
     ]
    },
    {
     "name": "stderr",
     "output_type": "stream",
     "text": [
      "\u001b[32m[I 2023-05-30 00:46:14,104]\u001b[0m Trial 89 finished with value: 0.6154236123045197 and parameters: {'n_estimators': 100, 'max_depth': 28, 'learning_rate': 0.02, 'subsample': 1.0, 'colsample_bytree': 0.8, 'gamma': 1.1, 'min_child_weight': 4, 'reg_alpha': 0.5, 'reg_lambda': 0.5}. Best is trial 74 with value: 0.6518559890015466.\u001b[0m\n"
     ]
    },
    {
     "name": "stderr",
     "output_type": "stream",
     "text": [
      "\u001b[32m[I 2023-05-30 00:46:14,379]\u001b[0m Trial 90 finished with value: 0.5023973191269977 and parameters: {'n_estimators': 150, 'max_depth': 29, 'learning_rate': 0.03, 'subsample': 1.0, 'colsample_bytree': 0.9, 'gamma': 0.7000000000000001, 'min_child_weight': 19, 'reg_alpha': 0.7000000000000001, 'reg_lambda': 0.8}. Best is trial 74 with value: 0.6518559890015466.\u001b[0m\n"
     ]
    },
    {
     "name": "stderr",
     "output_type": "stream",
     "text": [
      "\u001b[32m[I 2023-05-30 00:46:14,975]\u001b[0m Trial 91 finished with value: 0.6499054820415878 and parameters: {'n_estimators': 200, 'max_depth': 24, 'learning_rate': 0.02, 'subsample': 1.0, 'colsample_bytree': 0.9, 'gamma': 0.9, 'min_child_weight': 2, 'reg_alpha': 0.9, 'reg_lambda': 0.5}. Best is trial 74 with value: 0.6518559890015466.\u001b[0m\n"
     ]
    },
    {
     "name": "stderr",
     "output_type": "stream",
     "text": [
      "\u001b[32m[I 2023-05-30 00:46:15,579]\u001b[0m Trial 92 finished with value: 0.6496133356246778 and parameters: {'n_estimators': 200, 'max_depth': 24, 'learning_rate': 0.02, 'subsample': 1.0, 'colsample_bytree': 0.9, 'gamma': 0.9, 'min_child_weight': 2, 'reg_alpha': 0.9, 'reg_lambda': 0.6000000000000001}. Best is trial 74 with value: 0.6518559890015466.\u001b[0m\n"
     ]
    },
    {
     "name": "stderr",
     "output_type": "stream",
     "text": [
      "\u001b[32m[I 2023-05-30 00:46:16,382]\u001b[0m Trial 93 finished with value: 0.6346107578621757 and parameters: {'n_estimators': 250, 'max_depth': 23, 'learning_rate': 0.02, 'subsample': 1.0, 'colsample_bytree': 0.8, 'gamma': 0.9, 'min_child_weight': 1, 'reg_alpha': 0.8, 'reg_lambda': 0.5}. Best is trial 74 with value: 0.6518559890015466.\u001b[0m\n"
     ]
    },
    {
     "name": "stderr",
     "output_type": "stream",
     "text": [
      "\u001b[32m[I 2023-05-30 00:46:17,004]\u001b[0m Trial 94 finished with value: 0.6346537205705447 and parameters: {'n_estimators': 200, 'max_depth': 22, 'learning_rate': 0.01, 'subsample': 1.0, 'colsample_bytree': 0.9, 'gamma': 1.0, 'min_child_weight': 2, 'reg_alpha': 0.9, 'reg_lambda': 0.6000000000000001}. Best is trial 74 with value: 0.6518559890015466.\u001b[0m\n"
     ]
    },
    {
     "name": "stderr",
     "output_type": "stream",
     "text": [
      "\u001b[32m[I 2023-05-30 00:46:17,558]\u001b[0m Trial 95 finished with value: 0.5616085238013404 and parameters: {'n_estimators': 300, 'max_depth': 32, 'learning_rate': 0.02, 'subsample': 1.0, 'colsample_bytree': 0.9, 'gamma': 1.2000000000000002, 'min_child_weight': 10, 'reg_alpha': 0.7000000000000001, 'reg_lambda': 0.30000000000000004}. Best is trial 74 with value: 0.6518559890015466.\u001b[0m\n"
     ]
    },
    {
     "name": "stderr",
     "output_type": "stream",
     "text": [
      "\u001b[32m[I 2023-05-30 00:46:18,177]\u001b[0m Trial 96 finished with value: 0.632857879360715 and parameters: {'n_estimators': 200, 'max_depth': 24, 'learning_rate': 0.02, 'subsample': 1.0, 'colsample_bytree': 0.9, 'gamma': 0.7000000000000001, 'min_child_weight': 2, 'reg_alpha': 0.8, 'reg_lambda': 0.5}. Best is trial 74 with value: 0.6518559890015466.\u001b[0m\n"
     ]
    },
    {
     "name": "stderr",
     "output_type": "stream",
     "text": [
      "\u001b[32m[I 2023-05-30 00:46:18,485]\u001b[0m Trial 97 finished with value: 0.6223234232686028 and parameters: {'n_estimators': 100, 'max_depth': 28, 'learning_rate': 0.03, 'subsample': 1.0, 'colsample_bytree': 0.8, 'gamma': 1.1, 'min_child_weight': 3, 'reg_alpha': 0.9, 'reg_lambda': 0.6000000000000001}. Best is trial 74 with value: 0.6518559890015466.\u001b[0m\n"
     ]
    },
    {
     "name": "stderr",
     "output_type": "stream",
     "text": [
      "\u001b[32m[I 2023-05-30 00:46:19,383]\u001b[0m Trial 98 finished with value: 0.644629661453858 and parameters: {'n_estimators': 250, 'max_depth': 29, 'learning_rate': 0.01, 'subsample': 1.0, 'colsample_bytree': 0.9, 'gamma': 0.8, 'min_child_weight': 1, 'reg_alpha': 0.6000000000000001, 'reg_lambda': 0.8}. Best is trial 74 with value: 0.6518559890015466.\u001b[0m\n"
     ]
    },
    {
     "name": "stderr",
     "output_type": "stream",
     "text": [
      "\u001b[32m[I 2023-05-30 00:46:19,920]\u001b[0m Trial 99 finished with value: 0.6564014435470013 and parameters: {'n_estimators': 150, 'max_depth': 31, 'learning_rate': 0.03, 'subsample': 1.0, 'colsample_bytree': 0.9, 'gamma': 1.0, 'min_child_weight': 1, 'reg_alpha': 1.0, 'reg_lambda': 0.7000000000000001}. Best is trial 99 with value: 0.6564014435470013.\u001b[0m\n"
     ]
    },
    {
     "name": "stderr",
     "output_type": "stream",
     "text": [
      "\u001b[32m[I 2023-05-30 00:46:20,317]\u001b[0m Trial 100 finished with value: 0.6237755628114796 and parameters: {'n_estimators': 150, 'max_depth': 31, 'learning_rate': 0.02, 'subsample': 0.9, 'colsample_bytree': 0.9, 'gamma': 1.0, 'min_child_weight': 4, 'reg_alpha': 1.1, 'reg_lambda': 0.7000000000000001}. Best is trial 99 with value: 0.6564014435470013.\u001b[0m\n"
     ]
    },
    {
     "name": "stderr",
     "output_type": "stream",
     "text": [
      "\u001b[32m[I 2023-05-30 00:46:20,701]\u001b[0m Trial 101 finished with value: 0.6585925416738271 and parameters: {'n_estimators': 100, 'max_depth': 27, 'learning_rate': 0.03, 'subsample': 1.0, 'colsample_bytree': 0.9, 'gamma': 0.9, 'min_child_weight': 1, 'reg_alpha': 1.0, 'reg_lambda': 0.6000000000000001}. Best is trial 101 with value: 0.6585925416738271.\u001b[0m\n"
     ]
    },
    {
     "name": "stderr",
     "output_type": "stream",
     "text": [
      "\u001b[32m[I 2023-05-30 00:46:21,285]\u001b[0m Trial 102 finished with value: 0.640015466575013 and parameters: {'n_estimators': 200, 'max_depth': 27, 'learning_rate': 0.03, 'subsample': 1.0, 'colsample_bytree': 0.9, 'gamma': 0.9, 'min_child_weight': 2, 'reg_alpha': 1.0, 'reg_lambda': 0.9}. Best is trial 101 with value: 0.6585925416738271.\u001b[0m\n"
     ]
    },
    {
     "name": "stderr",
     "output_type": "stream",
     "text": [
      "\u001b[32m[I 2023-05-30 00:46:21,833]\u001b[0m Trial 103 finished with value: 0.6566764048805636 and parameters: {'n_estimators': 150, 'max_depth': 33, 'learning_rate': 0.02, 'subsample': 1.0, 'colsample_bytree': 0.9, 'gamma': 1.0, 'min_child_weight': 1, 'reg_alpha': 0.9, 'reg_lambda': 0.7000000000000001}. Best is trial 101 with value: 0.6585925416738271.\u001b[0m\n"
     ]
    },
    {
     "name": "stderr",
     "output_type": "stream",
     "text": [
      "\u001b[32m[I 2023-05-30 00:46:22,412]\u001b[0m Trial 104 finished with value: 0.6397748754081457 and parameters: {'n_estimators': 200, 'max_depth': 34, 'learning_rate': 0.02, 'subsample': 1.0, 'colsample_bytree': 0.9, 'gamma': 1.0, 'min_child_weight': 2, 'reg_alpha': 1.1, 'reg_lambda': 0.5}. Best is trial 101 with value: 0.6585925416738271.\u001b[0m\n"
     ]
    },
    {
     "name": "stderr",
     "output_type": "stream",
     "text": [
      "\u001b[32m[I 2023-05-30 00:46:22,866]\u001b[0m Trial 105 finished with value: 0.6277625021481354 and parameters: {'n_estimators': 150, 'max_depth': 33, 'learning_rate': 0.02, 'subsample': 1.0, 'colsample_bytree': 0.9, 'gamma': 0.8, 'min_child_weight': 3, 'reg_alpha': 1.0, 'reg_lambda': 0.5}. Best is trial 101 with value: 0.6585925416738271.\u001b[0m\n"
     ]
    },
    {
     "name": "stderr",
     "output_type": "stream",
     "text": [
      "\u001b[32m[I 2023-05-30 00:46:23,245]\u001b[0m Trial 106 finished with value: 0.6497422237497852 and parameters: {'n_estimators': 100, 'max_depth': 30, 'learning_rate': 0.01, 'subsample': 1.0, 'colsample_bytree': 0.9, 'gamma': 0.7000000000000001, 'min_child_weight': 1, 'reg_alpha': 0.9, 'reg_lambda': 0.8}. Best is trial 101 with value: 0.6585925416738271.\u001b[0m\n"
     ]
    },
    {
     "name": "stderr",
     "output_type": "stream",
     "text": [
      "\u001b[32m[I 2023-05-30 00:46:23,591]\u001b[0m Trial 107 finished with value: 0.6367760783639801 and parameters: {'n_estimators': 100, 'max_depth': 31, 'learning_rate': 0.01, 'subsample': 1.0, 'colsample_bytree': 0.8, 'gamma': 1.2000000000000002, 'min_child_weight': 1, 'reg_alpha': 1.0, 'reg_lambda': 0.8}. Best is trial 101 with value: 0.6585925416738271.\u001b[0m\n"
     ]
    },
    {
     "name": "stderr",
     "output_type": "stream",
     "text": [
      "\u001b[32m[I 2023-05-30 00:46:23,970]\u001b[0m Trial 108 finished with value: 0.6470441656642034 and parameters: {'n_estimators': 100, 'max_depth': 30, 'learning_rate': 0.01, 'subsample': 1.0, 'colsample_bytree': 0.9, 'gamma': 0.7000000000000001, 'min_child_weight': 1, 'reg_alpha': 0.9, 'reg_lambda': 0.7000000000000001}. Best is trial 101 with value: 0.6585925416738271.\u001b[0m\n"
     ]
    },
    {
     "name": "stderr",
     "output_type": "stream",
     "text": [
      "\u001b[32m[I 2023-05-30 00:46:24,351]\u001b[0m Trial 109 finished with value: 0.6458583949132153 and parameters: {'n_estimators': 100, 'max_depth': 36, 'learning_rate': 0.03, 'subsample': 1.0, 'colsample_bytree': 0.9, 'gamma': 1.3, 'min_child_weight': 1, 'reg_alpha': 1.1, 'reg_lambda': 0.7000000000000001}. Best is trial 101 with value: 0.6585925416738271.\u001b[0m\n"
     ]
    },
    {
     "name": "stderr",
     "output_type": "stream",
     "text": [
      "\u001b[32m[I 2023-05-30 00:46:24,797]\u001b[0m Trial 110 finished with value: 0.6379360714899467 and parameters: {'n_estimators': 150, 'max_depth': 33, 'learning_rate': 0.05, 'subsample': 1.0, 'colsample_bytree': 0.9, 'gamma': 0.8, 'min_child_weight': 3, 'reg_alpha': 0.7000000000000001, 'reg_lambda': 0.4}. Best is trial 101 with value: 0.6585925416738271.\u001b[0m\n"
     ]
    },
    {
     "name": "stderr",
     "output_type": "stream",
     "text": [
      "\u001b[32m[I 2023-05-30 00:46:25,263]\u001b[0m Trial 111 finished with value: 0.6365183021137654 and parameters: {'n_estimators': 150, 'max_depth': 27, 'learning_rate': 0.02, 'subsample': 1.0, 'colsample_bytree': 0.9, 'gamma': 1.0, 'min_child_weight': 2, 'reg_alpha': 0.9, 'reg_lambda': 0.6000000000000001}. Best is trial 101 with value: 0.6585925416738271.\u001b[0m\n"
     ]
    },
    {
     "name": "stderr",
     "output_type": "stream",
     "text": [
      "\u001b[32m[I 2023-05-30 00:46:25,862]\u001b[0m Trial 112 finished with value: 0.6139113249699261 and parameters: {'n_estimators': 200, 'max_depth': 29, 'learning_rate': 0.02, 'subsample': 1.0, 'colsample_bytree': 0.9, 'gamma': 1.7000000000000002, 'min_child_weight': 2, 'reg_alpha': 0.9, 'reg_lambda': 0.8}. Best is trial 101 with value: 0.6585925416738271.\u001b[0m\n"
     ]
    },
    {
     "name": "stderr",
     "output_type": "stream",
     "text": [
      "\u001b[32m[I 2023-05-30 00:46:27,911]\u001b[0m Trial 113 finished with value: 0.6532479807527066 and parameters: {'n_estimators': 650, 'max_depth': 24, 'learning_rate': 0.01, 'subsample': 1.0, 'colsample_bytree': 0.9, 'gamma': 1.1, 'min_child_weight': 1, 'reg_alpha': 1.0, 'reg_lambda': 0.6000000000000001}. Best is trial 101 with value: 0.6585925416738271.\u001b[0m\n"
     ]
    },
    {
     "name": "stderr",
     "output_type": "stream",
     "text": [
      "\u001b[32m[I 2023-05-30 00:46:30,322]\u001b[0m Trial 114 finished with value: 0.6512974737927479 and parameters: {'n_estimators': 750, 'max_depth': 28, 'learning_rate': 0.01, 'subsample': 1.0, 'colsample_bytree': 0.9, 'gamma': 1.1, 'min_child_weight': 1, 'reg_alpha': 1.1, 'reg_lambda': 0.7000000000000001}. Best is trial 101 with value: 0.6585925416738271.\u001b[0m\n"
     ]
    },
    {
     "name": "stderr",
     "output_type": "stream",
     "text": [
      "\u001b[32m[I 2023-05-30 00:46:32,563]\u001b[0m Trial 115 finished with value: 0.6483416394569514 and parameters: {'n_estimators': 700, 'max_depth': 28, 'learning_rate': 0.01, 'subsample': 1.0, 'colsample_bytree': 0.9, 'gamma': 1.1, 'min_child_weight': 1, 'reg_alpha': 1.1, 'reg_lambda': 0.5}. Best is trial 101 with value: 0.6585925416738271.\u001b[0m\n"
     ]
    },
    {
     "name": "stderr",
     "output_type": "stream",
     "text": [
      "\u001b[32m[I 2023-05-30 00:46:33,789]\u001b[0m Trial 116 finished with value: 0.6128028870940023 and parameters: {'n_estimators': 600, 'max_depth': 25, 'learning_rate': 0.01, 'subsample': 0.5, 'colsample_bytree': 0.8, 'gamma': 1.1, 'min_child_weight': 1, 'reg_alpha': 1.2000000000000002, 'reg_lambda': 0.6000000000000001}. Best is trial 101 with value: 0.6585925416738271.\u001b[0m\n"
     ]
    },
    {
     "name": "stderr",
     "output_type": "stream",
     "text": [
      "\u001b[32m[I 2023-05-30 00:46:35,867]\u001b[0m Trial 117 finished with value: 0.650352294208627 and parameters: {'n_estimators': 800, 'max_depth': 22, 'learning_rate': 0.03, 'subsample': 1.0, 'colsample_bytree': 0.9, 'gamma': 1.0, 'min_child_weight': 2, 'reg_alpha': 1.0, 'reg_lambda': 0.7000000000000001}. Best is trial 101 with value: 0.6585925416738271.\u001b[0m\n"
     ]
    },
    {
     "name": "stderr",
     "output_type": "stream",
     "text": [
      "\u001b[32m[I 2023-05-30 00:46:38,408]\u001b[0m Trial 118 finished with value: 0.6472332015810277 and parameters: {'n_estimators': 800, 'max_depth': 21, 'learning_rate': 0.03, 'subsample': 1.0, 'colsample_bytree': 0.9, 'gamma': 1.3, 'min_child_weight': 1, 'reg_alpha': 1.1, 'reg_lambda': 0.7000000000000001}. Best is trial 101 with value: 0.6585925416738271.\u001b[0m\n"
     ]
    },
    {
     "name": "stderr",
     "output_type": "stream",
     "text": [
      "\u001b[32m[I 2023-05-30 00:46:40,064]\u001b[0m Trial 119 finished with value: 0.6051984877126655 and parameters: {'n_estimators': 750, 'max_depth': 23, 'learning_rate': 0.03, 'subsample': 0.7, 'colsample_bytree': 0.9, 'gamma': 1.2000000000000002, 'min_child_weight': 2, 'reg_alpha': 1.0, 'reg_lambda': 0.7000000000000001}. Best is trial 101 with value: 0.6585925416738271.\u001b[0m\n"
     ]
    },
    {
     "name": "stderr",
     "output_type": "stream",
     "text": [
      "\u001b[32m[I 2023-05-30 00:46:41,107]\u001b[0m Trial 120 finished with value: 0.5384344389070287 and parameters: {'n_estimators': 750, 'max_depth': 33, 'learning_rate': 0.03, 'subsample': 1.0, 'colsample_bytree': 0.9, 'gamma': 1.0, 'min_child_weight': 15, 'reg_alpha': 1.0, 'reg_lambda': 0.2}. Best is trial 101 with value: 0.6585925416738271.\u001b[0m\n"
     ]
    },
    {
     "name": "stderr",
     "output_type": "stream",
     "text": [
      "\u001b[32m[I 2023-05-30 00:46:43,093]\u001b[0m Trial 121 finished with value: 0.642103454201753 and parameters: {'n_estimators': 850, 'max_depth': 22, 'learning_rate': 0.04, 'subsample': 1.0, 'colsample_bytree': 0.6, 'gamma': 1.0, 'min_child_weight': 1, 'reg_alpha': 1.0, 'reg_lambda': 0.6000000000000001}. Best is trial 101 with value: 0.6585925416738271.\u001b[0m\n"
     ]
    },
    {
     "name": "stderr",
     "output_type": "stream",
     "text": [
      "\u001b[32m[I 2023-05-30 00:46:44,733]\u001b[0m Trial 122 finished with value: 0.6398092455748411 and parameters: {'n_estimators': 600, 'max_depth': 26, 'learning_rate': 0.03, 'subsample': 1.0, 'colsample_bytree': 0.9, 'gamma': 1.1, 'min_child_weight': 2, 'reg_alpha': 1.1, 'reg_lambda': 0.5}. Best is trial 101 with value: 0.6585925416738271.\u001b[0m\n"
     ]
    },
    {
     "name": "stderr",
     "output_type": "stream",
     "text": [
      "\u001b[32m[I 2023-05-30 00:46:47,456]\u001b[0m Trial 123 finished with value: 0.627788279773157 and parameters: {'n_estimators': 850, 'max_depth': 24, 'learning_rate': 0.04, 'subsample': 1.0, 'colsample_bytree': 0.9, 'gamma': 0.9, 'min_child_weight': 1, 'reg_alpha': 0.8, 'reg_lambda': 0.4}. Best is trial 101 with value: 0.6585925416738271.\u001b[0m\n"
     ]
    },
    {
     "name": "stderr",
     "output_type": "stream",
     "text": [
      "\u001b[32m[I 2023-05-30 00:46:49,188]\u001b[0m Trial 124 finished with value: 0.635934009279945 and parameters: {'n_estimators': 650, 'max_depth': 27, 'learning_rate': 0.01, 'subsample': 1.0, 'colsample_bytree': 0.9, 'gamma': 1.0, 'min_child_weight': 2, 'reg_alpha': 1.2000000000000002, 'reg_lambda': 0.6000000000000001}. Best is trial 101 with value: 0.6585925416738271.\u001b[0m\n"
     ]
    },
    {
     "name": "stderr",
     "output_type": "stream",
     "text": [
      "\u001b[32m[I 2023-05-30 00:46:51,215]\u001b[0m Trial 125 finished with value: 0.6323165492352637 and parameters: {'n_estimators': 850, 'max_depth': 20, 'learning_rate': 0.02, 'subsample': 1.0, 'colsample_bytree': 0.8, 'gamma': 0.9, 'min_child_weight': 3, 'reg_alpha': 1.0, 'reg_lambda': 0.7000000000000001}. Best is trial 101 with value: 0.6585925416738271.\u001b[0m\n"
     ]
    },
    {
     "name": "stderr",
     "output_type": "stream",
     "text": [
      "\u001b[32m[I 2023-05-30 00:46:53,436]\u001b[0m Trial 126 finished with value: 0.6553961161711634 and parameters: {'n_estimators': 700, 'max_depth': 21, 'learning_rate': 0.04, 'subsample': 1.0, 'colsample_bytree': 0.9, 'gamma': 1.2000000000000002, 'min_child_weight': 1, 'reg_alpha': 1.0, 'reg_lambda': 0.5}. Best is trial 101 with value: 0.6585925416738271.\u001b[0m\n"
     ]
    },
    {
     "name": "stderr",
     "output_type": "stream",
     "text": [
      "\u001b[32m[I 2023-05-30 00:46:55,427]\u001b[0m Trial 127 finished with value: 0.6485306753737754 and parameters: {'n_estimators': 650, 'max_depth': 18, 'learning_rate': 0.04, 'subsample': 1.0, 'colsample_bytree': 0.9, 'gamma': 1.1, 'min_child_weight': 1, 'reg_alpha': 1.1, 'reg_lambda': 0.30000000000000004}. Best is trial 101 with value: 0.6585925416738271.\u001b[0m\n"
     ]
    },
    {
     "name": "stderr",
     "output_type": "stream",
     "text": [
      "\u001b[32m[I 2023-05-30 00:46:57,407]\u001b[0m Trial 128 finished with value: 0.6167812338889843 and parameters: {'n_estimators': 700, 'max_depth': 21, 'learning_rate': 0.05, 'subsample': 1.0, 'colsample_bytree': 0.9, 'gamma': 1.2000000000000002, 'min_child_weight': 1, 'reg_alpha': 2.0, 'reg_lambda': 0.4}. Best is trial 101 with value: 0.6585925416738271.\u001b[0m\n"
     ]
    },
    {
     "name": "stderr",
     "output_type": "stream",
     "text": [
      "\u001b[32m[I 2023-05-30 00:46:59,787]\u001b[0m Trial 129 finished with value: 0.6131294036776078 and parameters: {'n_estimators': 750, 'max_depth': 23, 'learning_rate': 0.04, 'subsample': 0.9, 'colsample_bytree': 0.9, 'gamma': 1.1, 'min_child_weight': 1, 'reg_alpha': 1.0, 'reg_lambda': 0.6000000000000001}. Best is trial 101 with value: 0.6585925416738271.\u001b[0m\n"
     ]
    },
    {
     "name": "stderr",
     "output_type": "stream",
     "text": [
      "\u001b[32m[I 2023-05-30 00:47:01,957]\u001b[0m Trial 130 finished with value: 0.6352208283210173 and parameters: {'n_estimators': 750, 'max_depth': 31, 'learning_rate': 0.04, 'subsample': 1.0, 'colsample_bytree': 0.9, 'gamma': 0.8, 'min_child_weight': 2, 'reg_alpha': 0.8, 'reg_lambda': 0.7000000000000001}. Best is trial 101 with value: 0.6585925416738271.\u001b[0m\n"
     ]
    },
    {
     "name": "stderr",
     "output_type": "stream",
     "text": [
      "\u001b[32m[I 2023-05-30 00:47:03,826]\u001b[0m Trial 131 finished with value: 0.6465200206221 and parameters: {'n_estimators': 750, 'max_depth': 25, 'learning_rate': 0.03, 'subsample': 1.0, 'colsample_bytree': 0.9, 'gamma': 0.9, 'min_child_weight': 2, 'reg_alpha': 0.9, 'reg_lambda': 0.5}. Best is trial 101 with value: 0.6585925416738271.\u001b[0m\n"
     ]
    },
    {
     "name": "stderr",
     "output_type": "stream",
     "text": [
      "\u001b[32m[I 2023-05-30 00:47:05,437]\u001b[0m Trial 132 finished with value: 0.6057484103797904 and parameters: {'n_estimators': 800, 'max_depth': 28, 'learning_rate': 0.03, 'subsample': 1.0, 'colsample_bytree': 0.9, 'gamma': 1.2000000000000002, 'min_child_weight': 7, 'reg_alpha': 1.0, 'reg_lambda': 0.5}. Best is trial 101 with value: 0.6585925416738271.\u001b[0m\n"
     ]
    },
    {
     "name": "stderr",
     "output_type": "stream",
     "text": [
      "\u001b[32m[I 2023-05-30 00:47:07,719]\u001b[0m Trial 133 finished with value: 0.6641948788451624 and parameters: {'n_estimators': 700, 'max_depth': 19, 'learning_rate': 0.04, 'subsample': 1.0, 'colsample_bytree': 0.9, 'gamma': 1.3, 'min_child_weight': 1, 'reg_alpha': 0.9, 'reg_lambda': 0.6000000000000001}. Best is trial 133 with value: 0.6641948788451624.\u001b[0m\n"
     ]
    },
    {
     "name": "stderr",
     "output_type": "stream",
     "text": [
      "\u001b[32m[I 2023-05-30 00:47:09,977]\u001b[0m Trial 134 finished with value: 0.6595549063412958 and parameters: {'n_estimators': 700, 'max_depth': 21, 'learning_rate': 0.05, 'subsample': 1.0, 'colsample_bytree': 0.9, 'gamma': 1.4000000000000001, 'min_child_weight': 1, 'reg_alpha': 1.1, 'reg_lambda': 0.6000000000000001}. Best is trial 133 with value: 0.6641948788451624.\u001b[0m\n"
     ]
    },
    {
     "name": "stderr",
     "output_type": "stream",
     "text": [
      "\u001b[32m[I 2023-05-30 00:47:12,276]\u001b[0m Trial 135 finished with value: 0.6503351091252793 and parameters: {'n_estimators': 700, 'max_depth': 19, 'learning_rate': 0.05, 'subsample': 1.0, 'colsample_bytree': 0.9, 'gamma': 1.3, 'min_child_weight': 1, 'reg_alpha': 1.2000000000000002, 'reg_lambda': 0.6000000000000001}. Best is trial 133 with value: 0.6641948788451624.\u001b[0m\n"
     ]
    },
    {
     "name": "stderr",
     "output_type": "stream",
     "text": [
      "\u001b[32m[I 2023-05-30 00:47:14,499]\u001b[0m Trial 136 finished with value: 0.629429455232858 and parameters: {'n_estimators': 650, 'max_depth': 17, 'learning_rate': 0.04, 'subsample': 1.0, 'colsample_bytree': 1.0, 'gamma': 1.4000000000000001, 'min_child_weight': 1, 'reg_alpha': 1.1, 'reg_lambda': 0.6000000000000001}. Best is trial 133 with value: 0.6641948788451624.\u001b[0m\n"
     ]
    },
    {
     "name": "stderr",
     "output_type": "stream",
     "text": [
      "\u001b[32m[I 2023-05-30 00:47:16,705]\u001b[0m Trial 137 finished with value: 0.6575356590479463 and parameters: {'n_estimators': 700, 'max_depth': 18, 'learning_rate': 0.060000000000000005, 'subsample': 1.0, 'colsample_bytree': 0.9, 'gamma': 1.5, 'min_child_weight': 1, 'reg_alpha': 0.8, 'reg_lambda': 0.8}. Best is trial 133 with value: 0.6641948788451624.\u001b[0m\n"
     ]
    },
    {
     "name": "stderr",
     "output_type": "stream",
     "text": [
      "\u001b[32m[I 2023-05-30 00:47:18,954]\u001b[0m Trial 138 finished with value: 0.6590479463825399 and parameters: {'n_estimators': 700, 'max_depth': 18, 'learning_rate': 0.060000000000000005, 'subsample': 1.0, 'colsample_bytree': 0.9, 'gamma': 1.6, 'min_child_weight': 1, 'reg_alpha': 0.7000000000000001, 'reg_lambda': 0.8}. Best is trial 133 with value: 0.6641948788451624.\u001b[0m\n"
     ]
    },
    {
     "name": "stderr",
     "output_type": "stream",
     "text": [
      "\u001b[32m[I 2023-05-30 00:47:21,873]\u001b[0m Trial 139 finished with value: 0.6533167210860973 and parameters: {'n_estimators': 700, 'max_depth': 18, 'learning_rate': 0.05, 'subsample': 1.0, 'colsample_bytree': 1.0, 'gamma': 1.5, 'min_child_weight': 1, 'reg_alpha': 0.7000000000000001, 'reg_lambda': 0.8}. Best is trial 133 with value: 0.6641948788451624.\u001b[0m\n"
     ]
    },
    {
     "name": "stderr",
     "output_type": "stream",
     "text": [
      "\u001b[32m[I 2023-05-30 00:47:24,770]\u001b[0m Trial 140 finished with value: 0.656014779171679 and parameters: {'n_estimators': 700, 'max_depth': 15, 'learning_rate': 0.060000000000000005, 'subsample': 1.0, 'colsample_bytree': 1.0, 'gamma': 1.6, 'min_child_weight': 1, 'reg_alpha': 0.7000000000000001, 'reg_lambda': 0.9}. Best is trial 133 with value: 0.6641948788451624.\u001b[0m\n"
     ]
    },
    {
     "name": "stderr",
     "output_type": "stream",
     "text": [
      "\u001b[32m[I 2023-05-30 00:47:27,586]\u001b[0m Trial 141 finished with value: 0.656014779171679 and parameters: {'n_estimators': 700, 'max_depth': 15, 'learning_rate': 0.060000000000000005, 'subsample': 1.0, 'colsample_bytree': 1.0, 'gamma': 1.6, 'min_child_weight': 1, 'reg_alpha': 0.7000000000000001, 'reg_lambda': 0.9}. Best is trial 133 with value: 0.6641948788451624.\u001b[0m\n"
     ]
    },
    {
     "name": "stderr",
     "output_type": "stream",
     "text": [
      "\u001b[32m[I 2023-05-30 00:47:30,310]\u001b[0m Trial 142 finished with value: 0.6507733287506444 and parameters: {'n_estimators': 700, 'max_depth': 12, 'learning_rate': 0.060000000000000005, 'subsample': 1.0, 'colsample_bytree': 1.0, 'gamma': 1.6, 'min_child_weight': 1, 'reg_alpha': 0.6000000000000001, 'reg_lambda': 0.9}. Best is trial 133 with value: 0.6641948788451624.\u001b[0m\n"
     ]
    },
    {
     "name": "stderr",
     "output_type": "stream",
     "text": [
      "\u001b[32m[I 2023-05-30 00:47:32,928]\u001b[0m Trial 143 finished with value: 0.6559718164633098 and parameters: {'n_estimators': 700, 'max_depth': 15, 'learning_rate': 0.060000000000000005, 'subsample': 1.0, 'colsample_bytree': 1.0, 'gamma': 1.5, 'min_child_weight': 1, 'reg_alpha': 0.7000000000000001, 'reg_lambda': 1.0}. Best is trial 133 with value: 0.6641948788451624.\u001b[0m\n"
     ]
    },
    {
     "name": "stderr",
     "output_type": "stream",
     "text": [
      "\u001b[32m[I 2023-05-30 00:47:35,683]\u001b[0m Trial 144 finished with value: 0.6538322735865268 and parameters: {'n_estimators': 700, 'max_depth': 15, 'learning_rate': 0.060000000000000005, 'subsample': 1.0, 'colsample_bytree': 1.0, 'gamma': 1.5, 'min_child_weight': 1, 'reg_alpha': 0.6000000000000001, 'reg_lambda': 1.0}. Best is trial 133 with value: 0.6641948788451624.\u001b[0m\n"
     ]
    },
    {
     "name": "stderr",
     "output_type": "stream",
     "text": [
      "\u001b[32m[I 2023-05-30 00:47:38,454]\u001b[0m Trial 145 finished with value: 0.6538322735865268 and parameters: {'n_estimators': 700, 'max_depth': 15, 'learning_rate': 0.060000000000000005, 'subsample': 1.0, 'colsample_bytree': 1.0, 'gamma': 1.5, 'min_child_weight': 1, 'reg_alpha': 0.6000000000000001, 'reg_lambda': 1.0}. Best is trial 133 with value: 0.6641948788451624.\u001b[0m\n"
     ]
    },
    {
     "name": "stderr",
     "output_type": "stream",
     "text": [
      "\u001b[32m[I 2023-05-30 00:47:40,594]\u001b[0m Trial 146 finished with value: 0.6393108781577592 and parameters: {'n_estimators': 650, 'max_depth': 14, 'learning_rate': 0.060000000000000005, 'subsample': 1.0, 'colsample_bytree': 1.0, 'gamma': 1.5, 'min_child_weight': 2, 'reg_alpha': 0.4, 'reg_lambda': 1.0}. Best is trial 133 with value: 0.6641948788451624.\u001b[0m\n"
     ]
    },
    {
     "name": "stderr",
     "output_type": "stream",
     "text": [
      "\u001b[32m[I 2023-05-30 00:47:43,403]\u001b[0m Trial 147 finished with value: 0.6613937102594947 and parameters: {'n_estimators': 700, 'max_depth': 15, 'learning_rate': 0.060000000000000005, 'subsample': 1.0, 'colsample_bytree': 1.0, 'gamma': 1.6, 'min_child_weight': 1, 'reg_alpha': 0.6000000000000001, 'reg_lambda': 1.0}. Best is trial 133 with value: 0.6641948788451624.\u001b[0m\n"
     ]
    },
    {
     "name": "stderr",
     "output_type": "stream",
     "text": [
      "\u001b[32m[I 2023-05-30 00:47:45,918]\u001b[0m Trial 148 finished with value: 0.6546743426705619 and parameters: {'n_estimators': 700, 'max_depth': 15, 'learning_rate': 0.060000000000000005, 'subsample': 1.0, 'colsample_bytree': 1.0, 'gamma': 1.5, 'min_child_weight': 1, 'reg_alpha': 0.5, 'reg_lambda': 1.0}. Best is trial 133 with value: 0.6641948788451624.\u001b[0m\n"
     ]
    },
    {
     "name": "stderr",
     "output_type": "stream",
     "text": [
      "\u001b[32m[I 2023-05-30 00:47:47,287]\u001b[0m Trial 149 finished with value: 0.560637566592198 and parameters: {'n_estimators': 700, 'max_depth': 15, 'learning_rate': 0.060000000000000005, 'subsample': 1.0, 'colsample_bytree': 1.0, 'gamma': 1.6, 'min_child_weight': 8, 'reg_alpha': 0.5, 'reg_lambda': 1.1}. Best is trial 133 with value: 0.6641948788451624.\u001b[0m\n"
     ]
    },
    {
     "name": "stderr",
     "output_type": "stream",
     "text": [
      "\u001b[32m[I 2023-05-30 00:47:48,830]\u001b[0m Trial 150 finished with value: 0.6003866643753222 and parameters: {'n_estimators': 700, 'max_depth': 10, 'learning_rate': 0.060000000000000005, 'subsample': 0.6, 'colsample_bytree': 1.0, 'gamma': 1.7000000000000002, 'min_child_weight': 2, 'reg_alpha': 0.5, 'reg_lambda': 1.0}. Best is trial 133 with value: 0.6641948788451624.\u001b[0m\n"
     ]
    },
    {
     "name": "stderr",
     "output_type": "stream",
     "text": [
      "\u001b[32m[I 2023-05-30 00:47:51,693]\u001b[0m Trial 151 finished with value: 0.6584636535487197 and parameters: {'n_estimators': 700, 'max_depth': 13, 'learning_rate': 0.060000000000000005, 'subsample': 1.0, 'colsample_bytree': 1.0, 'gamma': 1.5, 'min_child_weight': 1, 'reg_alpha': 0.6000000000000001, 'reg_lambda': 0.9}. Best is trial 133 with value: 0.6641948788451624.\u001b[0m\n"
     ]
    },
    {
     "name": "stderr",
     "output_type": "stream",
     "text": [
      "\u001b[32m[I 2023-05-30 00:47:54,491]\u001b[0m Trial 152 finished with value: 0.6538322735865268 and parameters: {'n_estimators': 700, 'max_depth': 13, 'learning_rate': 0.060000000000000005, 'subsample': 1.0, 'colsample_bytree': 1.0, 'gamma': 1.5, 'min_child_weight': 1, 'reg_alpha': 0.6000000000000001, 'reg_lambda': 1.0}. Best is trial 133 with value: 0.6641948788451624.\u001b[0m\n"
     ]
    },
    {
     "name": "stderr",
     "output_type": "stream",
     "text": [
      "\u001b[32m[I 2023-05-30 00:47:56,857]\u001b[0m Trial 153 finished with value: 0.6492782264993984 and parameters: {'n_estimators': 650, 'max_depth': 15, 'learning_rate': 0.060000000000000005, 'subsample': 1.0, 'colsample_bytree': 1.0, 'gamma': 1.7000000000000002, 'min_child_weight': 1, 'reg_alpha': 0.6000000000000001, 'reg_lambda': 0.9}. Best is trial 133 with value: 0.6641948788451624.\u001b[0m\n"
     ]
    },
    {
     "name": "stderr",
     "output_type": "stream",
     "text": [
      "\u001b[32m[I 2023-05-30 00:47:59,790]\u001b[0m Trial 154 finished with value: 0.6520793950850662 and parameters: {'n_estimators': 700, 'max_depth': 17, 'learning_rate': 0.06999999999999999, 'subsample': 1.0, 'colsample_bytree': 1.0, 'gamma': 1.6, 'min_child_weight': 1, 'reg_alpha': 0.4, 'reg_lambda': 0.9}. Best is trial 133 with value: 0.6641948788451624.\u001b[0m\n"
     ]
    },
    {
     "name": "stderr",
     "output_type": "stream",
     "text": [
      "\u001b[32m[I 2023-05-30 00:48:01,833]\u001b[0m Trial 155 finished with value: 0.6346794981955662 and parameters: {'n_estimators': 700, 'max_depth': 13, 'learning_rate': 0.060000000000000005, 'subsample': 1.0, 'colsample_bytree': 1.0, 'gamma': 1.4000000000000001, 'min_child_weight': 2, 'reg_alpha': 0.6000000000000001, 'reg_lambda': 1.1}. Best is trial 133 with value: 0.6641948788451624.\u001b[0m\n"
     ]
    },
    {
     "name": "stderr",
     "output_type": "stream",
     "text": [
      "\u001b[32m[I 2023-05-30 00:48:04,514]\u001b[0m Trial 156 finished with value: 0.6528699089190582 and parameters: {'n_estimators': 750, 'max_depth': 12, 'learning_rate': 0.06999999999999999, 'subsample': 1.0, 'colsample_bytree': 1.0, 'gamma': 1.5, 'min_child_weight': 1, 'reg_alpha': 0.5, 'reg_lambda': 1.0}. Best is trial 133 with value: 0.6641948788451624.\u001b[0m\n"
     ]
    },
    {
     "name": "stderr",
     "output_type": "stream",
     "text": [
      "\u001b[32m[I 2023-05-30 00:48:06,913]\u001b[0m Trial 157 finished with value: 0.6573638082144698 and parameters: {'n_estimators': 600, 'max_depth': 15, 'learning_rate': 0.060000000000000005, 'subsample': 1.0, 'colsample_bytree': 1.0, 'gamma': 1.4000000000000001, 'min_child_weight': 1, 'reg_alpha': 0.7000000000000001, 'reg_lambda': 1.1}. Best is trial 133 with value: 0.6641948788451624.\u001b[0m\n"
     ]
    },
    {
     "name": "stderr",
     "output_type": "stream",
     "text": [
      "\u001b[32m[I 2023-05-30 00:48:08,647]\u001b[0m Trial 158 finished with value: 0.6276765767313971 and parameters: {'n_estimators': 600, 'max_depth': 16, 'learning_rate': 0.06999999999999999, 'subsample': 1.0, 'colsample_bytree': 1.0, 'gamma': 1.4000000000000001, 'min_child_weight': 2, 'reg_alpha': 0.7000000000000001, 'reg_lambda': 1.1}. Best is trial 133 with value: 0.6641948788451624.\u001b[0m\n"
     ]
    },
    {
     "name": "stderr",
     "output_type": "stream",
     "text": [
      "\u001b[32m[I 2023-05-30 00:48:11,158]\u001b[0m Trial 159 finished with value: 0.6539869393366559 and parameters: {'n_estimators': 650, 'max_depth': 11, 'learning_rate': 0.060000000000000005, 'subsample': 1.0, 'colsample_bytree': 1.0, 'gamma': 1.6, 'min_child_weight': 1, 'reg_alpha': 0.5, 'reg_lambda': 0.9}. Best is trial 133 with value: 0.6641948788451624.\u001b[0m\n"
     ]
    },
    {
     "name": "stderr",
     "output_type": "stream",
     "text": [
      "\u001b[32m[I 2023-05-30 00:48:12,303]\u001b[0m Trial 160 finished with value: 0.6242309675201925 and parameters: {'n_estimators': 650, 'max_depth': 10, 'learning_rate': 0.060000000000000005, 'subsample': 1.0, 'colsample_bytree': 0.5, 'gamma': 1.6, 'min_child_weight': 3, 'reg_alpha': 0.5, 'reg_lambda': 1.2000000000000002}. Best is trial 133 with value: 0.6641948788451624.\u001b[0m\n"
     ]
    },
    {
     "name": "stderr",
     "output_type": "stream",
     "text": [
      "\u001b[32m[I 2023-05-30 00:48:14,468]\u001b[0m Trial 161 finished with value: 0.6492782264993984 and parameters: {'n_estimators': 650, 'max_depth': 8, 'learning_rate': 0.060000000000000005, 'subsample': 1.0, 'colsample_bytree': 1.0, 'gamma': 1.7000000000000002, 'min_child_weight': 1, 'reg_alpha': 0.6000000000000001, 'reg_lambda': 0.9}. Best is trial 133 with value: 0.6641948788451624.\u001b[0m\n"
     ]
    },
    {
     "name": "stderr",
     "output_type": "stream",
     "text": [
      "\u001b[32m[I 2023-05-30 00:48:16,025]\u001b[0m Trial 162 finished with value: 0.6357020106547517 and parameters: {'n_estimators': 600, 'max_depth': 11, 'learning_rate': 0.060000000000000005, 'subsample': 1.0, 'colsample_bytree': 0.7, 'gamma': 1.6, 'min_child_weight': 2, 'reg_alpha': 0.4, 'reg_lambda': 0.9}. Best is trial 133 with value: 0.6641948788451624.\u001b[0m\n"
     ]
    },
    {
     "name": "stderr",
     "output_type": "stream",
     "text": [
      "\u001b[32m[I 2023-05-30 00:48:18,617]\u001b[0m Trial 163 finished with value: 0.6493383742911153 and parameters: {'n_estimators': 750, 'max_depth': 13, 'learning_rate': 0.060000000000000005, 'subsample': 1.0, 'colsample_bytree': 1.0, 'gamma': 1.8, 'min_child_weight': 1, 'reg_alpha': 0.7000000000000001, 'reg_lambda': 1.1}. Best is trial 133 with value: 0.6641948788451624.\u001b[0m\n"
     ]
    },
    {
     "name": "stderr",
     "output_type": "stream",
     "text": [
      "\u001b[32m[I 2023-05-30 00:48:21,206]\u001b[0m Trial 164 finished with value: 0.6579137308815948 and parameters: {'n_estimators': 700, 'max_depth': 14, 'learning_rate': 0.060000000000000005, 'subsample': 1.0, 'colsample_bytree': 1.0, 'gamma': 1.4000000000000001, 'min_child_weight': 1, 'reg_alpha': 0.7000000000000001, 'reg_lambda': 1.0}. Best is trial 133 with value: 0.6641948788451624.\u001b[0m\n"
     ]
    },
    {
     "name": "stderr",
     "output_type": "stream",
     "text": [
      "\u001b[32m[I 2023-05-30 00:48:22,745]\u001b[0m Trial 165 finished with value: 0.6309932978174945 and parameters: {'n_estimators': 550, 'max_depth': 14, 'learning_rate': 0.060000000000000005, 'subsample': 1.0, 'colsample_bytree': 1.0, 'gamma': 1.4000000000000001, 'min_child_weight': 2, 'reg_alpha': 0.7000000000000001, 'reg_lambda': 0.8}. Best is trial 133 with value: 0.6641948788451624.\u001b[0m\n"
     ]
    },
    {
     "name": "stderr",
     "output_type": "stream",
     "text": [
      "\u001b[32m[I 2023-05-30 00:48:25,180]\u001b[0m Trial 166 finished with value: 0.6515208798762674 and parameters: {'n_estimators': 650, 'max_depth': 11, 'learning_rate': 0.060000000000000005, 'subsample': 1.0, 'colsample_bytree': 1.0, 'gamma': 1.4000000000000001, 'min_child_weight': 1, 'reg_alpha': 0.7000000000000001, 'reg_lambda': 0.9}. Best is trial 133 with value: 0.6641948788451624.\u001b[0m\n"
     ]
    },
    {
     "name": "stderr",
     "output_type": "stream",
     "text": [
      "\u001b[32m[I 2023-05-30 00:48:27,905]\u001b[0m Trial 167 finished with value: 0.6491923010826601 and parameters: {'n_estimators': 700, 'max_depth': 12, 'learning_rate': 0.06999999999999999, 'subsample': 1.0, 'colsample_bytree': 1.0, 'gamma': 1.6, 'min_child_weight': 1, 'reg_alpha': 0.7000000000000001, 'reg_lambda': 0.9}. Best is trial 133 with value: 0.6641948788451624.\u001b[0m\n"
     ]
    },
    {
     "name": "stderr",
     "output_type": "stream",
     "text": [
      "\u001b[32m[I 2023-05-30 00:48:30,156]\u001b[0m Trial 168 finished with value: 0.6323595119436329 and parameters: {'n_estimators': 750, 'max_depth': 18, 'learning_rate': 0.06999999999999999, 'subsample': 1.0, 'colsample_bytree': 1.0, 'gamma': 1.4000000000000001, 'min_child_weight': 2, 'reg_alpha': 0.5, 'reg_lambda': 1.1}. Best is trial 133 with value: 0.6641948788451624.\u001b[0m\n"
     ]
    },
    {
     "name": "stderr",
     "output_type": "stream",
     "text": [
      "\u001b[32m[I 2023-05-30 00:48:32,573]\u001b[0m Trial 169 finished with value: 0.6606547516755457 and parameters: {'n_estimators': 650, 'max_depth': 17, 'learning_rate': 0.060000000000000005, 'subsample': 1.0, 'colsample_bytree': 1.0, 'gamma': 1.3, 'min_child_weight': 1, 'reg_alpha': 0.7000000000000001, 'reg_lambda': 0.8}. Best is trial 133 with value: 0.6641948788451624.\u001b[0m\n"
     ]
    },
    {
     "name": "stderr",
     "output_type": "stream",
     "text": [
      "\u001b[32m[I 2023-05-30 00:48:34,577]\u001b[0m Trial 170 finished with value: 0.6270235435641863 and parameters: {'n_estimators': 700, 'max_depth': 19, 'learning_rate': 0.060000000000000005, 'subsample': 1.0, 'colsample_bytree': 1.0, 'gamma': 1.3, 'min_child_weight': 2, 'reg_alpha': 0.8, 'reg_lambda': 0.8}. Best is trial 133 with value: 0.6641948788451624.\u001b[0m\n"
     ]
    },
    {
     "name": "stderr",
     "output_type": "stream",
     "text": [
      "\u001b[32m[I 2023-05-30 00:48:36,560]\u001b[0m Trial 171 finished with value: 0.6155009451795841 and parameters: {'n_estimators': 650, 'max_depth': 17, 'learning_rate': 0.060000000000000005, 'subsample': 0.8, 'colsample_bytree': 1.0, 'gamma': 1.5, 'min_child_weight': 1, 'reg_alpha': 0.7000000000000001, 'reg_lambda': 1.0}. Best is trial 133 with value: 0.6641948788451624.\u001b[0m\n"
     ]
    },
    {
     "name": "stderr",
     "output_type": "stream",
     "text": [
      "\u001b[32m[I 2023-05-30 00:48:39,193]\u001b[0m Trial 172 finished with value: 0.6507733287506444 and parameters: {'n_estimators': 650, 'max_depth': 16, 'learning_rate': 0.060000000000000005, 'subsample': 1.0, 'colsample_bytree': 1.0, 'gamma': 1.6, 'min_child_weight': 1, 'reg_alpha': 0.6000000000000001, 'reg_lambda': 0.9}. Best is trial 133 with value: 0.6641948788451624.\u001b[0m\n"
     ]
    },
    {
     "name": "stderr",
     "output_type": "stream",
     "text": [
      "\u001b[32m[I 2023-05-30 00:48:41,425]\u001b[0m Trial 173 finished with value: 0.6606547516755457 and parameters: {'n_estimators': 600, 'max_depth': 14, 'learning_rate': 0.060000000000000005, 'subsample': 1.0, 'colsample_bytree': 1.0, 'gamma': 1.3, 'min_child_weight': 1, 'reg_alpha': 0.7000000000000001, 'reg_lambda': 0.8}. Best is trial 133 with value: 0.6641948788451624.\u001b[0m\n"
     ]
    },
    {
     "name": "stderr",
     "output_type": "stream",
     "text": [
      "\u001b[32m[I 2023-05-30 00:48:43,668]\u001b[0m Trial 174 finished with value: 0.6544853067537377 and parameters: {'n_estimators': 600, 'max_depth': 14, 'learning_rate': 0.05, 'subsample': 1.0, 'colsample_bytree': 1.0, 'gamma': 1.3, 'min_child_weight': 1, 'reg_alpha': 0.7000000000000001, 'reg_lambda': 0.8}. Best is trial 133 with value: 0.6641948788451624.\u001b[0m\n"
     ]
    },
    {
     "name": "stderr",
     "output_type": "stream",
     "text": [
      "\u001b[32m[I 2023-05-30 00:48:45,887]\u001b[0m Trial 175 finished with value: 0.6565475167554563 and parameters: {'n_estimators': 550, 'max_depth': 15, 'learning_rate': 0.060000000000000005, 'subsample': 1.0, 'colsample_bytree': 1.0, 'gamma': 1.4000000000000001, 'min_child_weight': 1, 'reg_alpha': 0.8, 'reg_lambda': 0.8}. Best is trial 133 with value: 0.6641948788451624.\u001b[0m\n"
     ]
    },
    {
     "name": "stderr",
     "output_type": "stream",
     "text": [
      "\u001b[32m[I 2023-05-30 00:48:47,416]\u001b[0m Trial 176 finished with value: 0.6256745145213954 and parameters: {'n_estimators': 550, 'max_depth': 17, 'learning_rate': 0.05, 'subsample': 1.0, 'colsample_bytree': 1.0, 'gamma': 1.4000000000000001, 'min_child_weight': 2, 'reg_alpha': 0.8, 'reg_lambda': 0.8}. Best is trial 133 with value: 0.6641948788451624.\u001b[0m\n"
     ]
    },
    {
     "name": "stderr",
     "output_type": "stream",
     "text": [
      "\u001b[32m[I 2023-05-30 00:48:49,139]\u001b[0m Trial 177 finished with value: 0.6270235435641863 and parameters: {'n_estimators': 600, 'max_depth': 19, 'learning_rate': 0.060000000000000005, 'subsample': 1.0, 'colsample_bytree': 1.0, 'gamma': 1.3, 'min_child_weight': 2, 'reg_alpha': 0.8, 'reg_lambda': 0.8}. Best is trial 133 with value: 0.6641948788451624.\u001b[0m\n"
     ]
    },
    {
     "name": "stderr",
     "output_type": "stream",
     "text": [
      "\u001b[32m[I 2023-05-30 00:48:52,913]\u001b[0m Trial 178 finished with value: 0.6581457295067882 and parameters: {'n_estimators': 1000, 'max_depth': 13, 'learning_rate': 0.060000000000000005, 'subsample': 1.0, 'colsample_bytree': 1.0, 'gamma': 1.4000000000000001, 'min_child_weight': 1, 'reg_alpha': 0.7000000000000001, 'reg_lambda': 0.8}. Best is trial 133 with value: 0.6641948788451624.\u001b[0m\n"
     ]
    },
    {
     "name": "stderr",
     "output_type": "stream",
     "text": [
      "\u001b[32m[I 2023-05-30 00:48:55,640]\u001b[0m Trial 179 finished with value: 0.6581457295067882 and parameters: {'n_estimators': 750, 'max_depth': 13, 'learning_rate': 0.060000000000000005, 'subsample': 1.0, 'colsample_bytree': 1.0, 'gamma': 1.4000000000000001, 'min_child_weight': 1, 'reg_alpha': 0.7000000000000001, 'reg_lambda': 0.8}. Best is trial 133 with value: 0.6641948788451624.\u001b[0m\n"
     ]
    },
    {
     "name": "stderr",
     "output_type": "stream",
     "text": [
      "\u001b[32m[I 2023-05-30 00:48:56,877]\u001b[0m Trial 180 finished with value: 0.6309932978174945 and parameters: {'n_estimators': 450, 'max_depth': 14, 'learning_rate': 0.060000000000000005, 'subsample': 1.0, 'colsample_bytree': 1.0, 'gamma': 1.4000000000000001, 'min_child_weight': 2, 'reg_alpha': 0.7000000000000001, 'reg_lambda': 0.8}. Best is trial 133 with value: 0.6641948788451624.\u001b[0m\n"
     ]
    },
    {
     "name": "stderr",
     "output_type": "stream",
     "text": [
      "\u001b[32m[I 2023-05-30 00:48:58,784]\u001b[0m Trial 181 finished with value: 0.6581457295067882 and parameters: {'n_estimators': 500, 'max_depth': 13, 'learning_rate': 0.060000000000000005, 'subsample': 1.0, 'colsample_bytree': 1.0, 'gamma': 1.4000000000000001, 'min_child_weight': 1, 'reg_alpha': 0.7000000000000001, 'reg_lambda': 0.8}. Best is trial 133 with value: 0.6641948788451624.\u001b[0m\n"
     ]
    },
    {
     "name": "stderr",
     "output_type": "stream",
     "text": [
      "\u001b[32m[I 2023-05-30 00:49:02,594]\u001b[0m Trial 182 finished with value: 0.6606547516755457 and parameters: {'n_estimators': 1000, 'max_depth': 13, 'learning_rate': 0.060000000000000005, 'subsample': 1.0, 'colsample_bytree': 1.0, 'gamma': 1.3, 'min_child_weight': 1, 'reg_alpha': 0.7000000000000001, 'reg_lambda': 0.8}. Best is trial 133 with value: 0.6641948788451624.\u001b[0m\n"
     ]
    },
    {
     "name": "stderr",
     "output_type": "stream",
     "text": [
      "\u001b[32m[I 2023-05-30 00:49:06,329]\u001b[0m Trial 183 finished with value: 0.6421636019934697 and parameters: {'n_estimators': 1000, 'max_depth': 13, 'learning_rate': 0.060000000000000005, 'subsample': 1.0, 'colsample_bytree': 1.0, 'gamma': 1.3, 'min_child_weight': 1, 'reg_alpha': 0.8, 'reg_lambda': 0.8}. Best is trial 133 with value: 0.6641948788451624.\u001b[0m\n"
     ]
    },
    {
     "name": "stderr",
     "output_type": "stream",
     "text": [
      "\u001b[32m[I 2023-05-30 00:49:07,993]\u001b[0m Trial 184 finished with value: 0.5529644268774703 and parameters: {'n_estimators': 1000, 'max_depth': 13, 'learning_rate': 0.060000000000000005, 'subsample': 1.0, 'colsample_bytree': 1.0, 'gamma': 1.4000000000000001, 'min_child_weight': 12, 'reg_alpha': 0.8, 'reg_lambda': 0.7000000000000001}. Best is trial 133 with value: 0.6641948788451624.\u001b[0m\n"
     ]
    },
    {
     "name": "stderr",
     "output_type": "stream",
     "text": [
      "\u001b[32m[I 2023-05-30 00:49:11,928]\u001b[0m Trial 185 finished with value: 0.65307612991923 and parameters: {'n_estimators': 950, 'max_depth': 13, 'learning_rate': 0.060000000000000005, 'subsample': 1.0, 'colsample_bytree': 1.0, 'gamma': 1.4000000000000001, 'min_child_weight': 1, 'reg_alpha': 0.6000000000000001, 'reg_lambda': 0.8}. Best is trial 133 with value: 0.6641948788451624.\u001b[0m\n"
     ]
    },
    {
     "name": "stderr",
     "output_type": "stream",
     "text": [
      "\u001b[32m[I 2023-05-30 00:49:14,933]\u001b[0m Trial 186 finished with value: 0.6394311737411927 and parameters: {'n_estimators': 950, 'max_depth': 16, 'learning_rate': 0.060000000000000005, 'subsample': 1.0, 'colsample_bytree': 1.0, 'gamma': 1.3, 'min_child_weight': 2, 'reg_alpha': 0.7000000000000001, 'reg_lambda': 0.7000000000000001}. Best is trial 133 with value: 0.6641948788451624.\u001b[0m\n"
     ]
    },
    {
     "name": "stderr",
     "output_type": "stream",
     "text": [
      "\u001b[32m[I 2023-05-30 00:49:17,031]\u001b[0m Trial 187 finished with value: 0.6486853411239044 and parameters: {'n_estimators': 550, 'max_depth': 12, 'learning_rate': 0.05, 'subsample': 1.0, 'colsample_bytree': 1.0, 'gamma': 1.4000000000000001, 'min_child_weight': 1, 'reg_alpha': 0.6000000000000001, 'reg_lambda': 0.8}. Best is trial 133 with value: 0.6641948788451624.\u001b[0m\n"
     ]
    },
    {
     "name": "stderr",
     "output_type": "stream",
     "text": [
      "\u001b[32m[I 2023-05-30 00:49:20,398]\u001b[0m Trial 188 finished with value: 0.6560835195050696 and parameters: {'n_estimators': 900, 'max_depth': 14, 'learning_rate': 0.06999999999999999, 'subsample': 1.0, 'colsample_bytree': 1.0, 'gamma': 1.3, 'min_child_weight': 1, 'reg_alpha': 0.8, 'reg_lambda': 0.8}. Best is trial 133 with value: 0.6641948788451624.\u001b[0m\n"
     ]
    },
    {
     "name": "stderr",
     "output_type": "stream",
     "text": [
      "\u001b[32m[I 2023-05-30 00:49:23,745]\u001b[0m Trial 189 finished with value: 0.6539267915449389 and parameters: {'n_estimators': 900, 'max_depth': 14, 'learning_rate': 0.05, 'subsample': 1.0, 'colsample_bytree': 1.0, 'gamma': 1.3, 'min_child_weight': 1, 'reg_alpha': 0.8, 'reg_lambda': 0.7000000000000001}. Best is trial 133 with value: 0.6641948788451624.\u001b[0m\n"
     ]
    },
    {
     "name": "stderr",
     "output_type": "stream",
     "text": [
      "\u001b[32m[I 2023-05-30 00:49:26,388]\u001b[0m Trial 190 finished with value: 0.625691699604743 and parameters: {'n_estimators': 900, 'max_depth': 12, 'learning_rate': 0.06999999999999999, 'subsample': 1.0, 'colsample_bytree': 1.0, 'gamma': 1.4000000000000001, 'min_child_weight': 2, 'reg_alpha': 0.8, 'reg_lambda': 0.8}. Best is trial 133 with value: 0.6641948788451624.\u001b[0m\n"
     ]
    },
    {
     "name": "stderr",
     "output_type": "stream",
     "text": [
      "\u001b[32m[I 2023-05-30 00:49:29,963]\u001b[0m Trial 191 finished with value: 0.6533253136277711 and parameters: {'n_estimators': 950, 'max_depth': 14, 'learning_rate': 0.06999999999999999, 'subsample': 1.0, 'colsample_bytree': 1.0, 'gamma': 1.3, 'min_child_weight': 1, 'reg_alpha': 0.7000000000000001, 'reg_lambda': 0.8}. Best is trial 133 with value: 0.6641948788451624.\u001b[0m\n"
     ]
    },
    {
     "name": "stderr",
     "output_type": "stream",
     "text": [
      "\u001b[32m[I 2023-05-30 00:49:31,994]\u001b[0m Trial 192 finished with value: 0.6520622100017185 and parameters: {'n_estimators': 500, 'max_depth': 16, 'learning_rate': 0.060000000000000005, 'subsample': 1.0, 'colsample_bytree': 1.0, 'gamma': 1.5, 'min_child_weight': 1, 'reg_alpha': 0.7000000000000001, 'reg_lambda': 0.9}. Best is trial 133 with value: 0.6641948788451624.\u001b[0m\n"
     ]
    },
    {
     "name": "stderr",
     "output_type": "stream",
     "text": [
      "\u001b[32m[I 2023-05-30 00:49:35,722]\u001b[0m Trial 193 finished with value: 0.6533253136277711 and parameters: {'n_estimators': 1000, 'max_depth': 13, 'learning_rate': 0.06999999999999999, 'subsample': 1.0, 'colsample_bytree': 1.0, 'gamma': 1.3, 'min_child_weight': 1, 'reg_alpha': 0.7000000000000001, 'reg_lambda': 0.8}. Best is trial 133 with value: 0.6641948788451624.\u001b[0m\n"
     ]
    },
    {
     "name": "stderr",
     "output_type": "stream",
     "text": [
      "\u001b[32m[I 2023-05-30 00:49:38,105]\u001b[0m Trial 194 finished with value: 0.6529042790857535 and parameters: {'n_estimators': 600, 'max_depth': 17, 'learning_rate': 0.060000000000000005, 'subsample': 1.0, 'colsample_bytree': 1.0, 'gamma': 1.5, 'min_child_weight': 1, 'reg_alpha': 0.8, 'reg_lambda': 0.7000000000000001}. Best is trial 133 with value: 0.6641948788451624.\u001b[0m\n"
     ]
    },
    {
     "name": "stderr",
     "output_type": "stream",
     "text": [
      "\u001b[32m[I 2023-05-30 00:49:41,056]\u001b[0m Trial 195 finished with value: 0.6390359168241966 and parameters: {'n_estimators': 1000, 'max_depth': 18, 'learning_rate': 0.060000000000000005, 'subsample': 1.0, 'colsample_bytree': 1.0, 'gamma': 1.4000000000000001, 'min_child_weight': 2, 'reg_alpha': 0.6000000000000001, 'reg_lambda': 0.8}. Best is trial 133 with value: 0.6641948788451624.\u001b[0m\n"
     ]
    },
    {
     "name": "stderr",
     "output_type": "stream",
     "text": [
      "\u001b[32m[I 2023-05-30 00:49:43,156]\u001b[0m Trial 196 finished with value: 0.6624076301770063 and parameters: {'n_estimators': 550, 'max_depth': 11, 'learning_rate': 0.060000000000000005, 'subsample': 1.0, 'colsample_bytree': 1.0, 'gamma': 1.3, 'min_child_weight': 1, 'reg_alpha': 0.7000000000000001, 'reg_lambda': 0.9}. Best is trial 133 with value: 0.6641948788451624.\u001b[0m\n"
     ]
    },
    {
     "name": "stderr",
     "output_type": "stream",
     "text": [
      "\u001b[32m[I 2023-05-30 00:49:45,134]\u001b[0m Trial 197 finished with value: 0.6530245746691872 and parameters: {'n_estimators': 550, 'max_depth': 9, 'learning_rate': 0.060000000000000005, 'subsample': 1.0, 'colsample_bytree': 1.0, 'gamma': 1.3, 'min_child_weight': 1, 'reg_alpha': 0.7000000000000001, 'reg_lambda': 0.7000000000000001}. Best is trial 133 with value: 0.6641948788451624.\u001b[0m\n"
     ]
    },
    {
     "name": "stderr",
     "output_type": "stream",
     "text": [
      "\u001b[32m[I 2023-05-30 00:49:46,645]\u001b[0m Trial 198 finished with value: 0.6304863378587386 and parameters: {'n_estimators': 500, 'max_depth': 11, 'learning_rate': 0.060000000000000005, 'subsample': 1.0, 'colsample_bytree': 1.0, 'gamma': 1.4000000000000001, 'min_child_weight': 2, 'reg_alpha': 0.8, 'reg_lambda': 0.8}. Best is trial 133 with value: 0.6641948788451624.\u001b[0m\n"
     ]
    },
    {
     "name": "stderr",
     "output_type": "stream",
     "text": [
      "\u001b[32m[I 2023-05-30 00:49:48,717]\u001b[0m Trial 199 finished with value: 0.6588073552156727 and parameters: {'n_estimators': 550, 'max_depth': 10, 'learning_rate': 0.05, 'subsample': 1.0, 'colsample_bytree': 1.0, 'gamma': 1.2000000000000002, 'min_child_weight': 1, 'reg_alpha': 0.6000000000000001, 'reg_lambda': 0.9}. Best is trial 133 with value: 0.6641948788451624.\u001b[0m\n"
     ]
    },
    {
     "name": "stderr",
     "output_type": "stream",
     "text": [
      "\u001b[32m[I 2023-05-30 00:49:49,804]\u001b[0m Trial 200 finished with value: 0.5587643925073037 and parameters: {'n_estimators': 550, 'max_depth': 11, 'learning_rate': 0.05, 'subsample': 1.0, 'colsample_bytree': 1.0, 'gamma': 1.2000000000000002, 'min_child_weight': 9, 'reg_alpha': 0.6000000000000001, 'reg_lambda': 0.9}. Best is trial 133 with value: 0.6641948788451624.\u001b[0m\n"
     ]
    },
    {
     "name": "stderr",
     "output_type": "stream",
     "text": [
      "\u001b[32m[I 2023-05-30 00:49:51,659]\u001b[0m Trial 201 finished with value: 0.6588073552156727 and parameters: {'n_estimators': 500, 'max_depth': 10, 'learning_rate': 0.05, 'subsample': 1.0, 'colsample_bytree': 1.0, 'gamma': 1.2000000000000002, 'min_child_weight': 1, 'reg_alpha': 0.6000000000000001, 'reg_lambda': 0.9}. Best is trial 133 with value: 0.6641948788451624.\u001b[0m\n"
     ]
    },
    {
     "name": "stderr",
     "output_type": "stream",
     "text": [
      "\u001b[32m[I 2023-05-30 00:49:53,539]\u001b[0m Trial 202 finished with value: 0.6588073552156727 and parameters: {'n_estimators': 500, 'max_depth': 10, 'learning_rate': 0.05, 'subsample': 1.0, 'colsample_bytree': 1.0, 'gamma': 1.2000000000000002, 'min_child_weight': 1, 'reg_alpha': 0.6000000000000001, 'reg_lambda': 0.9}. Best is trial 133 with value: 0.6641948788451624.\u001b[0m\n"
     ]
    },
    {
     "name": "stderr",
     "output_type": "stream",
     "text": [
      "\u001b[32m[I 2023-05-30 00:49:54,923]\u001b[0m Trial 203 finished with value: 0.6543392335452827 and parameters: {'n_estimators': 500, 'max_depth': 6, 'learning_rate': 0.05, 'subsample': 1.0, 'colsample_bytree': 1.0, 'gamma': 1.2000000000000002, 'min_child_weight': 1, 'reg_alpha': 0.6000000000000001, 'reg_lambda': 0.9}. Best is trial 133 with value: 0.6641948788451624.\u001b[0m\n"
     ]
    },
    {
     "name": "stderr",
     "output_type": "stream",
     "text": [
      "\u001b[32m[I 2023-05-30 00:49:56,619]\u001b[0m Trial 204 finished with value: 0.6658618319298849 and parameters: {'n_estimators': 500, 'max_depth': 8, 'learning_rate': 0.05, 'subsample': 1.0, 'colsample_bytree': 1.0, 'gamma': 1.2000000000000002, 'min_child_weight': 1, 'reg_alpha': 0.6000000000000001, 'reg_lambda': 0.9}. Best is trial 204 with value: 0.6658618319298849.\u001b[0m\n"
     ]
    },
    {
     "name": "stderr",
     "output_type": "stream",
     "text": [
      "\u001b[32m[I 2023-05-30 00:49:58,167]\u001b[0m Trial 205 finished with value: 0.6658618319298849 and parameters: {'n_estimators': 450, 'max_depth': 8, 'learning_rate': 0.05, 'subsample': 1.0, 'colsample_bytree': 1.0, 'gamma': 1.2000000000000002, 'min_child_weight': 1, 'reg_alpha': 0.6000000000000001, 'reg_lambda': 0.9}. Best is trial 204 with value: 0.6658618319298849.\u001b[0m\n"
     ]
    },
    {
     "name": "stderr",
     "output_type": "stream",
     "text": [
      "\u001b[32m[I 2023-05-30 00:49:59,860]\u001b[0m Trial 206 finished with value: 0.6658618319298849 and parameters: {'n_estimators': 500, 'max_depth': 8, 'learning_rate': 0.05, 'subsample': 1.0, 'colsample_bytree': 1.0, 'gamma': 1.2000000000000002, 'min_child_weight': 1, 'reg_alpha': 0.6000000000000001, 'reg_lambda': 0.9}. Best is trial 204 with value: 0.6658618319298849.\u001b[0m\n"
     ]
    },
    {
     "name": "stderr",
     "output_type": "stream",
     "text": [
      "\u001b[32m[I 2023-05-30 00:50:01,323]\u001b[0m Trial 207 finished with value: 0.6395514693246263 and parameters: {'n_estimators': 450, 'max_depth': 8, 'learning_rate': 0.05, 'subsample': 1.0, 'colsample_bytree': 1.0, 'gamma': 1.2000000000000002, 'min_child_weight': 2, 'reg_alpha': 0.6000000000000001, 'reg_lambda': 0.9}. Best is trial 204 with value: 0.6658618319298849.\u001b[0m\n"
     ]
    },
    {
     "name": "stderr",
     "output_type": "stream",
     "text": [
      "\u001b[32m[I 2023-05-30 00:50:03,031]\u001b[0m Trial 208 finished with value: 0.6658618319298849 and parameters: {'n_estimators': 500, 'max_depth': 8, 'learning_rate': 0.05, 'subsample': 1.0, 'colsample_bytree': 1.0, 'gamma': 1.2000000000000002, 'min_child_weight': 1, 'reg_alpha': 0.6000000000000001, 'reg_lambda': 0.9}. Best is trial 204 with value: 0.6658618319298849.\u001b[0m\n"
     ]
    },
    {
     "name": "stderr",
     "output_type": "stream",
     "text": [
      "\u001b[32m[I 2023-05-30 00:50:04,532]\u001b[0m Trial 209 finished with value: 0.6395514693246263 and parameters: {'n_estimators': 500, 'max_depth': 7, 'learning_rate': 0.05, 'subsample': 1.0, 'colsample_bytree': 1.0, 'gamma': 1.2000000000000002, 'min_child_weight': 2, 'reg_alpha': 0.6000000000000001, 'reg_lambda': 0.9}. Best is trial 204 with value: 0.6658618319298849.\u001b[0m\n"
     ]
    },
    {
     "name": "stderr",
     "output_type": "stream",
     "text": [
      "\u001b[32m[I 2023-05-30 00:50:06,343]\u001b[0m Trial 210 finished with value: 0.6605516411754597 and parameters: {'n_estimators': 500, 'max_depth': 9, 'learning_rate': 0.05, 'subsample': 1.0, 'colsample_bytree': 1.0, 'gamma': 1.2000000000000002, 'min_child_weight': 1, 'reg_alpha': 0.5, 'reg_lambda': 1.0}. Best is trial 204 with value: 0.6658618319298849.\u001b[0m\n"
     ]
    },
    {
     "name": "stderr",
     "output_type": "stream",
     "text": [
      "\u001b[32m[I 2023-05-30 00:50:08,299]\u001b[0m Trial 211 finished with value: 0.6556882625880734 and parameters: {'n_estimators': 500, 'max_depth': 10, 'learning_rate': 0.05, 'subsample': 1.0, 'colsample_bytree': 1.0, 'gamma': 1.2000000000000002, 'min_child_weight': 1, 'reg_alpha': 0.6000000000000001, 'reg_lambda': 1.0}. Best is trial 204 with value: 0.6658618319298849.\u001b[0m\n"
     ]
    },
    {
     "name": "stderr",
     "output_type": "stream",
     "text": [
      "\u001b[32m[I 2023-05-30 00:50:09,959]\u001b[0m Trial 212 finished with value: 0.6509451795841209 and parameters: {'n_estimators': 450, 'max_depth': 9, 'learning_rate': 0.05, 'subsample': 1.0, 'colsample_bytree': 1.0, 'gamma': 1.2000000000000002, 'min_child_weight': 1, 'reg_alpha': 0.5, 'reg_lambda': 0.9}. Best is trial 204 with value: 0.6658618319298849.\u001b[0m\n"
     ]
    },
    {
     "name": "stderr",
     "output_type": "stream",
     "text": [
      "\u001b[32m[I 2023-05-30 00:50:11,639]\u001b[0m Trial 213 finished with value: 0.6570115140058429 and parameters: {'n_estimators': 500, 'max_depth': 8, 'learning_rate': 0.05, 'subsample': 1.0, 'colsample_bytree': 1.0, 'gamma': 1.2000000000000002, 'min_child_weight': 1, 'reg_alpha': 0.6000000000000001, 'reg_lambda': 1.0}. Best is trial 204 with value: 0.6658618319298849.\u001b[0m\n"
     ]
    },
    {
     "name": "stderr",
     "output_type": "stream",
     "text": [
      "\u001b[32m[I 2023-05-30 00:50:12,777]\u001b[0m Trial 214 finished with value: 0.6541673827118061 and parameters: {'n_estimators': 450, 'max_depth': 5, 'learning_rate': 0.05, 'subsample': 1.0, 'colsample_bytree': 1.0, 'gamma': 1.3, 'min_child_weight': 1, 'reg_alpha': 0.5, 'reg_lambda': 0.9}. Best is trial 204 with value: 0.6658618319298849.\u001b[0m\n"
     ]
    },
    {
     "name": "stderr",
     "output_type": "stream",
     "text": [
      "\u001b[32m[I 2023-05-30 00:50:14,335]\u001b[0m Trial 215 finished with value: 0.6610156384258464 and parameters: {'n_estimators': 500, 'max_depth': 7, 'learning_rate': 0.05, 'subsample': 1.0, 'colsample_bytree': 1.0, 'gamma': 1.2000000000000002, 'min_child_weight': 1, 'reg_alpha': 0.6000000000000001, 'reg_lambda': 1.0}. Best is trial 204 with value: 0.6658618319298849.\u001b[0m\n"
     ]
    },
    {
     "name": "stderr",
     "output_type": "stream",
     "text": [
      "\u001b[32m[I 2023-05-30 00:50:15,847]\u001b[0m Trial 216 finished with value: 0.6395514693246263 and parameters: {'n_estimators': 500, 'max_depth': 7, 'learning_rate': 0.05, 'subsample': 1.0, 'colsample_bytree': 1.0, 'gamma': 1.2000000000000002, 'min_child_weight': 2, 'reg_alpha': 0.6000000000000001, 'reg_lambda': 0.9}. Best is trial 204 with value: 0.6658618319298849.\u001b[0m\n"
     ]
    },
    {
     "name": "stderr",
     "output_type": "stream",
     "text": [
      "\u001b[32m[I 2023-05-30 00:50:17,645]\u001b[0m Trial 217 finished with value: 0.6605516411754597 and parameters: {'n_estimators': 500, 'max_depth': 9, 'learning_rate': 0.05, 'subsample': 1.0, 'colsample_bytree': 1.0, 'gamma': 1.2000000000000002, 'min_child_weight': 1, 'reg_alpha': 0.5, 'reg_lambda': 1.0}. Best is trial 204 with value: 0.6658618319298849.\u001b[0m\n"
     ]
    },
    {
     "name": "stderr",
     "output_type": "stream",
     "text": [
      "\u001b[32m[I 2023-05-30 00:50:19,288]\u001b[0m Trial 218 finished with value: 0.6605516411754597 and parameters: {'n_estimators': 450, 'max_depth': 9, 'learning_rate': 0.05, 'subsample': 1.0, 'colsample_bytree': 1.0, 'gamma': 1.2000000000000002, 'min_child_weight': 1, 'reg_alpha': 0.5, 'reg_lambda': 1.0}. Best is trial 204 with value: 0.6658618319298849.\u001b[0m\n"
     ]
    },
    {
     "name": "stderr",
     "output_type": "stream",
     "text": [
      "\u001b[32m[I 2023-05-30 00:50:20,937]\u001b[0m Trial 219 finished with value: 0.6478776422065647 and parameters: {'n_estimators': 450, 'max_depth': 9, 'learning_rate': 0.05, 'subsample': 1.0, 'colsample_bytree': 1.0, 'gamma': 1.2000000000000002, 'min_child_weight': 1, 'reg_alpha': 0.4, 'reg_lambda': 1.0}. Best is trial 204 with value: 0.6658618319298849.\u001b[0m\n"
     ]
    },
    {
     "name": "stderr",
     "output_type": "stream",
     "text": [
      "\u001b[32m[I 2023-05-30 00:50:22,045]\u001b[0m Trial 220 finished with value: 0.6462278742051899 and parameters: {'n_estimators': 400, 'max_depth': 6, 'learning_rate': 0.05, 'subsample': 1.0, 'colsample_bytree': 1.0, 'gamma': 1.2000000000000002, 'min_child_weight': 2, 'reg_alpha': 0.5, 'reg_lambda': 1.0}. Best is trial 204 with value: 0.6658618319298849.\u001b[0m\n"
     ]
    },
    {
     "name": "stderr",
     "output_type": "stream",
     "text": [
      "\u001b[32m[I 2023-05-30 00:50:23,861]\u001b[0m Trial 221 finished with value: 0.6566334421721944 and parameters: {'n_estimators': 500, 'max_depth': 9, 'learning_rate': 0.05, 'subsample': 1.0, 'colsample_bytree': 1.0, 'gamma': 1.3, 'min_child_weight': 1, 'reg_alpha': 0.4, 'reg_lambda': 1.0}. Best is trial 204 with value: 0.6658618319298849.\u001b[0m\n"
     ]
    },
    {
     "name": "stderr",
     "output_type": "stream",
     "text": [
      "\u001b[32m[I 2023-05-30 00:50:25,251]\u001b[0m Trial 222 finished with value: 0.6607063069255886 and parameters: {'n_estimators': 450, 'max_depth': 7, 'learning_rate': 0.05, 'subsample': 1.0, 'colsample_bytree': 1.0, 'gamma': 1.2000000000000002, 'min_child_weight': 1, 'reg_alpha': 0.6000000000000001, 'reg_lambda': 0.9}. Best is trial 204 with value: 0.6658618319298849.\u001b[0m\n"
     ]
    },
    {
     "name": "stderr",
     "output_type": "stream",
     "text": [
      "\u001b[32m[I 2023-05-30 00:50:26,787]\u001b[0m Trial 223 finished with value: 0.6574153634645128 and parameters: {'n_estimators': 450, 'max_depth': 8, 'learning_rate': 0.05, 'subsample': 1.0, 'colsample_bytree': 1.0, 'gamma': 1.2000000000000002, 'min_child_weight': 1, 'reg_alpha': 0.5, 'reg_lambda': 0.9}. Best is trial 204 with value: 0.6658618319298849.\u001b[0m\n"
     ]
    },
    {
     "name": "stderr",
     "output_type": "stream",
     "text": [
      "\u001b[32m[I 2023-05-30 00:50:28,492]\u001b[0m Trial 224 finished with value: 0.6534713868362261 and parameters: {'n_estimators': 550, 'max_depth': 7, 'learning_rate': 0.05, 'subsample': 1.0, 'colsample_bytree': 1.0, 'gamma': 1.1, 'min_child_weight': 1, 'reg_alpha': 0.5, 'reg_lambda': 1.0}. Best is trial 204 with value: 0.6658618319298849.\u001b[0m\n"
     ]
    },
    {
     "name": "stderr",
     "output_type": "stream",
     "text": [
      "\u001b[32m[I 2023-05-30 00:50:30,320]\u001b[0m Trial 225 finished with value: 0.6637222890531019 and parameters: {'n_estimators': 500, 'max_depth': 9, 'learning_rate': 0.05, 'subsample': 1.0, 'colsample_bytree': 1.0, 'gamma': 1.2000000000000002, 'min_child_weight': 1, 'reg_alpha': 0.6000000000000001, 'reg_lambda': 0.9}. Best is trial 204 with value: 0.6658618319298849.\u001b[0m\n"
     ]
    },
    {
     "name": "stderr",
     "output_type": "stream",
     "text": [
      "\u001b[32m[I 2023-05-30 00:50:32,083]\u001b[0m Trial 226 finished with value: 0.6395514693246263 and parameters: {'n_estimators': 500, 'max_depth': 10, 'learning_rate': 0.05, 'subsample': 1.0, 'colsample_bytree': 1.0, 'gamma': 1.2000000000000002, 'min_child_weight': 2, 'reg_alpha': 0.6000000000000001, 'reg_lambda': 0.9}. Best is trial 204 with value: 0.6658618319298849.\u001b[0m\n"
     ]
    },
    {
     "name": "stderr",
     "output_type": "stream",
     "text": [
      "\u001b[32m[I 2023-05-30 00:50:33,782]\u001b[0m Trial 227 finished with value: 0.6506788107922323 and parameters: {'n_estimators': 500, 'max_depth': 8, 'learning_rate': 0.05, 'subsample': 1.0, 'colsample_bytree': 1.0, 'gamma': 1.1, 'min_child_weight': 1, 'reg_alpha': 0.5, 'reg_lambda': 1.0}. Best is trial 204 with value: 0.6658618319298849.\u001b[0m\n"
     ]
    },
    {
     "name": "stderr",
     "output_type": "stream",
     "text": [
      "\u001b[32m[I 2023-05-30 00:50:35,064]\u001b[0m Trial 228 finished with value: 0.6543392335452827 and parameters: {'n_estimators': 450, 'max_depth': 6, 'learning_rate': 0.05, 'subsample': 1.0, 'colsample_bytree': 1.0, 'gamma': 1.2000000000000002, 'min_child_weight': 1, 'reg_alpha': 0.6000000000000001, 'reg_lambda': 0.9}. Best is trial 204 with value: 0.6658618319298849.\u001b[0m\n"
     ]
    },
    {
     "name": "stderr",
     "output_type": "stream",
     "text": [
      "\u001b[32m[I 2023-05-30 00:50:36,107]\u001b[0m Trial 229 finished with value: 0.6052156727960131 and parameters: {'n_estimators': 400, 'max_depth': 9, 'learning_rate': 0.05, 'subsample': 0.7, 'colsample_bytree': 1.0, 'gamma': 1.1, 'min_child_weight': 2, 'reg_alpha': 0.6000000000000001, 'reg_lambda': 0.9}. Best is trial 204 with value: 0.6658618319298849.\u001b[0m\n"
     ]
    },
    {
     "name": "stderr",
     "output_type": "stream",
     "text": [
      "\u001b[32m[I 2023-05-30 00:50:38,234]\u001b[0m Trial 230 finished with value: 0.6556882625880734 and parameters: {'n_estimators': 550, 'max_depth': 10, 'learning_rate': 0.05, 'subsample': 1.0, 'colsample_bytree': 1.0, 'gamma': 1.2000000000000002, 'min_child_weight': 1, 'reg_alpha': 0.6000000000000001, 'reg_lambda': 1.0}. Best is trial 204 with value: 0.6658618319298849.\u001b[0m\n"
     ]
    },
    {
     "name": "stderr",
     "output_type": "stream",
     "text": [
      "\u001b[32m[I 2023-05-30 00:50:39,809]\u001b[0m Trial 231 finished with value: 0.6490977831242482 and parameters: {'n_estimators': 500, 'max_depth': 7, 'learning_rate': 0.05, 'subsample': 1.0, 'colsample_bytree': 1.0, 'gamma': 1.3, 'min_child_weight': 1, 'reg_alpha': 0.5, 'reg_lambda': 0.9}. Best is trial 204 with value: 0.6658618319298849.\u001b[0m\n"
     ]
    },
    {
     "name": "stderr",
     "output_type": "stream",
     "text": [
      "\u001b[32m[I 2023-05-30 00:50:41,575]\u001b[0m Trial 232 finished with value: 0.6501288881251075 and parameters: {'n_estimators': 450, 'max_depth': 9, 'learning_rate': 0.05, 'subsample': 1.0, 'colsample_bytree': 1.0, 'gamma': 1.3, 'min_child_weight': 1, 'reg_alpha': 0.6000000000000001, 'reg_lambda': 1.1}. Best is trial 204 with value: 0.6658618319298849.\u001b[0m\n"
     ]
    },
    {
     "name": "stderr",
     "output_type": "stream",
     "text": [
      "\u001b[32m[I 2023-05-30 00:50:43,299]\u001b[0m Trial 233 finished with value: 0.6658618319298849 and parameters: {'n_estimators': 500, 'max_depth': 8, 'learning_rate': 0.05, 'subsample': 1.0, 'colsample_bytree': 1.0, 'gamma': 1.2000000000000002, 'min_child_weight': 1, 'reg_alpha': 0.6000000000000001, 'reg_lambda': 0.9}. Best is trial 204 with value: 0.6658618319298849.\u001b[0m\n"
     ]
    },
    {
     "name": "stderr",
     "output_type": "stream",
     "text": [
      "\u001b[32m[I 2023-05-30 00:50:44,571]\u001b[0m Trial 234 finished with value: 0.6672881938477402 and parameters: {'n_estimators': 500, 'max_depth': 5, 'learning_rate': 0.05, 'subsample': 1.0, 'colsample_bytree': 1.0, 'gamma': 1.2000000000000002, 'min_child_weight': 1, 'reg_alpha': 0.5, 'reg_lambda': 1.0}. Best is trial 234 with value: 0.6672881938477402.\u001b[0m\n"
     ]
    },
    {
     "name": "stderr",
     "output_type": "stream",
     "text": [
      "\u001b[32m[I 2023-05-30 00:50:45,819]\u001b[0m Trial 235 finished with value: 0.6672881938477402 and parameters: {'n_estimators': 500, 'max_depth': 5, 'learning_rate': 0.05, 'subsample': 1.0, 'colsample_bytree': 1.0, 'gamma': 1.2000000000000002, 'min_child_weight': 1, 'reg_alpha': 0.5, 'reg_lambda': 1.0}. Best is trial 234 with value: 0.6672881938477402.\u001b[0m\n"
     ]
    },
    {
     "name": "stderr",
     "output_type": "stream",
     "text": [
      "\u001b[32m[I 2023-05-30 00:50:46,905]\u001b[0m Trial 236 finished with value: 0.638271180615226 and parameters: {'n_estimators': 500, 'max_depth': 4, 'learning_rate': 0.05, 'subsample': 1.0, 'colsample_bytree': 1.0, 'gamma': 1.2000000000000002, 'min_child_weight': 2, 'reg_alpha': 0.5, 'reg_lambda': 1.0}. Best is trial 234 with value: 0.6672881938477402.\u001b[0m\n"
     ]
    },
    {
     "name": "stderr",
     "output_type": "stream",
     "text": [
      "\u001b[32m[I 2023-05-30 00:50:47,855]\u001b[0m Trial 237 finished with value: 0.6116686715930572 and parameters: {'n_estimators': 450, 'max_depth': 4, 'learning_rate': 0.05, 'subsample': 0.6, 'colsample_bytree': 1.0, 'gamma': 1.2000000000000002, 'min_child_weight': 1, 'reg_alpha': 0.4, 'reg_lambda': 1.0}. Best is trial 234 with value: 0.6672881938477402.\u001b[0m\n"
     ]
    },
    {
     "name": "stderr",
     "output_type": "stream",
     "text": [
      "\u001b[32m[I 2023-05-30 00:50:49,085]\u001b[0m Trial 238 finished with value: 0.6620467434267057 and parameters: {'n_estimators': 500, 'max_depth': 5, 'learning_rate': 0.05, 'subsample': 1.0, 'colsample_bytree': 1.0, 'gamma': 1.2000000000000002, 'min_child_weight': 1, 'reg_alpha': 0.5, 'reg_lambda': 1.1}. Best is trial 234 with value: 0.6672881938477402.\u001b[0m\n"
     ]
    },
    {
     "name": "stderr",
     "output_type": "stream",
     "text": [
      "\u001b[32m[I 2023-05-30 00:50:50,606]\u001b[0m Trial 239 finished with value: 0.6421206392851004 and parameters: {'n_estimators': 550, 'max_depth': 6, 'learning_rate': 0.05, 'subsample': 1.0, 'colsample_bytree': 1.0, 'gamma': 1.2000000000000002, 'min_child_weight': 2, 'reg_alpha': 0.5, 'reg_lambda': 1.1}. Best is trial 234 with value: 0.6672881938477402.\u001b[0m\n"
     ]
    },
    {
     "name": "stderr",
     "output_type": "stream",
     "text": [
      "\u001b[32m[I 2023-05-30 00:50:51,843]\u001b[0m Trial 240 finished with value: 0.6621928166351607 and parameters: {'n_estimators': 500, 'max_depth': 5, 'learning_rate': 0.05, 'subsample': 1.0, 'colsample_bytree': 1.0, 'gamma': 1.1, 'min_child_weight': 1, 'reg_alpha': 0.4, 'reg_lambda': 1.1}. Best is trial 234 with value: 0.6672881938477402.\u001b[0m\n"
     ]
    },
    {
     "name": "stderr",
     "output_type": "stream",
     "text": [
      "\u001b[32m[I 2023-05-30 00:50:53,086]\u001b[0m Trial 241 finished with value: 0.6531448702526207 and parameters: {'n_estimators': 500, 'max_depth': 5, 'learning_rate': 0.05, 'subsample': 1.0, 'colsample_bytree': 1.0, 'gamma': 1.1, 'min_child_weight': 1, 'reg_alpha': 0.30000000000000004, 'reg_lambda': 1.1}. Best is trial 234 with value: 0.6672881938477402.\u001b[0m\n"
     ]
    },
    {
     "name": "stderr",
     "output_type": "stream",
     "text": [
      "\u001b[32m[I 2023-05-30 00:50:54,327]\u001b[0m Trial 242 finished with value: 0.6586870596322393 and parameters: {'n_estimators': 500, 'max_depth': 5, 'learning_rate': 0.05, 'subsample': 1.0, 'colsample_bytree': 1.0, 'gamma': 1.2000000000000002, 'min_child_weight': 1, 'reg_alpha': 0.4, 'reg_lambda': 1.1}. Best is trial 234 with value: 0.6672881938477402.\u001b[0m\n"
     ]
    },
    {
     "name": "stderr",
     "output_type": "stream",
     "text": [
      "\u001b[32m[I 2023-05-30 00:50:55,878]\u001b[0m Trial 243 finished with value: 0.6586612820072177 and parameters: {'n_estimators': 450, 'max_depth': 8, 'learning_rate': 0.05, 'subsample': 1.0, 'colsample_bytree': 1.0, 'gamma': 1.1, 'min_child_weight': 1, 'reg_alpha': 0.30000000000000004, 'reg_lambda': 1.2000000000000002}. Best is trial 234 with value: 0.6672881938477402.\u001b[0m\n"
     ]
    },
    {
     "name": "stderr",
     "output_type": "stream",
     "text": [
      "\u001b[32m[I 2023-05-30 00:50:56,791]\u001b[0m Trial 244 finished with value: 0.6276422065647018 and parameters: {'n_estimators': 500, 'max_depth': 3, 'learning_rate': 0.05, 'subsample': 1.0, 'colsample_bytree': 1.0, 'gamma': 1.2000000000000002, 'min_child_weight': 1, 'reg_alpha': 0.5, 'reg_lambda': 1.1}. Best is trial 234 with value: 0.6672881938477402.\u001b[0m\n"
     ]
    },
    {
     "name": "stderr",
     "output_type": "stream",
     "text": [
      "\u001b[32m[I 2023-05-30 00:50:58,495]\u001b[0m Trial 245 finished with value: 0.6564701838803918 and parameters: {'n_estimators': 550, 'max_depth': 7, 'learning_rate': 0.05, 'subsample': 1.0, 'colsample_bytree': 1.0, 'gamma': 1.3, 'min_child_weight': 1, 'reg_alpha': 0.4, 'reg_lambda': 1.0}. Best is trial 234 with value: 0.6672881938477402.\u001b[0m\n"
     ]
    },
    {
     "name": "stderr",
     "output_type": "stream",
     "text": [
      "\u001b[32m[I 2023-05-30 00:50:59,485]\u001b[0m Trial 246 finished with value: 0.6525090221687575 and parameters: {'n_estimators': 450, 'max_depth': 4, 'learning_rate': 0.05, 'subsample': 1.0, 'colsample_bytree': 1.0, 'gamma': 1.2000000000000002, 'min_child_weight': 1, 'reg_alpha': 0.5, 'reg_lambda': 1.2000000000000002}. Best is trial 234 with value: 0.6672881938477402.\u001b[0m\n"
     ]
    },
    {
     "name": "stderr",
     "output_type": "stream",
     "text": [
      "\u001b[32m[I 2023-05-30 00:51:00,857]\u001b[0m Trial 247 finished with value: 0.6404622787420519 and parameters: {'n_estimators': 500, 'max_depth': 6, 'learning_rate': 0.05, 'subsample': 1.0, 'colsample_bytree': 1.0, 'gamma': 1.1, 'min_child_weight': 2, 'reg_alpha': 0.5, 'reg_lambda': 1.0}. Best is trial 234 with value: 0.6672881938477402.\u001b[0m\n"
     ]
    },
    {
     "name": "stderr",
     "output_type": "stream",
     "text": [
      "\u001b[32m[I 2023-05-30 00:51:02,533]\u001b[0m Trial 248 finished with value: 0.6562897405052415 and parameters: {'n_estimators': 500, 'max_depth': 8, 'learning_rate': 0.05, 'subsample': 1.0, 'colsample_bytree': 1.0, 'gamma': 1.3, 'min_child_weight': 1, 'reg_alpha': 0.5, 'reg_lambda': 1.0}. Best is trial 234 with value: 0.6672881938477402.\u001b[0m\n"
     ]
    },
    {
     "name": "stderr",
     "output_type": "stream",
     "text": [
      "\u001b[32m[I 2023-05-30 00:51:03,671]\u001b[0m Trial 249 finished with value: 0.640857535659048 and parameters: {'n_estimators': 450, 'max_depth': 5, 'learning_rate': 0.05, 'subsample': 1.0, 'colsample_bytree': 1.0, 'gamma': 1.2000000000000002, 'min_child_weight': 2, 'reg_alpha': 0.2, 'reg_lambda': 1.0}. Best is trial 234 with value: 0.6672881938477402.\u001b[0m\n"
     ]
    },
    {
     "name": "stderr",
     "output_type": "stream",
     "text": [
      "\u001b[32m[I 2023-05-30 00:51:05,395]\u001b[0m Trial 250 finished with value: 0.661728819384774 and parameters: {'n_estimators': 550, 'max_depth': 7, 'learning_rate': 0.05, 'subsample': 1.0, 'colsample_bytree': 1.0, 'gamma': 1.3, 'min_child_weight': 1, 'reg_alpha': 0.6000000000000001, 'reg_lambda': 0.9}. Best is trial 234 with value: 0.6672881938477402.\u001b[0m\n"
     ]
    },
    {
     "name": "stderr",
     "output_type": "stream",
     "text": [
      "\u001b[32m[I 2023-05-30 00:51:06,223]\u001b[0m Trial 251 finished with value: 0.4916652345763877 and parameters: {'n_estimators': 550, 'max_depth': 7, 'learning_rate': 0.05, 'subsample': 1.0, 'colsample_bytree': 1.0, 'gamma': 1.3, 'min_child_weight': 17, 'reg_alpha': 0.4, 'reg_lambda': 0.9}. Best is trial 234 with value: 0.6672881938477402.\u001b[0m\n"
     ]
    },
    {
     "name": "stderr",
     "output_type": "stream",
     "text": [
      "\u001b[32m[I 2023-05-30 00:51:07,380]\u001b[0m Trial 252 finished with value: 0.6592971300910809 and parameters: {'n_estimators': 400, 'max_depth': 6, 'learning_rate': 0.05, 'subsample': 1.0, 'colsample_bytree': 1.0, 'gamma': 1.3, 'min_child_weight': 1, 'reg_alpha': 0.6000000000000001, 'reg_lambda': 1.1}. Best is trial 234 with value: 0.6672881938477402.\u001b[0m\n"
     ]
    },
    {
     "name": "stderr",
     "output_type": "stream",
     "text": [
      "\u001b[32m[I 2023-05-30 00:51:08,072]\u001b[0m Trial 253 finished with value: 0.6286389413988658 and parameters: {'n_estimators': 350, 'max_depth': 3, 'learning_rate': 0.05, 'subsample': 1.0, 'colsample_bytree': 1.0, 'gamma': 1.3, 'min_child_weight': 1, 'reg_alpha': 0.6000000000000001, 'reg_lambda': 1.2000000000000002}. Best is trial 234 with value: 0.6672881938477402.\u001b[0m\n"
     ]
    },
    {
     "name": "stderr",
     "output_type": "stream",
     "text": [
      "\u001b[32m[I 2023-05-30 00:51:09,314]\u001b[0m Trial 254 finished with value: 0.640805980409005 and parameters: {'n_estimators': 450, 'max_depth': 6, 'learning_rate': 0.05, 'subsample': 1.0, 'colsample_bytree': 1.0, 'gamma': 1.3, 'min_child_weight': 2, 'reg_alpha': 0.5, 'reg_lambda': 1.1}. Best is trial 234 with value: 0.6672881938477402.\u001b[0m\n"
     ]
    },
    {
     "name": "stderr",
     "output_type": "stream",
     "text": [
      "\u001b[32m[I 2023-05-30 00:51:10,056]\u001b[0m Trial 255 finished with value: 0.5304004124420003 and parameters: {'n_estimators': 400, 'max_depth': 7, 'learning_rate': 0.05, 'subsample': 1.0, 'colsample_bytree': 1.0, 'gamma': 1.3, 'min_child_weight': 14, 'reg_alpha': 0.6000000000000001, 'reg_lambda': 1.1}. Best is trial 234 with value: 0.6672881938477402.\u001b[0m\n"
     ]
    },
    {
     "name": "stderr",
     "output_type": "stream",
     "text": [
      "\u001b[32m[I 2023-05-30 00:51:10,933]\u001b[0m Trial 256 finished with value: 0.657406770922839 and parameters: {'n_estimators': 400, 'max_depth': 4, 'learning_rate': 0.05, 'subsample': 1.0, 'colsample_bytree': 1.0, 'gamma': 1.1, 'min_child_weight': 1, 'reg_alpha': 0.5, 'reg_lambda': 1.1}. Best is trial 234 with value: 0.6672881938477402.\u001b[0m\n"
     ]
    },
    {
     "name": "stderr",
     "output_type": "stream",
     "text": [
      "\u001b[32m[I 2023-05-30 00:51:12,495]\u001b[0m Trial 257 finished with value: 0.6418113077848427 and parameters: {'n_estimators': 500, 'max_depth': 8, 'learning_rate': 0.05, 'subsample': 1.0, 'colsample_bytree': 1.0, 'gamma': 1.3, 'min_child_weight': 2, 'reg_alpha': 0.6000000000000001, 'reg_lambda': 1.0}. Best is trial 234 with value: 0.6672881938477402.\u001b[0m\n"
     ]
    },
    {
     "name": "stderr",
     "output_type": "stream",
     "text": [
      "\u001b[32m[I 2023-05-30 00:51:13,732]\u001b[0m Trial 258 finished with value: 0.6586870596322393 and parameters: {'n_estimators': 500, 'max_depth': 5, 'learning_rate': 0.05, 'subsample': 1.0, 'colsample_bytree': 1.0, 'gamma': 1.2000000000000002, 'min_child_weight': 1, 'reg_alpha': 0.4, 'reg_lambda': 1.1}. Best is trial 234 with value: 0.6672881938477402.\u001b[0m\n"
     ]
    },
    {
     "name": "stderr",
     "output_type": "stream",
     "text": [
      "\u001b[32m[I 2023-05-30 00:51:14,877]\u001b[0m Trial 259 finished with value: 0.651735693418113 and parameters: {'n_estimators': 400, 'max_depth': 6, 'learning_rate': 0.05, 'subsample': 1.0, 'colsample_bytree': 1.0, 'gamma': 1.1, 'min_child_weight': 1, 'reg_alpha': 0.5, 'reg_lambda': 1.0}. Best is trial 234 with value: 0.6672881938477402.\u001b[0m\n"
     ]
    },
    {
     "name": "stderr",
     "output_type": "stream",
     "text": [
      "\u001b[32m[I 2023-05-30 00:51:16,298]\u001b[0m Trial 260 finished with value: 0.6581199518817666 and parameters: {'n_estimators': 450, 'max_depth': 7, 'learning_rate': 0.05, 'subsample': 1.0, 'colsample_bytree': 1.0, 'gamma': 1.3, 'min_child_weight': 1, 'reg_alpha': 0.6000000000000001, 'reg_lambda': 1.0}. Best is trial 234 with value: 0.6672881938477402.\u001b[0m\n"
     ]
    },
    {
     "name": "stderr",
     "output_type": "stream",
     "text": [
      "\u001b[32m[I 2023-05-30 00:51:18,172]\u001b[0m Trial 261 finished with value: 0.6509451795841209 and parameters: {'n_estimators': 500, 'max_depth': 9, 'learning_rate': 0.05, 'subsample': 1.0, 'colsample_bytree': 1.0, 'gamma': 1.2000000000000002, 'min_child_weight': 1, 'reg_alpha': 0.5, 'reg_lambda': 0.9}. Best is trial 234 with value: 0.6672881938477402.\u001b[0m\n"
     ]
    },
    {
     "name": "stderr",
     "output_type": "stream",
     "text": [
      "\u001b[32m[I 2023-05-30 00:51:19,712]\u001b[0m Trial 262 finished with value: 0.6421034542017529 and parameters: {'n_estimators': 550, 'max_depth': 6, 'learning_rate': 0.05, 'subsample': 1.0, 'colsample_bytree': 1.0, 'gamma': 1.3, 'min_child_weight': 2, 'reg_alpha': 0.6000000000000001, 'reg_lambda': 1.0}. Best is trial 234 with value: 0.6672881938477402.\u001b[0m\n"
     ]
    },
    {
     "name": "stderr",
     "output_type": "stream",
     "text": [
      "\u001b[32m[I 2023-05-30 00:51:20,890]\u001b[0m Trial 263 finished with value: 0.5991235607492696 and parameters: {'n_estimators': 500, 'max_depth': 8, 'learning_rate': 0.05, 'subsample': 0.5, 'colsample_bytree': 1.0, 'gamma': 1.2000000000000002, 'min_child_weight': 1, 'reg_alpha': 0.5, 'reg_lambda': 0.9}. Best is trial 234 with value: 0.6672881938477402.\u001b[0m\n"
     ]
    },
    {
     "name": "stderr",
     "output_type": "stream",
     "text": [
      "\u001b[32m[I 2023-05-30 00:51:22,007]\u001b[0m Trial 264 finished with value: 0.6368104485306754 and parameters: {'n_estimators': 450, 'max_depth': 5, 'learning_rate': 0.05, 'subsample': 1.0, 'colsample_bytree': 1.0, 'gamma': 1.3, 'min_child_weight': 2, 'reg_alpha': 0.6000000000000001, 'reg_lambda': 1.0}. Best is trial 234 with value: 0.6672881938477402.\u001b[0m\n"
     ]
    },
    {
     "name": "stderr",
     "output_type": "stream",
     "text": [
      "\u001b[32m[I 2023-05-30 00:51:23,582]\u001b[0m Trial 265 finished with value: 0.6570630692558859 and parameters: {'n_estimators': 500, 'max_depth': 7, 'learning_rate': 0.05, 'subsample': 1.0, 'colsample_bytree': 1.0, 'gamma': 1.2000000000000002, 'min_child_weight': 1, 'reg_alpha': 0.6000000000000001, 'reg_lambda': 1.2000000000000002}. Best is trial 234 with value: 0.6672881938477402.\u001b[0m\n"
     ]
    },
    {
     "name": "stderr",
     "output_type": "stream",
     "text": [
      "\u001b[32m[I 2023-05-30 00:51:25,455]\u001b[0m Trial 266 finished with value: 0.6541416050867846 and parameters: {'n_estimators': 550, 'max_depth': 8, 'learning_rate': 0.05, 'subsample': 1.0, 'colsample_bytree': 1.0, 'gamma': 1.1, 'min_child_weight': 1, 'reg_alpha': 0.5, 'reg_lambda': 1.1}. Best is trial 234 with value: 0.6672881938477402.\u001b[0m\n"
     ]
    },
    {
     "name": "stderr",
     "output_type": "stream",
     "text": [
      "\u001b[32m[I 2023-05-30 00:51:27,310]\u001b[0m Trial 267 finished with value: 0.6334335796528613 and parameters: {'n_estimators': 550, 'max_depth': 9, 'learning_rate': 0.05, 'subsample': 1.0, 'colsample_bytree': 1.0, 'gamma': 1.2000000000000002, 'min_child_weight': 2, 'reg_alpha': 0.4, 'reg_lambda': 0.9}. Best is trial 234 with value: 0.6672881938477402.\u001b[0m\n"
     ]
    },
    {
     "name": "stderr",
     "output_type": "stream",
     "text": [
      "\u001b[32m[I 2023-05-30 00:51:28,584]\u001b[0m Trial 268 finished with value: 0.6586612820072177 and parameters: {'n_estimators': 450, 'max_depth': 6, 'learning_rate': 0.05, 'subsample': 1.0, 'colsample_bytree': 1.0, 'gamma': 1.3, 'min_child_weight': 1, 'reg_alpha': 0.30000000000000004, 'reg_lambda': 1.0}. Best is trial 234 with value: 0.6672881938477402.\u001b[0m\n"
     ]
    },
    {
     "name": "stderr",
     "output_type": "stream",
     "text": [
      "\u001b[32m[I 2023-05-30 00:51:29,824]\u001b[0m Trial 269 finished with value: 0.6474909778312424 and parameters: {'n_estimators': 500, 'max_depth': 7, 'learning_rate': 0.05, 'subsample': 1.0, 'colsample_bytree': 0.7, 'gamma': 1.2000000000000002, 'min_child_weight': 1, 'reg_alpha': 0.6000000000000001, 'reg_lambda': 0.9}. Best is trial 234 with value: 0.6672881938477402.\u001b[0m\n"
     ]
    },
    {
     "name": "stderr",
     "output_type": "stream",
     "text": [
      "\u001b[32m[I 2023-05-30 00:51:30,722]\u001b[0m Trial 270 finished with value: 0.6228733459357277 and parameters: {'n_estimators': 350, 'max_depth': 5, 'learning_rate': 0.05, 'subsample': 0.8, 'colsample_bytree': 1.0, 'gamma': 1.8, 'min_child_weight': 1, 'reg_alpha': 0.7000000000000001, 'reg_lambda': 0.9}. Best is trial 234 with value: 0.6672881938477402.\u001b[0m\n"
     ]
    },
    {
     "name": "stderr",
     "output_type": "stream",
     "text": [
      "\u001b[32m[I 2023-05-30 00:51:32,408]\u001b[0m Trial 271 finished with value: 0.6506788107922323 and parameters: {'n_estimators': 500, 'max_depth': 8, 'learning_rate': 0.05, 'subsample': 1.0, 'colsample_bytree': 1.0, 'gamma': 1.1, 'min_child_weight': 1, 'reg_alpha': 0.5, 'reg_lambda': 1.0}. Best is trial 234 with value: 0.6672881938477402.\u001b[0m\n"
     ]
    },
    {
     "name": "stderr",
     "output_type": "stream",
     "text": [
      "\u001b[32m[I 2023-05-30 00:51:33,398]\u001b[0m Trial 272 finished with value: 0.6360543048633786 and parameters: {'n_estimators': 450, 'max_depth': 4, 'learning_rate': 0.05, 'subsample': 1.0, 'colsample_bytree': 1.0, 'gamma': 1.3, 'min_child_weight': 2, 'reg_alpha': 0.6000000000000001, 'reg_lambda': 0.9}. Best is trial 234 with value: 0.6672881938477402.\u001b[0m\n"
     ]
    },
    {
     "name": "stderr",
     "output_type": "stream",
     "text": [
      "\u001b[32m[I 2023-05-30 00:51:34,656]\u001b[0m Trial 273 finished with value: 0.6340694277367245 and parameters: {'n_estimators': 400, 'max_depth': 9, 'learning_rate': 0.05, 'subsample': 1.0, 'colsample_bytree': 1.0, 'gamma': 1.2000000000000002, 'min_child_weight': 2, 'reg_alpha': 0.7000000000000001, 'reg_lambda': 1.1}. Best is trial 234 with value: 0.6672881938477402.\u001b[0m\n"
     ]
    },
    {
     "name": "stderr",
     "output_type": "stream",
     "text": [
      "\u001b[32m[I 2023-05-30 00:51:36,228]\u001b[0m Trial 274 finished with value: 0.65765595463138 and parameters: {'n_estimators': 500, 'max_depth': 7, 'learning_rate': 0.04, 'subsample': 1.0, 'colsample_bytree': 1.0, 'gamma': 1.2000000000000002, 'min_child_weight': 1, 'reg_alpha': 0.6000000000000001, 'reg_lambda': 1.0}. Best is trial 234 with value: 0.6672881938477402.\u001b[0m\n"
     ]
    },
    {
     "name": "stderr",
     "output_type": "stream",
     "text": [
      "\u001b[32m[I 2023-05-30 00:51:38,388]\u001b[0m Trial 275 finished with value: 0.6438133699948445 and parameters: {'n_estimators': 600, 'max_depth': 9, 'learning_rate': 0.05, 'subsample': 1.0, 'colsample_bytree': 1.0, 'gamma': 1.1, 'min_child_weight': 1, 'reg_alpha': 0.5, 'reg_lambda': 0.9}. Best is trial 234 with value: 0.6672881938477402.\u001b[0m\n"
     ]
    },
    {
     "name": "stderr",
     "output_type": "stream",
     "text": [
      "\u001b[32m[I 2023-05-30 00:51:40,074]\u001b[0m Trial 276 finished with value: 0.6345162399037635 and parameters: {'n_estimators': 550, 'max_depth': 11, 'learning_rate': 0.05, 'subsample': 1.0, 'colsample_bytree': 1.0, 'gamma': 1.3, 'min_child_weight': 2, 'reg_alpha': 0.6000000000000001, 'reg_lambda': 1.1}. Best is trial 234 with value: 0.6672881938477402.\u001b[0m\n"
     ]
    },
    {
     "name": "stderr",
     "output_type": "stream",
     "text": [
      "\u001b[32m[I 2023-05-30 00:51:41,204]\u001b[0m Trial 277 finished with value: 0.6541673827118062 and parameters: {'n_estimators': 500, 'max_depth': 5, 'learning_rate': 0.05, 'subsample': 1.0, 'colsample_bytree': 0.8, 'gamma': 1.3, 'min_child_weight': 1, 'reg_alpha': 0.7000000000000001, 'reg_lambda': 1.0}. Best is trial 234 with value: 0.6672881938477402.\u001b[0m\n"
     ]
    },
    {
     "name": "stderr",
     "output_type": "stream",
     "text": [
      "\u001b[32m[I 2023-05-30 00:51:42,175]\u001b[0m Trial 278 finished with value: 0.6423440453686201 and parameters: {'n_estimators': 450, 'max_depth': 6, 'learning_rate': 0.05, 'subsample': 1.0, 'colsample_bytree': 0.6, 'gamma': 1.2000000000000002, 'min_child_weight': 1, 'reg_alpha': 0.6000000000000001, 'reg_lambda': 0.9}. Best is trial 234 with value: 0.6672881938477402.\u001b[0m\n"
     ]
    },
    {
     "name": "stderr",
     "output_type": "stream",
     "text": [
      "\u001b[32m[I 2023-05-30 00:51:43,866]\u001b[0m Trial 279 finished with value: 0.6533081285444234 and parameters: {'n_estimators': 500, 'max_depth': 8, 'learning_rate': 0.04, 'subsample': 1.0, 'colsample_bytree': 1.0, 'gamma': 1.2000000000000002, 'min_child_weight': 1, 'reg_alpha': 0.4, 'reg_lambda': 0.8}. Best is trial 234 with value: 0.6672881938477402.\u001b[0m\n"
     ]
    },
    {
     "name": "stderr",
     "output_type": "stream",
     "text": [
      "\u001b[32m[I 2023-05-30 00:51:45,538]\u001b[0m Trial 280 finished with value: 0.6389757690324798 and parameters: {'n_estimators': 550, 'max_depth': 7, 'learning_rate': 0.05, 'subsample': 1.0, 'colsample_bytree': 1.0, 'gamma': 1.1, 'min_child_weight': 2, 'reg_alpha': 0.5, 'reg_lambda': 1.0}. Best is trial 234 with value: 0.6672881938477402.\u001b[0m\n"
     ]
    },
    {
     "name": "stderr",
     "output_type": "stream",
     "text": [
      "\u001b[32m[I 2023-05-30 00:51:46,937]\u001b[0m Trial 281 finished with value: 0.595222546829352 and parameters: {'n_estimators': 450, 'max_depth': 10, 'learning_rate': 0.05, 'subsample': 1.0, 'colsample_bytree': 1.0, 'gamma': 1.3, 'min_child_weight': 1, 'reg_alpha': 1.9000000000000001, 'reg_lambda': 0.9}. Best is trial 234 with value: 0.6672881938477402.\u001b[0m\n"
     ]
    },
    {
     "name": "stderr",
     "output_type": "stream",
     "text": [
      "\u001b[32m[I 2023-05-30 00:51:48,020]\u001b[0m Trial 282 finished with value: 0.6278484275648737 and parameters: {'n_estimators': 500, 'max_depth': 4, 'learning_rate': 0.05, 'subsample': 1.0, 'colsample_bytree': 1.0, 'gamma': 1.2000000000000002, 'min_child_weight': 2, 'reg_alpha': 0.7000000000000001, 'reg_lambda': 1.0}. Best is trial 234 with value: 0.6672881938477402.\u001b[0m\n"
     ]
    },
    {
     "name": "stderr",
     "output_type": "stream",
     "text": [
      "\u001b[32m[I 2023-05-30 00:51:49,998]\u001b[0m Trial 283 finished with value: 0.656066334421722 and parameters: {'n_estimators': 550, 'max_depth': 9, 'learning_rate': 0.060000000000000005, 'subsample': 1.0, 'colsample_bytree': 1.0, 'gamma': 1.3, 'min_child_weight': 1, 'reg_alpha': 0.6000000000000001, 'reg_lambda': 0.9}. Best is trial 234 with value: 0.6672881938477402.\u001b[0m\n"
     ]
    },
    {
     "name": "stderr",
     "output_type": "stream",
     "text": [
      "\u001b[32m[I 2023-05-30 00:51:51,158]\u001b[0m Trial 284 finished with value: 0.6647448015122872 and parameters: {'n_estimators': 400, 'max_depth': 6, 'learning_rate': 0.05, 'subsample': 1.0, 'colsample_bytree': 1.0, 'gamma': 1.2000000000000002, 'min_child_weight': 1, 'reg_alpha': 0.5, 'reg_lambda': 1.1}. Best is trial 234 with value: 0.6672881938477402.\u001b[0m\n"
     ]
    },
    {
     "name": "stderr",
     "output_type": "stream",
     "text": [
      "\u001b[32m[I 2023-05-30 00:51:52,318]\u001b[0m Trial 285 finished with value: 0.6515982127513318 and parameters: {'n_estimators': 400, 'max_depth': 6, 'learning_rate': 0.05, 'subsample': 1.0, 'colsample_bytree': 1.0, 'gamma': 1.1, 'min_child_weight': 1, 'reg_alpha': 0.5, 'reg_lambda': 1.1}. Best is trial 234 with value: 0.6672881938477402.\u001b[0m\n"
     ]
    },
    {
     "name": "stderr",
     "output_type": "stream",
     "text": [
      "\u001b[32m[I 2023-05-30 00:51:53,697]\u001b[0m Trial 286 finished with value: 0.6589190582574325 and parameters: {'n_estimators': 400, 'max_depth': 8, 'learning_rate': 0.04, 'subsample': 1.0, 'colsample_bytree': 1.0, 'gamma': 1.2000000000000002, 'min_child_weight': 1, 'reg_alpha': 0.4, 'reg_lambda': 1.2000000000000002}. Best is trial 234 with value: 0.6672881938477402.\u001b[0m\n"
     ]
    },
    {
     "name": "stderr",
     "output_type": "stream",
     "text": [
      "\u001b[32m[I 2023-05-30 00:51:54,847]\u001b[0m Trial 287 finished with value: 0.6436071489946726 and parameters: {'n_estimators': 450, 'max_depth': 5, 'learning_rate': 0.05, 'subsample': 1.0, 'colsample_bytree': 1.0, 'gamma': 1.2000000000000002, 'min_child_weight': 2, 'reg_alpha': 0.5, 'reg_lambda': 1.1}. Best is trial 234 with value: 0.6672881938477402.\u001b[0m\n"
     ]
    },
    {
     "name": "stderr",
     "output_type": "stream",
     "text": [
      "\u001b[32m[I 2023-05-30 00:51:55,679]\u001b[0m Trial 288 finished with value: 0.5532479807527066 and parameters: {'n_estimators': 450, 'max_depth': 7, 'learning_rate': 0.05, 'subsample': 1.0, 'colsample_bytree': 1.0, 'gamma': 1.2000000000000002, 'min_child_weight': 10, 'reg_alpha': 0.5, 'reg_lambda': 1.1}. Best is trial 234 with value: 0.6672881938477402.\u001b[0m\n"
     ]
    },
    {
     "name": "stderr",
     "output_type": "stream",
     "text": [
      "\u001b[32m[I 2023-05-30 00:51:56,786]\u001b[0m Trial 289 finished with value: 0.6263017700635849 and parameters: {'n_estimators': 600, 'max_depth': 3, 'learning_rate': 0.05, 'subsample': 1.0, 'colsample_bytree': 1.0, 'gamma': 2.0, 'min_child_weight': 1, 'reg_alpha': 0.6000000000000001, 'reg_lambda': 1.2000000000000002}. Best is trial 234 with value: 0.6672881938477402.\u001b[0m\n"
     ]
    },
    {
     "name": "stderr",
     "output_type": "stream",
     "text": [
      "\u001b[32m[I 2023-05-30 00:51:57,936]\u001b[0m Trial 290 finished with value: 0.6629145901357621 and parameters: {'n_estimators': 400, 'max_depth': 6, 'learning_rate': 0.05, 'subsample': 1.0, 'colsample_bytree': 1.0, 'gamma': 1.3, 'min_child_weight': 1, 'reg_alpha': 0.5, 'reg_lambda': 1.0}. Best is trial 234 with value: 0.6672881938477402.\u001b[0m\n"
     ]
    },
    {
     "name": "stderr",
     "output_type": "stream",
     "text": [
      "\u001b[32m[I 2023-05-30 00:51:59,524]\u001b[0m Trial 291 finished with value: 0.6282350919401958 and parameters: {'n_estimators': 500, 'max_depth': 11, 'learning_rate': 0.05, 'subsample': 1.0, 'colsample_bytree': 1.0, 'gamma': 1.1, 'min_child_weight': 2, 'reg_alpha': 0.4, 'reg_lambda': 1.0}. Best is trial 234 with value: 0.6672881938477402.\u001b[0m\n"
     ]
    },
    {
     "name": "stderr",
     "output_type": "stream",
     "text": [
      "\u001b[32m[I 2023-05-30 00:52:01,215]\u001b[0m Trial 292 finished with value: 0.6563842584636536 and parameters: {'n_estimators': 500, 'max_depth': 8, 'learning_rate': 0.05, 'subsample': 1.0, 'colsample_bytree': 1.0, 'gamma': 1.2000000000000002, 'min_child_weight': 1, 'reg_alpha': 0.5, 'reg_lambda': 1.0}. Best is trial 234 with value: 0.6672881938477402.\u001b[0m\n"
     ]
    },
    {
     "name": "stderr",
     "output_type": "stream",
     "text": [
      "\u001b[32m[I 2023-05-30 00:52:03,333]\u001b[0m Trial 293 finished with value: 0.6536088675030074 and parameters: {'n_estimators': 550, 'max_depth': 10, 'learning_rate': 0.05, 'subsample': 1.0, 'colsample_bytree': 1.0, 'gamma': 1.3, 'min_child_weight': 1, 'reg_alpha': 0.4, 'reg_lambda': 1.0}. Best is trial 234 with value: 0.6672881938477402.\u001b[0m\n"
     ]
    },
    {
     "name": "stderr",
     "output_type": "stream",
     "text": [
      "\u001b[32m[I 2023-05-30 00:52:04,742]\u001b[0m Trial 294 finished with value: 0.6575872142979893 and parameters: {'n_estimators': 500, 'max_depth': 6, 'learning_rate': 0.05, 'subsample': 1.0, 'colsample_bytree': 1.0, 'gamma': 1.2000000000000002, 'min_child_weight': 1, 'reg_alpha': 0.5, 'reg_lambda': 0.9}. Best is trial 234 with value: 0.6672881938477402.\u001b[0m\n"
     ]
    },
    {
     "name": "stderr",
     "output_type": "stream",
     "text": [
      "\u001b[32m[I 2023-05-30 00:52:06,116]\u001b[0m Trial 295 finished with value: 0.6436672967863893 and parameters: {'n_estimators': 450, 'max_depth': 7, 'learning_rate': 0.04, 'subsample': 1.0, 'colsample_bytree': 1.0, 'gamma': 1.3, 'min_child_weight': 2, 'reg_alpha': 0.5, 'reg_lambda': 0.9}. Best is trial 234 with value: 0.6672881938477402.\u001b[0m\n"
     ]
    },
    {
     "name": "stderr",
     "output_type": "stream",
     "text": [
      "\u001b[32m[I 2023-05-30 00:52:07,810]\u001b[0m Trial 296 finished with value: 0.637523629489603 and parameters: {'n_estimators': 500, 'max_depth': 9, 'learning_rate': 0.05, 'subsample': 1.0, 'colsample_bytree': 1.0, 'gamma': 1.2000000000000002, 'min_child_weight': 2, 'reg_alpha': 0.6000000000000001, 'reg_lambda': 1.0}. Best is trial 234 with value: 0.6672881938477402.\u001b[0m\n"
     ]
    },
    {
     "name": "stderr",
     "output_type": "stream",
     "text": [
      "\u001b[32m[I 2023-05-30 00:52:08,658]\u001b[0m Trial 297 finished with value: 0.6143409520536174 and parameters: {'n_estimators': 400, 'max_depth': 4, 'learning_rate': 0.05, 'subsample': 1.0, 'colsample_bytree': 1.0, 'gamma': 1.1, 'min_child_weight': 6, 'reg_alpha': 0.5, 'reg_lambda': 1.0}. Best is trial 234 with value: 0.6672881938477402.\u001b[0m\n"
     ]
    },
    {
     "name": "stderr",
     "output_type": "stream",
     "text": [
      "\u001b[32m[I 2023-05-30 00:52:10,170]\u001b[0m Trial 298 finished with value: 0.6582230623818525 and parameters: {'n_estimators': 450, 'max_depth': 8, 'learning_rate': 0.05, 'subsample': 1.0, 'colsample_bytree': 1.0, 'gamma': 1.3, 'min_child_weight': 1, 'reg_alpha': 0.5, 'reg_lambda': 0.9}. Best is trial 234 with value: 0.6672881938477402.\u001b[0m\n"
     ]
    },
    {
     "name": "stderr",
     "output_type": "stream",
     "text": [
      "\u001b[32m[I 2023-05-30 00:52:11,083]\u001b[0m Trial 299 finished with value: 0.6644010998453342 and parameters: {'n_estimators': 350, 'max_depth': 5, 'learning_rate': 0.05, 'subsample': 1.0, 'colsample_bytree': 1.0, 'gamma': 1.2000000000000002, 'min_child_weight': 1, 'reg_alpha': 0.4, 'reg_lambda': 1.0}. Best is trial 234 with value: 0.6672881938477402.\u001b[0m\n"
     ]
    }
   ],
   "source": [
    "# OPTUNA STUDY\n",
    "study = optuna.create_study(direction=\"maximize\")\n",
    "study.optimize(objective, n_trials=300)"
   ]
  },
  {
   "cell_type": "code",
   "execution_count": 9,
   "id": "114751c4",
   "metadata": {},
   "outputs": [],
   "source": [
    "# BEST OPTUNA MODEL\n",
    "best_model = study.best_trial.params"
   ]
  },
  {
   "cell_type": "code",
   "execution_count": 10,
   "id": "16189d83",
   "metadata": {},
   "outputs": [
    {
     "name": "stdout",
     "output_type": "stream",
     "text": [
      "AUC:  0.8380893300248138\n"
     ]
    }
   ],
   "source": [
    "# EVALUATE BEST MODEL ON TEST SET\n",
    "model = XGBClassifier(\n",
    "    n_estimators=best_model[\"n_estimators\"],\n",
    "    max_depth=best_model[\"max_depth\"],\n",
    "    learning_rate=best_model[\"learning_rate\"],\n",
    "    subsample=best_model[\"subsample\"],\n",
    "    colsample_bytree=best_model[\"colsample_bytree\"],\n",
    "    gamma=best_model[\"gamma\"],\n",
    "    min_child_weight=best_model[\"min_child_weight\"],\n",
    "    reg_alpha=best_model[\"reg_alpha\"],\n",
    "    reg_lambda=best_model[\"reg_lambda\"],\n",
    "    random_state=42,\n",
    "    n_jobs=-1,\n",
    ")\n",
    "\n",
    "model.fit(X_train, Y_train)\n",
    "\n",
    "Y_pred = model.predict(X_test)\n",
    "Y_pred_proba = model.predict_proba(X_test)[:, 1]\n",
    "\n",
    "auc = roc_auc_score(Y_test, Y_pred_proba)\n",
    "\n",
    "print(\"AUC: \", auc)"
   ]
  },
  {
   "cell_type": "code",
   "execution_count": 11,
   "id": "6c0923a0",
   "metadata": {},
   "outputs": [],
   "source": [
    "# EVALUTE BEST MODEL\n",
    "score = cross_val_score(model, X_train, Y_train, scoring=\"roc_auc\", cv=10, n_jobs=-1)\n",
    "auc = score.mean()"
   ]
  },
  {
   "cell_type": "code",
   "execution_count": 12,
   "id": "e3063a10",
   "metadata": {},
   "outputs": [],
   "source": [
    "# SAVE MODEL FOR DEPLOYMENT\n",
    "pickle.dump(model, open(\"../models/xgboost_model.pkl\", \"wb\"))"
   ]
  }
 ],
 "metadata": {
  "kernelspec": {
   "display_name": "Python 3 (ipykernel)",
   "language": "python",
   "name": "python3"
  },
  "language_info": {
   "codemirror_mode": {
    "name": "ipython",
    "version": 3
   },
   "file_extension": ".py",
   "mimetype": "text/x-python",
   "name": "python",
   "nbconvert_exporter": "python",
   "pygments_lexer": "ipython3",
   "version": "3.10.10"
  }
 },
 "nbformat": 4,
 "nbformat_minor": 5
}